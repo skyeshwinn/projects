{
 "cells": [
  {
   "cell_type": "markdown",
   "id": "e7dfbdb3",
   "metadata": {},
   "source": [
    "Internet Usage Analysis using Python\n",
    "\n",
    "Process: Data Collection, Data Cleaning, Data Analysis\n",
    "\n",
    "Data source: https://databank.worldbank.org/source/world-development-indicators#\n",
    "\n",
    "To the left - Under country, select all. Under series, type 'internet' and select all 5 of the series names. Download the data in CSV format and save it in your local drive and access it from there."
   ]
  },
  {
   "cell_type": "code",
   "execution_count": 2,
   "id": "46f02228",
   "metadata": {},
   "outputs": [],
   "source": [
    "import pandas as pd"
   ]
  },
  {
   "cell_type": "code",
   "execution_count": 3,
   "id": "688f6ddb",
   "metadata": {},
   "outputs": [],
   "source": [
    "#Import the data into dataframe called df\n",
    "df = pd.read_csv('C:/Users/skyes/Documents/Projects/worldbank-country-internet-data.csv')"
   ]
  },
  {
   "cell_type": "code",
   "execution_count": 4,
   "id": "8782e297",
   "metadata": {},
   "outputs": [
    {
     "data": {
      "text/html": [
       "<div>\n",
       "<style scoped>\n",
       "    .dataframe tbody tr th:only-of-type {\n",
       "        vertical-align: middle;\n",
       "    }\n",
       "\n",
       "    .dataframe tbody tr th {\n",
       "        vertical-align: top;\n",
       "    }\n",
       "\n",
       "    .dataframe thead th {\n",
       "        text-align: right;\n",
       "    }\n",
       "</style>\n",
       "<table border=\"1\" class=\"dataframe\">\n",
       "  <thead>\n",
       "    <tr style=\"text-align: right;\">\n",
       "      <th></th>\n",
       "      <th>Country Name</th>\n",
       "      <th>Country Code</th>\n",
       "      <th>Series Name</th>\n",
       "      <th>Series Code</th>\n",
       "      <th>1960 [YR1960]</th>\n",
       "      <th>1961 [YR1961]</th>\n",
       "      <th>1962 [YR1962]</th>\n",
       "      <th>1963 [YR1963]</th>\n",
       "      <th>1964 [YR1964]</th>\n",
       "      <th>1965 [YR1965]</th>\n",
       "      <th>...</th>\n",
       "      <th>2014 [YR2014]</th>\n",
       "      <th>2015 [YR2015]</th>\n",
       "      <th>2016 [YR2016]</th>\n",
       "      <th>2017 [YR2017]</th>\n",
       "      <th>2018 [YR2018]</th>\n",
       "      <th>2019 [YR2019]</th>\n",
       "      <th>2020 [YR2020]</th>\n",
       "      <th>2021 [YR2021]</th>\n",
       "      <th>2022 [YR2022]</th>\n",
       "      <th>2023 [YR2023]</th>\n",
       "    </tr>\n",
       "  </thead>\n",
       "  <tbody>\n",
       "    <tr>\n",
       "      <th>0</th>\n",
       "      <td>Afghanistan</td>\n",
       "      <td>AFG</td>\n",
       "      <td>Individuals using the Internet (% of population)</td>\n",
       "      <td>IT.NET.USER.ZS</td>\n",
       "      <td>..</td>\n",
       "      <td>..</td>\n",
       "      <td>..</td>\n",
       "      <td>..</td>\n",
       "      <td>..</td>\n",
       "      <td>..</td>\n",
       "      <td>...</td>\n",
       "      <td>7</td>\n",
       "      <td>8.26</td>\n",
       "      <td>11</td>\n",
       "      <td>13.5</td>\n",
       "      <td>16.8</td>\n",
       "      <td>17.6</td>\n",
       "      <td>18.4</td>\n",
       "      <td>..</td>\n",
       "      <td>..</td>\n",
       "      <td>..</td>\n",
       "    </tr>\n",
       "    <tr>\n",
       "      <th>1</th>\n",
       "      <td>Afghanistan</td>\n",
       "      <td>AFG</td>\n",
       "      <td>Individuals using the Internet, female (% of f...</td>\n",
       "      <td>IT.NET.USER.FE.ZS</td>\n",
       "      <td>..</td>\n",
       "      <td>..</td>\n",
       "      <td>..</td>\n",
       "      <td>..</td>\n",
       "      <td>..</td>\n",
       "      <td>..</td>\n",
       "      <td>...</td>\n",
       "      <td>..</td>\n",
       "      <td>..</td>\n",
       "      <td>..</td>\n",
       "      <td>..</td>\n",
       "      <td>..</td>\n",
       "      <td>..</td>\n",
       "      <td>..</td>\n",
       "      <td>..</td>\n",
       "      <td>..</td>\n",
       "      <td>..</td>\n",
       "    </tr>\n",
       "    <tr>\n",
       "      <th>2</th>\n",
       "      <td>Afghanistan</td>\n",
       "      <td>AFG</td>\n",
       "      <td>Individuals using the Internet, male (% of mal...</td>\n",
       "      <td>IT.NET.USER.MA.ZS</td>\n",
       "      <td>..</td>\n",
       "      <td>..</td>\n",
       "      <td>..</td>\n",
       "      <td>..</td>\n",
       "      <td>..</td>\n",
       "      <td>..</td>\n",
       "      <td>...</td>\n",
       "      <td>..</td>\n",
       "      <td>..</td>\n",
       "      <td>..</td>\n",
       "      <td>..</td>\n",
       "      <td>..</td>\n",
       "      <td>..</td>\n",
       "      <td>..</td>\n",
       "      <td>..</td>\n",
       "      <td>..</td>\n",
       "      <td>..</td>\n",
       "    </tr>\n",
       "    <tr>\n",
       "      <th>3</th>\n",
       "      <td>Afghanistan</td>\n",
       "      <td>AFG</td>\n",
       "      <td>Secure Internet servers</td>\n",
       "      <td>IT.NET.SECR</td>\n",
       "      <td>..</td>\n",
       "      <td>..</td>\n",
       "      <td>..</td>\n",
       "      <td>..</td>\n",
       "      <td>..</td>\n",
       "      <td>..</td>\n",
       "      <td>...</td>\n",
       "      <td>57</td>\n",
       "      <td>74</td>\n",
       "      <td>426</td>\n",
       "      <td>1577</td>\n",
       "      <td>1965</td>\n",
       "      <td>1047</td>\n",
       "      <td>1362</td>\n",
       "      <td>1565</td>\n",
       "      <td>1491</td>\n",
       "      <td>1814</td>\n",
       "    </tr>\n",
       "    <tr>\n",
       "      <th>4</th>\n",
       "      <td>Afghanistan</td>\n",
       "      <td>AFG</td>\n",
       "      <td>Secure Internet servers (per 1 million people)</td>\n",
       "      <td>IT.NET.SECR.P6</td>\n",
       "      <td>..</td>\n",
       "      <td>..</td>\n",
       "      <td>..</td>\n",
       "      <td>..</td>\n",
       "      <td>..</td>\n",
       "      <td>..</td>\n",
       "      <td>...</td>\n",
       "      <td>1.7382011137112</td>\n",
       "      <td>2.18729357416894</td>\n",
       "      <td>12.2764405423167</td>\n",
       "      <td>44.1873650754779</td>\n",
       "      <td>53.4795175761047</td>\n",
       "      <td>27.6573503133086</td>\n",
       "      <td>34.861417801576</td>\n",
       "      <td>39.1245970166507</td>\n",
       "      <td>36.7432860701151</td>\n",
       "      <td>43.758544404586</td>\n",
       "    </tr>\n",
       "  </tbody>\n",
       "</table>\n",
       "<p>5 rows × 68 columns</p>\n",
       "</div>"
      ],
      "text/plain": [
       "  Country Name Country Code  \\\n",
       "0  Afghanistan          AFG   \n",
       "1  Afghanistan          AFG   \n",
       "2  Afghanistan          AFG   \n",
       "3  Afghanistan          AFG   \n",
       "4  Afghanistan          AFG   \n",
       "\n",
       "                                         Series Name        Series Code  \\\n",
       "0   Individuals using the Internet (% of population)     IT.NET.USER.ZS   \n",
       "1  Individuals using the Internet, female (% of f...  IT.NET.USER.FE.ZS   \n",
       "2  Individuals using the Internet, male (% of mal...  IT.NET.USER.MA.ZS   \n",
       "3                            Secure Internet servers        IT.NET.SECR   \n",
       "4     Secure Internet servers (per 1 million people)     IT.NET.SECR.P6   \n",
       "\n",
       "  1960 [YR1960] 1961 [YR1961] 1962 [YR1962] 1963 [YR1963] 1964 [YR1964]  \\\n",
       "0            ..            ..            ..            ..            ..   \n",
       "1            ..            ..            ..            ..            ..   \n",
       "2            ..            ..            ..            ..            ..   \n",
       "3            ..            ..            ..            ..            ..   \n",
       "4            ..            ..            ..            ..            ..   \n",
       "\n",
       "  1965 [YR1965]  ...    2014 [YR2014]     2015 [YR2015]     2016 [YR2016]  \\\n",
       "0            ..  ...                7              8.26                11   \n",
       "1            ..  ...               ..                ..                ..   \n",
       "2            ..  ...               ..                ..                ..   \n",
       "3            ..  ...               57                74               426   \n",
       "4            ..  ...  1.7382011137112  2.18729357416894  12.2764405423167   \n",
       "\n",
       "      2017 [YR2017]     2018 [YR2018]     2019 [YR2019]    2020 [YR2020]  \\\n",
       "0              13.5              16.8              17.6             18.4   \n",
       "1                ..                ..                ..               ..   \n",
       "2                ..                ..                ..               ..   \n",
       "3              1577              1965              1047             1362   \n",
       "4  44.1873650754779  53.4795175761047  27.6573503133086  34.861417801576   \n",
       "\n",
       "      2021 [YR2021]     2022 [YR2022]    2023 [YR2023]  \n",
       "0                ..                ..               ..  \n",
       "1                ..                ..               ..  \n",
       "2                ..                ..               ..  \n",
       "3              1565              1491             1814  \n",
       "4  39.1245970166507  36.7432860701151  43.758544404586  \n",
       "\n",
       "[5 rows x 68 columns]"
      ]
     },
     "execution_count": 4,
     "metadata": {},
     "output_type": "execute_result"
    }
   ],
   "source": [
    "#Display the 1st 5 rows of df\n",
    "df.head()"
   ]
  },
  {
   "cell_type": "code",
   "execution_count": 5,
   "id": "680fa1b5",
   "metadata": {},
   "outputs": [
    {
     "data": {
      "text/plain": [
       "Index(['Country Name', 'Country Code', 'Series Name', 'Series Code',\n",
       "       '1960 [YR1960]', '1961 [YR1961]', '1962 [YR1962]', '1963 [YR1963]',\n",
       "       '1964 [YR1964]', '1965 [YR1965]', '1966 [YR1966]', '1967 [YR1967]',\n",
       "       '1968 [YR1968]', '1969 [YR1969]', '1970 [YR1970]', '1971 [YR1971]',\n",
       "       '1972 [YR1972]', '1973 [YR1973]', '1974 [YR1974]', '1975 [YR1975]',\n",
       "       '1976 [YR1976]', '1977 [YR1977]', '1978 [YR1978]', '1979 [YR1979]',\n",
       "       '1980 [YR1980]', '1981 [YR1981]', '1982 [YR1982]', '1983 [YR1983]',\n",
       "       '1984 [YR1984]', '1985 [YR1985]', '1986 [YR1986]', '1987 [YR1987]',\n",
       "       '1988 [YR1988]', '1989 [YR1989]', '1990 [YR1990]', '1991 [YR1991]',\n",
       "       '1992 [YR1992]', '1993 [YR1993]', '1994 [YR1994]', '1995 [YR1995]',\n",
       "       '1996 [YR1996]', '1997 [YR1997]', '1998 [YR1998]', '1999 [YR1999]',\n",
       "       '2000 [YR2000]', '2001 [YR2001]', '2002 [YR2002]', '2003 [YR2003]',\n",
       "       '2004 [YR2004]', '2005 [YR2005]', '2006 [YR2006]', '2007 [YR2007]',\n",
       "       '2008 [YR2008]', '2009 [YR2009]', '2010 [YR2010]', '2011 [YR2011]',\n",
       "       '2012 [YR2012]', '2013 [YR2013]', '2014 [YR2014]', '2015 [YR2015]',\n",
       "       '2016 [YR2016]', '2017 [YR2017]', '2018 [YR2018]', '2019 [YR2019]',\n",
       "       '2020 [YR2020]', '2021 [YR2021]', '2022 [YR2022]', '2023 [YR2023]'],\n",
       "      dtype='object')"
      ]
     },
     "execution_count": 5,
     "metadata": {},
     "output_type": "execute_result"
    }
   ],
   "source": [
    "#Display all the columns in df\n",
    "df.columns"
   ]
  },
  {
   "cell_type": "code",
   "execution_count": 9,
   "id": "08830684",
   "metadata": {
    "scrolled": true
   },
   "outputs": [
    {
     "data": {
      "text/plain": [
       "['Country Name',\n",
       " 'Country Code',\n",
       " 'Series Name',\n",
       " 'Series Code',\n",
       " '1960',\n",
       " '1961',\n",
       " '1962',\n",
       " '1963',\n",
       " '1964',\n",
       " '1965',\n",
       " '1966',\n",
       " '1967',\n",
       " '1968',\n",
       " '1969',\n",
       " '1970',\n",
       " '1971',\n",
       " '1972',\n",
       " '1973',\n",
       " '1974',\n",
       " '1975',\n",
       " '1976',\n",
       " '1977',\n",
       " '1978',\n",
       " '1979',\n",
       " '1980',\n",
       " '1981',\n",
       " '1982',\n",
       " '1983',\n",
       " '1984',\n",
       " '1985',\n",
       " '1986',\n",
       " '1987',\n",
       " '1988',\n",
       " '1989',\n",
       " '1990',\n",
       " '1991',\n",
       " '1992',\n",
       " '1993',\n",
       " '1994',\n",
       " '1995',\n",
       " '1996',\n",
       " '1997',\n",
       " '1998',\n",
       " '1999',\n",
       " '2000',\n",
       " '2001',\n",
       " '2002',\n",
       " '2003',\n",
       " '2004',\n",
       " '2005',\n",
       " '2006',\n",
       " '2007',\n",
       " '2008',\n",
       " '2009',\n",
       " '2010',\n",
       " '2011',\n",
       " '2012',\n",
       " '2013',\n",
       " '2014',\n",
       " '2015',\n",
       " '2016',\n",
       " '2017',\n",
       " '2018',\n",
       " '2019',\n",
       " '2020',\n",
       " '2021',\n",
       " '2022',\n",
       " '2023']"
      ]
     },
     "execution_count": 9,
     "metadata": {},
     "output_type": "execute_result"
    }
   ],
   "source": [
    "#Display the columns in a cleaner way i.e. removing [YR####]\n",
    "[col[:4] if '[' in col else col for col in df.columns]"
   ]
  },
  {
   "cell_type": "code",
   "execution_count": 10,
   "id": "81499623",
   "metadata": {},
   "outputs": [],
   "source": [
    "#save these as the columns in df\n",
    "df.columns = [col[:4] if '[' in col else col for col in df.columns]"
   ]
  },
  {
   "cell_type": "code",
   "execution_count": 15,
   "id": "7cd444d2",
   "metadata": {},
   "outputs": [
    {
     "data": {
      "text/plain": [
       "Index(['Country Name', 'Country Code', 'Series Name', 'Series Code', '1960',\n",
       "       '1961', '1962', '1963', '1964', '1965', '1966', '1967', '1968', '1969',\n",
       "       '1970', '1971', '1972', '1973', '1974', '1975', '1976', '1977', '1978',\n",
       "       '1979', '1980', '1981', '1982', '1983', '1984', '1985', '1986', '1987',\n",
       "       '1988', '1989', '1990', '1991', '1992', '1993', '1994', '1995', '1996',\n",
       "       '1997', '1998', '1999', '2000', '2001', '2002', '2003', '2004', '2005',\n",
       "       '2006', '2007', '2008', '2009', '2010', '2011', '2012', '2013', '2014',\n",
       "       '2015', '2016', '2017', '2018', '2019', '2020', '2021', '2022', '2023'],\n",
       "      dtype='object')"
      ]
     },
     "execution_count": 15,
     "metadata": {},
     "output_type": "execute_result"
    }
   ],
   "source": [
    "df.columns"
   ]
  },
  {
   "cell_type": "code",
   "execution_count": 16,
   "id": "77b5518b",
   "metadata": {},
   "outputs": [
    {
     "data": {
      "text/html": [
       "<div>\n",
       "<style scoped>\n",
       "    .dataframe tbody tr th:only-of-type {\n",
       "        vertical-align: middle;\n",
       "    }\n",
       "\n",
       "    .dataframe tbody tr th {\n",
       "        vertical-align: top;\n",
       "    }\n",
       "\n",
       "    .dataframe thead th {\n",
       "        text-align: right;\n",
       "    }\n",
       "</style>\n",
       "<table border=\"1\" class=\"dataframe\">\n",
       "  <thead>\n",
       "    <tr style=\"text-align: right;\">\n",
       "      <th></th>\n",
       "      <th>Country Name</th>\n",
       "      <th>Country Code</th>\n",
       "      <th>Series Name</th>\n",
       "      <th>Series Code</th>\n",
       "      <th>1960</th>\n",
       "      <th>1961</th>\n",
       "      <th>1962</th>\n",
       "      <th>1963</th>\n",
       "      <th>1964</th>\n",
       "      <th>1965</th>\n",
       "      <th>...</th>\n",
       "      <th>2014</th>\n",
       "      <th>2015</th>\n",
       "      <th>2016</th>\n",
       "      <th>2017</th>\n",
       "      <th>2018</th>\n",
       "      <th>2019</th>\n",
       "      <th>2020</th>\n",
       "      <th>2021</th>\n",
       "      <th>2022</th>\n",
       "      <th>2023</th>\n",
       "    </tr>\n",
       "  </thead>\n",
       "  <tbody>\n",
       "    <tr>\n",
       "      <th>0</th>\n",
       "      <td>Afghanistan</td>\n",
       "      <td>AFG</td>\n",
       "      <td>Individuals using the Internet (% of population)</td>\n",
       "      <td>IT.NET.USER.ZS</td>\n",
       "      <td>..</td>\n",
       "      <td>..</td>\n",
       "      <td>..</td>\n",
       "      <td>..</td>\n",
       "      <td>..</td>\n",
       "      <td>..</td>\n",
       "      <td>...</td>\n",
       "      <td>7</td>\n",
       "      <td>8.26</td>\n",
       "      <td>11</td>\n",
       "      <td>13.5</td>\n",
       "      <td>16.8</td>\n",
       "      <td>17.6</td>\n",
       "      <td>18.4</td>\n",
       "      <td>..</td>\n",
       "      <td>..</td>\n",
       "      <td>..</td>\n",
       "    </tr>\n",
       "    <tr>\n",
       "      <th>1</th>\n",
       "      <td>Afghanistan</td>\n",
       "      <td>AFG</td>\n",
       "      <td>Individuals using the Internet, female (% of f...</td>\n",
       "      <td>IT.NET.USER.FE.ZS</td>\n",
       "      <td>..</td>\n",
       "      <td>..</td>\n",
       "      <td>..</td>\n",
       "      <td>..</td>\n",
       "      <td>..</td>\n",
       "      <td>..</td>\n",
       "      <td>...</td>\n",
       "      <td>..</td>\n",
       "      <td>..</td>\n",
       "      <td>..</td>\n",
       "      <td>..</td>\n",
       "      <td>..</td>\n",
       "      <td>..</td>\n",
       "      <td>..</td>\n",
       "      <td>..</td>\n",
       "      <td>..</td>\n",
       "      <td>..</td>\n",
       "    </tr>\n",
       "    <tr>\n",
       "      <th>2</th>\n",
       "      <td>Afghanistan</td>\n",
       "      <td>AFG</td>\n",
       "      <td>Individuals using the Internet, male (% of mal...</td>\n",
       "      <td>IT.NET.USER.MA.ZS</td>\n",
       "      <td>..</td>\n",
       "      <td>..</td>\n",
       "      <td>..</td>\n",
       "      <td>..</td>\n",
       "      <td>..</td>\n",
       "      <td>..</td>\n",
       "      <td>...</td>\n",
       "      <td>..</td>\n",
       "      <td>..</td>\n",
       "      <td>..</td>\n",
       "      <td>..</td>\n",
       "      <td>..</td>\n",
       "      <td>..</td>\n",
       "      <td>..</td>\n",
       "      <td>..</td>\n",
       "      <td>..</td>\n",
       "      <td>..</td>\n",
       "    </tr>\n",
       "    <tr>\n",
       "      <th>3</th>\n",
       "      <td>Afghanistan</td>\n",
       "      <td>AFG</td>\n",
       "      <td>Secure Internet servers</td>\n",
       "      <td>IT.NET.SECR</td>\n",
       "      <td>..</td>\n",
       "      <td>..</td>\n",
       "      <td>..</td>\n",
       "      <td>..</td>\n",
       "      <td>..</td>\n",
       "      <td>..</td>\n",
       "      <td>...</td>\n",
       "      <td>57</td>\n",
       "      <td>74</td>\n",
       "      <td>426</td>\n",
       "      <td>1577</td>\n",
       "      <td>1965</td>\n",
       "      <td>1047</td>\n",
       "      <td>1362</td>\n",
       "      <td>1565</td>\n",
       "      <td>1491</td>\n",
       "      <td>1814</td>\n",
       "    </tr>\n",
       "    <tr>\n",
       "      <th>4</th>\n",
       "      <td>Afghanistan</td>\n",
       "      <td>AFG</td>\n",
       "      <td>Secure Internet servers (per 1 million people)</td>\n",
       "      <td>IT.NET.SECR.P6</td>\n",
       "      <td>..</td>\n",
       "      <td>..</td>\n",
       "      <td>..</td>\n",
       "      <td>..</td>\n",
       "      <td>..</td>\n",
       "      <td>..</td>\n",
       "      <td>...</td>\n",
       "      <td>1.7382011137112</td>\n",
       "      <td>2.18729357416894</td>\n",
       "      <td>12.2764405423167</td>\n",
       "      <td>44.1873650754779</td>\n",
       "      <td>53.4795175761047</td>\n",
       "      <td>27.6573503133086</td>\n",
       "      <td>34.861417801576</td>\n",
       "      <td>39.1245970166507</td>\n",
       "      <td>36.7432860701151</td>\n",
       "      <td>43.758544404586</td>\n",
       "    </tr>\n",
       "  </tbody>\n",
       "</table>\n",
       "<p>5 rows × 68 columns</p>\n",
       "</div>"
      ],
      "text/plain": [
       "  Country Name Country Code  \\\n",
       "0  Afghanistan          AFG   \n",
       "1  Afghanistan          AFG   \n",
       "2  Afghanistan          AFG   \n",
       "3  Afghanistan          AFG   \n",
       "4  Afghanistan          AFG   \n",
       "\n",
       "                                         Series Name        Series Code 1960  \\\n",
       "0   Individuals using the Internet (% of population)     IT.NET.USER.ZS   ..   \n",
       "1  Individuals using the Internet, female (% of f...  IT.NET.USER.FE.ZS   ..   \n",
       "2  Individuals using the Internet, male (% of mal...  IT.NET.USER.MA.ZS   ..   \n",
       "3                            Secure Internet servers        IT.NET.SECR   ..   \n",
       "4     Secure Internet servers (per 1 million people)     IT.NET.SECR.P6   ..   \n",
       "\n",
       "  1961 1962 1963 1964 1965  ...             2014              2015  \\\n",
       "0   ..   ..   ..   ..   ..  ...                7              8.26   \n",
       "1   ..   ..   ..   ..   ..  ...               ..                ..   \n",
       "2   ..   ..   ..   ..   ..  ...               ..                ..   \n",
       "3   ..   ..   ..   ..   ..  ...               57                74   \n",
       "4   ..   ..   ..   ..   ..  ...  1.7382011137112  2.18729357416894   \n",
       "\n",
       "               2016              2017              2018              2019  \\\n",
       "0                11              13.5              16.8              17.6   \n",
       "1                ..                ..                ..                ..   \n",
       "2                ..                ..                ..                ..   \n",
       "3               426              1577              1965              1047   \n",
       "4  12.2764405423167  44.1873650754779  53.4795175761047  27.6573503133086   \n",
       "\n",
       "              2020              2021              2022             2023  \n",
       "0             18.4                ..                ..               ..  \n",
       "1               ..                ..                ..               ..  \n",
       "2               ..                ..                ..               ..  \n",
       "3             1362              1565              1491             1814  \n",
       "4  34.861417801576  39.1245970166507  36.7432860701151  43.758544404586  \n",
       "\n",
       "[5 rows x 68 columns]"
      ]
     },
     "execution_count": 16,
     "metadata": {},
     "output_type": "execute_result"
    }
   ],
   "source": [
    "df.head()"
   ]
  },
  {
   "cell_type": "code",
   "execution_count": null,
   "id": "302e123c",
   "metadata": {},
   "outputs": [],
   "source": []
  },
  {
   "cell_type": "code",
   "execution_count": 12,
   "id": "835e0e35",
   "metadata": {
    "scrolled": true
   },
   "outputs": [
    {
     "name": "stdout",
     "output_type": "stream",
     "text": [
      "Collecting pyjanitor\n",
      "  Obtaining dependency information for pyjanitor from https://files.pythonhosted.org/packages/97/e9/dd91a5093d422c6e7732c5148720e4fda4bf0ceec840e12b57f4eeb51843/pyjanitor-0.30.0-py3-none-any.whl.metadata\n",
      "  Downloading pyjanitor-0.30.0-py3-none-any.whl.metadata (5.8 kB)\n",
      "Collecting natsort (from pyjanitor)\n",
      "  Obtaining dependency information for natsort from https://files.pythonhosted.org/packages/ef/82/7a9d0550484a62c6da82858ee9419f3dd1ccc9aa1c26a1e43da3ecd20b0d/natsort-8.4.0-py3-none-any.whl.metadata\n",
      "  Downloading natsort-8.4.0-py3-none-any.whl.metadata (21 kB)\n",
      "Collecting pandas_flavor (from pyjanitor)\n",
      "  Obtaining dependency information for pandas_flavor from https://files.pythonhosted.org/packages/67/1a/bfb5574b215f530c7ac5be684f33d60b299abbebd763c203aa31755f2fb2/pandas_flavor-0.6.0-py3-none-any.whl.metadata\n",
      "  Downloading pandas_flavor-0.6.0-py3-none-any.whl.metadata (6.3 kB)\n",
      "Requirement already satisfied: multipledispatch in c:\\users\\skyes\\anaconda3\\lib\\site-packages (from pyjanitor) (0.6.0)\n",
      "Requirement already satisfied: scipy in c:\\users\\skyes\\anaconda3\\lib\\site-packages (from pyjanitor) (1.15.0)\n",
      "Requirement already satisfied: six in c:\\users\\skyes\\anaconda3\\lib\\site-packages (from multipledispatch->pyjanitor) (1.16.0)\n",
      "Requirement already satisfied: pandas>=0.23 in c:\\users\\skyes\\anaconda3\\lib\\site-packages (from pandas_flavor->pyjanitor) (2.0.3)\n",
      "Requirement already satisfied: xarray in c:\\users\\skyes\\anaconda3\\lib\\site-packages (from pandas_flavor->pyjanitor) (2023.6.0)\n",
      "Requirement already satisfied: numpy<2.5,>=1.23.5 in c:\\users\\skyes\\anaconda3\\lib\\site-packages (from scipy->pyjanitor) (1.26.4)\n",
      "Requirement already satisfied: python-dateutil>=2.8.2 in c:\\users\\skyes\\anaconda3\\lib\\site-packages (from pandas>=0.23->pandas_flavor->pyjanitor) (2.8.2)\n",
      "Requirement already satisfied: pytz>=2020.1 in c:\\users\\skyes\\anaconda3\\lib\\site-packages (from pandas>=0.23->pandas_flavor->pyjanitor) (2023.3.post1)\n",
      "Requirement already satisfied: tzdata>=2022.1 in c:\\users\\skyes\\anaconda3\\lib\\site-packages (from pandas>=0.23->pandas_flavor->pyjanitor) (2023.3)\n",
      "Requirement already satisfied: packaging>=21.3 in c:\\users\\skyes\\anaconda3\\lib\\site-packages (from xarray->pandas_flavor->pyjanitor) (23.1)\n",
      "Downloading pyjanitor-0.30.0-py3-none-any.whl (207 kB)\n",
      "   ---------------------------------------- 0.0/207.9 kB ? eta -:--:--\n",
      "   --------------- ------------------------ 81.9/207.9 kB 2.3 MB/s eta 0:00:01\n",
      "   ---------------------------------------- 207.9/207.9 kB 4.2 MB/s eta 0:00:00\n",
      "Downloading natsort-8.4.0-py3-none-any.whl (38 kB)\n",
      "Downloading pandas_flavor-0.6.0-py3-none-any.whl (7.2 kB)\n",
      "Installing collected packages: natsort, pandas_flavor, pyjanitor\n",
      "Successfully installed natsort-8.4.0 pandas_flavor-0.6.0 pyjanitor-0.30.0\n"
     ]
    }
   ],
   "source": [
    "#Alternate way to access clean names in columns\n",
    "!pip install pyjanitor"
   ]
  },
  {
   "cell_type": "code",
   "execution_count": 13,
   "id": "564e6b1c",
   "metadata": {},
   "outputs": [],
   "source": [
    "import janitor"
   ]
  },
  {
   "cell_type": "code",
   "execution_count": 14,
   "id": "8786fda5",
   "metadata": {
    "scrolled": true
   },
   "outputs": [
    {
     "data": {
      "text/html": [
       "<div>\n",
       "<style scoped>\n",
       "    .dataframe tbody tr th:only-of-type {\n",
       "        vertical-align: middle;\n",
       "    }\n",
       "\n",
       "    .dataframe tbody tr th {\n",
       "        vertical-align: top;\n",
       "    }\n",
       "\n",
       "    .dataframe thead th {\n",
       "        text-align: right;\n",
       "    }\n",
       "</style>\n",
       "<table border=\"1\" class=\"dataframe\">\n",
       "  <thead>\n",
       "    <tr style=\"text-align: right;\">\n",
       "      <th></th>\n",
       "      <th>country_name</th>\n",
       "      <th>country_code</th>\n",
       "      <th>series_name</th>\n",
       "      <th>series_code</th>\n",
       "      <th>1960</th>\n",
       "      <th>1961</th>\n",
       "      <th>1962</th>\n",
       "      <th>1963</th>\n",
       "      <th>1964</th>\n",
       "      <th>1965</th>\n",
       "      <th>...</th>\n",
       "      <th>2014</th>\n",
       "      <th>2015</th>\n",
       "      <th>2016</th>\n",
       "      <th>2017</th>\n",
       "      <th>2018</th>\n",
       "      <th>2019</th>\n",
       "      <th>2020</th>\n",
       "      <th>2021</th>\n",
       "      <th>2022</th>\n",
       "      <th>2023</th>\n",
       "    </tr>\n",
       "  </thead>\n",
       "  <tbody>\n",
       "    <tr>\n",
       "      <th>0</th>\n",
       "      <td>Afghanistan</td>\n",
       "      <td>AFG</td>\n",
       "      <td>Individuals using the Internet (% of population)</td>\n",
       "      <td>IT.NET.USER.ZS</td>\n",
       "      <td>..</td>\n",
       "      <td>..</td>\n",
       "      <td>..</td>\n",
       "      <td>..</td>\n",
       "      <td>..</td>\n",
       "      <td>..</td>\n",
       "      <td>...</td>\n",
       "      <td>7</td>\n",
       "      <td>8.26</td>\n",
       "      <td>11</td>\n",
       "      <td>13.5</td>\n",
       "      <td>16.8</td>\n",
       "      <td>17.6</td>\n",
       "      <td>18.4</td>\n",
       "      <td>..</td>\n",
       "      <td>..</td>\n",
       "      <td>..</td>\n",
       "    </tr>\n",
       "    <tr>\n",
       "      <th>1</th>\n",
       "      <td>Afghanistan</td>\n",
       "      <td>AFG</td>\n",
       "      <td>Individuals using the Internet, female (% of f...</td>\n",
       "      <td>IT.NET.USER.FE.ZS</td>\n",
       "      <td>..</td>\n",
       "      <td>..</td>\n",
       "      <td>..</td>\n",
       "      <td>..</td>\n",
       "      <td>..</td>\n",
       "      <td>..</td>\n",
       "      <td>...</td>\n",
       "      <td>..</td>\n",
       "      <td>..</td>\n",
       "      <td>..</td>\n",
       "      <td>..</td>\n",
       "      <td>..</td>\n",
       "      <td>..</td>\n",
       "      <td>..</td>\n",
       "      <td>..</td>\n",
       "      <td>..</td>\n",
       "      <td>..</td>\n",
       "    </tr>\n",
       "    <tr>\n",
       "      <th>2</th>\n",
       "      <td>Afghanistan</td>\n",
       "      <td>AFG</td>\n",
       "      <td>Individuals using the Internet, male (% of mal...</td>\n",
       "      <td>IT.NET.USER.MA.ZS</td>\n",
       "      <td>..</td>\n",
       "      <td>..</td>\n",
       "      <td>..</td>\n",
       "      <td>..</td>\n",
       "      <td>..</td>\n",
       "      <td>..</td>\n",
       "      <td>...</td>\n",
       "      <td>..</td>\n",
       "      <td>..</td>\n",
       "      <td>..</td>\n",
       "      <td>..</td>\n",
       "      <td>..</td>\n",
       "      <td>..</td>\n",
       "      <td>..</td>\n",
       "      <td>..</td>\n",
       "      <td>..</td>\n",
       "      <td>..</td>\n",
       "    </tr>\n",
       "    <tr>\n",
       "      <th>3</th>\n",
       "      <td>Afghanistan</td>\n",
       "      <td>AFG</td>\n",
       "      <td>Secure Internet servers</td>\n",
       "      <td>IT.NET.SECR</td>\n",
       "      <td>..</td>\n",
       "      <td>..</td>\n",
       "      <td>..</td>\n",
       "      <td>..</td>\n",
       "      <td>..</td>\n",
       "      <td>..</td>\n",
       "      <td>...</td>\n",
       "      <td>57</td>\n",
       "      <td>74</td>\n",
       "      <td>426</td>\n",
       "      <td>1577</td>\n",
       "      <td>1965</td>\n",
       "      <td>1047</td>\n",
       "      <td>1362</td>\n",
       "      <td>1565</td>\n",
       "      <td>1491</td>\n",
       "      <td>1814</td>\n",
       "    </tr>\n",
       "    <tr>\n",
       "      <th>4</th>\n",
       "      <td>Afghanistan</td>\n",
       "      <td>AFG</td>\n",
       "      <td>Secure Internet servers (per 1 million people)</td>\n",
       "      <td>IT.NET.SECR.P6</td>\n",
       "      <td>..</td>\n",
       "      <td>..</td>\n",
       "      <td>..</td>\n",
       "      <td>..</td>\n",
       "      <td>..</td>\n",
       "      <td>..</td>\n",
       "      <td>...</td>\n",
       "      <td>1.7382011137112</td>\n",
       "      <td>2.18729357416894</td>\n",
       "      <td>12.2764405423167</td>\n",
       "      <td>44.1873650754779</td>\n",
       "      <td>53.4795175761047</td>\n",
       "      <td>27.6573503133086</td>\n",
       "      <td>34.861417801576</td>\n",
       "      <td>39.1245970166507</td>\n",
       "      <td>36.7432860701151</td>\n",
       "      <td>43.758544404586</td>\n",
       "    </tr>\n",
       "    <tr>\n",
       "      <th>...</th>\n",
       "      <td>...</td>\n",
       "      <td>...</td>\n",
       "      <td>...</td>\n",
       "      <td>...</td>\n",
       "      <td>...</td>\n",
       "      <td>...</td>\n",
       "      <td>...</td>\n",
       "      <td>...</td>\n",
       "      <td>...</td>\n",
       "      <td>...</td>\n",
       "      <td>...</td>\n",
       "      <td>...</td>\n",
       "      <td>...</td>\n",
       "      <td>...</td>\n",
       "      <td>...</td>\n",
       "      <td>...</td>\n",
       "      <td>...</td>\n",
       "      <td>...</td>\n",
       "      <td>...</td>\n",
       "      <td>...</td>\n",
       "      <td>...</td>\n",
       "    </tr>\n",
       "    <tr>\n",
       "      <th>1330</th>\n",
       "      <td>NaN</td>\n",
       "      <td>NaN</td>\n",
       "      <td>NaN</td>\n",
       "      <td>NaN</td>\n",
       "      <td>NaN</td>\n",
       "      <td>NaN</td>\n",
       "      <td>NaN</td>\n",
       "      <td>NaN</td>\n",
       "      <td>NaN</td>\n",
       "      <td>NaN</td>\n",
       "      <td>...</td>\n",
       "      <td>NaN</td>\n",
       "      <td>NaN</td>\n",
       "      <td>NaN</td>\n",
       "      <td>NaN</td>\n",
       "      <td>NaN</td>\n",
       "      <td>NaN</td>\n",
       "      <td>NaN</td>\n",
       "      <td>NaN</td>\n",
       "      <td>NaN</td>\n",
       "      <td>NaN</td>\n",
       "    </tr>\n",
       "    <tr>\n",
       "      <th>1331</th>\n",
       "      <td>NaN</td>\n",
       "      <td>NaN</td>\n",
       "      <td>NaN</td>\n",
       "      <td>NaN</td>\n",
       "      <td>NaN</td>\n",
       "      <td>NaN</td>\n",
       "      <td>NaN</td>\n",
       "      <td>NaN</td>\n",
       "      <td>NaN</td>\n",
       "      <td>NaN</td>\n",
       "      <td>...</td>\n",
       "      <td>NaN</td>\n",
       "      <td>NaN</td>\n",
       "      <td>NaN</td>\n",
       "      <td>NaN</td>\n",
       "      <td>NaN</td>\n",
       "      <td>NaN</td>\n",
       "      <td>NaN</td>\n",
       "      <td>NaN</td>\n",
       "      <td>NaN</td>\n",
       "      <td>NaN</td>\n",
       "    </tr>\n",
       "    <tr>\n",
       "      <th>1332</th>\n",
       "      <td>NaN</td>\n",
       "      <td>NaN</td>\n",
       "      <td>NaN</td>\n",
       "      <td>NaN</td>\n",
       "      <td>NaN</td>\n",
       "      <td>NaN</td>\n",
       "      <td>NaN</td>\n",
       "      <td>NaN</td>\n",
       "      <td>NaN</td>\n",
       "      <td>NaN</td>\n",
       "      <td>...</td>\n",
       "      <td>NaN</td>\n",
       "      <td>NaN</td>\n",
       "      <td>NaN</td>\n",
       "      <td>NaN</td>\n",
       "      <td>NaN</td>\n",
       "      <td>NaN</td>\n",
       "      <td>NaN</td>\n",
       "      <td>NaN</td>\n",
       "      <td>NaN</td>\n",
       "      <td>NaN</td>\n",
       "    </tr>\n",
       "    <tr>\n",
       "      <th>1333</th>\n",
       "      <td>Data from database: World Development Indicators</td>\n",
       "      <td>NaN</td>\n",
       "      <td>NaN</td>\n",
       "      <td>NaN</td>\n",
       "      <td>NaN</td>\n",
       "      <td>NaN</td>\n",
       "      <td>NaN</td>\n",
       "      <td>NaN</td>\n",
       "      <td>NaN</td>\n",
       "      <td>NaN</td>\n",
       "      <td>...</td>\n",
       "      <td>NaN</td>\n",
       "      <td>NaN</td>\n",
       "      <td>NaN</td>\n",
       "      <td>NaN</td>\n",
       "      <td>NaN</td>\n",
       "      <td>NaN</td>\n",
       "      <td>NaN</td>\n",
       "      <td>NaN</td>\n",
       "      <td>NaN</td>\n",
       "      <td>NaN</td>\n",
       "    </tr>\n",
       "    <tr>\n",
       "      <th>1334</th>\n",
       "      <td>Last Updated: 12/16/2024</td>\n",
       "      <td>NaN</td>\n",
       "      <td>NaN</td>\n",
       "      <td>NaN</td>\n",
       "      <td>NaN</td>\n",
       "      <td>NaN</td>\n",
       "      <td>NaN</td>\n",
       "      <td>NaN</td>\n",
       "      <td>NaN</td>\n",
       "      <td>NaN</td>\n",
       "      <td>...</td>\n",
       "      <td>NaN</td>\n",
       "      <td>NaN</td>\n",
       "      <td>NaN</td>\n",
       "      <td>NaN</td>\n",
       "      <td>NaN</td>\n",
       "      <td>NaN</td>\n",
       "      <td>NaN</td>\n",
       "      <td>NaN</td>\n",
       "      <td>NaN</td>\n",
       "      <td>NaN</td>\n",
       "    </tr>\n",
       "  </tbody>\n",
       "</table>\n",
       "<p>1335 rows × 68 columns</p>\n",
       "</div>"
      ],
      "text/plain": [
       "                                          country_name country_code  \\\n",
       "0                                          Afghanistan          AFG   \n",
       "1                                          Afghanistan          AFG   \n",
       "2                                          Afghanistan          AFG   \n",
       "3                                          Afghanistan          AFG   \n",
       "4                                          Afghanistan          AFG   \n",
       "...                                                ...          ...   \n",
       "1330                                               NaN          NaN   \n",
       "1331                                               NaN          NaN   \n",
       "1332                                               NaN          NaN   \n",
       "1333  Data from database: World Development Indicators          NaN   \n",
       "1334                          Last Updated: 12/16/2024          NaN   \n",
       "\n",
       "                                            series_name        series_code  \\\n",
       "0      Individuals using the Internet (% of population)     IT.NET.USER.ZS   \n",
       "1     Individuals using the Internet, female (% of f...  IT.NET.USER.FE.ZS   \n",
       "2     Individuals using the Internet, male (% of mal...  IT.NET.USER.MA.ZS   \n",
       "3                               Secure Internet servers        IT.NET.SECR   \n",
       "4        Secure Internet servers (per 1 million people)     IT.NET.SECR.P6   \n",
       "...                                                 ...                ...   \n",
       "1330                                                NaN                NaN   \n",
       "1331                                                NaN                NaN   \n",
       "1332                                                NaN                NaN   \n",
       "1333                                                NaN                NaN   \n",
       "1334                                                NaN                NaN   \n",
       "\n",
       "     1960 1961 1962 1963 1964 1965  ...             2014              2015  \\\n",
       "0      ..   ..   ..   ..   ..   ..  ...                7              8.26   \n",
       "1      ..   ..   ..   ..   ..   ..  ...               ..                ..   \n",
       "2      ..   ..   ..   ..   ..   ..  ...               ..                ..   \n",
       "3      ..   ..   ..   ..   ..   ..  ...               57                74   \n",
       "4      ..   ..   ..   ..   ..   ..  ...  1.7382011137112  2.18729357416894   \n",
       "...   ...  ...  ...  ...  ...  ...  ...              ...               ...   \n",
       "1330  NaN  NaN  NaN  NaN  NaN  NaN  ...              NaN               NaN   \n",
       "1331  NaN  NaN  NaN  NaN  NaN  NaN  ...              NaN               NaN   \n",
       "1332  NaN  NaN  NaN  NaN  NaN  NaN  ...              NaN               NaN   \n",
       "1333  NaN  NaN  NaN  NaN  NaN  NaN  ...              NaN               NaN   \n",
       "1334  NaN  NaN  NaN  NaN  NaN  NaN  ...              NaN               NaN   \n",
       "\n",
       "                  2016              2017              2018              2019  \\\n",
       "0                   11              13.5              16.8              17.6   \n",
       "1                   ..                ..                ..                ..   \n",
       "2                   ..                ..                ..                ..   \n",
       "3                  426              1577              1965              1047   \n",
       "4     12.2764405423167  44.1873650754779  53.4795175761047  27.6573503133086   \n",
       "...                ...               ...               ...               ...   \n",
       "1330               NaN               NaN               NaN               NaN   \n",
       "1331               NaN               NaN               NaN               NaN   \n",
       "1332               NaN               NaN               NaN               NaN   \n",
       "1333               NaN               NaN               NaN               NaN   \n",
       "1334               NaN               NaN               NaN               NaN   \n",
       "\n",
       "                 2020              2021              2022             2023  \n",
       "0                18.4                ..                ..               ..  \n",
       "1                  ..                ..                ..               ..  \n",
       "2                  ..                ..                ..               ..  \n",
       "3                1362              1565              1491             1814  \n",
       "4     34.861417801576  39.1245970166507  36.7432860701151  43.758544404586  \n",
       "...               ...               ...               ...              ...  \n",
       "1330              NaN               NaN               NaN              NaN  \n",
       "1331              NaN               NaN               NaN              NaN  \n",
       "1332              NaN               NaN               NaN              NaN  \n",
       "1333              NaN               NaN               NaN              NaN  \n",
       "1334              NaN               NaN               NaN              NaN  \n",
       "\n",
       "[1335 rows x 68 columns]"
      ]
     },
     "execution_count": 14,
     "metadata": {},
     "output_type": "execute_result"
    }
   ],
   "source": [
    "#Displays the column names cleanly and in lower cases\n",
    "df.clean_names()"
   ]
  },
  {
   "cell_type": "code",
   "execution_count": 17,
   "id": "12794b6c",
   "metadata": {},
   "outputs": [],
   "source": [
    "df = df.clean_names()"
   ]
  },
  {
   "cell_type": "code",
   "execution_count": 18,
   "id": "7eefcc3f",
   "metadata": {},
   "outputs": [
    {
     "data": {
      "text/html": [
       "<div>\n",
       "<style scoped>\n",
       "    .dataframe tbody tr th:only-of-type {\n",
       "        vertical-align: middle;\n",
       "    }\n",
       "\n",
       "    .dataframe tbody tr th {\n",
       "        vertical-align: top;\n",
       "    }\n",
       "\n",
       "    .dataframe thead th {\n",
       "        text-align: right;\n",
       "    }\n",
       "</style>\n",
       "<table border=\"1\" class=\"dataframe\">\n",
       "  <thead>\n",
       "    <tr style=\"text-align: right;\">\n",
       "      <th></th>\n",
       "      <th>country_name</th>\n",
       "      <th>country_code</th>\n",
       "      <th>series_name</th>\n",
       "      <th>series_code</th>\n",
       "      <th>1960</th>\n",
       "      <th>1961</th>\n",
       "      <th>1962</th>\n",
       "      <th>1963</th>\n",
       "      <th>1964</th>\n",
       "      <th>1965</th>\n",
       "      <th>...</th>\n",
       "      <th>2014</th>\n",
       "      <th>2015</th>\n",
       "      <th>2016</th>\n",
       "      <th>2017</th>\n",
       "      <th>2018</th>\n",
       "      <th>2019</th>\n",
       "      <th>2020</th>\n",
       "      <th>2021</th>\n",
       "      <th>2022</th>\n",
       "      <th>2023</th>\n",
       "    </tr>\n",
       "  </thead>\n",
       "  <tbody>\n",
       "    <tr>\n",
       "      <th>0</th>\n",
       "      <td>Afghanistan</td>\n",
       "      <td>AFG</td>\n",
       "      <td>Individuals using the Internet (% of population)</td>\n",
       "      <td>IT.NET.USER.ZS</td>\n",
       "      <td>..</td>\n",
       "      <td>..</td>\n",
       "      <td>..</td>\n",
       "      <td>..</td>\n",
       "      <td>..</td>\n",
       "      <td>..</td>\n",
       "      <td>...</td>\n",
       "      <td>7</td>\n",
       "      <td>8.26</td>\n",
       "      <td>11</td>\n",
       "      <td>13.5</td>\n",
       "      <td>16.8</td>\n",
       "      <td>17.6</td>\n",
       "      <td>18.4</td>\n",
       "      <td>..</td>\n",
       "      <td>..</td>\n",
       "      <td>..</td>\n",
       "    </tr>\n",
       "    <tr>\n",
       "      <th>1</th>\n",
       "      <td>Afghanistan</td>\n",
       "      <td>AFG</td>\n",
       "      <td>Individuals using the Internet, female (% of f...</td>\n",
       "      <td>IT.NET.USER.FE.ZS</td>\n",
       "      <td>..</td>\n",
       "      <td>..</td>\n",
       "      <td>..</td>\n",
       "      <td>..</td>\n",
       "      <td>..</td>\n",
       "      <td>..</td>\n",
       "      <td>...</td>\n",
       "      <td>..</td>\n",
       "      <td>..</td>\n",
       "      <td>..</td>\n",
       "      <td>..</td>\n",
       "      <td>..</td>\n",
       "      <td>..</td>\n",
       "      <td>..</td>\n",
       "      <td>..</td>\n",
       "      <td>..</td>\n",
       "      <td>..</td>\n",
       "    </tr>\n",
       "    <tr>\n",
       "      <th>2</th>\n",
       "      <td>Afghanistan</td>\n",
       "      <td>AFG</td>\n",
       "      <td>Individuals using the Internet, male (% of mal...</td>\n",
       "      <td>IT.NET.USER.MA.ZS</td>\n",
       "      <td>..</td>\n",
       "      <td>..</td>\n",
       "      <td>..</td>\n",
       "      <td>..</td>\n",
       "      <td>..</td>\n",
       "      <td>..</td>\n",
       "      <td>...</td>\n",
       "      <td>..</td>\n",
       "      <td>..</td>\n",
       "      <td>..</td>\n",
       "      <td>..</td>\n",
       "      <td>..</td>\n",
       "      <td>..</td>\n",
       "      <td>..</td>\n",
       "      <td>..</td>\n",
       "      <td>..</td>\n",
       "      <td>..</td>\n",
       "    </tr>\n",
       "    <tr>\n",
       "      <th>3</th>\n",
       "      <td>Afghanistan</td>\n",
       "      <td>AFG</td>\n",
       "      <td>Secure Internet servers</td>\n",
       "      <td>IT.NET.SECR</td>\n",
       "      <td>..</td>\n",
       "      <td>..</td>\n",
       "      <td>..</td>\n",
       "      <td>..</td>\n",
       "      <td>..</td>\n",
       "      <td>..</td>\n",
       "      <td>...</td>\n",
       "      <td>57</td>\n",
       "      <td>74</td>\n",
       "      <td>426</td>\n",
       "      <td>1577</td>\n",
       "      <td>1965</td>\n",
       "      <td>1047</td>\n",
       "      <td>1362</td>\n",
       "      <td>1565</td>\n",
       "      <td>1491</td>\n",
       "      <td>1814</td>\n",
       "    </tr>\n",
       "    <tr>\n",
       "      <th>4</th>\n",
       "      <td>Afghanistan</td>\n",
       "      <td>AFG</td>\n",
       "      <td>Secure Internet servers (per 1 million people)</td>\n",
       "      <td>IT.NET.SECR.P6</td>\n",
       "      <td>..</td>\n",
       "      <td>..</td>\n",
       "      <td>..</td>\n",
       "      <td>..</td>\n",
       "      <td>..</td>\n",
       "      <td>..</td>\n",
       "      <td>...</td>\n",
       "      <td>1.7382011137112</td>\n",
       "      <td>2.18729357416894</td>\n",
       "      <td>12.2764405423167</td>\n",
       "      <td>44.1873650754779</td>\n",
       "      <td>53.4795175761047</td>\n",
       "      <td>27.6573503133086</td>\n",
       "      <td>34.861417801576</td>\n",
       "      <td>39.1245970166507</td>\n",
       "      <td>36.7432860701151</td>\n",
       "      <td>43.758544404586</td>\n",
       "    </tr>\n",
       "  </tbody>\n",
       "</table>\n",
       "<p>5 rows × 68 columns</p>\n",
       "</div>"
      ],
      "text/plain": [
       "  country_name country_code  \\\n",
       "0  Afghanistan          AFG   \n",
       "1  Afghanistan          AFG   \n",
       "2  Afghanistan          AFG   \n",
       "3  Afghanistan          AFG   \n",
       "4  Afghanistan          AFG   \n",
       "\n",
       "                                         series_name        series_code 1960  \\\n",
       "0   Individuals using the Internet (% of population)     IT.NET.USER.ZS   ..   \n",
       "1  Individuals using the Internet, female (% of f...  IT.NET.USER.FE.ZS   ..   \n",
       "2  Individuals using the Internet, male (% of mal...  IT.NET.USER.MA.ZS   ..   \n",
       "3                            Secure Internet servers        IT.NET.SECR   ..   \n",
       "4     Secure Internet servers (per 1 million people)     IT.NET.SECR.P6   ..   \n",
       "\n",
       "  1961 1962 1963 1964 1965  ...             2014              2015  \\\n",
       "0   ..   ..   ..   ..   ..  ...                7              8.26   \n",
       "1   ..   ..   ..   ..   ..  ...               ..                ..   \n",
       "2   ..   ..   ..   ..   ..  ...               ..                ..   \n",
       "3   ..   ..   ..   ..   ..  ...               57                74   \n",
       "4   ..   ..   ..   ..   ..  ...  1.7382011137112  2.18729357416894   \n",
       "\n",
       "               2016              2017              2018              2019  \\\n",
       "0                11              13.5              16.8              17.6   \n",
       "1                ..                ..                ..                ..   \n",
       "2                ..                ..                ..                ..   \n",
       "3               426              1577              1965              1047   \n",
       "4  12.2764405423167  44.1873650754779  53.4795175761047  27.6573503133086   \n",
       "\n",
       "              2020              2021              2022             2023  \n",
       "0             18.4                ..                ..               ..  \n",
       "1               ..                ..                ..               ..  \n",
       "2               ..                ..                ..               ..  \n",
       "3             1362              1565              1491             1814  \n",
       "4  34.861417801576  39.1245970166507  36.7432860701151  43.758544404586  \n",
       "\n",
       "[5 rows x 68 columns]"
      ]
     },
     "execution_count": 18,
     "metadata": {},
     "output_type": "execute_result"
    }
   ],
   "source": [
    "df.head()"
   ]
  },
  {
   "attachments": {
    "image.png": {
     "image/png": "[encoded data removed]"
    }
   },
   "cell_type": "markdown",
   "id": "3dbb71f4",
   "metadata": {},
   "source": [
    "#This is another alternate way to replace column names\n",
    "#df.replace(columns={'country_name': 'country'}, inplace=True)\n",
    "\n",
    "#Also from janitor library\n",
    "#df.rename_column(old_column_name = 'a', new_column_name = 'a_new')\n",
    "\n",
    "![image.png](attachment:image.png)"
   ]
  },
  {
   "cell_type": "code",
   "execution_count": 20,
   "id": "3fa22fb9",
   "metadata": {},
   "outputs": [],
   "source": [
    "#Are there any columns that I can get rid of? Yes, all years before 1990 would have very less data.\n",
    "#Optimizing columns - transposing, melting the df, using HoloViz library"
   ]
  },
  {
   "cell_type": "code",
   "execution_count": 21,
   "id": "dd2769e1",
   "metadata": {},
   "outputs": [],
   "source": [
    "#Listing out all column names that we want to include in the df\n",
    "selected_columns = ['country_name','country_code','series_name','series_code']\n",
    "selected_years = [str(year) for year in range (1990,2024)]"
   ]
  },
  {
   "cell_type": "code",
   "execution_count": 22,
   "id": "da3ce9da",
   "metadata": {
    "scrolled": true
   },
   "outputs": [
    {
     "data": {
      "text/plain": [
       "['1990',\n",
       " '1991',\n",
       " '1992',\n",
       " '1993',\n",
       " '1994',\n",
       " '1995',\n",
       " '1996',\n",
       " '1997',\n",
       " '1998',\n",
       " '1999',\n",
       " '2000',\n",
       " '2001',\n",
       " '2002',\n",
       " '2003',\n",
       " '2004',\n",
       " '2005',\n",
       " '2006',\n",
       " '2007',\n",
       " '2008',\n",
       " '2009',\n",
       " '2010',\n",
       " '2011',\n",
       " '2012',\n",
       " '2013',\n",
       " '2014',\n",
       " '2015',\n",
       " '2016',\n",
       " '2017',\n",
       " '2018',\n",
       " '2019',\n",
       " '2020',\n",
       " '2021',\n",
       " '2022',\n",
       " '2023']"
      ]
     },
     "execution_count": 22,
     "metadata": {},
     "output_type": "execute_result"
    }
   ],
   "source": [
    "selected_years"
   ]
  },
  {
   "cell_type": "code",
   "execution_count": 23,
   "id": "5b8ec2c7",
   "metadata": {},
   "outputs": [
    {
     "data": {
      "text/plain": [
       "['country_name', 'country_code', 'series_name', 'series_code']"
      ]
     },
     "execution_count": 23,
     "metadata": {},
     "output_type": "execute_result"
    }
   ],
   "source": [
    "selected_columns"
   ]
  },
  {
   "cell_type": "code",
   "execution_count": 24,
   "id": "d88b4ab8",
   "metadata": {},
   "outputs": [],
   "source": [
    "df = df[selected_columns + selected_years]"
   ]
  },
  {
   "cell_type": "code",
   "execution_count": 25,
   "id": "17da1905",
   "metadata": {},
   "outputs": [
    {
     "data": {
      "text/plain": [
       "Index(['country_name', 'country_code', 'series_name', 'series_code', '1990',\n",
       "       '1991', '1992', '1993', '1994', '1995', '1996', '1997', '1998', '1999',\n",
       "       '2000', '2001', '2002', '2003', '2004', '2005', '2006', '2007', '2008',\n",
       "       '2009', '2010', '2011', '2012', '2013', '2014', '2015', '2016', '2017',\n",
       "       '2018', '2019', '2020', '2021', '2022', '2023'],\n",
       "      dtype='object')"
      ]
     },
     "execution_count": 25,
     "metadata": {},
     "output_type": "execute_result"
    }
   ],
   "source": [
    "df.columns"
   ]
  },
  {
   "cell_type": "code",
   "execution_count": 26,
   "id": "e13dd434",
   "metadata": {},
   "outputs": [
    {
     "data": {
      "text/html": [
       "<div>\n",
       "<style scoped>\n",
       "    .dataframe tbody tr th:only-of-type {\n",
       "        vertical-align: middle;\n",
       "    }\n",
       "\n",
       "    .dataframe tbody tr th {\n",
       "        vertical-align: top;\n",
       "    }\n",
       "\n",
       "    .dataframe thead th {\n",
       "        text-align: right;\n",
       "    }\n",
       "</style>\n",
       "<table border=\"1\" class=\"dataframe\">\n",
       "  <thead>\n",
       "    <tr style=\"text-align: right;\">\n",
       "      <th></th>\n",
       "      <th>country_name</th>\n",
       "      <th>country_code</th>\n",
       "      <th>series_name</th>\n",
       "      <th>series_code</th>\n",
       "      <th>1990</th>\n",
       "      <th>1991</th>\n",
       "      <th>1992</th>\n",
       "      <th>1993</th>\n",
       "      <th>1994</th>\n",
       "      <th>1995</th>\n",
       "      <th>...</th>\n",
       "      <th>2014</th>\n",
       "      <th>2015</th>\n",
       "      <th>2016</th>\n",
       "      <th>2017</th>\n",
       "      <th>2018</th>\n",
       "      <th>2019</th>\n",
       "      <th>2020</th>\n",
       "      <th>2021</th>\n",
       "      <th>2022</th>\n",
       "      <th>2023</th>\n",
       "    </tr>\n",
       "  </thead>\n",
       "  <tbody>\n",
       "    <tr>\n",
       "      <th>0</th>\n",
       "      <td>Afghanistan</td>\n",
       "      <td>AFG</td>\n",
       "      <td>Individuals using the Internet (% of population)</td>\n",
       "      <td>IT.NET.USER.ZS</td>\n",
       "      <td>0</td>\n",
       "      <td>0</td>\n",
       "      <td>0</td>\n",
       "      <td>0</td>\n",
       "      <td>0</td>\n",
       "      <td>0</td>\n",
       "      <td>...</td>\n",
       "      <td>7</td>\n",
       "      <td>8.26</td>\n",
       "      <td>11</td>\n",
       "      <td>13.5</td>\n",
       "      <td>16.8</td>\n",
       "      <td>17.6</td>\n",
       "      <td>18.4</td>\n",
       "      <td>..</td>\n",
       "      <td>..</td>\n",
       "      <td>..</td>\n",
       "    </tr>\n",
       "    <tr>\n",
       "      <th>1</th>\n",
       "      <td>Afghanistan</td>\n",
       "      <td>AFG</td>\n",
       "      <td>Individuals using the Internet, female (% of f...</td>\n",
       "      <td>IT.NET.USER.FE.ZS</td>\n",
       "      <td>..</td>\n",
       "      <td>..</td>\n",
       "      <td>..</td>\n",
       "      <td>..</td>\n",
       "      <td>..</td>\n",
       "      <td>..</td>\n",
       "      <td>...</td>\n",
       "      <td>..</td>\n",
       "      <td>..</td>\n",
       "      <td>..</td>\n",
       "      <td>..</td>\n",
       "      <td>..</td>\n",
       "      <td>..</td>\n",
       "      <td>..</td>\n",
       "      <td>..</td>\n",
       "      <td>..</td>\n",
       "      <td>..</td>\n",
       "    </tr>\n",
       "    <tr>\n",
       "      <th>2</th>\n",
       "      <td>Afghanistan</td>\n",
       "      <td>AFG</td>\n",
       "      <td>Individuals using the Internet, male (% of mal...</td>\n",
       "      <td>IT.NET.USER.MA.ZS</td>\n",
       "      <td>..</td>\n",
       "      <td>..</td>\n",
       "      <td>..</td>\n",
       "      <td>..</td>\n",
       "      <td>..</td>\n",
       "      <td>..</td>\n",
       "      <td>...</td>\n",
       "      <td>..</td>\n",
       "      <td>..</td>\n",
       "      <td>..</td>\n",
       "      <td>..</td>\n",
       "      <td>..</td>\n",
       "      <td>..</td>\n",
       "      <td>..</td>\n",
       "      <td>..</td>\n",
       "      <td>..</td>\n",
       "      <td>..</td>\n",
       "    </tr>\n",
       "    <tr>\n",
       "      <th>3</th>\n",
       "      <td>Afghanistan</td>\n",
       "      <td>AFG</td>\n",
       "      <td>Secure Internet servers</td>\n",
       "      <td>IT.NET.SECR</td>\n",
       "      <td>..</td>\n",
       "      <td>..</td>\n",
       "      <td>..</td>\n",
       "      <td>..</td>\n",
       "      <td>..</td>\n",
       "      <td>..</td>\n",
       "      <td>...</td>\n",
       "      <td>57</td>\n",
       "      <td>74</td>\n",
       "      <td>426</td>\n",
       "      <td>1577</td>\n",
       "      <td>1965</td>\n",
       "      <td>1047</td>\n",
       "      <td>1362</td>\n",
       "      <td>1565</td>\n",
       "      <td>1491</td>\n",
       "      <td>1814</td>\n",
       "    </tr>\n",
       "    <tr>\n",
       "      <th>4</th>\n",
       "      <td>Afghanistan</td>\n",
       "      <td>AFG</td>\n",
       "      <td>Secure Internet servers (per 1 million people)</td>\n",
       "      <td>IT.NET.SECR.P6</td>\n",
       "      <td>..</td>\n",
       "      <td>..</td>\n",
       "      <td>..</td>\n",
       "      <td>..</td>\n",
       "      <td>..</td>\n",
       "      <td>..</td>\n",
       "      <td>...</td>\n",
       "      <td>1.7382011137112</td>\n",
       "      <td>2.18729357416894</td>\n",
       "      <td>12.2764405423167</td>\n",
       "      <td>44.1873650754779</td>\n",
       "      <td>53.4795175761047</td>\n",
       "      <td>27.6573503133086</td>\n",
       "      <td>34.861417801576</td>\n",
       "      <td>39.1245970166507</td>\n",
       "      <td>36.7432860701151</td>\n",
       "      <td>43.758544404586</td>\n",
       "    </tr>\n",
       "  </tbody>\n",
       "</table>\n",
       "<p>5 rows × 38 columns</p>\n",
       "</div>"
      ],
      "text/plain": [
       "  country_name country_code  \\\n",
       "0  Afghanistan          AFG   \n",
       "1  Afghanistan          AFG   \n",
       "2  Afghanistan          AFG   \n",
       "3  Afghanistan          AFG   \n",
       "4  Afghanistan          AFG   \n",
       "\n",
       "                                         series_name        series_code 1990  \\\n",
       "0   Individuals using the Internet (% of population)     IT.NET.USER.ZS    0   \n",
       "1  Individuals using the Internet, female (% of f...  IT.NET.USER.FE.ZS   ..   \n",
       "2  Individuals using the Internet, male (% of mal...  IT.NET.USER.MA.ZS   ..   \n",
       "3                            Secure Internet servers        IT.NET.SECR   ..   \n",
       "4     Secure Internet servers (per 1 million people)     IT.NET.SECR.P6   ..   \n",
       "\n",
       "  1991 1992 1993 1994 1995  ...             2014              2015  \\\n",
       "0    0    0    0    0    0  ...                7              8.26   \n",
       "1   ..   ..   ..   ..   ..  ...               ..                ..   \n",
       "2   ..   ..   ..   ..   ..  ...               ..                ..   \n",
       "3   ..   ..   ..   ..   ..  ...               57                74   \n",
       "4   ..   ..   ..   ..   ..  ...  1.7382011137112  2.18729357416894   \n",
       "\n",
       "               2016              2017              2018              2019  \\\n",
       "0                11              13.5              16.8              17.6   \n",
       "1                ..                ..                ..                ..   \n",
       "2                ..                ..                ..                ..   \n",
       "3               426              1577              1965              1047   \n",
       "4  12.2764405423167  44.1873650754779  53.4795175761047  27.6573503133086   \n",
       "\n",
       "              2020              2021              2022             2023  \n",
       "0             18.4                ..                ..               ..  \n",
       "1               ..                ..                ..               ..  \n",
       "2               ..                ..                ..               ..  \n",
       "3             1362              1565              1491             1814  \n",
       "4  34.861417801576  39.1245970166507  36.7432860701151  43.758544404586  \n",
       "\n",
       "[5 rows x 38 columns]"
      ]
     },
     "execution_count": 26,
     "metadata": {},
     "output_type": "execute_result"
    }
   ],
   "source": [
    "df.head()"
   ]
  },
  {
   "cell_type": "code",
   "execution_count": 27,
   "id": "a8ee7a3d",
   "metadata": {},
   "outputs": [],
   "source": [
    "#Saving this cleaned and reduced data into a new file\n",
    "df.to_csv('C:/Users/skyes/Documents/Projects/worldbank-country-internet-data-cleaned.csv', index=False)"
   ]
  },
  {
   "cell_type": "code",
   "execution_count": 28,
   "id": "e991b908",
   "metadata": {},
   "outputs": [
    {
     "name": "stdout",
     "output_type": "stream",
     "text": [
      "38\n"
     ]
    }
   ],
   "source": [
    "print(len(df.columns))"
   ]
  },
  {
   "cell_type": "code",
   "execution_count": 29,
   "id": "17369d6d",
   "metadata": {
    "scrolled": true
   },
   "outputs": [
    {
     "data": {
      "text/plain": [
       "array(['Afghanistan', 'Albania', 'Algeria', 'American Samoa', 'Andorra',\n",
       "       'Angola', 'Antigua and Barbuda', 'Argentina', 'Armenia', 'Aruba',\n",
       "       'Australia', 'Austria', 'Azerbaijan', 'Bahamas, The', 'Bahrain',\n",
       "       'Bangladesh', 'Barbados', 'Belarus', 'Belgium', 'Belize', 'Benin',\n",
       "       'Bermuda', 'Bhutan', 'Bolivia', 'Bosnia and Herzegovina',\n",
       "       'Botswana', 'Brazil', 'British Virgin Islands',\n",
       "       'Brunei Darussalam', 'Bulgaria', 'Burkina Faso', 'Burundi',\n",
       "       'Cabo Verde', 'Cambodia', 'Cameroon', 'Canada', 'Cayman Islands',\n",
       "       'Central African Republic', 'Chad', 'Channel Islands', 'Chile',\n",
       "       'China', 'Colombia', 'Comoros', 'Congo, Dem. Rep.', 'Congo, Rep.',\n",
       "       'Costa Rica', \"Cote d'Ivoire\", 'Croatia', 'Cuba', 'Curacao',\n",
       "       'Cyprus', 'Czechia', 'Denmark', 'Djibouti', 'Dominica',\n",
       "       'Dominican Republic', 'Ecuador', 'Egypt, Arab Rep.', 'El Salvador',\n",
       "       'Equatorial Guinea', 'Eritrea', 'Estonia', 'Eswatini', 'Ethiopia',\n",
       "       'Faroe Islands', 'Fiji', 'Finland', 'France', 'French Polynesia',\n",
       "       'Gabon', 'Gambia, The', 'Georgia', 'Germany', 'Ghana', 'Gibraltar',\n",
       "       'Greece', 'Greenland', 'Grenada', 'Guam', 'Guatemala', 'Guinea',\n",
       "       'Guinea-Bissau', 'Guyana', 'Haiti', 'Honduras',\n",
       "       'Hong Kong SAR, China', 'Hungary', 'Iceland', 'India', 'Indonesia',\n",
       "       'Iran, Islamic Rep.', 'Iraq', 'Ireland', 'Isle of Man', 'Israel',\n",
       "       'Italy', 'Jamaica', 'Japan', 'Jordan', 'Kazakhstan', 'Kenya',\n",
       "       'Kiribati', \"Korea, Dem. People's Rep.\", 'Korea, Rep.', 'Kosovo',\n",
       "       'Kuwait', 'Kyrgyz Republic', 'Lao PDR', 'Latvia', 'Lebanon',\n",
       "       'Lesotho', 'Liberia', 'Libya', 'Liechtenstein', 'Lithuania',\n",
       "       'Luxembourg', 'Macao SAR, China', 'Madagascar', 'Malawi',\n",
       "       'Malaysia', 'Maldives', 'Mali', 'Malta', 'Marshall Islands',\n",
       "       'Mauritania', 'Mauritius', 'Mexico', 'Micronesia, Fed. Sts.',\n",
       "       'Moldova', 'Monaco', 'Mongolia', 'Montenegro', 'Morocco',\n",
       "       'Mozambique', 'Myanmar', 'Namibia', 'Nauru', 'Nepal',\n",
       "       'Netherlands', 'New Caledonia', 'New Zealand', 'Nicaragua',\n",
       "       'Niger', 'Nigeria', 'North Macedonia', 'Northern Mariana Islands',\n",
       "       'Norway', 'Oman', 'Pakistan', 'Palau', 'Panama',\n",
       "       'Papua New Guinea', 'Paraguay', 'Peru', 'Philippines', 'Poland',\n",
       "       'Portugal', 'Puerto Rico', 'Qatar', 'Romania',\n",
       "       'Russian Federation', 'Rwanda', 'Samoa', 'San Marino',\n",
       "       'Sao Tome and Principe', 'Saudi Arabia', 'Senegal', 'Serbia',\n",
       "       'Seychelles', 'Sierra Leone', 'Singapore',\n",
       "       'Sint Maarten (Dutch part)', 'Slovak Republic', 'Slovenia',\n",
       "       'Solomon Islands', 'Somalia', 'South Africa', 'South Sudan',\n",
       "       'Spain', 'Sri Lanka', 'St. Kitts and Nevis', 'St. Lucia',\n",
       "       'St. Martin (French part)', 'St. Vincent and the Grenadines',\n",
       "       'Sudan', 'Suriname', 'Sweden', 'Switzerland',\n",
       "       'Syrian Arab Republic', 'Tajikistan', 'Tanzania', 'Thailand',\n",
       "       'Timor-Leste', 'Togo', 'Tonga', 'Trinidad and Tobago', 'Tunisia',\n",
       "       'Turkiye', 'Turkmenistan', 'Turks and Caicos Islands', 'Tuvalu',\n",
       "       'Uganda', 'Ukraine', 'United Arab Emirates', 'United Kingdom',\n",
       "       'United States', 'Uruguay', 'Uzbekistan', 'Vanuatu',\n",
       "       'Venezuela, RB', 'Viet Nam', 'Virgin Islands (U.S.)',\n",
       "       'West Bank and Gaza', 'Yemen, Rep.', 'Zambia', 'Zimbabwe',\n",
       "       'Africa Eastern and Southern', 'Africa Western and Central',\n",
       "       'Arab World', 'Caribbean small states',\n",
       "       'Central Europe and the Baltics', 'Early-demographic dividend',\n",
       "       'East Asia & Pacific',\n",
       "       'East Asia & Pacific (excluding high income)',\n",
       "       'East Asia & Pacific (IDA & IBRD countries)', 'Euro area',\n",
       "       'Europe & Central Asia',\n",
       "       'Europe & Central Asia (excluding high income)',\n",
       "       'Europe & Central Asia (IDA & IBRD countries)', 'European Union',\n",
       "       'Fragile and conflict affected situations',\n",
       "       'Heavily indebted poor countries (HIPC)', 'High income',\n",
       "       'IBRD only', 'IDA & IBRD total', 'IDA blend', 'IDA only',\n",
       "       'IDA total', 'Late-demographic dividend',\n",
       "       'Latin America & Caribbean',\n",
       "       'Latin America & Caribbean (excluding high income)',\n",
       "       'Latin America & the Caribbean (IDA & IBRD countries)',\n",
       "       'Least developed countries: UN classification',\n",
       "       'Low & middle income', 'Low income', 'Lower middle income',\n",
       "       'Middle East & North Africa',\n",
       "       'Middle East & North Africa (excluding high income)',\n",
       "       'Middle East & North Africa (IDA & IBRD countries)',\n",
       "       'Middle income', 'North America', 'Not classified', 'OECD members',\n",
       "       'Other small states', 'Pacific island small states',\n",
       "       'Post-demographic dividend', 'Pre-demographic dividend',\n",
       "       'Small states', 'South Asia', 'South Asia (IDA & IBRD)',\n",
       "       'Sub-Saharan Africa', 'Sub-Saharan Africa (excluding high income)',\n",
       "       'Sub-Saharan Africa (IDA & IBRD countries)', 'Upper middle income',\n",
       "       'World', nan, 'Data from database: World Development Indicators',\n",
       "       'Last Updated: 12/16/2024'], dtype=object)"
      ]
     },
     "execution_count": 29,
     "metadata": {},
     "output_type": "execute_result"
    }
   ],
   "source": [
    "df.country_name.unique()"
   ]
  },
  {
   "cell_type": "code",
   "execution_count": 30,
   "id": "bcd217b5",
   "metadata": {},
   "outputs": [
    {
     "data": {
      "text/html": [
       "<div>\n",
       "<style scoped>\n",
       "    .dataframe tbody tr th:only-of-type {\n",
       "        vertical-align: middle;\n",
       "    }\n",
       "\n",
       "    .dataframe tbody tr th {\n",
       "        vertical-align: top;\n",
       "    }\n",
       "\n",
       "    .dataframe thead th {\n",
       "        text-align: right;\n",
       "    }\n",
       "</style>\n",
       "<table border=\"1\" class=\"dataframe\">\n",
       "  <thead>\n",
       "    <tr style=\"text-align: right;\">\n",
       "      <th></th>\n",
       "      <th>country_name</th>\n",
       "      <th>country_code</th>\n",
       "      <th>series_name</th>\n",
       "      <th>series_code</th>\n",
       "      <th>1990</th>\n",
       "      <th>1991</th>\n",
       "      <th>1992</th>\n",
       "      <th>1993</th>\n",
       "      <th>1994</th>\n",
       "      <th>1995</th>\n",
       "      <th>...</th>\n",
       "      <th>2014</th>\n",
       "      <th>2015</th>\n",
       "      <th>2016</th>\n",
       "      <th>2017</th>\n",
       "      <th>2018</th>\n",
       "      <th>2019</th>\n",
       "      <th>2020</th>\n",
       "      <th>2021</th>\n",
       "      <th>2022</th>\n",
       "      <th>2023</th>\n",
       "    </tr>\n",
       "  </thead>\n",
       "  <tbody>\n",
       "    <tr>\n",
       "      <th>365</th>\n",
       "      <td>Germany</td>\n",
       "      <td>DEU</td>\n",
       "      <td>Individuals using the Internet (% of population)</td>\n",
       "      <td>IT.NET.USER.ZS</td>\n",
       "      <td>0.125892223</td>\n",
       "      <td>0.250274153</td>\n",
       "      <td>0.43528529</td>\n",
       "      <td>0.463635096</td>\n",
       "      <td>0.922541043</td>\n",
       "      <td>1.837737754</td>\n",
       "      <td>...</td>\n",
       "      <td>86.1937</td>\n",
       "      <td>87.5898</td>\n",
       "      <td>84.1652</td>\n",
       "      <td>84.3942</td>\n",
       "      <td>87.0371</td>\n",
       "      <td>88.1345</td>\n",
       "      <td>89.8129</td>\n",
       "      <td>91.4306</td>\n",
       "      <td>91.6298</td>\n",
       "      <td>92.4764</td>\n",
       "    </tr>\n",
       "    <tr>\n",
       "      <th>366</th>\n",
       "      <td>Germany</td>\n",
       "      <td>DEU</td>\n",
       "      <td>Individuals using the Internet, female (% of f...</td>\n",
       "      <td>IT.NET.USER.FE.ZS</td>\n",
       "      <td>..</td>\n",
       "      <td>..</td>\n",
       "      <td>..</td>\n",
       "      <td>..</td>\n",
       "      <td>..</td>\n",
       "      <td>..</td>\n",
       "      <td>...</td>\n",
       "      <td>83.7069</td>\n",
       "      <td>85.4955</td>\n",
       "      <td>81.1987</td>\n",
       "      <td>81.2078</td>\n",
       "      <td>84.1628</td>\n",
       "      <td>85.2831</td>\n",
       "      <td>87.3028</td>\n",
       "      <td>90.5614</td>\n",
       "      <td>90.4838</td>\n",
       "      <td>91.4829</td>\n",
       "    </tr>\n",
       "    <tr>\n",
       "      <th>367</th>\n",
       "      <td>Germany</td>\n",
       "      <td>DEU</td>\n",
       "      <td>Individuals using the Internet, male (% of mal...</td>\n",
       "      <td>IT.NET.USER.MA.ZS</td>\n",
       "      <td>..</td>\n",
       "      <td>..</td>\n",
       "      <td>..</td>\n",
       "      <td>..</td>\n",
       "      <td>..</td>\n",
       "      <td>..</td>\n",
       "      <td>...</td>\n",
       "      <td>88.7048</td>\n",
       "      <td>89.6965</td>\n",
       "      <td>87.2483</td>\n",
       "      <td>87.6739</td>\n",
       "      <td>89.9817</td>\n",
       "      <td>91.0642</td>\n",
       "      <td>92.3982</td>\n",
       "      <td>92.2967</td>\n",
       "      <td>92.772</td>\n",
       "      <td>93.4711</td>\n",
       "    </tr>\n",
       "    <tr>\n",
       "      <th>368</th>\n",
       "      <td>Germany</td>\n",
       "      <td>DEU</td>\n",
       "      <td>Secure Internet servers</td>\n",
       "      <td>IT.NET.SECR</td>\n",
       "      <td>..</td>\n",
       "      <td>..</td>\n",
       "      <td>..</td>\n",
       "      <td>..</td>\n",
       "      <td>..</td>\n",
       "      <td>..</td>\n",
       "      <td>...</td>\n",
       "      <td>271517</td>\n",
       "      <td>351083</td>\n",
       "      <td>957300</td>\n",
       "      <td>2825322</td>\n",
       "      <td>4676435</td>\n",
       "      <td>6478761</td>\n",
       "      <td>8109646</td>\n",
       "      <td>9425914</td>\n",
       "      <td>10553940</td>\n",
       "      <td>11657953</td>\n",
       "    </tr>\n",
       "    <tr>\n",
       "      <th>369</th>\n",
       "      <td>Germany</td>\n",
       "      <td>DEU</td>\n",
       "      <td>Secure Internet servers (per 1 million people)</td>\n",
       "      <td>IT.NET.SECR.P6</td>\n",
       "      <td>..</td>\n",
       "      <td>..</td>\n",
       "      <td>..</td>\n",
       "      <td>..</td>\n",
       "      <td>..</td>\n",
       "      <td>..</td>\n",
       "      <td>...</td>\n",
       "      <td>3352.78609576143</td>\n",
       "      <td>4297.92588653237</td>\n",
       "      <td>11624.9602042748</td>\n",
       "      <td>34181.2784354313</td>\n",
       "      <td>56406.6207107244</td>\n",
       "      <td>77970.0331298817</td>\n",
       "      <td>97517.56929049</td>\n",
       "      <td>113297.576359309</td>\n",
       "      <td>125945.033165177</td>\n",
       "      <td>139985.026416907</td>\n",
       "    </tr>\n",
       "  </tbody>\n",
       "</table>\n",
       "<p>5 rows × 38 columns</p>\n",
       "</div>"
      ],
      "text/plain": [
       "    country_name country_code  \\\n",
       "365      Germany          DEU   \n",
       "366      Germany          DEU   \n",
       "367      Germany          DEU   \n",
       "368      Germany          DEU   \n",
       "369      Germany          DEU   \n",
       "\n",
       "                                           series_name        series_code  \\\n",
       "365   Individuals using the Internet (% of population)     IT.NET.USER.ZS   \n",
       "366  Individuals using the Internet, female (% of f...  IT.NET.USER.FE.ZS   \n",
       "367  Individuals using the Internet, male (% of mal...  IT.NET.USER.MA.ZS   \n",
       "368                            Secure Internet servers        IT.NET.SECR   \n",
       "369     Secure Internet servers (per 1 million people)     IT.NET.SECR.P6   \n",
       "\n",
       "            1990         1991        1992         1993         1994  \\\n",
       "365  0.125892223  0.250274153  0.43528529  0.463635096  0.922541043   \n",
       "366           ..           ..          ..           ..           ..   \n",
       "367           ..           ..          ..           ..           ..   \n",
       "368           ..           ..          ..           ..           ..   \n",
       "369           ..           ..          ..           ..           ..   \n",
       "\n",
       "            1995  ...              2014              2015              2016  \\\n",
       "365  1.837737754  ...           86.1937           87.5898           84.1652   \n",
       "366           ..  ...           83.7069           85.4955           81.1987   \n",
       "367           ..  ...           88.7048           89.6965           87.2483   \n",
       "368           ..  ...            271517            351083            957300   \n",
       "369           ..  ...  3352.78609576143  4297.92588653237  11624.9602042748   \n",
       "\n",
       "                 2017              2018              2019            2020  \\\n",
       "365           84.3942           87.0371           88.1345         89.8129   \n",
       "366           81.2078           84.1628           85.2831         87.3028   \n",
       "367           87.6739           89.9817           91.0642         92.3982   \n",
       "368           2825322           4676435           6478761         8109646   \n",
       "369  34181.2784354313  56406.6207107244  77970.0331298817  97517.56929049   \n",
       "\n",
       "                 2021              2022              2023  \n",
       "365           91.4306           91.6298           92.4764  \n",
       "366           90.5614           90.4838           91.4829  \n",
       "367           92.2967            92.772           93.4711  \n",
       "368           9425914          10553940          11657953  \n",
       "369  113297.576359309  125945.033165177  139985.026416907  \n",
       "\n",
       "[5 rows x 38 columns]"
      ]
     },
     "execution_count": 30,
     "metadata": {},
     "output_type": "execute_result"
    }
   ],
   "source": [
    "selected_countries = ['Greenland', 'Germany', 'Turkiye']\n",
    "\n",
    "country_df = df[df['country_name'].isin(selected_countries)]\n",
    "\n",
    "country_df.head()"
   ]
  },
  {
   "cell_type": "code",
   "execution_count": 32,
   "id": "606b76ba",
   "metadata": {
    "scrolled": true
   },
   "outputs": [],
   "source": [
    "#Only including the data with the series_code 'IT.NET.USER.ZS'\n",
    "cdf = country_df[country_df['series_code'] == 'IT.NET.USER.ZS']"
   ]
  },
  {
   "cell_type": "code",
   "execution_count": 33,
   "id": "314987aa",
   "metadata": {},
   "outputs": [
    {
     "data": {
      "text/html": [
       "<div>\n",
       "<style scoped>\n",
       "    .dataframe tbody tr th:only-of-type {\n",
       "        vertical-align: middle;\n",
       "    }\n",
       "\n",
       "    .dataframe tbody tr th {\n",
       "        vertical-align: top;\n",
       "    }\n",
       "\n",
       "    .dataframe thead th {\n",
       "        text-align: right;\n",
       "    }\n",
       "</style>\n",
       "<table border=\"1\" class=\"dataframe\">\n",
       "  <thead>\n",
       "    <tr style=\"text-align: right;\">\n",
       "      <th></th>\n",
       "      <th>country_name</th>\n",
       "      <th>country_code</th>\n",
       "      <th>series_name</th>\n",
       "      <th>series_code</th>\n",
       "      <th>1990</th>\n",
       "      <th>1991</th>\n",
       "      <th>1992</th>\n",
       "      <th>1993</th>\n",
       "      <th>1994</th>\n",
       "      <th>1995</th>\n",
       "      <th>...</th>\n",
       "      <th>2014</th>\n",
       "      <th>2015</th>\n",
       "      <th>2016</th>\n",
       "      <th>2017</th>\n",
       "      <th>2018</th>\n",
       "      <th>2019</th>\n",
       "      <th>2020</th>\n",
       "      <th>2021</th>\n",
       "      <th>2022</th>\n",
       "      <th>2023</th>\n",
       "    </tr>\n",
       "  </thead>\n",
       "  <tbody>\n",
       "    <tr>\n",
       "      <th>365</th>\n",
       "      <td>Germany</td>\n",
       "      <td>DEU</td>\n",
       "      <td>Individuals using the Internet (% of population)</td>\n",
       "      <td>IT.NET.USER.ZS</td>\n",
       "      <td>0.125892223</td>\n",
       "      <td>0.250274153</td>\n",
       "      <td>0.43528529</td>\n",
       "      <td>0.463635096</td>\n",
       "      <td>0.922541043</td>\n",
       "      <td>1.837737754</td>\n",
       "      <td>...</td>\n",
       "      <td>86.1937</td>\n",
       "      <td>87.5898</td>\n",
       "      <td>84.1652</td>\n",
       "      <td>84.3942</td>\n",
       "      <td>87.0371</td>\n",
       "      <td>88.1345</td>\n",
       "      <td>89.8129</td>\n",
       "      <td>91.4306</td>\n",
       "      <td>91.6298</td>\n",
       "      <td>92.4764</td>\n",
       "    </tr>\n",
       "    <tr>\n",
       "      <th>385</th>\n",
       "      <td>Greenland</td>\n",
       "      <td>GRL</td>\n",
       "      <td>Individuals using the Internet (% of population)</td>\n",
       "      <td>IT.NET.USER.ZS</td>\n",
       "      <td>0</td>\n",
       "      <td>0</td>\n",
       "      <td>0</td>\n",
       "      <td>0</td>\n",
       "      <td>0.064712121</td>\n",
       "      <td>0.053940342</td>\n",
       "      <td>...</td>\n",
       "      <td>66.7</td>\n",
       "      <td>67.6004</td>\n",
       "      <td>68.5009</td>\n",
       "      <td>69.4825</td>\n",
       "      <td>..</td>\n",
       "      <td>..</td>\n",
       "      <td>..</td>\n",
       "      <td>..</td>\n",
       "      <td>..</td>\n",
       "      <td>..</td>\n",
       "    </tr>\n",
       "    <tr>\n",
       "      <th>990</th>\n",
       "      <td>Turkiye</td>\n",
       "      <td>TUR</td>\n",
       "      <td>Individuals using the Internet (% of population)</td>\n",
       "      <td>IT.NET.USER.ZS</td>\n",
       "      <td>0</td>\n",
       "      <td>0</td>\n",
       "      <td>0</td>\n",
       "      <td>0.008457732</td>\n",
       "      <td>0.049869182</td>\n",
       "      <td>0.081691205</td>\n",
       "      <td>...</td>\n",
       "      <td>51.0374</td>\n",
       "      <td>53.745</td>\n",
       "      <td>58.3477</td>\n",
       "      <td>64.6846</td>\n",
       "      <td>71.0428</td>\n",
       "      <td>73.9767</td>\n",
       "      <td>77.6696</td>\n",
       "      <td>81.4084</td>\n",
       "      <td>83.4372</td>\n",
       "      <td>85.9607</td>\n",
       "    </tr>\n",
       "  </tbody>\n",
       "</table>\n",
       "<p>3 rows × 38 columns</p>\n",
       "</div>"
      ],
      "text/plain": [
       "    country_name country_code  \\\n",
       "365      Germany          DEU   \n",
       "385    Greenland          GRL   \n",
       "990      Turkiye          TUR   \n",
       "\n",
       "                                          series_name     series_code  \\\n",
       "365  Individuals using the Internet (% of population)  IT.NET.USER.ZS   \n",
       "385  Individuals using the Internet (% of population)  IT.NET.USER.ZS   \n",
       "990  Individuals using the Internet (% of population)  IT.NET.USER.ZS   \n",
       "\n",
       "            1990         1991        1992         1993         1994  \\\n",
       "365  0.125892223  0.250274153  0.43528529  0.463635096  0.922541043   \n",
       "385            0            0           0            0  0.064712121   \n",
       "990            0            0           0  0.008457732  0.049869182   \n",
       "\n",
       "            1995  ...     2014     2015     2016     2017     2018     2019  \\\n",
       "365  1.837737754  ...  86.1937  87.5898  84.1652  84.3942  87.0371  88.1345   \n",
       "385  0.053940342  ...     66.7  67.6004  68.5009  69.4825       ..       ..   \n",
       "990  0.081691205  ...  51.0374   53.745  58.3477  64.6846  71.0428  73.9767   \n",
       "\n",
       "        2020     2021     2022     2023  \n",
       "365  89.8129  91.4306  91.6298  92.4764  \n",
       "385       ..       ..       ..       ..  \n",
       "990  77.6696  81.4084  83.4372  85.9607  \n",
       "\n",
       "[3 rows x 38 columns]"
      ]
     },
     "execution_count": 33,
     "metadata": {},
     "output_type": "execute_result"
    }
   ],
   "source": [
    "cdf"
   ]
  },
  {
   "cell_type": "code",
   "execution_count": 34,
   "id": "2c4c1bb0",
   "metadata": {},
   "outputs": [
    {
     "data": {
      "text/html": [
       "<div>\n",
       "<style scoped>\n",
       "    .dataframe tbody tr th:only-of-type {\n",
       "        vertical-align: middle;\n",
       "    }\n",
       "\n",
       "    .dataframe tbody tr th {\n",
       "        vertical-align: top;\n",
       "    }\n",
       "\n",
       "    .dataframe thead th {\n",
       "        text-align: right;\n",
       "    }\n",
       "</style>\n",
       "<table border=\"1\" class=\"dataframe\">\n",
       "  <thead>\n",
       "    <tr style=\"text-align: right;\">\n",
       "      <th></th>\n",
       "      <th>country_code</th>\n",
       "      <th>series_code</th>\n",
       "      <th>1991</th>\n",
       "    </tr>\n",
       "  </thead>\n",
       "  <tbody>\n",
       "    <tr>\n",
       "      <th>365</th>\n",
       "      <td>DEU</td>\n",
       "      <td>IT.NET.USER.ZS</td>\n",
       "      <td>0.250274153</td>\n",
       "    </tr>\n",
       "    <tr>\n",
       "      <th>385</th>\n",
       "      <td>GRL</td>\n",
       "      <td>IT.NET.USER.ZS</td>\n",
       "      <td>0</td>\n",
       "    </tr>\n",
       "    <tr>\n",
       "      <th>990</th>\n",
       "      <td>TUR</td>\n",
       "      <td>IT.NET.USER.ZS</td>\n",
       "      <td>0</td>\n",
       "    </tr>\n",
       "  </tbody>\n",
       "</table>\n",
       "</div>"
      ],
      "text/plain": [
       "    country_code     series_code         1991\n",
       "365          DEU  IT.NET.USER.ZS  0.250274153\n",
       "385          GRL  IT.NET.USER.ZS            0\n",
       "990          TUR  IT.NET.USER.ZS            0"
      ]
     },
     "execution_count": 34,
     "metadata": {},
     "output_type": "execute_result"
    }
   ],
   "source": [
    "cdf.iloc[:, [1,3,5]]"
   ]
  },
  {
   "cell_type": "code",
   "execution_count": 35,
   "id": "adf08d68",
   "metadata": {},
   "outputs": [
    {
     "data": {
      "text/html": [
       "<div>\n",
       "<style scoped>\n",
       "    .dataframe tbody tr th:only-of-type {\n",
       "        vertical-align: middle;\n",
       "    }\n",
       "\n",
       "    .dataframe tbody tr th {\n",
       "        vertical-align: top;\n",
       "    }\n",
       "\n",
       "    .dataframe thead th {\n",
       "        text-align: right;\n",
       "    }\n",
       "</style>\n",
       "<table border=\"1\" class=\"dataframe\">\n",
       "  <thead>\n",
       "    <tr style=\"text-align: right;\">\n",
       "      <th></th>\n",
       "      <th>country_name</th>\n",
       "      <th>1990</th>\n",
       "      <th>1991</th>\n",
       "      <th>1992</th>\n",
       "      <th>1993</th>\n",
       "      <th>1994</th>\n",
       "      <th>1995</th>\n",
       "      <th>1996</th>\n",
       "      <th>1997</th>\n",
       "      <th>1998</th>\n",
       "      <th>...</th>\n",
       "      <th>2014</th>\n",
       "      <th>2015</th>\n",
       "      <th>2016</th>\n",
       "      <th>2017</th>\n",
       "      <th>2018</th>\n",
       "      <th>2019</th>\n",
       "      <th>2020</th>\n",
       "      <th>2021</th>\n",
       "      <th>2022</th>\n",
       "      <th>2023</th>\n",
       "    </tr>\n",
       "  </thead>\n",
       "  <tbody>\n",
       "    <tr>\n",
       "      <th>365</th>\n",
       "      <td>Germany</td>\n",
       "      <td>0.125892223</td>\n",
       "      <td>0.250274153</td>\n",
       "      <td>0.43528529</td>\n",
       "      <td>0.463635096</td>\n",
       "      <td>0.922541043</td>\n",
       "      <td>1.837737754</td>\n",
       "      <td>3.054805234</td>\n",
       "      <td>6.711087477</td>\n",
       "      <td>9.877852428</td>\n",
       "      <td>...</td>\n",
       "      <td>86.1937</td>\n",
       "      <td>87.5898</td>\n",
       "      <td>84.1652</td>\n",
       "      <td>84.3942</td>\n",
       "      <td>87.0371</td>\n",
       "      <td>88.1345</td>\n",
       "      <td>89.8129</td>\n",
       "      <td>91.4306</td>\n",
       "      <td>91.6298</td>\n",
       "      <td>92.4764</td>\n",
       "    </tr>\n",
       "    <tr>\n",
       "      <th>385</th>\n",
       "      <td>Greenland</td>\n",
       "      <td>0</td>\n",
       "      <td>0</td>\n",
       "      <td>0</td>\n",
       "      <td>0</td>\n",
       "      <td>0.064712121</td>\n",
       "      <td>0.053940342</td>\n",
       "      <td>1.796719191</td>\n",
       "      <td>7.954504682</td>\n",
       "      <td>14.65444717</td>\n",
       "      <td>...</td>\n",
       "      <td>66.7</td>\n",
       "      <td>67.6004</td>\n",
       "      <td>68.5009</td>\n",
       "      <td>69.4825</td>\n",
       "      <td>..</td>\n",
       "      <td>..</td>\n",
       "      <td>..</td>\n",
       "      <td>..</td>\n",
       "      <td>..</td>\n",
       "      <td>..</td>\n",
       "    </tr>\n",
       "    <tr>\n",
       "      <th>990</th>\n",
       "      <td>Turkiye</td>\n",
       "      <td>0</td>\n",
       "      <td>0</td>\n",
       "      <td>0</td>\n",
       "      <td>0.008457732</td>\n",
       "      <td>0.049869182</td>\n",
       "      <td>0.081691205</td>\n",
       "      <td>0.192724936</td>\n",
       "      <td>0.473695432</td>\n",
       "      <td>0.698805129</td>\n",
       "      <td>...</td>\n",
       "      <td>51.0374</td>\n",
       "      <td>53.745</td>\n",
       "      <td>58.3477</td>\n",
       "      <td>64.6846</td>\n",
       "      <td>71.0428</td>\n",
       "      <td>73.9767</td>\n",
       "      <td>77.6696</td>\n",
       "      <td>81.4084</td>\n",
       "      <td>83.4372</td>\n",
       "      <td>85.9607</td>\n",
       "    </tr>\n",
       "  </tbody>\n",
       "</table>\n",
       "<p>3 rows × 35 columns</p>\n",
       "</div>"
      ],
      "text/plain": [
       "    country_name         1990         1991        1992         1993  \\\n",
       "365      Germany  0.125892223  0.250274153  0.43528529  0.463635096   \n",
       "385    Greenland            0            0           0            0   \n",
       "990      Turkiye            0            0           0  0.008457732   \n",
       "\n",
       "            1994         1995         1996         1997         1998  ...  \\\n",
       "365  0.922541043  1.837737754  3.054805234  6.711087477  9.877852428  ...   \n",
       "385  0.064712121  0.053940342  1.796719191  7.954504682  14.65444717  ...   \n",
       "990  0.049869182  0.081691205  0.192724936  0.473695432  0.698805129  ...   \n",
       "\n",
       "        2014     2015     2016     2017     2018     2019     2020     2021  \\\n",
       "365  86.1937  87.5898  84.1652  84.3942  87.0371  88.1345  89.8129  91.4306   \n",
       "385     66.7  67.6004  68.5009  69.4825       ..       ..       ..       ..   \n",
       "990  51.0374   53.745  58.3477  64.6846  71.0428  73.9767  77.6696  81.4084   \n",
       "\n",
       "        2022     2023  \n",
       "365  91.6298  92.4764  \n",
       "385       ..       ..  \n",
       "990  83.4372  85.9607  \n",
       "\n",
       "[3 rows x 35 columns]"
      ]
     },
     "execution_count": 35,
     "metadata": {},
     "output_type": "execute_result"
    }
   ],
   "source": [
    "#Dropping the country_code,series_name,series_code columns\n",
    "cdf = cdf.drop(columns=['country_code', 'series_name', 'series_code'])\n",
    "cdf.head()"
   ]
  },
  {
   "cell_type": "code",
   "execution_count": 36,
   "id": "84777cd9",
   "metadata": {},
   "outputs": [],
   "source": [
    "#Setting the country_name column as the index\n",
    "cdf.set_index('country_name', inplace=True)"
   ]
  },
  {
   "cell_type": "code",
   "execution_count": 37,
   "id": "8f3fedc6",
   "metadata": {},
   "outputs": [
    {
     "data": {
      "text/html": [
       "<div>\n",
       "<style scoped>\n",
       "    .dataframe tbody tr th:only-of-type {\n",
       "        vertical-align: middle;\n",
       "    }\n",
       "\n",
       "    .dataframe tbody tr th {\n",
       "        vertical-align: top;\n",
       "    }\n",
       "\n",
       "    .dataframe thead th {\n",
       "        text-align: right;\n",
       "    }\n",
       "</style>\n",
       "<table border=\"1\" class=\"dataframe\">\n",
       "  <thead>\n",
       "    <tr style=\"text-align: right;\">\n",
       "      <th></th>\n",
       "      <th>1990</th>\n",
       "      <th>1991</th>\n",
       "      <th>1992</th>\n",
       "      <th>1993</th>\n",
       "      <th>1994</th>\n",
       "      <th>1995</th>\n",
       "      <th>1996</th>\n",
       "      <th>1997</th>\n",
       "      <th>1998</th>\n",
       "      <th>1999</th>\n",
       "      <th>...</th>\n",
       "      <th>2014</th>\n",
       "      <th>2015</th>\n",
       "      <th>2016</th>\n",
       "      <th>2017</th>\n",
       "      <th>2018</th>\n",
       "      <th>2019</th>\n",
       "      <th>2020</th>\n",
       "      <th>2021</th>\n",
       "      <th>2022</th>\n",
       "      <th>2023</th>\n",
       "    </tr>\n",
       "    <tr>\n",
       "      <th>country_name</th>\n",
       "      <th></th>\n",
       "      <th></th>\n",
       "      <th></th>\n",
       "      <th></th>\n",
       "      <th></th>\n",
       "      <th></th>\n",
       "      <th></th>\n",
       "      <th></th>\n",
       "      <th></th>\n",
       "      <th></th>\n",
       "      <th></th>\n",
       "      <th></th>\n",
       "      <th></th>\n",
       "      <th></th>\n",
       "      <th></th>\n",
       "      <th></th>\n",
       "      <th></th>\n",
       "      <th></th>\n",
       "      <th></th>\n",
       "      <th></th>\n",
       "      <th></th>\n",
       "    </tr>\n",
       "  </thead>\n",
       "  <tbody>\n",
       "    <tr>\n",
       "      <th>Germany</th>\n",
       "      <td>0.125892223</td>\n",
       "      <td>0.250274153</td>\n",
       "      <td>0.43528529</td>\n",
       "      <td>0.463635096</td>\n",
       "      <td>0.922541043</td>\n",
       "      <td>1.837737754</td>\n",
       "      <td>3.054805234</td>\n",
       "      <td>6.711087477</td>\n",
       "      <td>9.877852428</td>\n",
       "      <td>20.84598264</td>\n",
       "      <td>...</td>\n",
       "      <td>86.1937</td>\n",
       "      <td>87.5898</td>\n",
       "      <td>84.1652</td>\n",
       "      <td>84.3942</td>\n",
       "      <td>87.0371</td>\n",
       "      <td>88.1345</td>\n",
       "      <td>89.8129</td>\n",
       "      <td>91.4306</td>\n",
       "      <td>91.6298</td>\n",
       "      <td>92.4764</td>\n",
       "    </tr>\n",
       "    <tr>\n",
       "      <th>Greenland</th>\n",
       "      <td>0</td>\n",
       "      <td>0</td>\n",
       "      <td>0</td>\n",
       "      <td>0</td>\n",
       "      <td>0.064712121</td>\n",
       "      <td>0.053940342</td>\n",
       "      <td>1.796719191</td>\n",
       "      <td>7.954504682</td>\n",
       "      <td>14.65444717</td>\n",
       "      <td>21.60261331</td>\n",
       "      <td>...</td>\n",
       "      <td>66.7</td>\n",
       "      <td>67.6004</td>\n",
       "      <td>68.5009</td>\n",
       "      <td>69.4825</td>\n",
       "      <td>..</td>\n",
       "      <td>..</td>\n",
       "      <td>..</td>\n",
       "      <td>..</td>\n",
       "      <td>..</td>\n",
       "      <td>..</td>\n",
       "    </tr>\n",
       "    <tr>\n",
       "      <th>Turkiye</th>\n",
       "      <td>0</td>\n",
       "      <td>0</td>\n",
       "      <td>0</td>\n",
       "      <td>0.008457732</td>\n",
       "      <td>0.049869182</td>\n",
       "      <td>0.081691205</td>\n",
       "      <td>0.192724936</td>\n",
       "      <td>0.473695432</td>\n",
       "      <td>0.698805129</td>\n",
       "      <td>2.292117685</td>\n",
       "      <td>...</td>\n",
       "      <td>51.0374</td>\n",
       "      <td>53.745</td>\n",
       "      <td>58.3477</td>\n",
       "      <td>64.6846</td>\n",
       "      <td>71.0428</td>\n",
       "      <td>73.9767</td>\n",
       "      <td>77.6696</td>\n",
       "      <td>81.4084</td>\n",
       "      <td>83.4372</td>\n",
       "      <td>85.9607</td>\n",
       "    </tr>\n",
       "  </tbody>\n",
       "</table>\n",
       "<p>3 rows × 34 columns</p>\n",
       "</div>"
      ],
      "text/plain": [
       "                     1990         1991        1992         1993         1994  \\\n",
       "country_name                                                                   \n",
       "Germany       0.125892223  0.250274153  0.43528529  0.463635096  0.922541043   \n",
       "Greenland               0            0           0            0  0.064712121   \n",
       "Turkiye                 0            0           0  0.008457732  0.049869182   \n",
       "\n",
       "                     1995         1996         1997         1998         1999  \\\n",
       "country_name                                                                    \n",
       "Germany       1.837737754  3.054805234  6.711087477  9.877852428  20.84598264   \n",
       "Greenland     0.053940342  1.796719191  7.954504682  14.65444717  21.60261331   \n",
       "Turkiye       0.081691205  0.192724936  0.473695432  0.698805129  2.292117685   \n",
       "\n",
       "              ...     2014     2015     2016     2017     2018     2019  \\\n",
       "country_name  ...                                                         \n",
       "Germany       ...  86.1937  87.5898  84.1652  84.3942  87.0371  88.1345   \n",
       "Greenland     ...     66.7  67.6004  68.5009  69.4825       ..       ..   \n",
       "Turkiye       ...  51.0374   53.745  58.3477  64.6846  71.0428  73.9767   \n",
       "\n",
       "                 2020     2021     2022     2023  \n",
       "country_name                                      \n",
       "Germany       89.8129  91.4306  91.6298  92.4764  \n",
       "Greenland          ..       ..       ..       ..  \n",
       "Turkiye       77.6696  81.4084  83.4372  85.9607  \n",
       "\n",
       "[3 rows x 34 columns]"
      ]
     },
     "execution_count": 37,
     "metadata": {},
     "output_type": "execute_result"
    }
   ],
   "source": [
    "cdf"
   ]
  },
  {
   "cell_type": "code",
   "execution_count": 38,
   "id": "2a4754ac",
   "metadata": {},
   "outputs": [],
   "source": [
    "#Transposing the columns\n",
    "final_df = cdf.T"
   ]
  },
  {
   "cell_type": "code",
   "execution_count": 39,
   "id": "9a61d08b",
   "metadata": {},
   "outputs": [
    {
     "data": {
      "text/html": [
       "<div>\n",
       "<style scoped>\n",
       "    .dataframe tbody tr th:only-of-type {\n",
       "        vertical-align: middle;\n",
       "    }\n",
       "\n",
       "    .dataframe tbody tr th {\n",
       "        vertical-align: top;\n",
       "    }\n",
       "\n",
       "    .dataframe thead th {\n",
       "        text-align: right;\n",
       "    }\n",
       "</style>\n",
       "<table border=\"1\" class=\"dataframe\">\n",
       "  <thead>\n",
       "    <tr style=\"text-align: right;\">\n",
       "      <th>country_name</th>\n",
       "      <th>Germany</th>\n",
       "      <th>Greenland</th>\n",
       "      <th>Turkiye</th>\n",
       "    </tr>\n",
       "  </thead>\n",
       "  <tbody>\n",
       "    <tr>\n",
       "      <th>1990</th>\n",
       "      <td>0.125892223</td>\n",
       "      <td>0</td>\n",
       "      <td>0</td>\n",
       "    </tr>\n",
       "    <tr>\n",
       "      <th>1991</th>\n",
       "      <td>0.250274153</td>\n",
       "      <td>0</td>\n",
       "      <td>0</td>\n",
       "    </tr>\n",
       "    <tr>\n",
       "      <th>1992</th>\n",
       "      <td>0.43528529</td>\n",
       "      <td>0</td>\n",
       "      <td>0</td>\n",
       "    </tr>\n",
       "    <tr>\n",
       "      <th>1993</th>\n",
       "      <td>0.463635096</td>\n",
       "      <td>0</td>\n",
       "      <td>0.008457732</td>\n",
       "    </tr>\n",
       "    <tr>\n",
       "      <th>1994</th>\n",
       "      <td>0.922541043</td>\n",
       "      <td>0.064712121</td>\n",
       "      <td>0.049869182</td>\n",
       "    </tr>\n",
       "  </tbody>\n",
       "</table>\n",
       "</div>"
      ],
      "text/plain": [
       "country_name      Germany    Greenland      Turkiye\n",
       "1990          0.125892223            0            0\n",
       "1991          0.250274153            0            0\n",
       "1992           0.43528529            0            0\n",
       "1993          0.463635096            0  0.008457732\n",
       "1994          0.922541043  0.064712121  0.049869182"
      ]
     },
     "execution_count": 39,
     "metadata": {},
     "output_type": "execute_result"
    }
   ],
   "source": [
    "final_df.head()"
   ]
  },
  {
   "cell_type": "code",
   "execution_count": 40,
   "id": "5feb7cca",
   "metadata": {},
   "outputs": [],
   "source": [
    "#Alternate methods to transposing - pivot and melt"
   ]
  },
  {
   "cell_type": "code",
   "execution_count": 41,
   "id": "a91d3a4d",
   "metadata": {},
   "outputs": [],
   "source": [
    "selected_countries_internet_usage_over_time_df = final_df"
   ]
  },
  {
   "cell_type": "code",
   "execution_count": 45,
   "id": "621755b4",
   "metadata": {},
   "outputs": [],
   "source": [
    "selected_countries_internet_usage_over_time_df.to_csv('C:/Users/skyes/Documents/Projects/selected_countries_internet_usage_over_time.csv')"
   ]
  },
  {
   "cell_type": "code",
   "execution_count": 49,
   "id": "f32bdd63",
   "metadata": {},
   "outputs": [
    {
     "data": {
      "text/html": [
       "<div>\n",
       "<style scoped>\n",
       "    .dataframe tbody tr th:only-of-type {\n",
       "        vertical-align: middle;\n",
       "    }\n",
       "\n",
       "    .dataframe tbody tr th {\n",
       "        vertical-align: top;\n",
       "    }\n",
       "\n",
       "    .dataframe thead th {\n",
       "        text-align: right;\n",
       "    }\n",
       "</style>\n",
       "<table border=\"1\" class=\"dataframe\">\n",
       "  <thead>\n",
       "    <tr style=\"text-align: right;\">\n",
       "      <th></th>\n",
       "      <th>Unnamed: 0</th>\n",
       "      <th>Germany</th>\n",
       "      <th>Greenland</th>\n",
       "      <th>Turkiye</th>\n",
       "    </tr>\n",
       "  </thead>\n",
       "  <tbody>\n",
       "    <tr>\n",
       "      <th>0</th>\n",
       "      <td>1990</td>\n",
       "      <td>0.125892</td>\n",
       "      <td>0</td>\n",
       "      <td>0.000000</td>\n",
       "    </tr>\n",
       "    <tr>\n",
       "      <th>1</th>\n",
       "      <td>1991</td>\n",
       "      <td>0.250274</td>\n",
       "      <td>0</td>\n",
       "      <td>0.000000</td>\n",
       "    </tr>\n",
       "    <tr>\n",
       "      <th>2</th>\n",
       "      <td>1992</td>\n",
       "      <td>0.435285</td>\n",
       "      <td>0</td>\n",
       "      <td>0.000000</td>\n",
       "    </tr>\n",
       "    <tr>\n",
       "      <th>3</th>\n",
       "      <td>1993</td>\n",
       "      <td>0.463635</td>\n",
       "      <td>0</td>\n",
       "      <td>0.008458</td>\n",
       "    </tr>\n",
       "    <tr>\n",
       "      <th>4</th>\n",
       "      <td>1994</td>\n",
       "      <td>0.922541</td>\n",
       "      <td>0.064712121</td>\n",
       "      <td>0.049869</td>\n",
       "    </tr>\n",
       "  </tbody>\n",
       "</table>\n",
       "</div>"
      ],
      "text/plain": [
       "   Unnamed: 0   Germany    Greenland   Turkiye\n",
       "0        1990  0.125892            0  0.000000\n",
       "1        1991  0.250274            0  0.000000\n",
       "2        1992  0.435285            0  0.000000\n",
       "3        1993  0.463635            0  0.008458\n",
       "4        1994  0.922541  0.064712121  0.049869"
      ]
     },
     "execution_count": 49,
     "metadata": {},
     "output_type": "execute_result"
    }
   ],
   "source": [
    "final_df.head()"
   ]
  },
  {
   "cell_type": "code",
   "execution_count": 58,
   "id": "8cdf6307",
   "metadata": {},
   "outputs": [
    {
     "data": {
      "text/html": [
       "<div>\n",
       "<style scoped>\n",
       "    .dataframe tbody tr th:only-of-type {\n",
       "        vertical-align: middle;\n",
       "    }\n",
       "\n",
       "    .dataframe tbody tr th {\n",
       "        vertical-align: top;\n",
       "    }\n",
       "\n",
       "    .dataframe thead th {\n",
       "        text-align: right;\n",
       "    }\n",
       "</style>\n",
       "<table border=\"1\" class=\"dataframe\">\n",
       "  <thead>\n",
       "    <tr style=\"text-align: right;\">\n",
       "      <th></th>\n",
       "      <th>1990</th>\n",
       "      <th>1991</th>\n",
       "      <th>1992</th>\n",
       "      <th>1993</th>\n",
       "      <th>1994</th>\n",
       "      <th>1995</th>\n",
       "      <th>1996</th>\n",
       "      <th>1997</th>\n",
       "      <th>1998</th>\n",
       "      <th>1999</th>\n",
       "      <th>...</th>\n",
       "      <th>2014</th>\n",
       "      <th>2015</th>\n",
       "      <th>2016</th>\n",
       "      <th>2017</th>\n",
       "      <th>2018</th>\n",
       "      <th>2019</th>\n",
       "      <th>2020</th>\n",
       "      <th>2021</th>\n",
       "      <th>2022</th>\n",
       "      <th>2023</th>\n",
       "    </tr>\n",
       "    <tr>\n",
       "      <th>country_name</th>\n",
       "      <th></th>\n",
       "      <th></th>\n",
       "      <th></th>\n",
       "      <th></th>\n",
       "      <th></th>\n",
       "      <th></th>\n",
       "      <th></th>\n",
       "      <th></th>\n",
       "      <th></th>\n",
       "      <th></th>\n",
       "      <th></th>\n",
       "      <th></th>\n",
       "      <th></th>\n",
       "      <th></th>\n",
       "      <th></th>\n",
       "      <th></th>\n",
       "      <th></th>\n",
       "      <th></th>\n",
       "      <th></th>\n",
       "      <th></th>\n",
       "      <th></th>\n",
       "    </tr>\n",
       "  </thead>\n",
       "  <tbody>\n",
       "    <tr>\n",
       "      <th>Germany</th>\n",
       "      <td>0.125892223</td>\n",
       "      <td>0.250274153</td>\n",
       "      <td>0.43528529</td>\n",
       "      <td>0.463635096</td>\n",
       "      <td>0.922541043</td>\n",
       "      <td>1.837737754</td>\n",
       "      <td>3.054805234</td>\n",
       "      <td>6.711087477</td>\n",
       "      <td>9.877852428</td>\n",
       "      <td>20.84598264</td>\n",
       "      <td>...</td>\n",
       "      <td>86.1937</td>\n",
       "      <td>87.5898</td>\n",
       "      <td>84.1652</td>\n",
       "      <td>84.3942</td>\n",
       "      <td>87.0371</td>\n",
       "      <td>88.1345</td>\n",
       "      <td>89.8129</td>\n",
       "      <td>91.4306</td>\n",
       "      <td>91.6298</td>\n",
       "      <td>92.4764</td>\n",
       "    </tr>\n",
       "    <tr>\n",
       "      <th>Greenland</th>\n",
       "      <td>0</td>\n",
       "      <td>0</td>\n",
       "      <td>0</td>\n",
       "      <td>0</td>\n",
       "      <td>0.064712121</td>\n",
       "      <td>0.053940342</td>\n",
       "      <td>1.796719191</td>\n",
       "      <td>7.954504682</td>\n",
       "      <td>14.65444717</td>\n",
       "      <td>21.60261331</td>\n",
       "      <td>...</td>\n",
       "      <td>66.7</td>\n",
       "      <td>67.6004</td>\n",
       "      <td>68.5009</td>\n",
       "      <td>69.4825</td>\n",
       "      <td>..</td>\n",
       "      <td>..</td>\n",
       "      <td>..</td>\n",
       "      <td>..</td>\n",
       "      <td>..</td>\n",
       "      <td>..</td>\n",
       "    </tr>\n",
       "    <tr>\n",
       "      <th>Turkiye</th>\n",
       "      <td>0</td>\n",
       "      <td>0</td>\n",
       "      <td>0</td>\n",
       "      <td>0.008457732</td>\n",
       "      <td>0.049869182</td>\n",
       "      <td>0.081691205</td>\n",
       "      <td>0.192724936</td>\n",
       "      <td>0.473695432</td>\n",
       "      <td>0.698805129</td>\n",
       "      <td>2.292117685</td>\n",
       "      <td>...</td>\n",
       "      <td>51.0374</td>\n",
       "      <td>53.745</td>\n",
       "      <td>58.3477</td>\n",
       "      <td>64.6846</td>\n",
       "      <td>71.0428</td>\n",
       "      <td>73.9767</td>\n",
       "      <td>77.6696</td>\n",
       "      <td>81.4084</td>\n",
       "      <td>83.4372</td>\n",
       "      <td>85.9607</td>\n",
       "    </tr>\n",
       "  </tbody>\n",
       "</table>\n",
       "<p>3 rows × 34 columns</p>\n",
       "</div>"
      ],
      "text/plain": [
       "                     1990         1991        1992         1993         1994  \\\n",
       "country_name                                                                   \n",
       "Germany       0.125892223  0.250274153  0.43528529  0.463635096  0.922541043   \n",
       "Greenland               0            0           0            0  0.064712121   \n",
       "Turkiye                 0            0           0  0.008457732  0.049869182   \n",
       "\n",
       "                     1995         1996         1997         1998         1999  \\\n",
       "country_name                                                                    \n",
       "Germany       1.837737754  3.054805234  6.711087477  9.877852428  20.84598264   \n",
       "Greenland     0.053940342  1.796719191  7.954504682  14.65444717  21.60261331   \n",
       "Turkiye       0.081691205  0.192724936  0.473695432  0.698805129  2.292117685   \n",
       "\n",
       "              ...     2014     2015     2016     2017     2018     2019  \\\n",
       "country_name  ...                                                         \n",
       "Germany       ...  86.1937  87.5898  84.1652  84.3942  87.0371  88.1345   \n",
       "Greenland     ...     66.7  67.6004  68.5009  69.4825       ..       ..   \n",
       "Turkiye       ...  51.0374   53.745  58.3477  64.6846  71.0428  73.9767   \n",
       "\n",
       "                 2020     2021     2022     2023  \n",
       "country_name                                      \n",
       "Germany       89.8129  91.4306  91.6298  92.4764  \n",
       "Greenland          ..       ..       ..       ..  \n",
       "Turkiye       77.6696  81.4084  83.4372  85.9607  \n",
       "\n",
       "[3 rows x 34 columns]"
      ]
     },
     "execution_count": 58,
     "metadata": {},
     "output_type": "execute_result"
    }
   ],
   "source": [
    "cdf"
   ]
  },
  {
   "cell_type": "code",
   "execution_count": 59,
   "id": "94b42b63",
   "metadata": {},
   "outputs": [],
   "source": [
    "final_df = cdf.T"
   ]
  },
  {
   "cell_type": "code",
   "execution_count": 60,
   "id": "be7323b1",
   "metadata": {},
   "outputs": [
    {
     "data": {
      "text/html": [
       "<div>\n",
       "<style scoped>\n",
       "    .dataframe tbody tr th:only-of-type {\n",
       "        vertical-align: middle;\n",
       "    }\n",
       "\n",
       "    .dataframe tbody tr th {\n",
       "        vertical-align: top;\n",
       "    }\n",
       "\n",
       "    .dataframe thead th {\n",
       "        text-align: right;\n",
       "    }\n",
       "</style>\n",
       "<table border=\"1\" class=\"dataframe\">\n",
       "  <thead>\n",
       "    <tr style=\"text-align: right;\">\n",
       "      <th>country_name</th>\n",
       "      <th>Germany</th>\n",
       "      <th>Greenland</th>\n",
       "      <th>Turkiye</th>\n",
       "    </tr>\n",
       "  </thead>\n",
       "  <tbody>\n",
       "    <tr>\n",
       "      <th>1990</th>\n",
       "      <td>0.125892223</td>\n",
       "      <td>0</td>\n",
       "      <td>0</td>\n",
       "    </tr>\n",
       "    <tr>\n",
       "      <th>1991</th>\n",
       "      <td>0.250274153</td>\n",
       "      <td>0</td>\n",
       "      <td>0</td>\n",
       "    </tr>\n",
       "    <tr>\n",
       "      <th>1992</th>\n",
       "      <td>0.43528529</td>\n",
       "      <td>0</td>\n",
       "      <td>0</td>\n",
       "    </tr>\n",
       "    <tr>\n",
       "      <th>1993</th>\n",
       "      <td>0.463635096</td>\n",
       "      <td>0</td>\n",
       "      <td>0.008457732</td>\n",
       "    </tr>\n",
       "    <tr>\n",
       "      <th>1994</th>\n",
       "      <td>0.922541043</td>\n",
       "      <td>0.064712121</td>\n",
       "      <td>0.049869182</td>\n",
       "    </tr>\n",
       "  </tbody>\n",
       "</table>\n",
       "</div>"
      ],
      "text/plain": [
       "country_name      Germany    Greenland      Turkiye\n",
       "1990          0.125892223            0            0\n",
       "1991          0.250274153            0            0\n",
       "1992           0.43528529            0            0\n",
       "1993          0.463635096            0  0.008457732\n",
       "1994          0.922541043  0.064712121  0.049869182"
      ]
     },
     "execution_count": 60,
     "metadata": {},
     "output_type": "execute_result"
    }
   ],
   "source": [
    "final_df.head()"
   ]
  },
  {
   "cell_type": "code",
   "execution_count": 61,
   "id": "f162ab17",
   "metadata": {},
   "outputs": [],
   "source": [
    "df_new = final_df"
   ]
  },
  {
   "cell_type": "code",
   "execution_count": 62,
   "id": "82a6a8d5",
   "metadata": {},
   "outputs": [
    {
     "data": {
      "text/html": [
       "<div>\n",
       "<style scoped>\n",
       "    .dataframe tbody tr th:only-of-type {\n",
       "        vertical-align: middle;\n",
       "    }\n",
       "\n",
       "    .dataframe tbody tr th {\n",
       "        vertical-align: top;\n",
       "    }\n",
       "\n",
       "    .dataframe thead th {\n",
       "        text-align: right;\n",
       "    }\n",
       "</style>\n",
       "<table border=\"1\" class=\"dataframe\">\n",
       "  <thead>\n",
       "    <tr style=\"text-align: right;\">\n",
       "      <th>country_name</th>\n",
       "      <th>Germany</th>\n",
       "      <th>Greenland</th>\n",
       "      <th>Turkiye</th>\n",
       "    </tr>\n",
       "  </thead>\n",
       "  <tbody>\n",
       "    <tr>\n",
       "      <th>1990</th>\n",
       "      <td>0.125892223</td>\n",
       "      <td>0</td>\n",
       "      <td>0</td>\n",
       "    </tr>\n",
       "    <tr>\n",
       "      <th>1991</th>\n",
       "      <td>0.250274153</td>\n",
       "      <td>0</td>\n",
       "      <td>0</td>\n",
       "    </tr>\n",
       "    <tr>\n",
       "      <th>1992</th>\n",
       "      <td>0.43528529</td>\n",
       "      <td>0</td>\n",
       "      <td>0</td>\n",
       "    </tr>\n",
       "    <tr>\n",
       "      <th>1993</th>\n",
       "      <td>0.463635096</td>\n",
       "      <td>0</td>\n",
       "      <td>0.008457732</td>\n",
       "    </tr>\n",
       "    <tr>\n",
       "      <th>1994</th>\n",
       "      <td>0.922541043</td>\n",
       "      <td>0.064712121</td>\n",
       "      <td>0.049869182</td>\n",
       "    </tr>\n",
       "  </tbody>\n",
       "</table>\n",
       "</div>"
      ],
      "text/plain": [
       "country_name      Germany    Greenland      Turkiye\n",
       "1990          0.125892223            0            0\n",
       "1991          0.250274153            0            0\n",
       "1992           0.43528529            0            0\n",
       "1993          0.463635096            0  0.008457732\n",
       "1994          0.922541043  0.064712121  0.049869182"
      ]
     },
     "execution_count": 62,
     "metadata": {},
     "output_type": "execute_result"
    }
   ],
   "source": [
    "#Using the much smaller data as a new dataframe\n",
    "df_new.head()"
   ]
  },
  {
   "cell_type": "code",
   "execution_count": 44,
   "id": "68b32a7a",
   "metadata": {},
   "outputs": [],
   "source": [
    "import matplotlib.pyplot as plt"
   ]
  },
  {
   "cell_type": "code",
   "execution_count": 63,
   "id": "f7c8edf6",
   "metadata": {},
   "outputs": [
    {
     "data": {
      "image/png": "[encoded data removed]",
      "text/plain": [
       "<Figure size 640x480 with 1 Axes>"
      ]
     },
     "metadata": {},
     "output_type": "display_data"
    }
   ],
   "source": [
    "plt.plot(df_new.index, df_new['Greenland'])\n",
    "plt.show()"
   ]
  },
  {
   "cell_type": "code",
   "execution_count": 64,
   "id": "0afd0c6f",
   "metadata": {},
   "outputs": [
    {
     "name": "stderr",
     "output_type": "stream",
     "text": [
      "C:\\Users\\skyes\\anaconda3\\Lib\\site-packages\\plotly\\express\\imshow_utils.py:24: DeprecationWarning: `np.bool8` is a deprecated alias for `np.bool_`.  (Deprecated NumPy 1.24)\n",
      "  np.bool8: (False, True),\n"
     ]
    }
   ],
   "source": [
    "import plotly.express as px"
   ]
  },
  {
   "cell_type": "code",
   "execution_count": 73,
   "id": "1fba2e9f",
   "metadata": {},
   "outputs": [
    {
     "name": "stderr",
     "output_type": "stream",
     "text": [
      "C:\\Users\\skyes\\anaconda3\\Lib\\site-packages\\plotly\\io\\_renderers.py:395: DeprecationWarning:\n",
      "\n",
      "distutils Version classes are deprecated. Use packaging.version instead.\n",
      "\n",
      "C:\\Users\\skyes\\anaconda3\\Lib\\site-packages\\plotly\\io\\_renderers.py:395: DeprecationWarning:\n",
      "\n",
      "distutils Version classes are deprecated. Use packaging.version instead.\n",
      "\n"
     ]
    },
    {
     "data": {
      "application/vnd.plotly.v1+json": {
       "config": {
        "plotlyServerURL": "https://plot.ly"
       },
       "data": [
        {
         "hovertemplate": "variable=Greenland<br>index=%{x}<br>value=%{y}<extra></extra>",
         "legendgroup": "Greenland",
         "line": {
          "color": "#636efa",
          "dash": "solid"
         },
         "marker": {
          "symbol": "circle"
         },
         "mode": "lines",
         "name": "Greenland",
         "orientation": "v",
         "showlegend": true,
         "type": "scatter",
         "x": [
          "1990",
          "1991",
          "1992",
          "1993",
          "1994",
          "1995",
          "1996",
          "1997",
          "1998",
          "1999",
          "2000",
          "2001",
          "2002",
          "2003",
          "2004",
          "2005",
          "2006",
          "2007",
          "2008",
          "2009",
          "2010",
          "2011",
          "2012",
          "2013",
          "2014",
          "2015",
          "2016",
          "2017",
          "2018",
          "2019",
          "2020",
          "2021",
          "2022",
          "2023"
         ],
         "xaxis": "x",
         "y": [
          "0",
          "0",
          "0",
          "0",
          "0.064712121",
          "0.053940342",
          "1.796719191",
          "7.954504682",
          "14.65444717",
          "21.60261331",
          "31.7478",
          "35.4641",
          "44.1548",
          "54.5343",
          "56.099",
          "57.7034",
          "59.3617",
          "61.07",
          "62.82",
          "62.83",
          "63",
          "64",
          "64.896",
          "65.8",
          "66.7",
          "67.6004",
          "68.5009",
          "69.4825",
          "..",
          "..",
          "..",
          "..",
          "..",
          ".."
         ],
         "yaxis": "y"
        },
        {
         "hovertemplate": "variable=Germany<br>index=%{x}<br>value=%{y}<extra></extra>",
         "legendgroup": "Germany",
         "line": {
          "color": "#EF553B",
          "dash": "solid"
         },
         "marker": {
          "symbol": "circle"
         },
         "mode": "lines",
         "name": "Germany",
         "orientation": "v",
         "showlegend": true,
         "type": "scatter",
         "x": [
          "1990",
          "1991",
          "1992",
          "1993",
          "1994",
          "1995",
          "1996",
          "1997",
          "1998",
          "1999",
          "2000",
          "2001",
          "2002",
          "2003",
          "2004",
          "2005",
          "2006",
          "2007",
          "2008",
          "2009",
          "2010",
          "2011",
          "2012",
          "2013",
          "2014",
          "2015",
          "2016",
          "2017",
          "2018",
          "2019",
          "2020",
          "2021",
          "2022",
          "2023"
         ],
         "xaxis": "x",
         "y": [
          "0.125892223",
          "0.250274153",
          "0.43528529",
          "0.463635096",
          "0.922541043",
          "1.837737754",
          "3.054805234",
          "6.711087477",
          "9.877852428",
          "20.84598264",
          "30.2163",
          "31.6509",
          "48.82",
          "55.9",
          "64.73",
          "68.71",
          "72.16",
          "75.16",
          "78",
          "79",
          "82",
          "81.27",
          "82.35",
          "84.17",
          "86.1937",
          "87.5898",
          "84.1652",
          "84.3942",
          "87.0371",
          "88.1345",
          "89.8129",
          "91.4306",
          "91.6298",
          "92.4764"
         ],
         "yaxis": "y"
        },
        {
         "hovertemplate": "variable=Turkiye<br>index=%{x}<br>value=%{y}<extra></extra>",
         "legendgroup": "Turkiye",
         "line": {
          "color": "#00cc96",
          "dash": "solid"
         },
         "marker": {
          "symbol": "circle"
         },
         "mode": "lines",
         "name": "Turkiye",
         "orientation": "v",
         "showlegend": true,
         "type": "scatter",
         "x": [
          "1990",
          "1991",
          "1992",
          "1993",
          "1994",
          "1995",
          "1996",
          "1997",
          "1998",
          "1999",
          "2000",
          "2001",
          "2002",
          "2003",
          "2004",
          "2005",
          "2006",
          "2007",
          "2008",
          "2009",
          "2010",
          "2011",
          "2012",
          "2013",
          "2014",
          "2015",
          "2016",
          "2017",
          "2018",
          "2019",
          "2020",
          "2021",
          "2022",
          "2023"
         ],
         "xaxis": "x",
         "y": [
          "0",
          "0",
          "0",
          "0.008457732",
          "0.049869182",
          "0.081691205",
          "0.192724936",
          "0.473695432",
          "0.698805129",
          "2.292117685",
          "3.76169",
          "5.18948",
          "11.38",
          "12.33",
          "14.58",
          "15.46",
          "18.24",
          "28.63",
          "34.37",
          "36.4",
          "39.82",
          "43.0657",
          "45.13",
          "46.25",
          "51.0374",
          "53.745",
          "58.3477",
          "64.6846",
          "71.0428",
          "73.9767",
          "77.6696",
          "81.4084",
          "83.4372",
          "85.9607"
         ],
         "yaxis": "y"
        }
       ],
       "layout": {
        "legend": {
         "title": {
          "text": "variable"
         },
         "tracegroupgap": 0
        },
        "template": {
         "data": {
          "bar": [
           {
            "error_x": {
             "color": "#2a3f5f"
            },
            "error_y": {
             "color": "#2a3f5f"
            },
            "marker": {
             "line": {
              "color": "#E5ECF6",
              "width": 0.5
             },
             "pattern": {
              "fillmode": "overlay",
              "size": 10,
              "solidity": 0.2
             }
            },
            "type": "bar"
           }
          ],
          "barpolar": [
           {
            "marker": {
             "line": {
              "color": "#E5ECF6",
              "width": 0.5
             },
             "pattern": {
              "fillmode": "overlay",
              "size": 10,
              "solidity": 0.2
             }
            },
            "type": "barpolar"
           }
          ],
          "carpet": [
           {
            "aaxis": {
             "endlinecolor": "#2a3f5f",
             "gridcolor": "white",
             "linecolor": "white",
             "minorgridcolor": "white",
             "startlinecolor": "#2a3f5f"
            },
            "baxis": {
             "endlinecolor": "#2a3f5f",
             "gridcolor": "white",
             "linecolor": "white",
             "minorgridcolor": "white",
             "startlinecolor": "#2a3f5f"
            },
            "type": "carpet"
           }
          ],
          "choropleth": [
           {
            "colorbar": {
             "outlinewidth": 0,
             "ticks": ""
            },
            "type": "choropleth"
           }
          ],
          "contour": [
           {
            "colorbar": {
             "outlinewidth": 0,
             "ticks": ""
            },
            "colorscale": [
             [
              0,
              "#0d0887"
             ],
             [
              0.1111111111111111,
              "#46039f"
             ],
             [
              0.2222222222222222,
              "#7201a8"
             ],
             [
              0.3333333333333333,
              "#9c179e"
             ],
             [
              0.4444444444444444,
              "#bd3786"
             ],
             [
              0.5555555555555556,
              "#d8576b"
             ],
             [
              0.6666666666666666,
              "#ed7953"
             ],
             [
              0.7777777777777778,
              "#fb9f3a"
             ],
             [
              0.8888888888888888,
              "#fdca26"
             ],
             [
              1,
              "#f0f921"
             ]
            ],
            "type": "contour"
           }
          ],
          "contourcarpet": [
           {
            "colorbar": {
             "outlinewidth": 0,
             "ticks": ""
            },
            "type": "contourcarpet"
           }
          ],
          "heatmap": [
           {
            "colorbar": {
             "outlinewidth": 0,
             "ticks": ""
            },
            "colorscale": [
             [
              0,
              "#0d0887"
             ],
             [
              0.1111111111111111,
              "#46039f"
             ],
             [
              0.2222222222222222,
              "#7201a8"
             ],
             [
              0.3333333333333333,
              "#9c179e"
             ],
             [
              0.4444444444444444,
              "#bd3786"
             ],
             [
              0.5555555555555556,
              "#d8576b"
             ],
             [
              0.6666666666666666,
              "#ed7953"
             ],
             [
              0.7777777777777778,
              "#fb9f3a"
             ],
             [
              0.8888888888888888,
              "#fdca26"
             ],
             [
              1,
              "#f0f921"
             ]
            ],
            "type": "heatmap"
           }
          ],
          "heatmapgl": [
           {
            "colorbar": {
             "outlinewidth": 0,
             "ticks": ""
            },
            "colorscale": [
             [
              0,
              "#0d0887"
             ],
             [
              0.1111111111111111,
              "#46039f"
             ],
             [
              0.2222222222222222,
              "#7201a8"
             ],
             [
              0.3333333333333333,
              "#9c179e"
             ],
             [
              0.4444444444444444,
              "#bd3786"
             ],
             [
              0.5555555555555556,
              "#d8576b"
             ],
             [
              0.6666666666666666,
              "#ed7953"
             ],
             [
              0.7777777777777778,
              "#fb9f3a"
             ],
             [
              0.8888888888888888,
              "#fdca26"
             ],
             [
              1,
              "#f0f921"
             ]
            ],
            "type": "heatmapgl"
           }
          ],
          "histogram": [
           {
            "marker": {
             "pattern": {
              "fillmode": "overlay",
              "size": 10,
              "solidity": 0.2
             }
            },
            "type": "histogram"
           }
          ],
          "histogram2d": [
           {
            "colorbar": {
             "outlinewidth": 0,
             "ticks": ""
            },
            "colorscale": [
             [
              0,
              "#0d0887"
             ],
             [
              0.1111111111111111,
              "#46039f"
             ],
             [
              0.2222222222222222,
              "#7201a8"
             ],
             [
              0.3333333333333333,
              "#9c179e"
             ],
             [
              0.4444444444444444,
              "#bd3786"
             ],
             [
              0.5555555555555556,
              "#d8576b"
             ],
             [
              0.6666666666666666,
              "#ed7953"
             ],
             [
              0.7777777777777778,
              "#fb9f3a"
             ],
             [
              0.8888888888888888,
              "#fdca26"
             ],
             [
              1,
              "#f0f921"
             ]
            ],
            "type": "histogram2d"
           }
          ],
          "histogram2dcontour": [
           {
            "colorbar": {
             "outlinewidth": 0,
             "ticks": ""
            },
            "colorscale": [
             [
              0,
              "#0d0887"
             ],
             [
              0.1111111111111111,
              "#46039f"
             ],
             [
              0.2222222222222222,
              "#7201a8"
             ],
             [
              0.3333333333333333,
              "#9c179e"
             ],
             [
              0.4444444444444444,
              "#bd3786"
             ],
             [
              0.5555555555555556,
              "#d8576b"
             ],
             [
              0.6666666666666666,
              "#ed7953"
             ],
             [
              0.7777777777777778,
              "#fb9f3a"
             ],
             [
              0.8888888888888888,
              "#fdca26"
             ],
             [
              1,
              "#f0f921"
             ]
            ],
            "type": "histogram2dcontour"
           }
          ],
          "mesh3d": [
           {
            "colorbar": {
             "outlinewidth": 0,
             "ticks": ""
            },
            "type": "mesh3d"
           }
          ],
          "parcoords": [
           {
            "line": {
             "colorbar": {
              "outlinewidth": 0,
              "ticks": ""
             }
            },
            "type": "parcoords"
           }
          ],
          "pie": [
           {
            "automargin": true,
            "type": "pie"
           }
          ],
          "scatter": [
           {
            "fillpattern": {
             "fillmode": "overlay",
             "size": 10,
             "solidity": 0.2
            },
            "type": "scatter"
           }
          ],
          "scatter3d": [
           {
            "line": {
             "colorbar": {
              "outlinewidth": 0,
              "ticks": ""
             }
            },
            "marker": {
             "colorbar": {
              "outlinewidth": 0,
              "ticks": ""
             }
            },
            "type": "scatter3d"
           }
          ],
          "scattercarpet": [
           {
            "marker": {
             "colorbar": {
              "outlinewidth": 0,
              "ticks": ""
             }
            },
            "type": "scattercarpet"
           }
          ],
          "scattergeo": [
           {
            "marker": {
             "colorbar": {
              "outlinewidth": 0,
              "ticks": ""
             }
            },
            "type": "scattergeo"
           }
          ],
          "scattergl": [
           {
            "marker": {
             "colorbar": {
              "outlinewidth": 0,
              "ticks": ""
             }
            },
            "type": "scattergl"
           }
          ],
          "scattermapbox": [
           {
            "marker": {
             "colorbar": {
              "outlinewidth": 0,
              "ticks": ""
             }
            },
            "type": "scattermapbox"
           }
          ],
          "scatterpolar": [
           {
            "marker": {
             "colorbar": {
              "outlinewidth": 0,
              "ticks": ""
             }
            },
            "type": "scatterpolar"
           }
          ],
          "scatterpolargl": [
           {
            "marker": {
             "colorbar": {
              "outlinewidth": 0,
              "ticks": ""
             }
            },
            "type": "scatterpolargl"
           }
          ],
          "scatterternary": [
           {
            "marker": {
             "colorbar": {
              "outlinewidth": 0,
              "ticks": ""
             }
            },
            "type": "scatterternary"
           }
          ],
          "surface": [
           {
            "colorbar": {
             "outlinewidth": 0,
             "ticks": ""
            },
            "colorscale": [
             [
              0,
              "#0d0887"
             ],
             [
              0.1111111111111111,
              "#46039f"
             ],
             [
              0.2222222222222222,
              "#7201a8"
             ],
             [
              0.3333333333333333,
              "#9c179e"
             ],
             [
              0.4444444444444444,
              "#bd3786"
             ],
             [
              0.5555555555555556,
              "#d8576b"
             ],
             [
              0.6666666666666666,
              "#ed7953"
             ],
             [
              0.7777777777777778,
              "#fb9f3a"
             ],
             [
              0.8888888888888888,
              "#fdca26"
             ],
             [
              1,
              "#f0f921"
             ]
            ],
            "type": "surface"
           }
          ],
          "table": [
           {
            "cells": {
             "fill": {
              "color": "#EBF0F8"
             },
             "line": {
              "color": "white"
             }
            },
            "header": {
             "fill": {
              "color": "#C8D4E3"
             },
             "line": {
              "color": "white"
             }
            },
            "type": "table"
           }
          ]
         },
         "layout": {
          "annotationdefaults": {
           "arrowcolor": "#2a3f5f",
           "arrowhead": 0,
           "arrowwidth": 1
          },
          "autotypenumbers": "strict",
          "coloraxis": {
           "colorbar": {
            "outlinewidth": 0,
            "ticks": ""
           }
          },
          "colorscale": {
           "diverging": [
            [
             0,
             "#8e0152"
            ],
            [
             0.1,
             "#c51b7d"
            ],
            [
             0.2,
             "#de77ae"
            ],
            [
             0.3,
             "#f1b6da"
            ],
            [
             0.4,
             "#fde0ef"
            ],
            [
             0.5,
             "#f7f7f7"
            ],
            [
             0.6,
             "#e6f5d0"
            ],
            [
             0.7,
             "#b8e186"
            ],
            [
             0.8,
             "#7fbc41"
            ],
            [
             0.9,
             "#4d9221"
            ],
            [
             1,
             "#276419"
            ]
           ],
           "sequential": [
            [
             0,
             "#0d0887"
            ],
            [
             0.1111111111111111,
             "#46039f"
            ],
            [
             0.2222222222222222,
             "#7201a8"
            ],
            [
             0.3333333333333333,
             "#9c179e"
            ],
            [
             0.4444444444444444,
             "#bd3786"
            ],
            [
             0.5555555555555556,
             "#d8576b"
            ],
            [
             0.6666666666666666,
             "#ed7953"
            ],
            [
             0.7777777777777778,
             "#fb9f3a"
            ],
            [
             0.8888888888888888,
             "#fdca26"
            ],
            [
             1,
             "#f0f921"
            ]
           ],
           "sequentialminus": [
            [
             0,
             "#0d0887"
            ],
            [
             0.1111111111111111,
             "#46039f"
            ],
            [
             0.2222222222222222,
             "#7201a8"
            ],
            [
             0.3333333333333333,
             "#9c179e"
            ],
            [
             0.4444444444444444,
             "#bd3786"
            ],
            [
             0.5555555555555556,
             "#d8576b"
            ],
            [
             0.6666666666666666,
             "#ed7953"
            ],
            [
             0.7777777777777778,
             "#fb9f3a"
            ],
            [
             0.8888888888888888,
             "#fdca26"
            ],
            [
             1,
             "#f0f921"
            ]
           ]
          },
          "colorway": [
           "#636efa",
           "#EF553B",
           "#00cc96",
           "#ab63fa",
           "#FFA15A",
           "#19d3f3",
           "#FF6692",
           "#B6E880",
           "#FF97FF",
           "#FECB52"
          ],
          "font": {
           "color": "#2a3f5f"
          },
          "geo": {
           "bgcolor": "white",
           "lakecolor": "white",
           "landcolor": "#E5ECF6",
           "showlakes": true,
           "showland": true,
           "subunitcolor": "white"
          },
          "hoverlabel": {
           "align": "left"
          },
          "hovermode": "closest",
          "mapbox": {
           "style": "light"
          },
          "paper_bgcolor": "white",
          "plot_bgcolor": "#E5ECF6",
          "polar": {
           "angularaxis": {
            "gridcolor": "white",
            "linecolor": "white",
            "ticks": ""
           },
           "bgcolor": "#E5ECF6",
           "radialaxis": {
            "gridcolor": "white",
            "linecolor": "white",
            "ticks": ""
           }
          },
          "scene": {
           "xaxis": {
            "backgroundcolor": "#E5ECF6",
            "gridcolor": "white",
            "gridwidth": 2,
            "linecolor": "white",
            "showbackground": true,
            "ticks": "",
            "zerolinecolor": "white"
           },
           "yaxis": {
            "backgroundcolor": "#E5ECF6",
            "gridcolor": "white",
            "gridwidth": 2,
            "linecolor": "white",
            "showbackground": true,
            "ticks": "",
            "zerolinecolor": "white"
           },
           "zaxis": {
            "backgroundcolor": "#E5ECF6",
            "gridcolor": "white",
            "gridwidth": 2,
            "linecolor": "white",
            "showbackground": true,
            "ticks": "",
            "zerolinecolor": "white"
           }
          },
          "shapedefaults": {
           "line": {
            "color": "#2a3f5f"
           }
          },
          "ternary": {
           "aaxis": {
            "gridcolor": "white",
            "linecolor": "white",
            "ticks": ""
           },
           "baxis": {
            "gridcolor": "white",
            "linecolor": "white",
            "ticks": ""
           },
           "bgcolor": "#E5ECF6",
           "caxis": {
            "gridcolor": "white",
            "linecolor": "white",
            "ticks": ""
           }
          },
          "title": {
           "x": 0.05
          },
          "xaxis": {
           "automargin": true,
           "gridcolor": "white",
           "linecolor": "white",
           "ticks": "",
           "title": {
            "standoff": 15
           },
           "zerolinecolor": "white",
           "zerolinewidth": 2
          },
          "yaxis": {
           "automargin": true,
           "gridcolor": "white",
           "linecolor": "white",
           "ticks": "",
           "title": {
            "standoff": 15
           },
           "zerolinecolor": "white",
           "zerolinewidth": 2
          }
         }
        },
        "title": {
         "text": "Internet Usage Over Time"
        },
        "xaxis": {
         "anchor": "y",
         "domain": [
          0,
          1
         ],
         "title": {
          "text": "index"
         }
        },
        "yaxis": {
         "anchor": "x",
         "domain": [
          0,
          1
         ],
         "title": {
          "text": "value"
         }
        }
       }
      },
      "text/html": [
       "<div>                            <div id=\"1a532ebb-b765-4dc0-a530-17dc54f51132\" class=\"plotly-graph-div\" style=\"height:525px; width:100%;\"></div>            <script type=\"text/javascript\">                require([\"plotly\"], function(Plotly) {                    window.PLOTLYENV=window.PLOTLYENV || {};                                    if (document.getElementById(\"1a532ebb-b765-4dc0-a530-17dc54f51132\")) {                    Plotly.newPlot(                        \"1a532ebb-b765-4dc0-a530-17dc54f51132\",                        [{\"hovertemplate\":\"variable=Greenland<br>index=%{x}<br>value=%{y}<extra></extra>\",\"legendgroup\":\"Greenland\",\"line\":{\"color\":\"#636efa\",\"dash\":\"solid\"},\"marker\":{\"symbol\":\"circle\"},\"mode\":\"lines\",\"name\":\"Greenland\",\"orientation\":\"v\",\"showlegend\":true,\"x\":[\"1990\",\"1991\",\"1992\",\"1993\",\"1994\",\"1995\",\"1996\",\"1997\",\"1998\",\"1999\",\"2000\",\"2001\",\"2002\",\"2003\",\"2004\",\"2005\",\"2006\",\"2007\",\"2008\",\"2009\",\"2010\",\"2011\",\"2012\",\"2013\",\"2014\",\"2015\",\"2016\",\"2017\",\"2018\",\"2019\",\"2020\",\"2021\",\"2022\",\"2023\"],\"xaxis\":\"x\",\"y\":[\"0\",\"0\",\"0\",\"0\",\"0.064712121\",\"0.053940342\",\"1.796719191\",\"7.954504682\",\"14.65444717\",\"21.60261331\",\"31.7478\",\"35.4641\",\"44.1548\",\"54.5343\",\"56.099\",\"57.7034\",\"59.3617\",\"61.07\",\"62.82\",\"62.83\",\"63\",\"64\",\"64.896\",\"65.8\",\"66.7\",\"67.6004\",\"68.5009\",\"69.4825\",\"..\",\"..\",\"..\",\"..\",\"..\",\"..\"],\"yaxis\":\"y\",\"type\":\"scatter\"},{\"hovertemplate\":\"variable=Germany<br>index=%{x}<br>value=%{y}<extra></extra>\",\"legendgroup\":\"Germany\",\"line\":{\"color\":\"#EF553B\",\"dash\":\"solid\"},\"marker\":{\"symbol\":\"circle\"},\"mode\":\"lines\",\"name\":\"Germany\",\"orientation\":\"v\",\"showlegend\":true,\"x\":[\"1990\",\"1991\",\"1992\",\"1993\",\"1994\",\"1995\",\"1996\",\"1997\",\"1998\",\"1999\",\"2000\",\"2001\",\"2002\",\"2003\",\"2004\",\"2005\",\"2006\",\"2007\",\"2008\",\"2009\",\"2010\",\"2011\",\"2012\",\"2013\",\"2014\",\"2015\",\"2016\",\"2017\",\"2018\",\"2019\",\"2020\",\"2021\",\"2022\",\"2023\"],\"xaxis\":\"x\",\"y\":[\"0.125892223\",\"0.250274153\",\"0.43528529\",\"0.463635096\",\"0.922541043\",\"1.837737754\",\"3.054805234\",\"6.711087477\",\"9.877852428\",\"20.84598264\",\"30.2163\",\"31.6509\",\"48.82\",\"55.9\",\"64.73\",\"68.71\",\"72.16\",\"75.16\",\"78\",\"79\",\"82\",\"81.27\",\"82.35\",\"84.17\",\"86.1937\",\"87.5898\",\"84.1652\",\"84.3942\",\"87.0371\",\"88.1345\",\"89.8129\",\"91.4306\",\"91.6298\",\"92.4764\"],\"yaxis\":\"y\",\"type\":\"scatter\"},{\"hovertemplate\":\"variable=Turkiye<br>index=%{x}<br>value=%{y}<extra></extra>\",\"legendgroup\":\"Turkiye\",\"line\":{\"color\":\"#00cc96\",\"dash\":\"solid\"},\"marker\":{\"symbol\":\"circle\"},\"mode\":\"lines\",\"name\":\"Turkiye\",\"orientation\":\"v\",\"showlegend\":true,\"x\":[\"1990\",\"1991\",\"1992\",\"1993\",\"1994\",\"1995\",\"1996\",\"1997\",\"1998\",\"1999\",\"2000\",\"2001\",\"2002\",\"2003\",\"2004\",\"2005\",\"2006\",\"2007\",\"2008\",\"2009\",\"2010\",\"2011\",\"2012\",\"2013\",\"2014\",\"2015\",\"2016\",\"2017\",\"2018\",\"2019\",\"2020\",\"2021\",\"2022\",\"2023\"],\"xaxis\":\"x\",\"y\":[\"0\",\"0\",\"0\",\"0.008457732\",\"0.049869182\",\"0.081691205\",\"0.192724936\",\"0.473695432\",\"0.698805129\",\"2.292117685\",\"3.76169\",\"5.18948\",\"11.38\",\"12.33\",\"14.58\",\"15.46\",\"18.24\",\"28.63\",\"34.37\",\"36.4\",\"39.82\",\"43.0657\",\"45.13\",\"46.25\",\"51.0374\",\"53.745\",\"58.3477\",\"64.6846\",\"71.0428\",\"73.9767\",\"77.6696\",\"81.4084\",\"83.4372\",\"85.9607\"],\"yaxis\":\"y\",\"type\":\"scatter\"}],                        {\"template\":{\"data\":{\"histogram2dcontour\":[{\"type\":\"histogram2dcontour\",\"colorbar\":{\"outlinewidth\":0,\"ticks\":\"\"},\"colorscale\":[[0.0,\"#0d0887\"],[0.1111111111111111,\"#46039f\"],[0.2222222222222222,\"#7201a8\"],[0.3333333333333333,\"#9c179e\"],[0.4444444444444444,\"#bd3786\"],[0.5555555555555556,\"#d8576b\"],[0.6666666666666666,\"#ed7953\"],[0.7777777777777778,\"#fb9f3a\"],[0.8888888888888888,\"#fdca26\"],[1.0,\"#f0f921\"]]}],\"choropleth\":[{\"type\":\"choropleth\",\"colorbar\":{\"outlinewidth\":0,\"ticks\":\"\"}}],\"histogram2d\":[{\"type\":\"histogram2d\",\"colorbar\":{\"outlinewidth\":0,\"ticks\":\"\"},\"colorscale\":[[0.0,\"#0d0887\"],[0.1111111111111111,\"#46039f\"],[0.2222222222222222,\"#7201a8\"],[0.3333333333333333,\"#9c179e\"],[0.4444444444444444,\"#bd3786\"],[0.5555555555555556,\"#d8576b\"],[0.6666666666666666,\"#ed7953\"],[0.7777777777777778,\"#fb9f3a\"],[0.8888888888888888,\"#fdca26\"],[1.0,\"#f0f921\"]]}],\"heatmap\":[{\"type\":\"heatmap\",\"colorbar\":{\"outlinewidth\":0,\"ticks\":\"\"},\"colorscale\":[[0.0,\"#0d0887\"],[0.1111111111111111,\"#46039f\"],[0.2222222222222222,\"#7201a8\"],[0.3333333333333333,\"#9c179e\"],[0.4444444444444444,\"#bd3786\"],[0.5555555555555556,\"#d8576b\"],[0.6666666666666666,\"#ed7953\"],[0.7777777777777778,\"#fb9f3a\"],[0.8888888888888888,\"#fdca26\"],[1.0,\"#f0f921\"]]}],\"heatmapgl\":[{\"type\":\"heatmapgl\",\"colorbar\":{\"outlinewidth\":0,\"ticks\":\"\"},\"colorscale\":[[0.0,\"#0d0887\"],[0.1111111111111111,\"#46039f\"],[0.2222222222222222,\"#7201a8\"],[0.3333333333333333,\"#9c179e\"],[0.4444444444444444,\"#bd3786\"],[0.5555555555555556,\"#d8576b\"],[0.6666666666666666,\"#ed7953\"],[0.7777777777777778,\"#fb9f3a\"],[0.8888888888888888,\"#fdca26\"],[1.0,\"#f0f921\"]]}],\"contourcarpet\":[{\"type\":\"contourcarpet\",\"colorbar\":{\"outlinewidth\":0,\"ticks\":\"\"}}],\"contour\":[{\"type\":\"contour\",\"colorbar\":{\"outlinewidth\":0,\"ticks\":\"\"},\"colorscale\":[[0.0,\"#0d0887\"],[0.1111111111111111,\"#46039f\"],[0.2222222222222222,\"#7201a8\"],[0.3333333333333333,\"#9c179e\"],[0.4444444444444444,\"#bd3786\"],[0.5555555555555556,\"#d8576b\"],[0.6666666666666666,\"#ed7953\"],[0.7777777777777778,\"#fb9f3a\"],[0.8888888888888888,\"#fdca26\"],[1.0,\"#f0f921\"]]}],\"surface\":[{\"type\":\"surface\",\"colorbar\":{\"outlinewidth\":0,\"ticks\":\"\"},\"colorscale\":[[0.0,\"#0d0887\"],[0.1111111111111111,\"#46039f\"],[0.2222222222222222,\"#7201a8\"],[0.3333333333333333,\"#9c179e\"],[0.4444444444444444,\"#bd3786\"],[0.5555555555555556,\"#d8576b\"],[0.6666666666666666,\"#ed7953\"],[0.7777777777777778,\"#fb9f3a\"],[0.8888888888888888,\"#fdca26\"],[1.0,\"#f0f921\"]]}],\"mesh3d\":[{\"type\":\"mesh3d\",\"colorbar\":{\"outlinewidth\":0,\"ticks\":\"\"}}],\"scatter\":[{\"fillpattern\":{\"fillmode\":\"overlay\",\"size\":10,\"solidity\":0.2},\"type\":\"scatter\"}],\"parcoords\":[{\"type\":\"parcoords\",\"line\":{\"colorbar\":{\"outlinewidth\":0,\"ticks\":\"\"}}}],\"scatterpolargl\":[{\"type\":\"scatterpolargl\",\"marker\":{\"colorbar\":{\"outlinewidth\":0,\"ticks\":\"\"}}}],\"bar\":[{\"error_x\":{\"color\":\"#2a3f5f\"},\"error_y\":{\"color\":\"#2a3f5f\"},\"marker\":{\"line\":{\"color\":\"#E5ECF6\",\"width\":0.5},\"pattern\":{\"fillmode\":\"overlay\",\"size\":10,\"solidity\":0.2}},\"type\":\"bar\"}],\"scattergeo\":[{\"type\":\"scattergeo\",\"marker\":{\"colorbar\":{\"outlinewidth\":0,\"ticks\":\"\"}}}],\"scatterpolar\":[{\"type\":\"scatterpolar\",\"marker\":{\"colorbar\":{\"outlinewidth\":0,\"ticks\":\"\"}}}],\"histogram\":[{\"marker\":{\"pattern\":{\"fillmode\":\"overlay\",\"size\":10,\"solidity\":0.2}},\"type\":\"histogram\"}],\"scattergl\":[{\"type\":\"scattergl\",\"marker\":{\"colorbar\":{\"outlinewidth\":0,\"ticks\":\"\"}}}],\"scatter3d\":[{\"type\":\"scatter3d\",\"line\":{\"colorbar\":{\"outlinewidth\":0,\"ticks\":\"\"}},\"marker\":{\"colorbar\":{\"outlinewidth\":0,\"ticks\":\"\"}}}],\"scattermapbox\":[{\"type\":\"scattermapbox\",\"marker\":{\"colorbar\":{\"outlinewidth\":0,\"ticks\":\"\"}}}],\"scatterternary\":[{\"type\":\"scatterternary\",\"marker\":{\"colorbar\":{\"outlinewidth\":0,\"ticks\":\"\"}}}],\"scattercarpet\":[{\"type\":\"scattercarpet\",\"marker\":{\"colorbar\":{\"outlinewidth\":0,\"ticks\":\"\"}}}],\"carpet\":[{\"aaxis\":{\"endlinecolor\":\"#2a3f5f\",\"gridcolor\":\"white\",\"linecolor\":\"white\",\"minorgridcolor\":\"white\",\"startlinecolor\":\"#2a3f5f\"},\"baxis\":{\"endlinecolor\":\"#2a3f5f\",\"gridcolor\":\"white\",\"linecolor\":\"white\",\"minorgridcolor\":\"white\",\"startlinecolor\":\"#2a3f5f\"},\"type\":\"carpet\"}],\"table\":[{\"cells\":{\"fill\":{\"color\":\"#EBF0F8\"},\"line\":{\"color\":\"white\"}},\"header\":{\"fill\":{\"color\":\"#C8D4E3\"},\"line\":{\"color\":\"white\"}},\"type\":\"table\"}],\"barpolar\":[{\"marker\":{\"line\":{\"color\":\"#E5ECF6\",\"width\":0.5},\"pattern\":{\"fillmode\":\"overlay\",\"size\":10,\"solidity\":0.2}},\"type\":\"barpolar\"}],\"pie\":[{\"automargin\":true,\"type\":\"pie\"}]},\"layout\":{\"autotypenumbers\":\"strict\",\"colorway\":[\"#636efa\",\"#EF553B\",\"#00cc96\",\"#ab63fa\",\"#FFA15A\",\"#19d3f3\",\"#FF6692\",\"#B6E880\",\"#FF97FF\",\"#FECB52\"],\"font\":{\"color\":\"#2a3f5f\"},\"hovermode\":\"closest\",\"hoverlabel\":{\"align\":\"left\"},\"paper_bgcolor\":\"white\",\"plot_bgcolor\":\"#E5ECF6\",\"polar\":{\"bgcolor\":\"#E5ECF6\",\"angularaxis\":{\"gridcolor\":\"white\",\"linecolor\":\"white\",\"ticks\":\"\"},\"radialaxis\":{\"gridcolor\":\"white\",\"linecolor\":\"white\",\"ticks\":\"\"}},\"ternary\":{\"bgcolor\":\"#E5ECF6\",\"aaxis\":{\"gridcolor\":\"white\",\"linecolor\":\"white\",\"ticks\":\"\"},\"baxis\":{\"gridcolor\":\"white\",\"linecolor\":\"white\",\"ticks\":\"\"},\"caxis\":{\"gridcolor\":\"white\",\"linecolor\":\"white\",\"ticks\":\"\"}},\"coloraxis\":{\"colorbar\":{\"outlinewidth\":0,\"ticks\":\"\"}},\"colorscale\":{\"sequential\":[[0.0,\"#0d0887\"],[0.1111111111111111,\"#46039f\"],[0.2222222222222222,\"#7201a8\"],[0.3333333333333333,\"#9c179e\"],[0.4444444444444444,\"#bd3786\"],[0.5555555555555556,\"#d8576b\"],[0.6666666666666666,\"#ed7953\"],[0.7777777777777778,\"#fb9f3a\"],[0.8888888888888888,\"#fdca26\"],[1.0,\"#f0f921\"]],\"sequentialminus\":[[0.0,\"#0d0887\"],[0.1111111111111111,\"#46039f\"],[0.2222222222222222,\"#7201a8\"],[0.3333333333333333,\"#9c179e\"],[0.4444444444444444,\"#bd3786\"],[0.5555555555555556,\"#d8576b\"],[0.6666666666666666,\"#ed7953\"],[0.7777777777777778,\"#fb9f3a\"],[0.8888888888888888,\"#fdca26\"],[1.0,\"#f0f921\"]],\"diverging\":[[0,\"#8e0152\"],[0.1,\"#c51b7d\"],[0.2,\"#de77ae\"],[0.3,\"#f1b6da\"],[0.4,\"#fde0ef\"],[0.5,\"#f7f7f7\"],[0.6,\"#e6f5d0\"],[0.7,\"#b8e186\"],[0.8,\"#7fbc41\"],[0.9,\"#4d9221\"],[1,\"#276419\"]]},\"xaxis\":{\"gridcolor\":\"white\",\"linecolor\":\"white\",\"ticks\":\"\",\"title\":{\"standoff\":15},\"zerolinecolor\":\"white\",\"automargin\":true,\"zerolinewidth\":2},\"yaxis\":{\"gridcolor\":\"white\",\"linecolor\":\"white\",\"ticks\":\"\",\"title\":{\"standoff\":15},\"zerolinecolor\":\"white\",\"automargin\":true,\"zerolinewidth\":2},\"scene\":{\"xaxis\":{\"backgroundcolor\":\"#E5ECF6\",\"gridcolor\":\"white\",\"linecolor\":\"white\",\"showbackground\":true,\"ticks\":\"\",\"zerolinecolor\":\"white\",\"gridwidth\":2},\"yaxis\":{\"backgroundcolor\":\"#E5ECF6\",\"gridcolor\":\"white\",\"linecolor\":\"white\",\"showbackground\":true,\"ticks\":\"\",\"zerolinecolor\":\"white\",\"gridwidth\":2},\"zaxis\":{\"backgroundcolor\":\"#E5ECF6\",\"gridcolor\":\"white\",\"linecolor\":\"white\",\"showbackground\":true,\"ticks\":\"\",\"zerolinecolor\":\"white\",\"gridwidth\":2}},\"shapedefaults\":{\"line\":{\"color\":\"#2a3f5f\"}},\"annotationdefaults\":{\"arrowcolor\":\"#2a3f5f\",\"arrowhead\":0,\"arrowwidth\":1},\"geo\":{\"bgcolor\":\"white\",\"landcolor\":\"#E5ECF6\",\"subunitcolor\":\"white\",\"showland\":true,\"showlakes\":true,\"lakecolor\":\"white\"},\"title\":{\"x\":0.05},\"mapbox\":{\"style\":\"light\"}}},\"xaxis\":{\"anchor\":\"y\",\"domain\":[0.0,1.0],\"title\":{\"text\":\"index\"}},\"yaxis\":{\"anchor\":\"x\",\"domain\":[0.0,1.0],\"title\":{\"text\":\"value\"}},\"legend\":{\"title\":{\"text\":\"variable\"},\"tracegroupgap\":0},\"title\":{\"text\":\"Internet Usage Over Time\"}},                        {\"responsive\": true}                    ).then(function(){\n",
       "                            \n",
       "var gd = document.getElementById('1a532ebb-b765-4dc0-a530-17dc54f51132');\n",
       "var x = new MutationObserver(function (mutations, observer) {{\n",
       "        var display = window.getComputedStyle(gd).display;\n",
       "        if (!display || display === 'none') {{\n",
       "            console.log([gd, 'removed!']);\n",
       "            Plotly.purge(gd);\n",
       "            observer.disconnect();\n",
       "        }}\n",
       "}});\n",
       "\n",
       "// Listen for the removal of the full notebook cells\n",
       "var notebookContainer = gd.closest('#notebook-container');\n",
       "if (notebookContainer) {{\n",
       "    x.observe(notebookContainer, {childList: true});\n",
       "}}\n",
       "\n",
       "// Listen for the clearing of the current output cell\n",
       "var outputEl = gd.closest('.output');\n",
       "if (outputEl) {{\n",
       "    x.observe(outputEl, {childList: true});\n",
       "}}\n",
       "\n",
       "                        })                };                });            </script>        </div>"
      ]
     },
     "metadata": {},
     "output_type": "display_data"
    }
   ],
   "source": [
    "df_new['year'] = df_new.index.astype(int)\n",
    "px.line(df_new, x=df_new.index, y=selected_countries, title='Internet Usage Over Time')"
   ]
  },
  {
   "cell_type": "code",
   "execution_count": null,
   "id": "3162341c",
   "metadata": {},
   "outputs": [],
   "source": [
    "#As you can see in the graph above, there are some data in the y-axis that are missing. "
   ]
  },
  {
   "cell_type": "code",
   "execution_count": 74,
   "id": "7f2e43fc",
   "metadata": {},
   "outputs": [
    {
     "data": {
      "text/html": [
       "<div>\n",
       "<style scoped>\n",
       "    .dataframe tbody tr th:only-of-type {\n",
       "        vertical-align: middle;\n",
       "    }\n",
       "\n",
       "    .dataframe tbody tr th {\n",
       "        vertical-align: top;\n",
       "    }\n",
       "\n",
       "    .dataframe thead th {\n",
       "        text-align: right;\n",
       "    }\n",
       "</style>\n",
       "<table border=\"1\" class=\"dataframe\">\n",
       "  <thead>\n",
       "    <tr style=\"text-align: right;\">\n",
       "      <th>country_name</th>\n",
       "      <th>Germany</th>\n",
       "      <th>Greenland</th>\n",
       "      <th>Turkiye</th>\n",
       "      <th>year</th>\n",
       "    </tr>\n",
       "  </thead>\n",
       "  <tbody>\n",
       "    <tr>\n",
       "      <th>1990</th>\n",
       "      <td>0.125892223</td>\n",
       "      <td>0</td>\n",
       "      <td>0</td>\n",
       "      <td>1990</td>\n",
       "    </tr>\n",
       "    <tr>\n",
       "      <th>1991</th>\n",
       "      <td>0.250274153</td>\n",
       "      <td>0</td>\n",
       "      <td>0</td>\n",
       "      <td>1991</td>\n",
       "    </tr>\n",
       "    <tr>\n",
       "      <th>1992</th>\n",
       "      <td>0.43528529</td>\n",
       "      <td>0</td>\n",
       "      <td>0</td>\n",
       "      <td>1992</td>\n",
       "    </tr>\n",
       "    <tr>\n",
       "      <th>1993</th>\n",
       "      <td>0.463635096</td>\n",
       "      <td>0</td>\n",
       "      <td>0.008457732</td>\n",
       "      <td>1993</td>\n",
       "    </tr>\n",
       "    <tr>\n",
       "      <th>1994</th>\n",
       "      <td>0.922541043</td>\n",
       "      <td>0.064712121</td>\n",
       "      <td>0.049869182</td>\n",
       "      <td>1994</td>\n",
       "    </tr>\n",
       "    <tr>\n",
       "      <th>1995</th>\n",
       "      <td>1.837737754</td>\n",
       "      <td>0.053940342</td>\n",
       "      <td>0.081691205</td>\n",
       "      <td>1995</td>\n",
       "    </tr>\n",
       "    <tr>\n",
       "      <th>1996</th>\n",
       "      <td>3.054805234</td>\n",
       "      <td>1.796719191</td>\n",
       "      <td>0.192724936</td>\n",
       "      <td>1996</td>\n",
       "    </tr>\n",
       "    <tr>\n",
       "      <th>1997</th>\n",
       "      <td>6.711087477</td>\n",
       "      <td>7.954504682</td>\n",
       "      <td>0.473695432</td>\n",
       "      <td>1997</td>\n",
       "    </tr>\n",
       "    <tr>\n",
       "      <th>1998</th>\n",
       "      <td>9.877852428</td>\n",
       "      <td>14.65444717</td>\n",
       "      <td>0.698805129</td>\n",
       "      <td>1998</td>\n",
       "    </tr>\n",
       "    <tr>\n",
       "      <th>1999</th>\n",
       "      <td>20.84598264</td>\n",
       "      <td>21.60261331</td>\n",
       "      <td>2.292117685</td>\n",
       "      <td>1999</td>\n",
       "    </tr>\n",
       "    <tr>\n",
       "      <th>2000</th>\n",
       "      <td>30.2163</td>\n",
       "      <td>31.7478</td>\n",
       "      <td>3.76169</td>\n",
       "      <td>2000</td>\n",
       "    </tr>\n",
       "    <tr>\n",
       "      <th>2001</th>\n",
       "      <td>31.6509</td>\n",
       "      <td>35.4641</td>\n",
       "      <td>5.18948</td>\n",
       "      <td>2001</td>\n",
       "    </tr>\n",
       "    <tr>\n",
       "      <th>2002</th>\n",
       "      <td>48.82</td>\n",
       "      <td>44.1548</td>\n",
       "      <td>11.38</td>\n",
       "      <td>2002</td>\n",
       "    </tr>\n",
       "    <tr>\n",
       "      <th>2003</th>\n",
       "      <td>55.9</td>\n",
       "      <td>54.5343</td>\n",
       "      <td>12.33</td>\n",
       "      <td>2003</td>\n",
       "    </tr>\n",
       "    <tr>\n",
       "      <th>2004</th>\n",
       "      <td>64.73</td>\n",
       "      <td>56.099</td>\n",
       "      <td>14.58</td>\n",
       "      <td>2004</td>\n",
       "    </tr>\n",
       "    <tr>\n",
       "      <th>2005</th>\n",
       "      <td>68.71</td>\n",
       "      <td>57.7034</td>\n",
       "      <td>15.46</td>\n",
       "      <td>2005</td>\n",
       "    </tr>\n",
       "    <tr>\n",
       "      <th>2006</th>\n",
       "      <td>72.16</td>\n",
       "      <td>59.3617</td>\n",
       "      <td>18.24</td>\n",
       "      <td>2006</td>\n",
       "    </tr>\n",
       "    <tr>\n",
       "      <th>2007</th>\n",
       "      <td>75.16</td>\n",
       "      <td>61.07</td>\n",
       "      <td>28.63</td>\n",
       "      <td>2007</td>\n",
       "    </tr>\n",
       "    <tr>\n",
       "      <th>2008</th>\n",
       "      <td>78</td>\n",
       "      <td>62.82</td>\n",
       "      <td>34.37</td>\n",
       "      <td>2008</td>\n",
       "    </tr>\n",
       "    <tr>\n",
       "      <th>2009</th>\n",
       "      <td>79</td>\n",
       "      <td>62.83</td>\n",
       "      <td>36.4</td>\n",
       "      <td>2009</td>\n",
       "    </tr>\n",
       "    <tr>\n",
       "      <th>2010</th>\n",
       "      <td>82</td>\n",
       "      <td>63</td>\n",
       "      <td>39.82</td>\n",
       "      <td>2010</td>\n",
       "    </tr>\n",
       "    <tr>\n",
       "      <th>2011</th>\n",
       "      <td>81.27</td>\n",
       "      <td>64</td>\n",
       "      <td>43.0657</td>\n",
       "      <td>2011</td>\n",
       "    </tr>\n",
       "    <tr>\n",
       "      <th>2012</th>\n",
       "      <td>82.35</td>\n",
       "      <td>64.896</td>\n",
       "      <td>45.13</td>\n",
       "      <td>2012</td>\n",
       "    </tr>\n",
       "    <tr>\n",
       "      <th>2013</th>\n",
       "      <td>84.17</td>\n",
       "      <td>65.8</td>\n",
       "      <td>46.25</td>\n",
       "      <td>2013</td>\n",
       "    </tr>\n",
       "    <tr>\n",
       "      <th>2014</th>\n",
       "      <td>86.1937</td>\n",
       "      <td>66.7</td>\n",
       "      <td>51.0374</td>\n",
       "      <td>2014</td>\n",
       "    </tr>\n",
       "    <tr>\n",
       "      <th>2015</th>\n",
       "      <td>87.5898</td>\n",
       "      <td>67.6004</td>\n",
       "      <td>53.745</td>\n",
       "      <td>2015</td>\n",
       "    </tr>\n",
       "    <tr>\n",
       "      <th>2016</th>\n",
       "      <td>84.1652</td>\n",
       "      <td>68.5009</td>\n",
       "      <td>58.3477</td>\n",
       "      <td>2016</td>\n",
       "    </tr>\n",
       "    <tr>\n",
       "      <th>2017</th>\n",
       "      <td>84.3942</td>\n",
       "      <td>69.4825</td>\n",
       "      <td>64.6846</td>\n",
       "      <td>2017</td>\n",
       "    </tr>\n",
       "    <tr>\n",
       "      <th>2018</th>\n",
       "      <td>87.0371</td>\n",
       "      <td>..</td>\n",
       "      <td>71.0428</td>\n",
       "      <td>2018</td>\n",
       "    </tr>\n",
       "    <tr>\n",
       "      <th>2019</th>\n",
       "      <td>88.1345</td>\n",
       "      <td>..</td>\n",
       "      <td>73.9767</td>\n",
       "      <td>2019</td>\n",
       "    </tr>\n",
       "    <tr>\n",
       "      <th>2020</th>\n",
       "      <td>89.8129</td>\n",
       "      <td>..</td>\n",
       "      <td>77.6696</td>\n",
       "      <td>2020</td>\n",
       "    </tr>\n",
       "    <tr>\n",
       "      <th>2021</th>\n",
       "      <td>91.4306</td>\n",
       "      <td>..</td>\n",
       "      <td>81.4084</td>\n",
       "      <td>2021</td>\n",
       "    </tr>\n",
       "    <tr>\n",
       "      <th>2022</th>\n",
       "      <td>91.6298</td>\n",
       "      <td>..</td>\n",
       "      <td>83.4372</td>\n",
       "      <td>2022</td>\n",
       "    </tr>\n",
       "    <tr>\n",
       "      <th>2023</th>\n",
       "      <td>92.4764</td>\n",
       "      <td>..</td>\n",
       "      <td>85.9607</td>\n",
       "      <td>2023</td>\n",
       "    </tr>\n",
       "  </tbody>\n",
       "</table>\n",
       "</div>"
      ],
      "text/plain": [
       "country_name      Germany    Greenland      Turkiye  year\n",
       "1990          0.125892223            0            0  1990\n",
       "1991          0.250274153            0            0  1991\n",
       "1992           0.43528529            0            0  1992\n",
       "1993          0.463635096            0  0.008457732  1993\n",
       "1994          0.922541043  0.064712121  0.049869182  1994\n",
       "1995          1.837737754  0.053940342  0.081691205  1995\n",
       "1996          3.054805234  1.796719191  0.192724936  1996\n",
       "1997          6.711087477  7.954504682  0.473695432  1997\n",
       "1998          9.877852428  14.65444717  0.698805129  1998\n",
       "1999          20.84598264  21.60261331  2.292117685  1999\n",
       "2000              30.2163      31.7478      3.76169  2000\n",
       "2001              31.6509      35.4641      5.18948  2001\n",
       "2002                48.82      44.1548        11.38  2002\n",
       "2003                 55.9      54.5343        12.33  2003\n",
       "2004                64.73       56.099        14.58  2004\n",
       "2005                68.71      57.7034        15.46  2005\n",
       "2006                72.16      59.3617        18.24  2006\n",
       "2007                75.16        61.07        28.63  2007\n",
       "2008                   78        62.82        34.37  2008\n",
       "2009                   79        62.83         36.4  2009\n",
       "2010                   82           63        39.82  2010\n",
       "2011                81.27           64      43.0657  2011\n",
       "2012                82.35       64.896        45.13  2012\n",
       "2013                84.17         65.8        46.25  2013\n",
       "2014              86.1937         66.7      51.0374  2014\n",
       "2015              87.5898      67.6004       53.745  2015\n",
       "2016              84.1652      68.5009      58.3477  2016\n",
       "2017              84.3942      69.4825      64.6846  2017\n",
       "2018              87.0371           ..      71.0428  2018\n",
       "2019              88.1345           ..      73.9767  2019\n",
       "2020              89.8129           ..      77.6696  2020\n",
       "2021              91.4306           ..      81.4084  2021\n",
       "2022              91.6298           ..      83.4372  2022\n",
       "2023              92.4764           ..      85.9607  2023"
      ]
     },
     "execution_count": 74,
     "metadata": {},
     "output_type": "execute_result"
    }
   ],
   "source": [
    "df_new"
   ]
  },
  {
   "cell_type": "code",
   "execution_count": 75,
   "id": "d8fc5588",
   "metadata": {},
   "outputs": [
    {
     "name": "stdout",
     "output_type": "stream",
     "text": [
      "<class 'pandas.core.frame.DataFrame'>\n",
      "Index: 34 entries, 1990 to 2023\n",
      "Data columns (total 4 columns):\n",
      " #   Column     Non-Null Count  Dtype \n",
      "---  ------     --------------  ----- \n",
      " 0   Germany    34 non-null     object\n",
      " 1   Greenland  34 non-null     object\n",
      " 2   Turkiye    34 non-null     object\n",
      " 3   year       34 non-null     int32 \n",
      "dtypes: int32(1), object(3)\n",
      "memory usage: 2.2+ KB\n"
     ]
    }
   ],
   "source": [
    "df_new.info()"
   ]
  },
  {
   "cell_type": "code",
   "execution_count": 77,
   "id": "f15072b9",
   "metadata": {},
   "outputs": [],
   "source": [
    "#As you can see above,all the column values (except year) are in object type. let's change them to float. \n",
    "#Before that, let's replace .. to NA for some Greenland values"
   ]
  },
  {
   "cell_type": "code",
   "execution_count": 83,
   "id": "6fe901f5",
   "metadata": {
    "scrolled": true
   },
   "outputs": [],
   "source": [
    "df_new = df_new.replace('..', pd.NA)"
   ]
  },
  {
   "cell_type": "code",
   "execution_count": 84,
   "id": "4faf1f5c",
   "metadata": {
    "scrolled": true
   },
   "outputs": [
    {
     "data": {
      "text/html": [
       "<div>\n",
       "<style scoped>\n",
       "    .dataframe tbody tr th:only-of-type {\n",
       "        vertical-align: middle;\n",
       "    }\n",
       "\n",
       "    .dataframe tbody tr th {\n",
       "        vertical-align: top;\n",
       "    }\n",
       "\n",
       "    .dataframe thead th {\n",
       "        text-align: right;\n",
       "    }\n",
       "</style>\n",
       "<table border=\"1\" class=\"dataframe\">\n",
       "  <thead>\n",
       "    <tr style=\"text-align: right;\">\n",
       "      <th>country_name</th>\n",
       "      <th>Germany</th>\n",
       "      <th>Greenland</th>\n",
       "      <th>Turkiye</th>\n",
       "      <th>year</th>\n",
       "    </tr>\n",
       "  </thead>\n",
       "  <tbody>\n",
       "    <tr>\n",
       "      <th>1990</th>\n",
       "      <td>0.125892223</td>\n",
       "      <td>0</td>\n",
       "      <td>0</td>\n",
       "      <td>1990</td>\n",
       "    </tr>\n",
       "    <tr>\n",
       "      <th>1991</th>\n",
       "      <td>0.250274153</td>\n",
       "      <td>0</td>\n",
       "      <td>0</td>\n",
       "      <td>1991</td>\n",
       "    </tr>\n",
       "    <tr>\n",
       "      <th>1992</th>\n",
       "      <td>0.43528529</td>\n",
       "      <td>0</td>\n",
       "      <td>0</td>\n",
       "      <td>1992</td>\n",
       "    </tr>\n",
       "    <tr>\n",
       "      <th>1993</th>\n",
       "      <td>0.463635096</td>\n",
       "      <td>0</td>\n",
       "      <td>0.008457732</td>\n",
       "      <td>1993</td>\n",
       "    </tr>\n",
       "    <tr>\n",
       "      <th>1994</th>\n",
       "      <td>0.922541043</td>\n",
       "      <td>0.064712121</td>\n",
       "      <td>0.049869182</td>\n",
       "      <td>1994</td>\n",
       "    </tr>\n",
       "    <tr>\n",
       "      <th>1995</th>\n",
       "      <td>1.837737754</td>\n",
       "      <td>0.053940342</td>\n",
       "      <td>0.081691205</td>\n",
       "      <td>1995</td>\n",
       "    </tr>\n",
       "    <tr>\n",
       "      <th>1996</th>\n",
       "      <td>3.054805234</td>\n",
       "      <td>1.796719191</td>\n",
       "      <td>0.192724936</td>\n",
       "      <td>1996</td>\n",
       "    </tr>\n",
       "    <tr>\n",
       "      <th>1997</th>\n",
       "      <td>6.711087477</td>\n",
       "      <td>7.954504682</td>\n",
       "      <td>0.473695432</td>\n",
       "      <td>1997</td>\n",
       "    </tr>\n",
       "    <tr>\n",
       "      <th>1998</th>\n",
       "      <td>9.877852428</td>\n",
       "      <td>14.65444717</td>\n",
       "      <td>0.698805129</td>\n",
       "      <td>1998</td>\n",
       "    </tr>\n",
       "    <tr>\n",
       "      <th>1999</th>\n",
       "      <td>20.84598264</td>\n",
       "      <td>21.60261331</td>\n",
       "      <td>2.292117685</td>\n",
       "      <td>1999</td>\n",
       "    </tr>\n",
       "    <tr>\n",
       "      <th>2000</th>\n",
       "      <td>30.2163</td>\n",
       "      <td>31.7478</td>\n",
       "      <td>3.76169</td>\n",
       "      <td>2000</td>\n",
       "    </tr>\n",
       "    <tr>\n",
       "      <th>2001</th>\n",
       "      <td>31.6509</td>\n",
       "      <td>35.4641</td>\n",
       "      <td>5.18948</td>\n",
       "      <td>2001</td>\n",
       "    </tr>\n",
       "    <tr>\n",
       "      <th>2002</th>\n",
       "      <td>48.82</td>\n",
       "      <td>44.1548</td>\n",
       "      <td>11.38</td>\n",
       "      <td>2002</td>\n",
       "    </tr>\n",
       "    <tr>\n",
       "      <th>2003</th>\n",
       "      <td>55.9</td>\n",
       "      <td>54.5343</td>\n",
       "      <td>12.33</td>\n",
       "      <td>2003</td>\n",
       "    </tr>\n",
       "    <tr>\n",
       "      <th>2004</th>\n",
       "      <td>64.73</td>\n",
       "      <td>56.099</td>\n",
       "      <td>14.58</td>\n",
       "      <td>2004</td>\n",
       "    </tr>\n",
       "    <tr>\n",
       "      <th>2005</th>\n",
       "      <td>68.71</td>\n",
       "      <td>57.7034</td>\n",
       "      <td>15.46</td>\n",
       "      <td>2005</td>\n",
       "    </tr>\n",
       "    <tr>\n",
       "      <th>2006</th>\n",
       "      <td>72.16</td>\n",
       "      <td>59.3617</td>\n",
       "      <td>18.24</td>\n",
       "      <td>2006</td>\n",
       "    </tr>\n",
       "    <tr>\n",
       "      <th>2007</th>\n",
       "      <td>75.16</td>\n",
       "      <td>61.07</td>\n",
       "      <td>28.63</td>\n",
       "      <td>2007</td>\n",
       "    </tr>\n",
       "    <tr>\n",
       "      <th>2008</th>\n",
       "      <td>78</td>\n",
       "      <td>62.82</td>\n",
       "      <td>34.37</td>\n",
       "      <td>2008</td>\n",
       "    </tr>\n",
       "    <tr>\n",
       "      <th>2009</th>\n",
       "      <td>79</td>\n",
       "      <td>62.83</td>\n",
       "      <td>36.4</td>\n",
       "      <td>2009</td>\n",
       "    </tr>\n",
       "    <tr>\n",
       "      <th>2010</th>\n",
       "      <td>82</td>\n",
       "      <td>63</td>\n",
       "      <td>39.82</td>\n",
       "      <td>2010</td>\n",
       "    </tr>\n",
       "    <tr>\n",
       "      <th>2011</th>\n",
       "      <td>81.27</td>\n",
       "      <td>64</td>\n",
       "      <td>43.0657</td>\n",
       "      <td>2011</td>\n",
       "    </tr>\n",
       "    <tr>\n",
       "      <th>2012</th>\n",
       "      <td>82.35</td>\n",
       "      <td>64.896</td>\n",
       "      <td>45.13</td>\n",
       "      <td>2012</td>\n",
       "    </tr>\n",
       "    <tr>\n",
       "      <th>2013</th>\n",
       "      <td>84.17</td>\n",
       "      <td>65.8</td>\n",
       "      <td>46.25</td>\n",
       "      <td>2013</td>\n",
       "    </tr>\n",
       "    <tr>\n",
       "      <th>2014</th>\n",
       "      <td>86.1937</td>\n",
       "      <td>66.7</td>\n",
       "      <td>51.0374</td>\n",
       "      <td>2014</td>\n",
       "    </tr>\n",
       "    <tr>\n",
       "      <th>2015</th>\n",
       "      <td>87.5898</td>\n",
       "      <td>67.6004</td>\n",
       "      <td>53.745</td>\n",
       "      <td>2015</td>\n",
       "    </tr>\n",
       "    <tr>\n",
       "      <th>2016</th>\n",
       "      <td>84.1652</td>\n",
       "      <td>68.5009</td>\n",
       "      <td>58.3477</td>\n",
       "      <td>2016</td>\n",
       "    </tr>\n",
       "    <tr>\n",
       "      <th>2017</th>\n",
       "      <td>84.3942</td>\n",
       "      <td>69.4825</td>\n",
       "      <td>64.6846</td>\n",
       "      <td>2017</td>\n",
       "    </tr>\n",
       "    <tr>\n",
       "      <th>2018</th>\n",
       "      <td>87.0371</td>\n",
       "      <td>&lt;NA&gt;</td>\n",
       "      <td>71.0428</td>\n",
       "      <td>2018</td>\n",
       "    </tr>\n",
       "    <tr>\n",
       "      <th>2019</th>\n",
       "      <td>88.1345</td>\n",
       "      <td>&lt;NA&gt;</td>\n",
       "      <td>73.9767</td>\n",
       "      <td>2019</td>\n",
       "    </tr>\n",
       "    <tr>\n",
       "      <th>2020</th>\n",
       "      <td>89.8129</td>\n",
       "      <td>&lt;NA&gt;</td>\n",
       "      <td>77.6696</td>\n",
       "      <td>2020</td>\n",
       "    </tr>\n",
       "    <tr>\n",
       "      <th>2021</th>\n",
       "      <td>91.4306</td>\n",
       "      <td>&lt;NA&gt;</td>\n",
       "      <td>81.4084</td>\n",
       "      <td>2021</td>\n",
       "    </tr>\n",
       "    <tr>\n",
       "      <th>2022</th>\n",
       "      <td>91.6298</td>\n",
       "      <td>&lt;NA&gt;</td>\n",
       "      <td>83.4372</td>\n",
       "      <td>2022</td>\n",
       "    </tr>\n",
       "    <tr>\n",
       "      <th>2023</th>\n",
       "      <td>92.4764</td>\n",
       "      <td>&lt;NA&gt;</td>\n",
       "      <td>85.9607</td>\n",
       "      <td>2023</td>\n",
       "    </tr>\n",
       "  </tbody>\n",
       "</table>\n",
       "</div>"
      ],
      "text/plain": [
       "country_name      Germany    Greenland      Turkiye  year\n",
       "1990          0.125892223            0            0  1990\n",
       "1991          0.250274153            0            0  1991\n",
       "1992           0.43528529            0            0  1992\n",
       "1993          0.463635096            0  0.008457732  1993\n",
       "1994          0.922541043  0.064712121  0.049869182  1994\n",
       "1995          1.837737754  0.053940342  0.081691205  1995\n",
       "1996          3.054805234  1.796719191  0.192724936  1996\n",
       "1997          6.711087477  7.954504682  0.473695432  1997\n",
       "1998          9.877852428  14.65444717  0.698805129  1998\n",
       "1999          20.84598264  21.60261331  2.292117685  1999\n",
       "2000              30.2163      31.7478      3.76169  2000\n",
       "2001              31.6509      35.4641      5.18948  2001\n",
       "2002                48.82      44.1548        11.38  2002\n",
       "2003                 55.9      54.5343        12.33  2003\n",
       "2004                64.73       56.099        14.58  2004\n",
       "2005                68.71      57.7034        15.46  2005\n",
       "2006                72.16      59.3617        18.24  2006\n",
       "2007                75.16        61.07        28.63  2007\n",
       "2008                   78        62.82        34.37  2008\n",
       "2009                   79        62.83         36.4  2009\n",
       "2010                   82           63        39.82  2010\n",
       "2011                81.27           64      43.0657  2011\n",
       "2012                82.35       64.896        45.13  2012\n",
       "2013                84.17         65.8        46.25  2013\n",
       "2014              86.1937         66.7      51.0374  2014\n",
       "2015              87.5898      67.6004       53.745  2015\n",
       "2016              84.1652      68.5009      58.3477  2016\n",
       "2017              84.3942      69.4825      64.6846  2017\n",
       "2018              87.0371         <NA>      71.0428  2018\n",
       "2019              88.1345         <NA>      73.9767  2019\n",
       "2020              89.8129         <NA>      77.6696  2020\n",
       "2021              91.4306         <NA>      81.4084  2021\n",
       "2022              91.6298         <NA>      83.4372  2022\n",
       "2023              92.4764         <NA>      85.9607  2023"
      ]
     },
     "execution_count": 84,
     "metadata": {},
     "output_type": "execute_result"
    }
   ],
   "source": [
    "df_new"
   ]
  },
  {
   "cell_type": "code",
   "execution_count": null,
   "id": "df0890ae",
   "metadata": {
    "scrolled": true
   },
   "outputs": [],
   "source": []
  },
  {
   "cell_type": "code",
   "execution_count": 89,
   "id": "1169990e",
   "metadata": {},
   "outputs": [],
   "source": [
    "#Convert all values in Germany,Greenland and Turkiye columns to float\n",
    "df_new['Greenland'] = pd.to_numeric(df_new['Greenland'], errors='coerce').astype(float)"
   ]
  },
  {
   "cell_type": "code",
   "execution_count": 90,
   "id": "7b6a1dc6",
   "metadata": {},
   "outputs": [],
   "source": [
    "df_new['Germany'] = pd.to_numeric(df_new['Germany'], errors='coerce').astype(float)\n",
    "df_new['Turkiye'] = pd.to_numeric(df_new['Turkiye'], errors='coerce').astype(float)"
   ]
  },
  {
   "cell_type": "code",
   "execution_count": 91,
   "id": "be4cb9f3",
   "metadata": {},
   "outputs": [
    {
     "name": "stdout",
     "output_type": "stream",
     "text": [
      "<class 'pandas.core.frame.DataFrame'>\n",
      "Index: 34 entries, 1990 to 2023\n",
      "Data columns (total 4 columns):\n",
      " #   Column     Non-Null Count  Dtype  \n",
      "---  ------     --------------  -----  \n",
      " 0   Germany    34 non-null     float64\n",
      " 1   Greenland  28 non-null     float64\n",
      " 2   Turkiye    34 non-null     float64\n",
      " 3   year       34 non-null     int32  \n",
      "dtypes: float64(3), int32(1)\n",
      "memory usage: 2.2+ KB\n"
     ]
    }
   ],
   "source": [
    "df_new.info()"
   ]
  },
  {
   "cell_type": "code",
   "execution_count": 92,
   "id": "7cc4b4d2",
   "metadata": {},
   "outputs": [
    {
     "data": {
      "text/html": [
       "<div>\n",
       "<style scoped>\n",
       "    .dataframe tbody tr th:only-of-type {\n",
       "        vertical-align: middle;\n",
       "    }\n",
       "\n",
       "    .dataframe tbody tr th {\n",
       "        vertical-align: top;\n",
       "    }\n",
       "\n",
       "    .dataframe thead th {\n",
       "        text-align: right;\n",
       "    }\n",
       "</style>\n",
       "<table border=\"1\" class=\"dataframe\">\n",
       "  <thead>\n",
       "    <tr style=\"text-align: right;\">\n",
       "      <th>country_name</th>\n",
       "      <th>Germany</th>\n",
       "      <th>Greenland</th>\n",
       "      <th>Turkiye</th>\n",
       "      <th>year</th>\n",
       "    </tr>\n",
       "  </thead>\n",
       "  <tbody>\n",
       "    <tr>\n",
       "      <th>1990</th>\n",
       "      <td>0.125892</td>\n",
       "      <td>0.000000</td>\n",
       "      <td>0.000000</td>\n",
       "      <td>1990</td>\n",
       "    </tr>\n",
       "    <tr>\n",
       "      <th>1991</th>\n",
       "      <td>0.250274</td>\n",
       "      <td>0.000000</td>\n",
       "      <td>0.000000</td>\n",
       "      <td>1991</td>\n",
       "    </tr>\n",
       "    <tr>\n",
       "      <th>1992</th>\n",
       "      <td>0.435285</td>\n",
       "      <td>0.000000</td>\n",
       "      <td>0.000000</td>\n",
       "      <td>1992</td>\n",
       "    </tr>\n",
       "    <tr>\n",
       "      <th>1993</th>\n",
       "      <td>0.463635</td>\n",
       "      <td>0.000000</td>\n",
       "      <td>0.008458</td>\n",
       "      <td>1993</td>\n",
       "    </tr>\n",
       "    <tr>\n",
       "      <th>1994</th>\n",
       "      <td>0.922541</td>\n",
       "      <td>0.064712</td>\n",
       "      <td>0.049869</td>\n",
       "      <td>1994</td>\n",
       "    </tr>\n",
       "    <tr>\n",
       "      <th>1995</th>\n",
       "      <td>1.837738</td>\n",
       "      <td>0.053940</td>\n",
       "      <td>0.081691</td>\n",
       "      <td>1995</td>\n",
       "    </tr>\n",
       "    <tr>\n",
       "      <th>1996</th>\n",
       "      <td>3.054805</td>\n",
       "      <td>1.796719</td>\n",
       "      <td>0.192725</td>\n",
       "      <td>1996</td>\n",
       "    </tr>\n",
       "    <tr>\n",
       "      <th>1997</th>\n",
       "      <td>6.711087</td>\n",
       "      <td>7.954505</td>\n",
       "      <td>0.473695</td>\n",
       "      <td>1997</td>\n",
       "    </tr>\n",
       "    <tr>\n",
       "      <th>1998</th>\n",
       "      <td>9.877852</td>\n",
       "      <td>14.654447</td>\n",
       "      <td>0.698805</td>\n",
       "      <td>1998</td>\n",
       "    </tr>\n",
       "    <tr>\n",
       "      <th>1999</th>\n",
       "      <td>20.845983</td>\n",
       "      <td>21.602613</td>\n",
       "      <td>2.292118</td>\n",
       "      <td>1999</td>\n",
       "    </tr>\n",
       "    <tr>\n",
       "      <th>2000</th>\n",
       "      <td>30.216300</td>\n",
       "      <td>31.747800</td>\n",
       "      <td>3.761690</td>\n",
       "      <td>2000</td>\n",
       "    </tr>\n",
       "    <tr>\n",
       "      <th>2001</th>\n",
       "      <td>31.650900</td>\n",
       "      <td>35.464100</td>\n",
       "      <td>5.189480</td>\n",
       "      <td>2001</td>\n",
       "    </tr>\n",
       "    <tr>\n",
       "      <th>2002</th>\n",
       "      <td>48.820000</td>\n",
       "      <td>44.154800</td>\n",
       "      <td>11.380000</td>\n",
       "      <td>2002</td>\n",
       "    </tr>\n",
       "    <tr>\n",
       "      <th>2003</th>\n",
       "      <td>55.900000</td>\n",
       "      <td>54.534300</td>\n",
       "      <td>12.330000</td>\n",
       "      <td>2003</td>\n",
       "    </tr>\n",
       "    <tr>\n",
       "      <th>2004</th>\n",
       "      <td>64.730000</td>\n",
       "      <td>56.099000</td>\n",
       "      <td>14.580000</td>\n",
       "      <td>2004</td>\n",
       "    </tr>\n",
       "    <tr>\n",
       "      <th>2005</th>\n",
       "      <td>68.710000</td>\n",
       "      <td>57.703400</td>\n",
       "      <td>15.460000</td>\n",
       "      <td>2005</td>\n",
       "    </tr>\n",
       "    <tr>\n",
       "      <th>2006</th>\n",
       "      <td>72.160000</td>\n",
       "      <td>59.361700</td>\n",
       "      <td>18.240000</td>\n",
       "      <td>2006</td>\n",
       "    </tr>\n",
       "    <tr>\n",
       "      <th>2007</th>\n",
       "      <td>75.160000</td>\n",
       "      <td>61.070000</td>\n",
       "      <td>28.630000</td>\n",
       "      <td>2007</td>\n",
       "    </tr>\n",
       "    <tr>\n",
       "      <th>2008</th>\n",
       "      <td>78.000000</td>\n",
       "      <td>62.820000</td>\n",
       "      <td>34.370000</td>\n",
       "      <td>2008</td>\n",
       "    </tr>\n",
       "    <tr>\n",
       "      <th>2009</th>\n",
       "      <td>79.000000</td>\n",
       "      <td>62.830000</td>\n",
       "      <td>36.400000</td>\n",
       "      <td>2009</td>\n",
       "    </tr>\n",
       "    <tr>\n",
       "      <th>2010</th>\n",
       "      <td>82.000000</td>\n",
       "      <td>63.000000</td>\n",
       "      <td>39.820000</td>\n",
       "      <td>2010</td>\n",
       "    </tr>\n",
       "    <tr>\n",
       "      <th>2011</th>\n",
       "      <td>81.270000</td>\n",
       "      <td>64.000000</td>\n",
       "      <td>43.065700</td>\n",
       "      <td>2011</td>\n",
       "    </tr>\n",
       "    <tr>\n",
       "      <th>2012</th>\n",
       "      <td>82.350000</td>\n",
       "      <td>64.896000</td>\n",
       "      <td>45.130000</td>\n",
       "      <td>2012</td>\n",
       "    </tr>\n",
       "    <tr>\n",
       "      <th>2013</th>\n",
       "      <td>84.170000</td>\n",
       "      <td>65.800000</td>\n",
       "      <td>46.250000</td>\n",
       "      <td>2013</td>\n",
       "    </tr>\n",
       "    <tr>\n",
       "      <th>2014</th>\n",
       "      <td>86.193700</td>\n",
       "      <td>66.700000</td>\n",
       "      <td>51.037400</td>\n",
       "      <td>2014</td>\n",
       "    </tr>\n",
       "    <tr>\n",
       "      <th>2015</th>\n",
       "      <td>87.589800</td>\n",
       "      <td>67.600400</td>\n",
       "      <td>53.745000</td>\n",
       "      <td>2015</td>\n",
       "    </tr>\n",
       "    <tr>\n",
       "      <th>2016</th>\n",
       "      <td>84.165200</td>\n",
       "      <td>68.500900</td>\n",
       "      <td>58.347700</td>\n",
       "      <td>2016</td>\n",
       "    </tr>\n",
       "    <tr>\n",
       "      <th>2017</th>\n",
       "      <td>84.394200</td>\n",
       "      <td>69.482500</td>\n",
       "      <td>64.684600</td>\n",
       "      <td>2017</td>\n",
       "    </tr>\n",
       "    <tr>\n",
       "      <th>2018</th>\n",
       "      <td>87.037100</td>\n",
       "      <td>NaN</td>\n",
       "      <td>71.042800</td>\n",
       "      <td>2018</td>\n",
       "    </tr>\n",
       "    <tr>\n",
       "      <th>2019</th>\n",
       "      <td>88.134500</td>\n",
       "      <td>NaN</td>\n",
       "      <td>73.976700</td>\n",
       "      <td>2019</td>\n",
       "    </tr>\n",
       "    <tr>\n",
       "      <th>2020</th>\n",
       "      <td>89.812900</td>\n",
       "      <td>NaN</td>\n",
       "      <td>77.669600</td>\n",
       "      <td>2020</td>\n",
       "    </tr>\n",
       "    <tr>\n",
       "      <th>2021</th>\n",
       "      <td>91.430600</td>\n",
       "      <td>NaN</td>\n",
       "      <td>81.408400</td>\n",
       "      <td>2021</td>\n",
       "    </tr>\n",
       "    <tr>\n",
       "      <th>2022</th>\n",
       "      <td>91.629800</td>\n",
       "      <td>NaN</td>\n",
       "      <td>83.437200</td>\n",
       "      <td>2022</td>\n",
       "    </tr>\n",
       "    <tr>\n",
       "      <th>2023</th>\n",
       "      <td>92.476400</td>\n",
       "      <td>NaN</td>\n",
       "      <td>85.960700</td>\n",
       "      <td>2023</td>\n",
       "    </tr>\n",
       "  </tbody>\n",
       "</table>\n",
       "</div>"
      ],
      "text/plain": [
       "country_name    Germany  Greenland    Turkiye  year\n",
       "1990           0.125892   0.000000   0.000000  1990\n",
       "1991           0.250274   0.000000   0.000000  1991\n",
       "1992           0.435285   0.000000   0.000000  1992\n",
       "1993           0.463635   0.000000   0.008458  1993\n",
       "1994           0.922541   0.064712   0.049869  1994\n",
       "1995           1.837738   0.053940   0.081691  1995\n",
       "1996           3.054805   1.796719   0.192725  1996\n",
       "1997           6.711087   7.954505   0.473695  1997\n",
       "1998           9.877852  14.654447   0.698805  1998\n",
       "1999          20.845983  21.602613   2.292118  1999\n",
       "2000          30.216300  31.747800   3.761690  2000\n",
       "2001          31.650900  35.464100   5.189480  2001\n",
       "2002          48.820000  44.154800  11.380000  2002\n",
       "2003          55.900000  54.534300  12.330000  2003\n",
       "2004          64.730000  56.099000  14.580000  2004\n",
       "2005          68.710000  57.703400  15.460000  2005\n",
       "2006          72.160000  59.361700  18.240000  2006\n",
       "2007          75.160000  61.070000  28.630000  2007\n",
       "2008          78.000000  62.820000  34.370000  2008\n",
       "2009          79.000000  62.830000  36.400000  2009\n",
       "2010          82.000000  63.000000  39.820000  2010\n",
       "2011          81.270000  64.000000  43.065700  2011\n",
       "2012          82.350000  64.896000  45.130000  2012\n",
       "2013          84.170000  65.800000  46.250000  2013\n",
       "2014          86.193700  66.700000  51.037400  2014\n",
       "2015          87.589800  67.600400  53.745000  2015\n",
       "2016          84.165200  68.500900  58.347700  2016\n",
       "2017          84.394200  69.482500  64.684600  2017\n",
       "2018          87.037100        NaN  71.042800  2018\n",
       "2019          88.134500        NaN  73.976700  2019\n",
       "2020          89.812900        NaN  77.669600  2020\n",
       "2021          91.430600        NaN  81.408400  2021\n",
       "2022          91.629800        NaN  83.437200  2022\n",
       "2023          92.476400        NaN  85.960700  2023"
      ]
     },
     "execution_count": 92,
     "metadata": {},
     "output_type": "execute_result"
    }
   ],
   "source": [
    "df_new"
   ]
  },
  {
   "cell_type": "code",
   "execution_count": 93,
   "id": "084c7802",
   "metadata": {},
   "outputs": [],
   "source": [
    "df_new.index = df_new.index.astype(int)"
   ]
  },
  {
   "cell_type": "code",
   "execution_count": 94,
   "id": "6b7c749d",
   "metadata": {},
   "outputs": [
    {
     "name": "stdout",
     "output_type": "stream",
     "text": [
      "<class 'pandas.core.frame.DataFrame'>\n",
      "Index: 34 entries, 1990 to 2023\n",
      "Data columns (total 4 columns):\n",
      " #   Column     Non-Null Count  Dtype  \n",
      "---  ------     --------------  -----  \n",
      " 0   Germany    34 non-null     float64\n",
      " 1   Greenland  28 non-null     float64\n",
      " 2   Turkiye    34 non-null     float64\n",
      " 3   year       34 non-null     int32  \n",
      "dtypes: float64(3), int32(1)\n",
      "memory usage: 1.1 KB\n"
     ]
    }
   ],
   "source": [
    "df_new.info()"
   ]
  },
  {
   "cell_type": "code",
   "execution_count": 95,
   "id": "35e015ad",
   "metadata": {},
   "outputs": [],
   "source": [
    "#Interpolating the NaN values. There are different variables within this function that we can experiement with.\n",
    "df_new['Greenland'] = df_new['Greenland'].interpolate(method='spline', order=2, limit_direction='both')"
   ]
  },
  {
   "cell_type": "code",
   "execution_count": 96,
   "id": "6b18a553",
   "metadata": {},
   "outputs": [
    {
     "name": "stderr",
     "output_type": "stream",
     "text": [
      "C:\\Users\\skyes\\anaconda3\\Lib\\site-packages\\plotly\\io\\_renderers.py:395: DeprecationWarning:\n",
      "\n",
      "distutils Version classes are deprecated. Use packaging.version instead.\n",
      "\n",
      "C:\\Users\\skyes\\anaconda3\\Lib\\site-packages\\plotly\\io\\_renderers.py:395: DeprecationWarning:\n",
      "\n",
      "distutils Version classes are deprecated. Use packaging.version instead.\n",
      "\n"
     ]
    },
    {
     "data": {
      "application/vnd.plotly.v1+json": {
       "config": {
        "plotlyServerURL": "https://plot.ly"
       },
       "data": [
        {
         "hovertemplate": "variable=Greenland<br>index=%{x}<br>value=%{y}<extra></extra>",
         "legendgroup": "Greenland",
         "line": {
          "color": "#636efa",
          "dash": "solid"
         },
         "marker": {
          "symbol": "circle"
         },
         "mode": "lines",
         "name": "Greenland",
         "orientation": "v",
         "showlegend": true,
         "type": "scatter",
         "x": [
          1990,
          1991,
          1992,
          1993,
          1994,
          1995,
          1996,
          1997,
          1998,
          1999,
          2000,
          2001,
          2002,
          2003,
          2004,
          2005,
          2006,
          2007,
          2008,
          2009,
          2010,
          2011,
          2012,
          2013,
          2014,
          2015,
          2016,
          2017,
          2018,
          2019,
          2020,
          2021,
          2022,
          2023
         ],
         "xaxis": "x",
         "y": [
          0,
          0,
          0,
          0,
          0.064712121,
          0.053940342,
          1.796719191,
          7.954504682,
          14.65444717,
          21.60261331,
          31.7478,
          35.4641,
          44.1548,
          54.5343,
          56.099,
          57.7034,
          59.3617,
          61.07,
          62.82,
          62.83,
          63,
          64,
          64.896,
          65.8,
          66.7,
          67.6004,
          68.5009,
          69.4825,
          68.90100495704752,
          69.10590739839843,
          69.21448758417252,
          69.22674551436975,
          69.14268118899017,
          68.96229460803374
         ],
         "yaxis": "y"
        },
        {
         "hovertemplate": "variable=Germany<br>index=%{x}<br>value=%{y}<extra></extra>",
         "legendgroup": "Germany",
         "line": {
          "color": "#EF553B",
          "dash": "solid"
         },
         "marker": {
          "symbol": "circle"
         },
         "mode": "lines",
         "name": "Germany",
         "orientation": "v",
         "showlegend": true,
         "type": "scatter",
         "x": [
          1990,
          1991,
          1992,
          1993,
          1994,
          1995,
          1996,
          1997,
          1998,
          1999,
          2000,
          2001,
          2002,
          2003,
          2004,
          2005,
          2006,
          2007,
          2008,
          2009,
          2010,
          2011,
          2012,
          2013,
          2014,
          2015,
          2016,
          2017,
          2018,
          2019,
          2020,
          2021,
          2022,
          2023
         ],
         "xaxis": "x",
         "y": [
          0.125892223,
          0.250274153,
          0.43528529,
          0.463635096,
          0.922541043,
          1.837737754,
          3.054805234,
          6.711087477,
          9.877852428,
          20.84598264,
          30.2163,
          31.6509,
          48.82,
          55.9,
          64.73,
          68.71,
          72.16,
          75.16,
          78,
          79,
          82,
          81.27,
          82.35,
          84.17,
          86.1937,
          87.5898,
          84.1652,
          84.3942,
          87.0371,
          88.1345,
          89.8129,
          91.4306,
          91.6298,
          92.4764
         ],
         "yaxis": "y"
        },
        {
         "hovertemplate": "variable=Turkiye<br>index=%{x}<br>value=%{y}<extra></extra>",
         "legendgroup": "Turkiye",
         "line": {
          "color": "#00cc96",
          "dash": "solid"
         },
         "marker": {
          "symbol": "circle"
         },
         "mode": "lines",
         "name": "Turkiye",
         "orientation": "v",
         "showlegend": true,
         "type": "scatter",
         "x": [
          1990,
          1991,
          1992,
          1993,
          1994,
          1995,
          1996,
          1997,
          1998,
          1999,
          2000,
          2001,
          2002,
          2003,
          2004,
          2005,
          2006,
          2007,
          2008,
          2009,
          2010,
          2011,
          2012,
          2013,
          2014,
          2015,
          2016,
          2017,
          2018,
          2019,
          2020,
          2021,
          2022,
          2023
         ],
         "xaxis": "x",
         "y": [
          0,
          0,
          0,
          0.008457732,
          0.049869182,
          0.081691205,
          0.192724936,
          0.473695432,
          0.698805129,
          2.292117685,
          3.76169,
          5.18948,
          11.38,
          12.33,
          14.58,
          15.46,
          18.24,
          28.63,
          34.37,
          36.4,
          39.82,
          43.0657,
          45.13,
          46.25,
          51.0374,
          53.745,
          58.3477,
          64.6846,
          71.0428,
          73.9767,
          77.6696,
          81.4084,
          83.4372,
          85.9607
         ],
         "yaxis": "y"
        }
       ],
       "layout": {
        "legend": {
         "title": {
          "text": "variable"
         },
         "tracegroupgap": 0
        },
        "template": {
         "data": {
          "bar": [
           {
            "error_x": {
             "color": "#2a3f5f"
            },
            "error_y": {
             "color": "#2a3f5f"
            },
            "marker": {
             "line": {
              "color": "#E5ECF6",
              "width": 0.5
             },
             "pattern": {
              "fillmode": "overlay",
              "size": 10,
              "solidity": 0.2
             }
            },
            "type": "bar"
           }
          ],
          "barpolar": [
           {
            "marker": {
             "line": {
              "color": "#E5ECF6",
              "width": 0.5
             },
             "pattern": {
              "fillmode": "overlay",
              "size": 10,
              "solidity": 0.2
             }
            },
            "type": "barpolar"
           }
          ],
          "carpet": [
           {
            "aaxis": {
             "endlinecolor": "#2a3f5f",
             "gridcolor": "white",
             "linecolor": "white",
             "minorgridcolor": "white",
             "startlinecolor": "#2a3f5f"
            },
            "baxis": {
             "endlinecolor": "#2a3f5f",
             "gridcolor": "white",
             "linecolor": "white",
             "minorgridcolor": "white",
             "startlinecolor": "#2a3f5f"
            },
            "type": "carpet"
           }
          ],
          "choropleth": [
           {
            "colorbar": {
             "outlinewidth": 0,
             "ticks": ""
            },
            "type": "choropleth"
           }
          ],
          "contour": [
           {
            "colorbar": {
             "outlinewidth": 0,
             "ticks": ""
            },
            "colorscale": [
             [
              0,
              "#0d0887"
             ],
             [
              0.1111111111111111,
              "#46039f"
             ],
             [
              0.2222222222222222,
              "#7201a8"
             ],
             [
              0.3333333333333333,
              "#9c179e"
             ],
             [
              0.4444444444444444,
              "#bd3786"
             ],
             [
              0.5555555555555556,
              "#d8576b"
             ],
             [
              0.6666666666666666,
              "#ed7953"
             ],
             [
              0.7777777777777778,
              "#fb9f3a"
             ],
             [
              0.8888888888888888,
              "#fdca26"
             ],
             [
              1,
              "#f0f921"
             ]
            ],
            "type": "contour"
           }
          ],
          "contourcarpet": [
           {
            "colorbar": {
             "outlinewidth": 0,
             "ticks": ""
            },
            "type": "contourcarpet"
           }
          ],
          "heatmap": [
           {
            "colorbar": {
             "outlinewidth": 0,
             "ticks": ""
            },
            "colorscale": [
             [
              0,
              "#0d0887"
             ],
             [
              0.1111111111111111,
              "#46039f"
             ],
             [
              0.2222222222222222,
              "#7201a8"
             ],
             [
              0.3333333333333333,
              "#9c179e"
             ],
             [
              0.4444444444444444,
              "#bd3786"
             ],
             [
              0.5555555555555556,
              "#d8576b"
             ],
             [
              0.6666666666666666,
              "#ed7953"
             ],
             [
              0.7777777777777778,
              "#fb9f3a"
             ],
             [
              0.8888888888888888,
              "#fdca26"
             ],
             [
              1,
              "#f0f921"
             ]
            ],
            "type": "heatmap"
           }
          ],
          "heatmapgl": [
           {
            "colorbar": {
             "outlinewidth": 0,
             "ticks": ""
            },
            "colorscale": [
             [
              0,
              "#0d0887"
             ],
             [
              0.1111111111111111,
              "#46039f"
             ],
             [
              0.2222222222222222,
              "#7201a8"
             ],
             [
              0.3333333333333333,
              "#9c179e"
             ],
             [
              0.4444444444444444,
              "#bd3786"
             ],
             [
              0.5555555555555556,
              "#d8576b"
             ],
             [
              0.6666666666666666,
              "#ed7953"
             ],
             [
              0.7777777777777778,
              "#fb9f3a"
             ],
             [
              0.8888888888888888,
              "#fdca26"
             ],
             [
              1,
              "#f0f921"
             ]
            ],
            "type": "heatmapgl"
           }
          ],
          "histogram": [
           {
            "marker": {
             "pattern": {
              "fillmode": "overlay",
              "size": 10,
              "solidity": 0.2
             }
            },
            "type": "histogram"
           }
          ],
          "histogram2d": [
           {
            "colorbar": {
             "outlinewidth": 0,
             "ticks": ""
            },
            "colorscale": [
             [
              0,
              "#0d0887"
             ],
             [
              0.1111111111111111,
              "#46039f"
             ],
             [
              0.2222222222222222,
              "#7201a8"
             ],
             [
              0.3333333333333333,
              "#9c179e"
             ],
             [
              0.4444444444444444,
              "#bd3786"
             ],
             [
              0.5555555555555556,
              "#d8576b"
             ],
             [
              0.6666666666666666,
              "#ed7953"
             ],
             [
              0.7777777777777778,
              "#fb9f3a"
             ],
             [
              0.8888888888888888,
              "#fdca26"
             ],
             [
              1,
              "#f0f921"
             ]
            ],
            "type": "histogram2d"
           }
          ],
          "histogram2dcontour": [
           {
            "colorbar": {
             "outlinewidth": 0,
             "ticks": ""
            },
            "colorscale": [
             [
              0,
              "#0d0887"
             ],
             [
              0.1111111111111111,
              "#46039f"
             ],
             [
              0.2222222222222222,
              "#7201a8"
             ],
             [
              0.3333333333333333,
              "#9c179e"
             ],
             [
              0.4444444444444444,
              "#bd3786"
             ],
             [
              0.5555555555555556,
              "#d8576b"
             ],
             [
              0.6666666666666666,
              "#ed7953"
             ],
             [
              0.7777777777777778,
              "#fb9f3a"
             ],
             [
              0.8888888888888888,
              "#fdca26"
             ],
             [
              1,
              "#f0f921"
             ]
            ],
            "type": "histogram2dcontour"
           }
          ],
          "mesh3d": [
           {
            "colorbar": {
             "outlinewidth": 0,
             "ticks": ""
            },
            "type": "mesh3d"
           }
          ],
          "parcoords": [
           {
            "line": {
             "colorbar": {
              "outlinewidth": 0,
              "ticks": ""
             }
            },
            "type": "parcoords"
           }
          ],
          "pie": [
           {
            "automargin": true,
            "type": "pie"
           }
          ],
          "scatter": [
           {
            "fillpattern": {
             "fillmode": "overlay",
             "size": 10,
             "solidity": 0.2
            },
            "type": "scatter"
           }
          ],
          "scatter3d": [
           {
            "line": {
             "colorbar": {
              "outlinewidth": 0,
              "ticks": ""
             }
            },
            "marker": {
             "colorbar": {
              "outlinewidth": 0,
              "ticks": ""
             }
            },
            "type": "scatter3d"
           }
          ],
          "scattercarpet": [
           {
            "marker": {
             "colorbar": {
              "outlinewidth": 0,
              "ticks": ""
             }
            },
            "type": "scattercarpet"
           }
          ],
          "scattergeo": [
           {
            "marker": {
             "colorbar": {
              "outlinewidth": 0,
              "ticks": ""
             }
            },
            "type": "scattergeo"
           }
          ],
          "scattergl": [
           {
            "marker": {
             "colorbar": {
              "outlinewidth": 0,
              "ticks": ""
             }
            },
            "type": "scattergl"
           }
          ],
          "scattermapbox": [
           {
            "marker": {
             "colorbar": {
              "outlinewidth": 0,
              "ticks": ""
             }
            },
            "type": "scattermapbox"
           }
          ],
          "scatterpolar": [
           {
            "marker": {
             "colorbar": {
              "outlinewidth": 0,
              "ticks": ""
             }
            },
            "type": "scatterpolar"
           }
          ],
          "scatterpolargl": [
           {
            "marker": {
             "colorbar": {
              "outlinewidth": 0,
              "ticks": ""
             }
            },
            "type": "scatterpolargl"
           }
          ],
          "scatterternary": [
           {
            "marker": {
             "colorbar": {
              "outlinewidth": 0,
              "ticks": ""
             }
            },
            "type": "scatterternary"
           }
          ],
          "surface": [
           {
            "colorbar": {
             "outlinewidth": 0,
             "ticks": ""
            },
            "colorscale": [
             [
              0,
              "#0d0887"
             ],
             [
              0.1111111111111111,
              "#46039f"
             ],
             [
              0.2222222222222222,
              "#7201a8"
             ],
             [
              0.3333333333333333,
              "#9c179e"
             ],
             [
              0.4444444444444444,
              "#bd3786"
             ],
             [
              0.5555555555555556,
              "#d8576b"
             ],
             [
              0.6666666666666666,
              "#ed7953"
             ],
             [
              0.7777777777777778,
              "#fb9f3a"
             ],
             [
              0.8888888888888888,
              "#fdca26"
             ],
             [
              1,
              "#f0f921"
             ]
            ],
            "type": "surface"
           }
          ],
          "table": [
           {
            "cells": {
             "fill": {
              "color": "#EBF0F8"
             },
             "line": {
              "color": "white"
             }
            },
            "header": {
             "fill": {
              "color": "#C8D4E3"
             },
             "line": {
              "color": "white"
             }
            },
            "type": "table"
           }
          ]
         },
         "layout": {
          "annotationdefaults": {
           "arrowcolor": "#2a3f5f",
           "arrowhead": 0,
           "arrowwidth": 1
          },
          "autotypenumbers": "strict",
          "coloraxis": {
           "colorbar": {
            "outlinewidth": 0,
            "ticks": ""
           }
          },
          "colorscale": {
           "diverging": [
            [
             0,
             "#8e0152"
            ],
            [
             0.1,
             "#c51b7d"
            ],
            [
             0.2,
             "#de77ae"
            ],
            [
             0.3,
             "#f1b6da"
            ],
            [
             0.4,
             "#fde0ef"
            ],
            [
             0.5,
             "#f7f7f7"
            ],
            [
             0.6,
             "#e6f5d0"
            ],
            [
             0.7,
             "#b8e186"
            ],
            [
             0.8,
             "#7fbc41"
            ],
            [
             0.9,
             "#4d9221"
            ],
            [
             1,
             "#276419"
            ]
           ],
           "sequential": [
            [
             0,
             "#0d0887"
            ],
            [
             0.1111111111111111,
             "#46039f"
            ],
            [
             0.2222222222222222,
             "#7201a8"
            ],
            [
             0.3333333333333333,
             "#9c179e"
            ],
            [
             0.4444444444444444,
             "#bd3786"
            ],
            [
             0.5555555555555556,
             "#d8576b"
            ],
            [
             0.6666666666666666,
             "#ed7953"
            ],
            [
             0.7777777777777778,
             "#fb9f3a"
            ],
            [
             0.8888888888888888,
             "#fdca26"
            ],
            [
             1,
             "#f0f921"
            ]
           ],
           "sequentialminus": [
            [
             0,
             "#0d0887"
            ],
            [
             0.1111111111111111,
             "#46039f"
            ],
            [
             0.2222222222222222,
             "#7201a8"
            ],
            [
             0.3333333333333333,
             "#9c179e"
            ],
            [
             0.4444444444444444,
             "#bd3786"
            ],
            [
             0.5555555555555556,
             "#d8576b"
            ],
            [
             0.6666666666666666,
             "#ed7953"
            ],
            [
             0.7777777777777778,
             "#fb9f3a"
            ],
            [
             0.8888888888888888,
             "#fdca26"
            ],
            [
             1,
             "#f0f921"
            ]
           ]
          },
          "colorway": [
           "#636efa",
           "#EF553B",
           "#00cc96",
           "#ab63fa",
           "#FFA15A",
           "#19d3f3",
           "#FF6692",
           "#B6E880",
           "#FF97FF",
           "#FECB52"
          ],
          "font": {
           "color": "#2a3f5f"
          },
          "geo": {
           "bgcolor": "white",
           "lakecolor": "white",
           "landcolor": "#E5ECF6",
           "showlakes": true,
           "showland": true,
           "subunitcolor": "white"
          },
          "hoverlabel": {
           "align": "left"
          },
          "hovermode": "closest",
          "mapbox": {
           "style": "light"
          },
          "paper_bgcolor": "white",
          "plot_bgcolor": "#E5ECF6",
          "polar": {
           "angularaxis": {
            "gridcolor": "white",
            "linecolor": "white",
            "ticks": ""
           },
           "bgcolor": "#E5ECF6",
           "radialaxis": {
            "gridcolor": "white",
            "linecolor": "white",
            "ticks": ""
           }
          },
          "scene": {
           "xaxis": {
            "backgroundcolor": "#E5ECF6",
            "gridcolor": "white",
            "gridwidth": 2,
            "linecolor": "white",
            "showbackground": true,
            "ticks": "",
            "zerolinecolor": "white"
           },
           "yaxis": {
            "backgroundcolor": "#E5ECF6",
            "gridcolor": "white",
            "gridwidth": 2,
            "linecolor": "white",
            "showbackground": true,
            "ticks": "",
            "zerolinecolor": "white"
           },
           "zaxis": {
            "backgroundcolor": "#E5ECF6",
            "gridcolor": "white",
            "gridwidth": 2,
            "linecolor": "white",
            "showbackground": true,
            "ticks": "",
            "zerolinecolor": "white"
           }
          },
          "shapedefaults": {
           "line": {
            "color": "#2a3f5f"
           }
          },
          "ternary": {
           "aaxis": {
            "gridcolor": "white",
            "linecolor": "white",
            "ticks": ""
           },
           "baxis": {
            "gridcolor": "white",
            "linecolor": "white",
            "ticks": ""
           },
           "bgcolor": "#E5ECF6",
           "caxis": {
            "gridcolor": "white",
            "linecolor": "white",
            "ticks": ""
           }
          },
          "title": {
           "x": 0.05
          },
          "xaxis": {
           "automargin": true,
           "gridcolor": "white",
           "linecolor": "white",
           "ticks": "",
           "title": {
            "standoff": 15
           },
           "zerolinecolor": "white",
           "zerolinewidth": 2
          },
          "yaxis": {
           "automargin": true,
           "gridcolor": "white",
           "linecolor": "white",
           "ticks": "",
           "title": {
            "standoff": 15
           },
           "zerolinecolor": "white",
           "zerolinewidth": 2
          }
         }
        },
        "title": {
         "text": "Internet Usage Over Time"
        },
        "xaxis": {
         "anchor": "y",
         "domain": [
          0,
          1
         ],
         "title": {
          "text": "index"
         }
        },
        "yaxis": {
         "anchor": "x",
         "domain": [
          0,
          1
         ],
         "title": {
          "text": "value"
         }
        }
       }
      },
      "text/html": [
       "<div>                            <div id=\"88e09ae5-7053-4afe-a2f4-cd56cc662ab5\" class=\"plotly-graph-div\" style=\"height:525px; width:100%;\"></div>            <script type=\"text/javascript\">                require([\"plotly\"], function(Plotly) {                    window.PLOTLYENV=window.PLOTLYENV || {};                                    if (document.getElementById(\"88e09ae5-7053-4afe-a2f4-cd56cc662ab5\")) {                    Plotly.newPlot(                        \"88e09ae5-7053-4afe-a2f4-cd56cc662ab5\",                        [{\"hovertemplate\":\"variable=Greenland<br>index=%{x}<br>value=%{y}<extra></extra>\",\"legendgroup\":\"Greenland\",\"line\":{\"color\":\"#636efa\",\"dash\":\"solid\"},\"marker\":{\"symbol\":\"circle\"},\"mode\":\"lines\",\"name\":\"Greenland\",\"orientation\":\"v\",\"showlegend\":true,\"x\":[1990,1991,1992,1993,1994,1995,1996,1997,1998,1999,2000,2001,2002,2003,2004,2005,2006,2007,2008,2009,2010,2011,2012,2013,2014,2015,2016,2017,2018,2019,2020,2021,2022,2023],\"xaxis\":\"x\",\"y\":[0.0,0.0,0.0,0.0,0.064712121,0.053940342,1.796719191,7.954504682,14.65444717,21.60261331,31.7478,35.4641,44.1548,54.5343,56.099,57.7034,59.3617,61.07,62.82,62.83,63.0,64.0,64.896,65.8,66.7,67.6004,68.5009,69.4825,68.90100495704752,69.10590739839843,69.21448758417252,69.22674551436975,69.14268118899017,68.96229460803374],\"yaxis\":\"y\",\"type\":\"scatter\"},{\"hovertemplate\":\"variable=Germany<br>index=%{x}<br>value=%{y}<extra></extra>\",\"legendgroup\":\"Germany\",\"line\":{\"color\":\"#EF553B\",\"dash\":\"solid\"},\"marker\":{\"symbol\":\"circle\"},\"mode\":\"lines\",\"name\":\"Germany\",\"orientation\":\"v\",\"showlegend\":true,\"x\":[1990,1991,1992,1993,1994,1995,1996,1997,1998,1999,2000,2001,2002,2003,2004,2005,2006,2007,2008,2009,2010,2011,2012,2013,2014,2015,2016,2017,2018,2019,2020,2021,2022,2023],\"xaxis\":\"x\",\"y\":[0.125892223,0.250274153,0.43528529,0.463635096,0.922541043,1.837737754,3.054805234,6.711087477,9.877852428,20.84598264,30.2163,31.6509,48.82,55.9,64.73,68.71,72.16,75.16,78.0,79.0,82.0,81.27,82.35,84.17,86.1937,87.5898,84.1652,84.3942,87.0371,88.1345,89.8129,91.4306,91.6298,92.4764],\"yaxis\":\"y\",\"type\":\"scatter\"},{\"hovertemplate\":\"variable=Turkiye<br>index=%{x}<br>value=%{y}<extra></extra>\",\"legendgroup\":\"Turkiye\",\"line\":{\"color\":\"#00cc96\",\"dash\":\"solid\"},\"marker\":{\"symbol\":\"circle\"},\"mode\":\"lines\",\"name\":\"Turkiye\",\"orientation\":\"v\",\"showlegend\":true,\"x\":[1990,1991,1992,1993,1994,1995,1996,1997,1998,1999,2000,2001,2002,2003,2004,2005,2006,2007,2008,2009,2010,2011,2012,2013,2014,2015,2016,2017,2018,2019,2020,2021,2022,2023],\"xaxis\":\"x\",\"y\":[0.0,0.0,0.0,0.008457732,0.049869182,0.081691205,0.192724936,0.473695432,0.698805129,2.292117685,3.76169,5.18948,11.38,12.33,14.58,15.46,18.24,28.63,34.37,36.4,39.82,43.0657,45.13,46.25,51.0374,53.745,58.3477,64.6846,71.0428,73.9767,77.6696,81.4084,83.4372,85.9607],\"yaxis\":\"y\",\"type\":\"scatter\"}],                        {\"template\":{\"data\":{\"histogram2dcontour\":[{\"type\":\"histogram2dcontour\",\"colorbar\":{\"outlinewidth\":0,\"ticks\":\"\"},\"colorscale\":[[0.0,\"#0d0887\"],[0.1111111111111111,\"#46039f\"],[0.2222222222222222,\"#7201a8\"],[0.3333333333333333,\"#9c179e\"],[0.4444444444444444,\"#bd3786\"],[0.5555555555555556,\"#d8576b\"],[0.6666666666666666,\"#ed7953\"],[0.7777777777777778,\"#fb9f3a\"],[0.8888888888888888,\"#fdca26\"],[1.0,\"#f0f921\"]]}],\"choropleth\":[{\"type\":\"choropleth\",\"colorbar\":{\"outlinewidth\":0,\"ticks\":\"\"}}],\"histogram2d\":[{\"type\":\"histogram2d\",\"colorbar\":{\"outlinewidth\":0,\"ticks\":\"\"},\"colorscale\":[[0.0,\"#0d0887\"],[0.1111111111111111,\"#46039f\"],[0.2222222222222222,\"#7201a8\"],[0.3333333333333333,\"#9c179e\"],[0.4444444444444444,\"#bd3786\"],[0.5555555555555556,\"#d8576b\"],[0.6666666666666666,\"#ed7953\"],[0.7777777777777778,\"#fb9f3a\"],[0.8888888888888888,\"#fdca26\"],[1.0,\"#f0f921\"]]}],\"heatmap\":[{\"type\":\"heatmap\",\"colorbar\":{\"outlinewidth\":0,\"ticks\":\"\"},\"colorscale\":[[0.0,\"#0d0887\"],[0.1111111111111111,\"#46039f\"],[0.2222222222222222,\"#7201a8\"],[0.3333333333333333,\"#9c179e\"],[0.4444444444444444,\"#bd3786\"],[0.5555555555555556,\"#d8576b\"],[0.6666666666666666,\"#ed7953\"],[0.7777777777777778,\"#fb9f3a\"],[0.8888888888888888,\"#fdca26\"],[1.0,\"#f0f921\"]]}],\"heatmapgl\":[{\"type\":\"heatmapgl\",\"colorbar\":{\"outlinewidth\":0,\"ticks\":\"\"},\"colorscale\":[[0.0,\"#0d0887\"],[0.1111111111111111,\"#46039f\"],[0.2222222222222222,\"#7201a8\"],[0.3333333333333333,\"#9c179e\"],[0.4444444444444444,\"#bd3786\"],[0.5555555555555556,\"#d8576b\"],[0.6666666666666666,\"#ed7953\"],[0.7777777777777778,\"#fb9f3a\"],[0.8888888888888888,\"#fdca26\"],[1.0,\"#f0f921\"]]}],\"contourcarpet\":[{\"type\":\"contourcarpet\",\"colorbar\":{\"outlinewidth\":0,\"ticks\":\"\"}}],\"contour\":[{\"type\":\"contour\",\"colorbar\":{\"outlinewidth\":0,\"ticks\":\"\"},\"colorscale\":[[0.0,\"#0d0887\"],[0.1111111111111111,\"#46039f\"],[0.2222222222222222,\"#7201a8\"],[0.3333333333333333,\"#9c179e\"],[0.4444444444444444,\"#bd3786\"],[0.5555555555555556,\"#d8576b\"],[0.6666666666666666,\"#ed7953\"],[0.7777777777777778,\"#fb9f3a\"],[0.8888888888888888,\"#fdca26\"],[1.0,\"#f0f921\"]]}],\"surface\":[{\"type\":\"surface\",\"colorbar\":{\"outlinewidth\":0,\"ticks\":\"\"},\"colorscale\":[[0.0,\"#0d0887\"],[0.1111111111111111,\"#46039f\"],[0.2222222222222222,\"#7201a8\"],[0.3333333333333333,\"#9c179e\"],[0.4444444444444444,\"#bd3786\"],[0.5555555555555556,\"#d8576b\"],[0.6666666666666666,\"#ed7953\"],[0.7777777777777778,\"#fb9f3a\"],[0.8888888888888888,\"#fdca26\"],[1.0,\"#f0f921\"]]}],\"mesh3d\":[{\"type\":\"mesh3d\",\"colorbar\":{\"outlinewidth\":0,\"ticks\":\"\"}}],\"scatter\":[{\"fillpattern\":{\"fillmode\":\"overlay\",\"size\":10,\"solidity\":0.2},\"type\":\"scatter\"}],\"parcoords\":[{\"type\":\"parcoords\",\"line\":{\"colorbar\":{\"outlinewidth\":0,\"ticks\":\"\"}}}],\"scatterpolargl\":[{\"type\":\"scatterpolargl\",\"marker\":{\"colorbar\":{\"outlinewidth\":0,\"ticks\":\"\"}}}],\"bar\":[{\"error_x\":{\"color\":\"#2a3f5f\"},\"error_y\":{\"color\":\"#2a3f5f\"},\"marker\":{\"line\":{\"color\":\"#E5ECF6\",\"width\":0.5},\"pattern\":{\"fillmode\":\"overlay\",\"size\":10,\"solidity\":0.2}},\"type\":\"bar\"}],\"scattergeo\":[{\"type\":\"scattergeo\",\"marker\":{\"colorbar\":{\"outlinewidth\":0,\"ticks\":\"\"}}}],\"scatterpolar\":[{\"type\":\"scatterpolar\",\"marker\":{\"colorbar\":{\"outlinewidth\":0,\"ticks\":\"\"}}}],\"histogram\":[{\"marker\":{\"pattern\":{\"fillmode\":\"overlay\",\"size\":10,\"solidity\":0.2}},\"type\":\"histogram\"}],\"scattergl\":[{\"type\":\"scattergl\",\"marker\":{\"colorbar\":{\"outlinewidth\":0,\"ticks\":\"\"}}}],\"scatter3d\":[{\"type\":\"scatter3d\",\"line\":{\"colorbar\":{\"outlinewidth\":0,\"ticks\":\"\"}},\"marker\":{\"colorbar\":{\"outlinewidth\":0,\"ticks\":\"\"}}}],\"scattermapbox\":[{\"type\":\"scattermapbox\",\"marker\":{\"colorbar\":{\"outlinewidth\":0,\"ticks\":\"\"}}}],\"scatterternary\":[{\"type\":\"scatterternary\",\"marker\":{\"colorbar\":{\"outlinewidth\":0,\"ticks\":\"\"}}}],\"scattercarpet\":[{\"type\":\"scattercarpet\",\"marker\":{\"colorbar\":{\"outlinewidth\":0,\"ticks\":\"\"}}}],\"carpet\":[{\"aaxis\":{\"endlinecolor\":\"#2a3f5f\",\"gridcolor\":\"white\",\"linecolor\":\"white\",\"minorgridcolor\":\"white\",\"startlinecolor\":\"#2a3f5f\"},\"baxis\":{\"endlinecolor\":\"#2a3f5f\",\"gridcolor\":\"white\",\"linecolor\":\"white\",\"minorgridcolor\":\"white\",\"startlinecolor\":\"#2a3f5f\"},\"type\":\"carpet\"}],\"table\":[{\"cells\":{\"fill\":{\"color\":\"#EBF0F8\"},\"line\":{\"color\":\"white\"}},\"header\":{\"fill\":{\"color\":\"#C8D4E3\"},\"line\":{\"color\":\"white\"}},\"type\":\"table\"}],\"barpolar\":[{\"marker\":{\"line\":{\"color\":\"#E5ECF6\",\"width\":0.5},\"pattern\":{\"fillmode\":\"overlay\",\"size\":10,\"solidity\":0.2}},\"type\":\"barpolar\"}],\"pie\":[{\"automargin\":true,\"type\":\"pie\"}]},\"layout\":{\"autotypenumbers\":\"strict\",\"colorway\":[\"#636efa\",\"#EF553B\",\"#00cc96\",\"#ab63fa\",\"#FFA15A\",\"#19d3f3\",\"#FF6692\",\"#B6E880\",\"#FF97FF\",\"#FECB52\"],\"font\":{\"color\":\"#2a3f5f\"},\"hovermode\":\"closest\",\"hoverlabel\":{\"align\":\"left\"},\"paper_bgcolor\":\"white\",\"plot_bgcolor\":\"#E5ECF6\",\"polar\":{\"bgcolor\":\"#E5ECF6\",\"angularaxis\":{\"gridcolor\":\"white\",\"linecolor\":\"white\",\"ticks\":\"\"},\"radialaxis\":{\"gridcolor\":\"white\",\"linecolor\":\"white\",\"ticks\":\"\"}},\"ternary\":{\"bgcolor\":\"#E5ECF6\",\"aaxis\":{\"gridcolor\":\"white\",\"linecolor\":\"white\",\"ticks\":\"\"},\"baxis\":{\"gridcolor\":\"white\",\"linecolor\":\"white\",\"ticks\":\"\"},\"caxis\":{\"gridcolor\":\"white\",\"linecolor\":\"white\",\"ticks\":\"\"}},\"coloraxis\":{\"colorbar\":{\"outlinewidth\":0,\"ticks\":\"\"}},\"colorscale\":{\"sequential\":[[0.0,\"#0d0887\"],[0.1111111111111111,\"#46039f\"],[0.2222222222222222,\"#7201a8\"],[0.3333333333333333,\"#9c179e\"],[0.4444444444444444,\"#bd3786\"],[0.5555555555555556,\"#d8576b\"],[0.6666666666666666,\"#ed7953\"],[0.7777777777777778,\"#fb9f3a\"],[0.8888888888888888,\"#fdca26\"],[1.0,\"#f0f921\"]],\"sequentialminus\":[[0.0,\"#0d0887\"],[0.1111111111111111,\"#46039f\"],[0.2222222222222222,\"#7201a8\"],[0.3333333333333333,\"#9c179e\"],[0.4444444444444444,\"#bd3786\"],[0.5555555555555556,\"#d8576b\"],[0.6666666666666666,\"#ed7953\"],[0.7777777777777778,\"#fb9f3a\"],[0.8888888888888888,\"#fdca26\"],[1.0,\"#f0f921\"]],\"diverging\":[[0,\"#8e0152\"],[0.1,\"#c51b7d\"],[0.2,\"#de77ae\"],[0.3,\"#f1b6da\"],[0.4,\"#fde0ef\"],[0.5,\"#f7f7f7\"],[0.6,\"#e6f5d0\"],[0.7,\"#b8e186\"],[0.8,\"#7fbc41\"],[0.9,\"#4d9221\"],[1,\"#276419\"]]},\"xaxis\":{\"gridcolor\":\"white\",\"linecolor\":\"white\",\"ticks\":\"\",\"title\":{\"standoff\":15},\"zerolinecolor\":\"white\",\"automargin\":true,\"zerolinewidth\":2},\"yaxis\":{\"gridcolor\":\"white\",\"linecolor\":\"white\",\"ticks\":\"\",\"title\":{\"standoff\":15},\"zerolinecolor\":\"white\",\"automargin\":true,\"zerolinewidth\":2},\"scene\":{\"xaxis\":{\"backgroundcolor\":\"#E5ECF6\",\"gridcolor\":\"white\",\"linecolor\":\"white\",\"showbackground\":true,\"ticks\":\"\",\"zerolinecolor\":\"white\",\"gridwidth\":2},\"yaxis\":{\"backgroundcolor\":\"#E5ECF6\",\"gridcolor\":\"white\",\"linecolor\":\"white\",\"showbackground\":true,\"ticks\":\"\",\"zerolinecolor\":\"white\",\"gridwidth\":2},\"zaxis\":{\"backgroundcolor\":\"#E5ECF6\",\"gridcolor\":\"white\",\"linecolor\":\"white\",\"showbackground\":true,\"ticks\":\"\",\"zerolinecolor\":\"white\",\"gridwidth\":2}},\"shapedefaults\":{\"line\":{\"color\":\"#2a3f5f\"}},\"annotationdefaults\":{\"arrowcolor\":\"#2a3f5f\",\"arrowhead\":0,\"arrowwidth\":1},\"geo\":{\"bgcolor\":\"white\",\"landcolor\":\"#E5ECF6\",\"subunitcolor\":\"white\",\"showland\":true,\"showlakes\":true,\"lakecolor\":\"white\"},\"title\":{\"x\":0.05},\"mapbox\":{\"style\":\"light\"}}},\"xaxis\":{\"anchor\":\"y\",\"domain\":[0.0,1.0],\"title\":{\"text\":\"index\"}},\"yaxis\":{\"anchor\":\"x\",\"domain\":[0.0,1.0],\"title\":{\"text\":\"value\"}},\"legend\":{\"title\":{\"text\":\"variable\"},\"tracegroupgap\":0},\"title\":{\"text\":\"Internet Usage Over Time\"}},                        {\"responsive\": true}                    ).then(function(){\n",
       "                            \n",
       "var gd = document.getElementById('88e09ae5-7053-4afe-a2f4-cd56cc662ab5');\n",
       "var x = new MutationObserver(function (mutations, observer) {{\n",
       "        var display = window.getComputedStyle(gd).display;\n",
       "        if (!display || display === 'none') {{\n",
       "            console.log([gd, 'removed!']);\n",
       "            Plotly.purge(gd);\n",
       "            observer.disconnect();\n",
       "        }}\n",
       "}});\n",
       "\n",
       "// Listen for the removal of the full notebook cells\n",
       "var notebookContainer = gd.closest('#notebook-container');\n",
       "if (notebookContainer) {{\n",
       "    x.observe(notebookContainer, {childList: true});\n",
       "}}\n",
       "\n",
       "// Listen for the clearing of the current output cell\n",
       "var outputEl = gd.closest('.output');\n",
       "if (outputEl) {{\n",
       "    x.observe(outputEl, {childList: true});\n",
       "}}\n",
       "\n",
       "                        })                };                });            </script>        </div>"
      ]
     },
     "metadata": {},
     "output_type": "display_data"
    }
   ],
   "source": [
    "px.line(df_new, x=df_new.index, y=selected_countries, title='Internet Usage Over Time')"
   ]
  },
  {
   "cell_type": "code",
   "execution_count": 97,
   "id": "89007d47",
   "metadata": {},
   "outputs": [],
   "source": [
    "#To make this code reusable for accesing other countries, create the below functions"
   ]
  },
  {
   "cell_type": "code",
   "execution_count": 102,
   "id": "0b512c32",
   "metadata": {},
   "outputs": [
    {
     "name": "stdout",
     "output_type": "stream",
     "text": [
      "country_name    Germany  Greenland    Iceland\n",
      "1990           0.125892   0.000000   0.000000\n",
      "1991           0.250274   0.000000   0.505129\n",
      "1992           0.435285   0.000000   1.539160\n",
      "1993           0.463635   0.000000   2.667825\n",
      "1994           0.922541   0.064712   6.794812\n",
      "1995           1.837738   0.053940  11.215876\n",
      "1996           3.054805   1.796719  14.806479\n",
      "1997           6.711087   7.954505  27.478869\n",
      "1998           9.877852  14.654447  36.264207\n",
      "1999          20.845983  21.602613  41.294567\n",
      "2000          30.216300  31.747800  44.470500\n",
      "2001          31.650900  35.464100  49.393000\n",
      "2002          48.820000  44.154800  79.120000\n",
      "2003          55.900000  54.534300  83.140000\n",
      "2004          64.730000  56.099000  83.880000\n",
      "2005          68.710000  57.703400  87.000000\n",
      "2006          72.160000  59.361700  89.510000\n",
      "2007          75.160000  61.070000  90.600000\n",
      "2008          78.000000  62.820000  91.000000\n",
      "2009          79.000000  62.830000  93.000000\n",
      "2010          82.000000  63.000000  93.390000\n",
      "2011          81.270000  64.000000  94.819700\n",
      "2012          82.350000  64.896000  96.209800\n",
      "2013          84.170000  65.800000  96.546800\n",
      "2014          86.193700  66.700000  98.158000\n",
      "2015          87.589800  67.600400  98.200000\n",
      "2016          84.165200  68.500900  98.240000\n",
      "2017          84.394200  69.482500  98.255200\n",
      "2018          87.037100        NaN  99.011000\n",
      "2019          88.134500        NaN  99.504900\n",
      "2020          89.812900        NaN  99.532800\n",
      "2021          91.430600        NaN  99.687000\n",
      "2022          91.629800        NaN  99.856500\n",
      "2023          92.476400        NaN        NaN\n"
     ]
    }
   ],
   "source": [
    "def get_cleaned_data(worldbank_raw_data, series_code, countries):\n",
    "    df = worldbank_raw_data\n",
    "    df.columns = [col[:4] if '[' in col else col for col in df.columns]\n",
    "    \n",
    "    df = df.clean_names()\n",
    "    \n",
    "    selected_columns = ['country_name', 'country_code', 'series_name', 'series_code']\n",
    "    selected_years = [str(year) for year in range (1990,2024)]\n",
    "    \n",
    "    df = df[selected_columns + selected_years]\n",
    "    \n",
    "    country_df = df[df['country_name'].isin(countries)]\n",
    "    \n",
    "    series_df = country_df[country_df['series_code'] == series_code]\n",
    "    \n",
    "    final_df = series_df.drop(columns=['country_code', 'series_name', 'series_code'])\n",
    "    \n",
    "    final_df.set_index('country_name', inplace=True)\n",
    "    \n",
    "    final_df = final_df.T\n",
    "    \n",
    "    final_df = final_df.replace('..', pd.NA)\n",
    "    \n",
    "    for country in final_df.columns:\n",
    "        final_df[country] = pd.to_numeric(final_df[country], errors='coerce')\n",
    "    \n",
    "    return final_df\n",
    "\n",
    "def compare_countries(countries):\n",
    "    pass\n",
    "\n",
    "if __name__ == \"__main__\":\n",
    "    worldbank_data = pd.read_csv('C:/Users/skyes/Documents/Projects/worldbank-country-internet-data.csv')\n",
    "    internet_usage = get_cleaned_data(worldbank_data, 'IT.NET.USER.ZS', ['Iceland', 'Germany', 'Greenland'])\n",
    "    print(internet_usage)"
   ]
  },
  {
   "cell_type": "code",
   "execution_count": 112,
   "id": "d88a383b",
   "metadata": {},
   "outputs": [
    {
     "name": "stderr",
     "output_type": "stream",
     "text": [
      "C:\\Users\\skyes\\anaconda3\\Lib\\site-packages\\plotly\\io\\_renderers.py:395: DeprecationWarning:\n",
      "\n",
      "distutils Version classes are deprecated. Use packaging.version instead.\n",
      "\n",
      "C:\\Users\\skyes\\anaconda3\\Lib\\site-packages\\plotly\\io\\_renderers.py:395: DeprecationWarning:\n",
      "\n",
      "distutils Version classes are deprecated. Use packaging.version instead.\n",
      "\n"
     ]
    },
    {
     "data": {
      "application/vnd.plotly.v1+json": {
       "config": {
        "plotlyServerURL": "https://plot.ly"
       },
       "data": [
        {
         "hovertemplate": "variable=Iceland<br>index=%{x}<br>value=%{y}<extra></extra>",
         "legendgroup": "Iceland",
         "line": {
          "color": "#636efa",
          "dash": "solid"
         },
         "marker": {
          "symbol": "circle"
         },
         "mode": "lines",
         "name": "Iceland",
         "orientation": "v",
         "showlegend": true,
         "type": "scatter",
         "x": [
          1990,
          1991,
          1992,
          1993,
          1994,
          1995,
          1996,
          1997,
          1998,
          1999,
          2000,
          2001,
          2002,
          2003,
          2004,
          2005,
          2006,
          2007,
          2008,
          2009,
          2010,
          2011,
          2012,
          2013,
          2014,
          2015,
          2016,
          2017,
          2018,
          2019,
          2020,
          2021,
          2022,
          2023
         ],
         "xaxis": "x",
         "y": [
          0,
          0.505129002,
          1.53916008,
          2.667825265,
          6.794811784,
          11.2158757,
          14.80647932,
          27.47886875,
          36.2642065,
          41.29456671,
          44.4705,
          49.393,
          79.12,
          83.14,
          83.88,
          87,
          89.51,
          90.6,
          91,
          93,
          93.39,
          94.8197,
          96.2098,
          96.5468,
          98.158,
          98.2,
          98.24,
          98.2552,
          99.011,
          99.5049,
          99.5328,
          99.687,
          99.8565,
          99.8565
         ],
         "yaxis": "y"
        },
        {
         "hovertemplate": "variable=India<br>index=%{x}<br>value=%{y}<extra></extra>",
         "legendgroup": "India",
         "line": {
          "color": "#EF553B",
          "dash": "solid"
         },
         "marker": {
          "symbol": "circle"
         },
         "mode": "lines",
         "name": "India",
         "orientation": "v",
         "showlegend": true,
         "type": "scatter",
         "x": [
          1990,
          1991,
          1992,
          1993,
          1994,
          1995,
          1996,
          1997,
          1998,
          1999,
          2000,
          2001,
          2002,
          2003,
          2004,
          2005,
          2006,
          2007,
          2008,
          2009,
          2010,
          2011,
          2012,
          2013,
          2014,
          2015,
          2016,
          2017,
          2018,
          2019,
          2020,
          2021,
          2022,
          2023
         ],
         "xaxis": "x",
         "y": [
          0,
          0,
          0.000111308,
          0.000218176,
          0.001069562,
          0.026228879,
          0.046333977,
          0.070767849,
          0.139027329,
          0.273224277,
          0.527532,
          0.660146,
          1.53788,
          1.68649,
          1.97614,
          2.38807,
          2.8055,
          3.95,
          4.38,
          5.12,
          7.5,
          10.07,
          11.1,
          12.3,
          13.5,
          14.9,
          16.5,
          18.2,
          20.0813,
          29.5235,
          43.4054,
          43.4054,
          43.4054,
          43.4054
         ],
         "yaxis": "y"
        },
        {
         "hovertemplate": "variable=United States<br>index=%{x}<br>value=%{y}<extra></extra>",
         "legendgroup": "United States",
         "line": {
          "color": "#00cc96",
          "dash": "solid"
         },
         "marker": {
          "symbol": "circle"
         },
         "mode": "lines",
         "name": "United States",
         "orientation": "v",
         "showlegend": true,
         "type": "scatter",
         "x": [
          1990,
          1991,
          1992,
          1993,
          1994,
          1995,
          1996,
          1997,
          1998,
          1999,
          2000,
          2001,
          2002,
          2003,
          2004,
          2005,
          2006,
          2007,
          2008,
          2009,
          2010,
          2011,
          2012,
          2013,
          2014,
          2015,
          2016,
          2017,
          2018,
          2019,
          2020,
          2021,
          2022,
          2023
         ],
         "xaxis": "x",
         "y": [
          0.784728502,
          1.163193726,
          1.724202539,
          2.271673294,
          4.862780635,
          9.237088297,
          16.41935296,
          21.61640097,
          30.09319659,
          35.84872446,
          43.0792,
          49.0808,
          58.7854,
          61.6971,
          64.7583,
          67.9681,
          68.9312,
          75,
          74,
          71,
          71.69,
          69.7295,
          74.7,
          71.4,
          73,
          74.5542,
          85.5444,
          87.2749,
          88.4989,
          89.4303,
          96.5768,
          96.7792,
          97.1299,
          97.1299
         ],
         "yaxis": "y"
        }
       ],
       "layout": {
        "legend": {
         "title": {
          "text": "variable"
         },
         "tracegroupgap": 0
        },
        "template": {
         "data": {
          "bar": [
           {
            "error_x": {
             "color": "#2a3f5f"
            },
            "error_y": {
             "color": "#2a3f5f"
            },
            "marker": {
             "line": {
              "color": "#E5ECF6",
              "width": 0.5
             },
             "pattern": {
              "fillmode": "overlay",
              "size": 10,
              "solidity": 0.2
             }
            },
            "type": "bar"
           }
          ],
          "barpolar": [
           {
            "marker": {
             "line": {
              "color": "#E5ECF6",
              "width": 0.5
             },
             "pattern": {
              "fillmode": "overlay",
              "size": 10,
              "solidity": 0.2
             }
            },
            "type": "barpolar"
           }
          ],
          "carpet": [
           {
            "aaxis": {
             "endlinecolor": "#2a3f5f",
             "gridcolor": "white",
             "linecolor": "white",
             "minorgridcolor": "white",
             "startlinecolor": "#2a3f5f"
            },
            "baxis": {
             "endlinecolor": "#2a3f5f",
             "gridcolor": "white",
             "linecolor": "white",
             "minorgridcolor": "white",
             "startlinecolor": "#2a3f5f"
            },
            "type": "carpet"
           }
          ],
          "choropleth": [
           {
            "colorbar": {
             "outlinewidth": 0,
             "ticks": ""
            },
            "type": "choropleth"
           }
          ],
          "contour": [
           {
            "colorbar": {
             "outlinewidth": 0,
             "ticks": ""
            },
            "colorscale": [
             [
              0,
              "#0d0887"
             ],
             [
              0.1111111111111111,
              "#46039f"
             ],
             [
              0.2222222222222222,
              "#7201a8"
             ],
             [
              0.3333333333333333,
              "#9c179e"
             ],
             [
              0.4444444444444444,
              "#bd3786"
             ],
             [
              0.5555555555555556,
              "#d8576b"
             ],
             [
              0.6666666666666666,
              "#ed7953"
             ],
             [
              0.7777777777777778,
              "#fb9f3a"
             ],
             [
              0.8888888888888888,
              "#fdca26"
             ],
             [
              1,
              "#f0f921"
             ]
            ],
            "type": "contour"
           }
          ],
          "contourcarpet": [
           {
            "colorbar": {
             "outlinewidth": 0,
             "ticks": ""
            },
            "type": "contourcarpet"
           }
          ],
          "heatmap": [
           {
            "colorbar": {
             "outlinewidth": 0,
             "ticks": ""
            },
            "colorscale": [
             [
              0,
              "#0d0887"
             ],
             [
              0.1111111111111111,
              "#46039f"
             ],
             [
              0.2222222222222222,
              "#7201a8"
             ],
             [
              0.3333333333333333,
              "#9c179e"
             ],
             [
              0.4444444444444444,
              "#bd3786"
             ],
             [
              0.5555555555555556,
              "#d8576b"
             ],
             [
              0.6666666666666666,
              "#ed7953"
             ],
             [
              0.7777777777777778,
              "#fb9f3a"
             ],
             [
              0.8888888888888888,
              "#fdca26"
             ],
             [
              1,
              "#f0f921"
             ]
            ],
            "type": "heatmap"
           }
          ],
          "heatmapgl": [
           {
            "colorbar": {
             "outlinewidth": 0,
             "ticks": ""
            },
            "colorscale": [
             [
              0,
              "#0d0887"
             ],
             [
              0.1111111111111111,
              "#46039f"
             ],
             [
              0.2222222222222222,
              "#7201a8"
             ],
             [
              0.3333333333333333,
              "#9c179e"
             ],
             [
              0.4444444444444444,
              "#bd3786"
             ],
             [
              0.5555555555555556,
              "#d8576b"
             ],
             [
              0.6666666666666666,
              "#ed7953"
             ],
             [
              0.7777777777777778,
              "#fb9f3a"
             ],
             [
              0.8888888888888888,
              "#fdca26"
             ],
             [
              1,
              "#f0f921"
             ]
            ],
            "type": "heatmapgl"
           }
          ],
          "histogram": [
           {
            "marker": {
             "pattern": {
              "fillmode": "overlay",
              "size": 10,
              "solidity": 0.2
             }
            },
            "type": "histogram"
           }
          ],
          "histogram2d": [
           {
            "colorbar": {
             "outlinewidth": 0,
             "ticks": ""
            },
            "colorscale": [
             [
              0,
              "#0d0887"
             ],
             [
              0.1111111111111111,
              "#46039f"
             ],
             [
              0.2222222222222222,
              "#7201a8"
             ],
             [
              0.3333333333333333,
              "#9c179e"
             ],
             [
              0.4444444444444444,
              "#bd3786"
             ],
             [
              0.5555555555555556,
              "#d8576b"
             ],
             [
              0.6666666666666666,
              "#ed7953"
             ],
             [
              0.7777777777777778,
              "#fb9f3a"
             ],
             [
              0.8888888888888888,
              "#fdca26"
             ],
             [
              1,
              "#f0f921"
             ]
            ],
            "type": "histogram2d"
           }
          ],
          "histogram2dcontour": [
           {
            "colorbar": {
             "outlinewidth": 0,
             "ticks": ""
            },
            "colorscale": [
             [
              0,
              "#0d0887"
             ],
             [
              0.1111111111111111,
              "#46039f"
             ],
             [
              0.2222222222222222,
              "#7201a8"
             ],
             [
              0.3333333333333333,
              "#9c179e"
             ],
             [
              0.4444444444444444,
              "#bd3786"
             ],
             [
              0.5555555555555556,
              "#d8576b"
             ],
             [
              0.6666666666666666,
              "#ed7953"
             ],
             [
              0.7777777777777778,
              "#fb9f3a"
             ],
             [
              0.8888888888888888,
              "#fdca26"
             ],
             [
              1,
              "#f0f921"
             ]
            ],
            "type": "histogram2dcontour"
           }
          ],
          "mesh3d": [
           {
            "colorbar": {
             "outlinewidth": 0,
             "ticks": ""
            },
            "type": "mesh3d"
           }
          ],
          "parcoords": [
           {
            "line": {
             "colorbar": {
              "outlinewidth": 0,
              "ticks": ""
             }
            },
            "type": "parcoords"
           }
          ],
          "pie": [
           {
            "automargin": true,
            "type": "pie"
           }
          ],
          "scatter": [
           {
            "fillpattern": {
             "fillmode": "overlay",
             "size": 10,
             "solidity": 0.2
            },
            "type": "scatter"
           }
          ],
          "scatter3d": [
           {
            "line": {
             "colorbar": {
              "outlinewidth": 0,
              "ticks": ""
             }
            },
            "marker": {
             "colorbar": {
              "outlinewidth": 0,
              "ticks": ""
             }
            },
            "type": "scatter3d"
           }
          ],
          "scattercarpet": [
           {
            "marker": {
             "colorbar": {
              "outlinewidth": 0,
              "ticks": ""
             }
            },
            "type": "scattercarpet"
           }
          ],
          "scattergeo": [
           {
            "marker": {
             "colorbar": {
              "outlinewidth": 0,
              "ticks": ""
             }
            },
            "type": "scattergeo"
           }
          ],
          "scattergl": [
           {
            "marker": {
             "colorbar": {
              "outlinewidth": 0,
              "ticks": ""
             }
            },
            "type": "scattergl"
           }
          ],
          "scattermapbox": [
           {
            "marker": {
             "colorbar": {
              "outlinewidth": 0,
              "ticks": ""
             }
            },
            "type": "scattermapbox"
           }
          ],
          "scatterpolar": [
           {
            "marker": {
             "colorbar": {
              "outlinewidth": 0,
              "ticks": ""
             }
            },
            "type": "scatterpolar"
           }
          ],
          "scatterpolargl": [
           {
            "marker": {
             "colorbar": {
              "outlinewidth": 0,
              "ticks": ""
             }
            },
            "type": "scatterpolargl"
           }
          ],
          "scatterternary": [
           {
            "marker": {
             "colorbar": {
              "outlinewidth": 0,
              "ticks": ""
             }
            },
            "type": "scatterternary"
           }
          ],
          "surface": [
           {
            "colorbar": {
             "outlinewidth": 0,
             "ticks": ""
            },
            "colorscale": [
             [
              0,
              "#0d0887"
             ],
             [
              0.1111111111111111,
              "#46039f"
             ],
             [
              0.2222222222222222,
              "#7201a8"
             ],
             [
              0.3333333333333333,
              "#9c179e"
             ],
             [
              0.4444444444444444,
              "#bd3786"
             ],
             [
              0.5555555555555556,
              "#d8576b"
             ],
             [
              0.6666666666666666,
              "#ed7953"
             ],
             [
              0.7777777777777778,
              "#fb9f3a"
             ],
             [
              0.8888888888888888,
              "#fdca26"
             ],
             [
              1,
              "#f0f921"
             ]
            ],
            "type": "surface"
           }
          ],
          "table": [
           {
            "cells": {
             "fill": {
              "color": "#EBF0F8"
             },
             "line": {
              "color": "white"
             }
            },
            "header": {
             "fill": {
              "color": "#C8D4E3"
             },
             "line": {
              "color": "white"
             }
            },
            "type": "table"
           }
          ]
         },
         "layout": {
          "annotationdefaults": {
           "arrowcolor": "#2a3f5f",
           "arrowhead": 0,
           "arrowwidth": 1
          },
          "autotypenumbers": "strict",
          "coloraxis": {
           "colorbar": {
            "outlinewidth": 0,
            "ticks": ""
           }
          },
          "colorscale": {
           "diverging": [
            [
             0,
             "#8e0152"
            ],
            [
             0.1,
             "#c51b7d"
            ],
            [
             0.2,
             "#de77ae"
            ],
            [
             0.3,
             "#f1b6da"
            ],
            [
             0.4,
             "#fde0ef"
            ],
            [
             0.5,
             "#f7f7f7"
            ],
            [
             0.6,
             "#e6f5d0"
            ],
            [
             0.7,
             "#b8e186"
            ],
            [
             0.8,
             "#7fbc41"
            ],
            [
             0.9,
             "#4d9221"
            ],
            [
             1,
             "#276419"
            ]
           ],
           "sequential": [
            [
             0,
             "#0d0887"
            ],
            [
             0.1111111111111111,
             "#46039f"
            ],
            [
             0.2222222222222222,
             "#7201a8"
            ],
            [
             0.3333333333333333,
             "#9c179e"
            ],
            [
             0.4444444444444444,
             "#bd3786"
            ],
            [
             0.5555555555555556,
             "#d8576b"
            ],
            [
             0.6666666666666666,
             "#ed7953"
            ],
            [
             0.7777777777777778,
             "#fb9f3a"
            ],
            [
             0.8888888888888888,
             "#fdca26"
            ],
            [
             1,
             "#f0f921"
            ]
           ],
           "sequentialminus": [
            [
             0,
             "#0d0887"
            ],
            [
             0.1111111111111111,
             "#46039f"
            ],
            [
             0.2222222222222222,
             "#7201a8"
            ],
            [
             0.3333333333333333,
             "#9c179e"
            ],
            [
             0.4444444444444444,
             "#bd3786"
            ],
            [
             0.5555555555555556,
             "#d8576b"
            ],
            [
             0.6666666666666666,
             "#ed7953"
            ],
            [
             0.7777777777777778,
             "#fb9f3a"
            ],
            [
             0.8888888888888888,
             "#fdca26"
            ],
            [
             1,
             "#f0f921"
            ]
           ]
          },
          "colorway": [
           "#636efa",
           "#EF553B",
           "#00cc96",
           "#ab63fa",
           "#FFA15A",
           "#19d3f3",
           "#FF6692",
           "#B6E880",
           "#FF97FF",
           "#FECB52"
          ],
          "font": {
           "color": "#2a3f5f"
          },
          "geo": {
           "bgcolor": "white",
           "lakecolor": "white",
           "landcolor": "#E5ECF6",
           "showlakes": true,
           "showland": true,
           "subunitcolor": "white"
          },
          "hoverlabel": {
           "align": "left"
          },
          "hovermode": "closest",
          "mapbox": {
           "style": "light"
          },
          "paper_bgcolor": "white",
          "plot_bgcolor": "#E5ECF6",
          "polar": {
           "angularaxis": {
            "gridcolor": "white",
            "linecolor": "white",
            "ticks": ""
           },
           "bgcolor": "#E5ECF6",
           "radialaxis": {
            "gridcolor": "white",
            "linecolor": "white",
            "ticks": ""
           }
          },
          "scene": {
           "xaxis": {
            "backgroundcolor": "#E5ECF6",
            "gridcolor": "white",
            "gridwidth": 2,
            "linecolor": "white",
            "showbackground": true,
            "ticks": "",
            "zerolinecolor": "white"
           },
           "yaxis": {
            "backgroundcolor": "#E5ECF6",
            "gridcolor": "white",
            "gridwidth": 2,
            "linecolor": "white",
            "showbackground": true,
            "ticks": "",
            "zerolinecolor": "white"
           },
           "zaxis": {
            "backgroundcolor": "#E5ECF6",
            "gridcolor": "white",
            "gridwidth": 2,
            "linecolor": "white",
            "showbackground": true,
            "ticks": "",
            "zerolinecolor": "white"
           }
          },
          "shapedefaults": {
           "line": {
            "color": "#2a3f5f"
           }
          },
          "ternary": {
           "aaxis": {
            "gridcolor": "white",
            "linecolor": "white",
            "ticks": ""
           },
           "baxis": {
            "gridcolor": "white",
            "linecolor": "white",
            "ticks": ""
           },
           "bgcolor": "#E5ECF6",
           "caxis": {
            "gridcolor": "white",
            "linecolor": "white",
            "ticks": ""
           }
          },
          "title": {
           "x": 0.05
          },
          "xaxis": {
           "automargin": true,
           "gridcolor": "white",
           "linecolor": "white",
           "ticks": "",
           "title": {
            "standoff": 15
           },
           "zerolinecolor": "white",
           "zerolinewidth": 2
          },
          "yaxis": {
           "automargin": true,
           "gridcolor": "white",
           "linecolor": "white",
           "ticks": "",
           "title": {
            "standoff": 15
           },
           "zerolinecolor": "white",
           "zerolinewidth": 2
          }
         }
        },
        "title": {
         "text": "Internet Usage Over Time"
        },
        "xaxis": {
         "anchor": "y",
         "domain": [
          0,
          1
         ],
         "title": {
          "text": "index"
         }
        },
        "yaxis": {
         "anchor": "x",
         "domain": [
          0,
          1
         ],
         "title": {
          "text": "value"
         }
        }
       }
      },
      "text/html": [
       "<div>                            <div id=\"28593a44-1501-499f-8652-fa3112d4a632\" class=\"plotly-graph-div\" style=\"height:525px; width:100%;\"></div>            <script type=\"text/javascript\">                require([\"plotly\"], function(Plotly) {                    window.PLOTLYENV=window.PLOTLYENV || {};                                    if (document.getElementById(\"28593a44-1501-499f-8652-fa3112d4a632\")) {                    Plotly.newPlot(                        \"28593a44-1501-499f-8652-fa3112d4a632\",                        [{\"hovertemplate\":\"variable=Iceland<br>index=%{x}<br>value=%{y}<extra></extra>\",\"legendgroup\":\"Iceland\",\"line\":{\"color\":\"#636efa\",\"dash\":\"solid\"},\"marker\":{\"symbol\":\"circle\"},\"mode\":\"lines\",\"name\":\"Iceland\",\"orientation\":\"v\",\"showlegend\":true,\"x\":[1990,1991,1992,1993,1994,1995,1996,1997,1998,1999,2000,2001,2002,2003,2004,2005,2006,2007,2008,2009,2010,2011,2012,2013,2014,2015,2016,2017,2018,2019,2020,2021,2022,2023],\"xaxis\":\"x\",\"y\":[0.0,0.505129002,1.53916008,2.667825265,6.794811784,11.2158757,14.80647932,27.47886875,36.2642065,41.29456671,44.4705,49.393,79.12,83.14,83.88,87.0,89.51,90.6,91.0,93.0,93.39,94.8197,96.2098,96.5468,98.158,98.2,98.24,98.2552,99.011,99.5049,99.5328,99.687,99.8565,99.8565],\"yaxis\":\"y\",\"type\":\"scatter\"},{\"hovertemplate\":\"variable=India<br>index=%{x}<br>value=%{y}<extra></extra>\",\"legendgroup\":\"India\",\"line\":{\"color\":\"#EF553B\",\"dash\":\"solid\"},\"marker\":{\"symbol\":\"circle\"},\"mode\":\"lines\",\"name\":\"India\",\"orientation\":\"v\",\"showlegend\":true,\"x\":[1990,1991,1992,1993,1994,1995,1996,1997,1998,1999,2000,2001,2002,2003,2004,2005,2006,2007,2008,2009,2010,2011,2012,2013,2014,2015,2016,2017,2018,2019,2020,2021,2022,2023],\"xaxis\":\"x\",\"y\":[0.0,0.0,0.000111308,0.000218176,0.001069562,0.026228879,0.046333977,0.070767849,0.139027329,0.273224277,0.527532,0.660146,1.53788,1.68649,1.97614,2.38807,2.8055,3.95,4.38,5.12,7.5,10.07,11.1,12.3,13.5,14.9,16.5,18.2,20.0813,29.5235,43.4054,43.4054,43.4054,43.4054],\"yaxis\":\"y\",\"type\":\"scatter\"},{\"hovertemplate\":\"variable=United States<br>index=%{x}<br>value=%{y}<extra></extra>\",\"legendgroup\":\"United States\",\"line\":{\"color\":\"#00cc96\",\"dash\":\"solid\"},\"marker\":{\"symbol\":\"circle\"},\"mode\":\"lines\",\"name\":\"United States\",\"orientation\":\"v\",\"showlegend\":true,\"x\":[1990,1991,1992,1993,1994,1995,1996,1997,1998,1999,2000,2001,2002,2003,2004,2005,2006,2007,2008,2009,2010,2011,2012,2013,2014,2015,2016,2017,2018,2019,2020,2021,2022,2023],\"xaxis\":\"x\",\"y\":[0.784728502,1.163193726,1.724202539,2.271673294,4.862780635,9.237088297,16.41935296,21.61640097,30.09319659,35.84872446,43.0792,49.0808,58.7854,61.6971,64.7583,67.9681,68.9312,75.0,74.0,71.0,71.69,69.7295,74.7,71.4,73.0,74.5542,85.5444,87.2749,88.4989,89.4303,96.5768,96.7792,97.1299,97.1299],\"yaxis\":\"y\",\"type\":\"scatter\"}],                        {\"template\":{\"data\":{\"histogram2dcontour\":[{\"type\":\"histogram2dcontour\",\"colorbar\":{\"outlinewidth\":0,\"ticks\":\"\"},\"colorscale\":[[0.0,\"#0d0887\"],[0.1111111111111111,\"#46039f\"],[0.2222222222222222,\"#7201a8\"],[0.3333333333333333,\"#9c179e\"],[0.4444444444444444,\"#bd3786\"],[0.5555555555555556,\"#d8576b\"],[0.6666666666666666,\"#ed7953\"],[0.7777777777777778,\"#fb9f3a\"],[0.8888888888888888,\"#fdca26\"],[1.0,\"#f0f921\"]]}],\"choropleth\":[{\"type\":\"choropleth\",\"colorbar\":{\"outlinewidth\":0,\"ticks\":\"\"}}],\"histogram2d\":[{\"type\":\"histogram2d\",\"colorbar\":{\"outlinewidth\":0,\"ticks\":\"\"},\"colorscale\":[[0.0,\"#0d0887\"],[0.1111111111111111,\"#46039f\"],[0.2222222222222222,\"#7201a8\"],[0.3333333333333333,\"#9c179e\"],[0.4444444444444444,\"#bd3786\"],[0.5555555555555556,\"#d8576b\"],[0.6666666666666666,\"#ed7953\"],[0.7777777777777778,\"#fb9f3a\"],[0.8888888888888888,\"#fdca26\"],[1.0,\"#f0f921\"]]}],\"heatmap\":[{\"type\":\"heatmap\",\"colorbar\":{\"outlinewidth\":0,\"ticks\":\"\"},\"colorscale\":[[0.0,\"#0d0887\"],[0.1111111111111111,\"#46039f\"],[0.2222222222222222,\"#7201a8\"],[0.3333333333333333,\"#9c179e\"],[0.4444444444444444,\"#bd3786\"],[0.5555555555555556,\"#d8576b\"],[0.6666666666666666,\"#ed7953\"],[0.7777777777777778,\"#fb9f3a\"],[0.8888888888888888,\"#fdca26\"],[1.0,\"#f0f921\"]]}],\"heatmapgl\":[{\"type\":\"heatmapgl\",\"colorbar\":{\"outlinewidth\":0,\"ticks\":\"\"},\"colorscale\":[[0.0,\"#0d0887\"],[0.1111111111111111,\"#46039f\"],[0.2222222222222222,\"#7201a8\"],[0.3333333333333333,\"#9c179e\"],[0.4444444444444444,\"#bd3786\"],[0.5555555555555556,\"#d8576b\"],[0.6666666666666666,\"#ed7953\"],[0.7777777777777778,\"#fb9f3a\"],[0.8888888888888888,\"#fdca26\"],[1.0,\"#f0f921\"]]}],\"contourcarpet\":[{\"type\":\"contourcarpet\",\"colorbar\":{\"outlinewidth\":0,\"ticks\":\"\"}}],\"contour\":[{\"type\":\"contour\",\"colorbar\":{\"outlinewidth\":0,\"ticks\":\"\"},\"colorscale\":[[0.0,\"#0d0887\"],[0.1111111111111111,\"#46039f\"],[0.2222222222222222,\"#7201a8\"],[0.3333333333333333,\"#9c179e\"],[0.4444444444444444,\"#bd3786\"],[0.5555555555555556,\"#d8576b\"],[0.6666666666666666,\"#ed7953\"],[0.7777777777777778,\"#fb9f3a\"],[0.8888888888888888,\"#fdca26\"],[1.0,\"#f0f921\"]]}],\"surface\":[{\"type\":\"surface\",\"colorbar\":{\"outlinewidth\":0,\"ticks\":\"\"},\"colorscale\":[[0.0,\"#0d0887\"],[0.1111111111111111,\"#46039f\"],[0.2222222222222222,\"#7201a8\"],[0.3333333333333333,\"#9c179e\"],[0.4444444444444444,\"#bd3786\"],[0.5555555555555556,\"#d8576b\"],[0.6666666666666666,\"#ed7953\"],[0.7777777777777778,\"#fb9f3a\"],[0.8888888888888888,\"#fdca26\"],[1.0,\"#f0f921\"]]}],\"mesh3d\":[{\"type\":\"mesh3d\",\"colorbar\":{\"outlinewidth\":0,\"ticks\":\"\"}}],\"scatter\":[{\"fillpattern\":{\"fillmode\":\"overlay\",\"size\":10,\"solidity\":0.2},\"type\":\"scatter\"}],\"parcoords\":[{\"type\":\"parcoords\",\"line\":{\"colorbar\":{\"outlinewidth\":0,\"ticks\":\"\"}}}],\"scatterpolargl\":[{\"type\":\"scatterpolargl\",\"marker\":{\"colorbar\":{\"outlinewidth\":0,\"ticks\":\"\"}}}],\"bar\":[{\"error_x\":{\"color\":\"#2a3f5f\"},\"error_y\":{\"color\":\"#2a3f5f\"},\"marker\":{\"line\":{\"color\":\"#E5ECF6\",\"width\":0.5},\"pattern\":{\"fillmode\":\"overlay\",\"size\":10,\"solidity\":0.2}},\"type\":\"bar\"}],\"scattergeo\":[{\"type\":\"scattergeo\",\"marker\":{\"colorbar\":{\"outlinewidth\":0,\"ticks\":\"\"}}}],\"scatterpolar\":[{\"type\":\"scatterpolar\",\"marker\":{\"colorbar\":{\"outlinewidth\":0,\"ticks\":\"\"}}}],\"histogram\":[{\"marker\":{\"pattern\":{\"fillmode\":\"overlay\",\"size\":10,\"solidity\":0.2}},\"type\":\"histogram\"}],\"scattergl\":[{\"type\":\"scattergl\",\"marker\":{\"colorbar\":{\"outlinewidth\":0,\"ticks\":\"\"}}}],\"scatter3d\":[{\"type\":\"scatter3d\",\"line\":{\"colorbar\":{\"outlinewidth\":0,\"ticks\":\"\"}},\"marker\":{\"colorbar\":{\"outlinewidth\":0,\"ticks\":\"\"}}}],\"scattermapbox\":[{\"type\":\"scattermapbox\",\"marker\":{\"colorbar\":{\"outlinewidth\":0,\"ticks\":\"\"}}}],\"scatterternary\":[{\"type\":\"scatterternary\",\"marker\":{\"colorbar\":{\"outlinewidth\":0,\"ticks\":\"\"}}}],\"scattercarpet\":[{\"type\":\"scattercarpet\",\"marker\":{\"colorbar\":{\"outlinewidth\":0,\"ticks\":\"\"}}}],\"carpet\":[{\"aaxis\":{\"endlinecolor\":\"#2a3f5f\",\"gridcolor\":\"white\",\"linecolor\":\"white\",\"minorgridcolor\":\"white\",\"startlinecolor\":\"#2a3f5f\"},\"baxis\":{\"endlinecolor\":\"#2a3f5f\",\"gridcolor\":\"white\",\"linecolor\":\"white\",\"minorgridcolor\":\"white\",\"startlinecolor\":\"#2a3f5f\"},\"type\":\"carpet\"}],\"table\":[{\"cells\":{\"fill\":{\"color\":\"#EBF0F8\"},\"line\":{\"color\":\"white\"}},\"header\":{\"fill\":{\"color\":\"#C8D4E3\"},\"line\":{\"color\":\"white\"}},\"type\":\"table\"}],\"barpolar\":[{\"marker\":{\"line\":{\"color\":\"#E5ECF6\",\"width\":0.5},\"pattern\":{\"fillmode\":\"overlay\",\"size\":10,\"solidity\":0.2}},\"type\":\"barpolar\"}],\"pie\":[{\"automargin\":true,\"type\":\"pie\"}]},\"layout\":{\"autotypenumbers\":\"strict\",\"colorway\":[\"#636efa\",\"#EF553B\",\"#00cc96\",\"#ab63fa\",\"#FFA15A\",\"#19d3f3\",\"#FF6692\",\"#B6E880\",\"#FF97FF\",\"#FECB52\"],\"font\":{\"color\":\"#2a3f5f\"},\"hovermode\":\"closest\",\"hoverlabel\":{\"align\":\"left\"},\"paper_bgcolor\":\"white\",\"plot_bgcolor\":\"#E5ECF6\",\"polar\":{\"bgcolor\":\"#E5ECF6\",\"angularaxis\":{\"gridcolor\":\"white\",\"linecolor\":\"white\",\"ticks\":\"\"},\"radialaxis\":{\"gridcolor\":\"white\",\"linecolor\":\"white\",\"ticks\":\"\"}},\"ternary\":{\"bgcolor\":\"#E5ECF6\",\"aaxis\":{\"gridcolor\":\"white\",\"linecolor\":\"white\",\"ticks\":\"\"},\"baxis\":{\"gridcolor\":\"white\",\"linecolor\":\"white\",\"ticks\":\"\"},\"caxis\":{\"gridcolor\":\"white\",\"linecolor\":\"white\",\"ticks\":\"\"}},\"coloraxis\":{\"colorbar\":{\"outlinewidth\":0,\"ticks\":\"\"}},\"colorscale\":{\"sequential\":[[0.0,\"#0d0887\"],[0.1111111111111111,\"#46039f\"],[0.2222222222222222,\"#7201a8\"],[0.3333333333333333,\"#9c179e\"],[0.4444444444444444,\"#bd3786\"],[0.5555555555555556,\"#d8576b\"],[0.6666666666666666,\"#ed7953\"],[0.7777777777777778,\"#fb9f3a\"],[0.8888888888888888,\"#fdca26\"],[1.0,\"#f0f921\"]],\"sequentialminus\":[[0.0,\"#0d0887\"],[0.1111111111111111,\"#46039f\"],[0.2222222222222222,\"#7201a8\"],[0.3333333333333333,\"#9c179e\"],[0.4444444444444444,\"#bd3786\"],[0.5555555555555556,\"#d8576b\"],[0.6666666666666666,\"#ed7953\"],[0.7777777777777778,\"#fb9f3a\"],[0.8888888888888888,\"#fdca26\"],[1.0,\"#f0f921\"]],\"diverging\":[[0,\"#8e0152\"],[0.1,\"#c51b7d\"],[0.2,\"#de77ae\"],[0.3,\"#f1b6da\"],[0.4,\"#fde0ef\"],[0.5,\"#f7f7f7\"],[0.6,\"#e6f5d0\"],[0.7,\"#b8e186\"],[0.8,\"#7fbc41\"],[0.9,\"#4d9221\"],[1,\"#276419\"]]},\"xaxis\":{\"gridcolor\":\"white\",\"linecolor\":\"white\",\"ticks\":\"\",\"title\":{\"standoff\":15},\"zerolinecolor\":\"white\",\"automargin\":true,\"zerolinewidth\":2},\"yaxis\":{\"gridcolor\":\"white\",\"linecolor\":\"white\",\"ticks\":\"\",\"title\":{\"standoff\":15},\"zerolinecolor\":\"white\",\"automargin\":true,\"zerolinewidth\":2},\"scene\":{\"xaxis\":{\"backgroundcolor\":\"#E5ECF6\",\"gridcolor\":\"white\",\"linecolor\":\"white\",\"showbackground\":true,\"ticks\":\"\",\"zerolinecolor\":\"white\",\"gridwidth\":2},\"yaxis\":{\"backgroundcolor\":\"#E5ECF6\",\"gridcolor\":\"white\",\"linecolor\":\"white\",\"showbackground\":true,\"ticks\":\"\",\"zerolinecolor\":\"white\",\"gridwidth\":2},\"zaxis\":{\"backgroundcolor\":\"#E5ECF6\",\"gridcolor\":\"white\",\"linecolor\":\"white\",\"showbackground\":true,\"ticks\":\"\",\"zerolinecolor\":\"white\",\"gridwidth\":2}},\"shapedefaults\":{\"line\":{\"color\":\"#2a3f5f\"}},\"annotationdefaults\":{\"arrowcolor\":\"#2a3f5f\",\"arrowhead\":0,\"arrowwidth\":1},\"geo\":{\"bgcolor\":\"white\",\"landcolor\":\"#E5ECF6\",\"subunitcolor\":\"white\",\"showland\":true,\"showlakes\":true,\"lakecolor\":\"white\"},\"title\":{\"x\":0.05},\"mapbox\":{\"style\":\"light\"}}},\"xaxis\":{\"anchor\":\"y\",\"domain\":[0.0,1.0],\"title\":{\"text\":\"index\"}},\"yaxis\":{\"anchor\":\"x\",\"domain\":[0.0,1.0],\"title\":{\"text\":\"value\"}},\"legend\":{\"title\":{\"text\":\"variable\"},\"tracegroupgap\":0},\"title\":{\"text\":\"Internet Usage Over Time\"}},                        {\"responsive\": true}                    ).then(function(){\n",
       "                            \n",
       "var gd = document.getElementById('28593a44-1501-499f-8652-fa3112d4a632');\n",
       "var x = new MutationObserver(function (mutations, observer) {{\n",
       "        var display = window.getComputedStyle(gd).display;\n",
       "        if (!display || display === 'none') {{\n",
       "            console.log([gd, 'removed!']);\n",
       "            Plotly.purge(gd);\n",
       "            observer.disconnect();\n",
       "        }}\n",
       "}});\n",
       "\n",
       "// Listen for the removal of the full notebook cells\n",
       "var notebookContainer = gd.closest('#notebook-container');\n",
       "if (notebookContainer) {{\n",
       "    x.observe(notebookContainer, {childList: true});\n",
       "}}\n",
       "\n",
       "// Listen for the clearing of the current output cell\n",
       "var outputEl = gd.closest('.output');\n",
       "if (outputEl) {{\n",
       "    x.observe(outputEl, {childList: true});\n",
       "}}\n",
       "\n",
       "                        })                };                });            </script>        </div>"
      ]
     },
     "metadata": {},
     "output_type": "display_data"
    }
   ],
   "source": [
    "#Showcasing this seperately, with different countries\n",
    "wb = pd.read_csv('C:/Users/skyes/Documents/Projects/worldbank-country-internet-data.csv')\n",
    "countries = ['Iceland', 'India', 'United States']\n",
    "internet_stats = get_cleaned_data(wb, 'IT.NET.USER.ZS', countries)\n",
    "internet_stats.index = internet_stats.index.astype(int)\n",
    "internet_stats = internet_stats.interpolate(method='linear', order=2)\n",
    "\n",
    "px.line(internet_stats, x=internet_stats.index, y=countries, title='Internet Usage Over Time')"
   ]
  },
  {
   "cell_type": "code",
   "execution_count": 113,
   "id": "1a97a3af",
   "metadata": {},
   "outputs": [
    {
     "data": {
      "text/html": [
       "<div>\n",
       "<style scoped>\n",
       "    .dataframe tbody tr th:only-of-type {\n",
       "        vertical-align: middle;\n",
       "    }\n",
       "\n",
       "    .dataframe tbody tr th {\n",
       "        vertical-align: top;\n",
       "    }\n",
       "\n",
       "    .dataframe thead th {\n",
       "        text-align: right;\n",
       "    }\n",
       "</style>\n",
       "<table border=\"1\" class=\"dataframe\">\n",
       "  <thead>\n",
       "    <tr style=\"text-align: right;\">\n",
       "      <th>country_name</th>\n",
       "      <th>Iceland</th>\n",
       "      <th>India</th>\n",
       "      <th>United States</th>\n",
       "    </tr>\n",
       "  </thead>\n",
       "  <tbody>\n",
       "    <tr>\n",
       "      <th>1990</th>\n",
       "      <td>0.000000</td>\n",
       "      <td>0.000000</td>\n",
       "      <td>0.784729</td>\n",
       "    </tr>\n",
       "    <tr>\n",
       "      <th>1991</th>\n",
       "      <td>0.505129</td>\n",
       "      <td>0.000000</td>\n",
       "      <td>1.163194</td>\n",
       "    </tr>\n",
       "    <tr>\n",
       "      <th>1992</th>\n",
       "      <td>1.539160</td>\n",
       "      <td>0.000111</td>\n",
       "      <td>1.724203</td>\n",
       "    </tr>\n",
       "    <tr>\n",
       "      <th>1993</th>\n",
       "      <td>2.667825</td>\n",
       "      <td>0.000218</td>\n",
       "      <td>2.271673</td>\n",
       "    </tr>\n",
       "    <tr>\n",
       "      <th>1994</th>\n",
       "      <td>6.794812</td>\n",
       "      <td>0.001070</td>\n",
       "      <td>4.862781</td>\n",
       "    </tr>\n",
       "    <tr>\n",
       "      <th>1995</th>\n",
       "      <td>11.215876</td>\n",
       "      <td>0.026229</td>\n",
       "      <td>9.237088</td>\n",
       "    </tr>\n",
       "    <tr>\n",
       "      <th>1996</th>\n",
       "      <td>14.806479</td>\n",
       "      <td>0.046334</td>\n",
       "      <td>16.419353</td>\n",
       "    </tr>\n",
       "    <tr>\n",
       "      <th>1997</th>\n",
       "      <td>27.478869</td>\n",
       "      <td>0.070768</td>\n",
       "      <td>21.616401</td>\n",
       "    </tr>\n",
       "    <tr>\n",
       "      <th>1998</th>\n",
       "      <td>36.264207</td>\n",
       "      <td>0.139027</td>\n",
       "      <td>30.093197</td>\n",
       "    </tr>\n",
       "    <tr>\n",
       "      <th>1999</th>\n",
       "      <td>41.294567</td>\n",
       "      <td>0.273224</td>\n",
       "      <td>35.848724</td>\n",
       "    </tr>\n",
       "    <tr>\n",
       "      <th>2000</th>\n",
       "      <td>44.470500</td>\n",
       "      <td>0.527532</td>\n",
       "      <td>43.079200</td>\n",
       "    </tr>\n",
       "    <tr>\n",
       "      <th>2001</th>\n",
       "      <td>49.393000</td>\n",
       "      <td>0.660146</td>\n",
       "      <td>49.080800</td>\n",
       "    </tr>\n",
       "    <tr>\n",
       "      <th>2002</th>\n",
       "      <td>79.120000</td>\n",
       "      <td>1.537880</td>\n",
       "      <td>58.785400</td>\n",
       "    </tr>\n",
       "    <tr>\n",
       "      <th>2003</th>\n",
       "      <td>83.140000</td>\n",
       "      <td>1.686490</td>\n",
       "      <td>61.697100</td>\n",
       "    </tr>\n",
       "    <tr>\n",
       "      <th>2004</th>\n",
       "      <td>83.880000</td>\n",
       "      <td>1.976140</td>\n",
       "      <td>64.758300</td>\n",
       "    </tr>\n",
       "    <tr>\n",
       "      <th>2005</th>\n",
       "      <td>87.000000</td>\n",
       "      <td>2.388070</td>\n",
       "      <td>67.968100</td>\n",
       "    </tr>\n",
       "    <tr>\n",
       "      <th>2006</th>\n",
       "      <td>89.510000</td>\n",
       "      <td>2.805500</td>\n",
       "      <td>68.931200</td>\n",
       "    </tr>\n",
       "    <tr>\n",
       "      <th>2007</th>\n",
       "      <td>90.600000</td>\n",
       "      <td>3.950000</td>\n",
       "      <td>75.000000</td>\n",
       "    </tr>\n",
       "    <tr>\n",
       "      <th>2008</th>\n",
       "      <td>91.000000</td>\n",
       "      <td>4.380000</td>\n",
       "      <td>74.000000</td>\n",
       "    </tr>\n",
       "    <tr>\n",
       "      <th>2009</th>\n",
       "      <td>93.000000</td>\n",
       "      <td>5.120000</td>\n",
       "      <td>71.000000</td>\n",
       "    </tr>\n",
       "    <tr>\n",
       "      <th>2010</th>\n",
       "      <td>93.390000</td>\n",
       "      <td>7.500000</td>\n",
       "      <td>71.690000</td>\n",
       "    </tr>\n",
       "    <tr>\n",
       "      <th>2011</th>\n",
       "      <td>94.819700</td>\n",
       "      <td>10.070000</td>\n",
       "      <td>69.729500</td>\n",
       "    </tr>\n",
       "    <tr>\n",
       "      <th>2012</th>\n",
       "      <td>96.209800</td>\n",
       "      <td>11.100000</td>\n",
       "      <td>74.700000</td>\n",
       "    </tr>\n",
       "    <tr>\n",
       "      <th>2013</th>\n",
       "      <td>96.546800</td>\n",
       "      <td>12.300000</td>\n",
       "      <td>71.400000</td>\n",
       "    </tr>\n",
       "    <tr>\n",
       "      <th>2014</th>\n",
       "      <td>98.158000</td>\n",
       "      <td>13.500000</td>\n",
       "      <td>73.000000</td>\n",
       "    </tr>\n",
       "    <tr>\n",
       "      <th>2015</th>\n",
       "      <td>98.200000</td>\n",
       "      <td>14.900000</td>\n",
       "      <td>74.554200</td>\n",
       "    </tr>\n",
       "    <tr>\n",
       "      <th>2016</th>\n",
       "      <td>98.240000</td>\n",
       "      <td>16.500000</td>\n",
       "      <td>85.544400</td>\n",
       "    </tr>\n",
       "    <tr>\n",
       "      <th>2017</th>\n",
       "      <td>98.255200</td>\n",
       "      <td>18.200000</td>\n",
       "      <td>87.274900</td>\n",
       "    </tr>\n",
       "    <tr>\n",
       "      <th>2018</th>\n",
       "      <td>99.011000</td>\n",
       "      <td>20.081300</td>\n",
       "      <td>88.498900</td>\n",
       "    </tr>\n",
       "    <tr>\n",
       "      <th>2019</th>\n",
       "      <td>99.504900</td>\n",
       "      <td>29.523500</td>\n",
       "      <td>89.430300</td>\n",
       "    </tr>\n",
       "    <tr>\n",
       "      <th>2020</th>\n",
       "      <td>99.532800</td>\n",
       "      <td>43.405400</td>\n",
       "      <td>96.576800</td>\n",
       "    </tr>\n",
       "    <tr>\n",
       "      <th>2021</th>\n",
       "      <td>99.687000</td>\n",
       "      <td>43.405400</td>\n",
       "      <td>96.779200</td>\n",
       "    </tr>\n",
       "    <tr>\n",
       "      <th>2022</th>\n",
       "      <td>99.856500</td>\n",
       "      <td>43.405400</td>\n",
       "      <td>97.129900</td>\n",
       "    </tr>\n",
       "    <tr>\n",
       "      <th>2023</th>\n",
       "      <td>99.856500</td>\n",
       "      <td>43.405400</td>\n",
       "      <td>97.129900</td>\n",
       "    </tr>\n",
       "  </tbody>\n",
       "</table>\n",
       "</div>"
      ],
      "text/plain": [
       "country_name    Iceland      India  United States\n",
       "1990           0.000000   0.000000       0.784729\n",
       "1991           0.505129   0.000000       1.163194\n",
       "1992           1.539160   0.000111       1.724203\n",
       "1993           2.667825   0.000218       2.271673\n",
       "1994           6.794812   0.001070       4.862781\n",
       "1995          11.215876   0.026229       9.237088\n",
       "1996          14.806479   0.046334      16.419353\n",
       "1997          27.478869   0.070768      21.616401\n",
       "1998          36.264207   0.139027      30.093197\n",
       "1999          41.294567   0.273224      35.848724\n",
       "2000          44.470500   0.527532      43.079200\n",
       "2001          49.393000   0.660146      49.080800\n",
       "2002          79.120000   1.537880      58.785400\n",
       "2003          83.140000   1.686490      61.697100\n",
       "2004          83.880000   1.976140      64.758300\n",
       "2005          87.000000   2.388070      67.968100\n",
       "2006          89.510000   2.805500      68.931200\n",
       "2007          90.600000   3.950000      75.000000\n",
       "2008          91.000000   4.380000      74.000000\n",
       "2009          93.000000   5.120000      71.000000\n",
       "2010          93.390000   7.500000      71.690000\n",
       "2011          94.819700  10.070000      69.729500\n",
       "2012          96.209800  11.100000      74.700000\n",
       "2013          96.546800  12.300000      71.400000\n",
       "2014          98.158000  13.500000      73.000000\n",
       "2015          98.200000  14.900000      74.554200\n",
       "2016          98.240000  16.500000      85.544400\n",
       "2017          98.255200  18.200000      87.274900\n",
       "2018          99.011000  20.081300      88.498900\n",
       "2019          99.504900  29.523500      89.430300\n",
       "2020          99.532800  43.405400      96.576800\n",
       "2021          99.687000  43.405400      96.779200\n",
       "2022          99.856500  43.405400      97.129900\n",
       "2023          99.856500  43.405400      97.129900"
      ]
     },
     "execution_count": 113,
     "metadata": {},
     "output_type": "execute_result"
    }
   ],
   "source": [
    "internet_stats"
   ]
  },
  {
   "cell_type": "code",
   "execution_count": 115,
   "id": "fe2f3a25",
   "metadata": {},
   "outputs": [
    {
     "name": "stderr",
     "output_type": "stream",
     "text": [
      "C:\\Users\\skyes\\anaconda3\\Lib\\site-packages\\plotly\\io\\_renderers.py:395: DeprecationWarning:\n",
      "\n",
      "distutils Version classes are deprecated. Use packaging.version instead.\n",
      "\n",
      "C:\\Users\\skyes\\anaconda3\\Lib\\site-packages\\plotly\\io\\_renderers.py:395: DeprecationWarning:\n",
      "\n",
      "distutils Version classes are deprecated. Use packaging.version instead.\n",
      "\n"
     ]
    },
    {
     "data": {
      "application/vnd.plotly.v1+json": {
       "config": {
        "plotlyServerURL": "https://plot.ly"
       },
       "data": [
        {
         "hovertemplate": "variable=Iceland<br>index=%{x}<br>value=%{y}<extra></extra>",
         "legendgroup": "Iceland",
         "line": {
          "color": "#636efa",
          "dash": "solid"
         },
         "marker": {
          "symbol": "circle"
         },
         "mode": "lines",
         "name": "Iceland",
         "orientation": "v",
         "showlegend": true,
         "type": "scatter",
         "x": [
          1990,
          1991,
          1992,
          1993,
          1994,
          1995,
          1996,
          1997,
          1998,
          1999,
          2000,
          2001,
          2002,
          2003,
          2004,
          2005,
          2006,
          2007,
          2008,
          2009,
          2010,
          2011,
          2012,
          2013,
          2014,
          2015,
          2016,
          2017,
          2018,
          2019,
          2020,
          2021,
          2022,
          2023
         ],
         "xaxis": "x",
         "y": [
          null,
          null,
          null,
          null,
          null,
          null,
          null,
          null,
          null,
          null,
          null,
          null,
          null,
          84.6348,
          85.4407,
          87.9396,
          90.453,
          91.8273,
          92.108,
          94.6653,
          95.1988,
          95.7796,
          96.9532,
          97.5293,
          98.2718,
          98.21979999999999,
          98.1678,
          98.1158,
          98.6356,
          99.4751,
          99.2784,
          99.6897,
          99.6897,
          99.6897
         ],
         "yaxis": "y"
        },
        {
         "hovertemplate": "variable=India<br>index=%{x}<br>value=%{y}<extra></extra>",
         "legendgroup": "India",
         "line": {
          "color": "#EF553B",
          "dash": "solid"
         },
         "marker": {
          "symbol": "circle"
         },
         "mode": "lines",
         "name": "India",
         "orientation": "v",
         "showlegend": true,
         "type": "scatter",
         "x": [
          1990,
          1991,
          1992,
          1993,
          1994,
          1995,
          1996,
          1997,
          1998,
          1999,
          2000,
          2001,
          2002,
          2003,
          2004,
          2005,
          2006,
          2007,
          2008,
          2009,
          2010,
          2011,
          2012,
          2013,
          2014,
          2015,
          2016,
          2017,
          2018,
          2019,
          2020,
          2021,
          2022,
          2023
         ],
         "xaxis": "x",
         "y": [
          null,
          null,
          null,
          null,
          null,
          null,
          null,
          null,
          null,
          null,
          null,
          null,
          null,
          null,
          null,
          null,
          null,
          null,
          null,
          null,
          null,
          null,
          null,
          null,
          null,
          null,
          null,
          null,
          25,
          25,
          25,
          25,
          25,
          25
         ],
         "yaxis": "y"
        },
        {
         "hovertemplate": "variable=United States<br>index=%{x}<br>value=%{y}<extra></extra>",
         "legendgroup": "United States",
         "line": {
          "color": "#00cc96",
          "dash": "solid"
         },
         "marker": {
          "symbol": "circle"
         },
         "mode": "lines",
         "name": "United States",
         "orientation": "v",
         "showlegend": true,
         "type": "scatter",
         "x": [
          1990,
          1991,
          1992,
          1993,
          1994,
          1995,
          1996,
          1997,
          1998,
          1999,
          2000,
          2001,
          2002,
          2003,
          2004,
          2005,
          2006,
          2007,
          2008,
          2009,
          2010,
          2011,
          2012,
          2013,
          2014,
          2015,
          2016,
          2017,
          2018,
          2019,
          2020,
          2021,
          2022,
          2023
         ],
         "xaxis": "x",
         "y": [
          null,
          null,
          null,
          null,
          null,
          null,
          null,
          null,
          null,
          null,
          null,
          null,
          null,
          null,
          null,
          null,
          null,
          null,
          null,
          67.9408,
          71.2639,
          69.3692,
          74.1254,
          70.9145,
          72.5623,
          74.2101,
          74.2101,
          74.2101,
          74.2101,
          74.2101,
          74.2101,
          74.2101,
          74.2101,
          74.2101
         ],
         "yaxis": "y"
        }
       ],
       "layout": {
        "legend": {
         "title": {
          "text": "variable"
         },
         "tracegroupgap": 0
        },
        "template": {
         "data": {
          "bar": [
           {
            "error_x": {
             "color": "#2a3f5f"
            },
            "error_y": {
             "color": "#2a3f5f"
            },
            "marker": {
             "line": {
              "color": "#E5ECF6",
              "width": 0.5
             },
             "pattern": {
              "fillmode": "overlay",
              "size": 10,
              "solidity": 0.2
             }
            },
            "type": "bar"
           }
          ],
          "barpolar": [
           {
            "marker": {
             "line": {
              "color": "#E5ECF6",
              "width": 0.5
             },
             "pattern": {
              "fillmode": "overlay",
              "size": 10,
              "solidity": 0.2
             }
            },
            "type": "barpolar"
           }
          ],
          "carpet": [
           {
            "aaxis": {
             "endlinecolor": "#2a3f5f",
             "gridcolor": "white",
             "linecolor": "white",
             "minorgridcolor": "white",
             "startlinecolor": "#2a3f5f"
            },
            "baxis": {
             "endlinecolor": "#2a3f5f",
             "gridcolor": "white",
             "linecolor": "white",
             "minorgridcolor": "white",
             "startlinecolor": "#2a3f5f"
            },
            "type": "carpet"
           }
          ],
          "choropleth": [
           {
            "colorbar": {
             "outlinewidth": 0,
             "ticks": ""
            },
            "type": "choropleth"
           }
          ],
          "contour": [
           {
            "colorbar": {
             "outlinewidth": 0,
             "ticks": ""
            },
            "colorscale": [
             [
              0,
              "#0d0887"
             ],
             [
              0.1111111111111111,
              "#46039f"
             ],
             [
              0.2222222222222222,
              "#7201a8"
             ],
             [
              0.3333333333333333,
              "#9c179e"
             ],
             [
              0.4444444444444444,
              "#bd3786"
             ],
             [
              0.5555555555555556,
              "#d8576b"
             ],
             [
              0.6666666666666666,
              "#ed7953"
             ],
             [
              0.7777777777777778,
              "#fb9f3a"
             ],
             [
              0.8888888888888888,
              "#fdca26"
             ],
             [
              1,
              "#f0f921"
             ]
            ],
            "type": "contour"
           }
          ],
          "contourcarpet": [
           {
            "colorbar": {
             "outlinewidth": 0,
             "ticks": ""
            },
            "type": "contourcarpet"
           }
          ],
          "heatmap": [
           {
            "colorbar": {
             "outlinewidth": 0,
             "ticks": ""
            },
            "colorscale": [
             [
              0,
              "#0d0887"
             ],
             [
              0.1111111111111111,
              "#46039f"
             ],
             [
              0.2222222222222222,
              "#7201a8"
             ],
             [
              0.3333333333333333,
              "#9c179e"
             ],
             [
              0.4444444444444444,
              "#bd3786"
             ],
             [
              0.5555555555555556,
              "#d8576b"
             ],
             [
              0.6666666666666666,
              "#ed7953"
             ],
             [
              0.7777777777777778,
              "#fb9f3a"
             ],
             [
              0.8888888888888888,
              "#fdca26"
             ],
             [
              1,
              "#f0f921"
             ]
            ],
            "type": "heatmap"
           }
          ],
          "heatmapgl": [
           {
            "colorbar": {
             "outlinewidth": 0,
             "ticks": ""
            },
            "colorscale": [
             [
              0,
              "#0d0887"
             ],
             [
              0.1111111111111111,
              "#46039f"
             ],
             [
              0.2222222222222222,
              "#7201a8"
             ],
             [
              0.3333333333333333,
              "#9c179e"
             ],
             [
              0.4444444444444444,
              "#bd3786"
             ],
             [
              0.5555555555555556,
              "#d8576b"
             ],
             [
              0.6666666666666666,
              "#ed7953"
             ],
             [
              0.7777777777777778,
              "#fb9f3a"
             ],
             [
              0.8888888888888888,
              "#fdca26"
             ],
             [
              1,
              "#f0f921"
             ]
            ],
            "type": "heatmapgl"
           }
          ],
          "histogram": [
           {
            "marker": {
             "pattern": {
              "fillmode": "overlay",
              "size": 10,
              "solidity": 0.2
             }
            },
            "type": "histogram"
           }
          ],
          "histogram2d": [
           {
            "colorbar": {
             "outlinewidth": 0,
             "ticks": ""
            },
            "colorscale": [
             [
              0,
              "#0d0887"
             ],
             [
              0.1111111111111111,
              "#46039f"
             ],
             [
              0.2222222222222222,
              "#7201a8"
             ],
             [
              0.3333333333333333,
              "#9c179e"
             ],
             [
              0.4444444444444444,
              "#bd3786"
             ],
             [
              0.5555555555555556,
              "#d8576b"
             ],
             [
              0.6666666666666666,
              "#ed7953"
             ],
             [
              0.7777777777777778,
              "#fb9f3a"
             ],
             [
              0.8888888888888888,
              "#fdca26"
             ],
             [
              1,
              "#f0f921"
             ]
            ],
            "type": "histogram2d"
           }
          ],
          "histogram2dcontour": [
           {
            "colorbar": {
             "outlinewidth": 0,
             "ticks": ""
            },
            "colorscale": [
             [
              0,
              "#0d0887"
             ],
             [
              0.1111111111111111,
              "#46039f"
             ],
             [
              0.2222222222222222,
              "#7201a8"
             ],
             [
              0.3333333333333333,
              "#9c179e"
             ],
             [
              0.4444444444444444,
              "#bd3786"
             ],
             [
              0.5555555555555556,
              "#d8576b"
             ],
             [
              0.6666666666666666,
              "#ed7953"
             ],
             [
              0.7777777777777778,
              "#fb9f3a"
             ],
             [
              0.8888888888888888,
              "#fdca26"
             ],
             [
              1,
              "#f0f921"
             ]
            ],
            "type": "histogram2dcontour"
           }
          ],
          "mesh3d": [
           {
            "colorbar": {
             "outlinewidth": 0,
             "ticks": ""
            },
            "type": "mesh3d"
           }
          ],
          "parcoords": [
           {
            "line": {
             "colorbar": {
              "outlinewidth": 0,
              "ticks": ""
             }
            },
            "type": "parcoords"
           }
          ],
          "pie": [
           {
            "automargin": true,
            "type": "pie"
           }
          ],
          "scatter": [
           {
            "fillpattern": {
             "fillmode": "overlay",
             "size": 10,
             "solidity": 0.2
            },
            "type": "scatter"
           }
          ],
          "scatter3d": [
           {
            "line": {
             "colorbar": {
              "outlinewidth": 0,
              "ticks": ""
             }
            },
            "marker": {
             "colorbar": {
              "outlinewidth": 0,
              "ticks": ""
             }
            },
            "type": "scatter3d"
           }
          ],
          "scattercarpet": [
           {
            "marker": {
             "colorbar": {
              "outlinewidth": 0,
              "ticks": ""
             }
            },
            "type": "scattercarpet"
           }
          ],
          "scattergeo": [
           {
            "marker": {
             "colorbar": {
              "outlinewidth": 0,
              "ticks": ""
             }
            },
            "type": "scattergeo"
           }
          ],
          "scattergl": [
           {
            "marker": {
             "colorbar": {
              "outlinewidth": 0,
              "ticks": ""
             }
            },
            "type": "scattergl"
           }
          ],
          "scattermapbox": [
           {
            "marker": {
             "colorbar": {
              "outlinewidth": 0,
              "ticks": ""
             }
            },
            "type": "scattermapbox"
           }
          ],
          "scatterpolar": [
           {
            "marker": {
             "colorbar": {
              "outlinewidth": 0,
              "ticks": ""
             }
            },
            "type": "scatterpolar"
           }
          ],
          "scatterpolargl": [
           {
            "marker": {
             "colorbar": {
              "outlinewidth": 0,
              "ticks": ""
             }
            },
            "type": "scatterpolargl"
           }
          ],
          "scatterternary": [
           {
            "marker": {
             "colorbar": {
              "outlinewidth": 0,
              "ticks": ""
             }
            },
            "type": "scatterternary"
           }
          ],
          "surface": [
           {
            "colorbar": {
             "outlinewidth": 0,
             "ticks": ""
            },
            "colorscale": [
             [
              0,
              "#0d0887"
             ],
             [
              0.1111111111111111,
              "#46039f"
             ],
             [
              0.2222222222222222,
              "#7201a8"
             ],
             [
              0.3333333333333333,
              "#9c179e"
             ],
             [
              0.4444444444444444,
              "#bd3786"
             ],
             [
              0.5555555555555556,
              "#d8576b"
             ],
             [
              0.6666666666666666,
              "#ed7953"
             ],
             [
              0.7777777777777778,
              "#fb9f3a"
             ],
             [
              0.8888888888888888,
              "#fdca26"
             ],
             [
              1,
              "#f0f921"
             ]
            ],
            "type": "surface"
           }
          ],
          "table": [
           {
            "cells": {
             "fill": {
              "color": "#EBF0F8"
             },
             "line": {
              "color": "white"
             }
            },
            "header": {
             "fill": {
              "color": "#C8D4E3"
             },
             "line": {
              "color": "white"
             }
            },
            "type": "table"
           }
          ]
         },
         "layout": {
          "annotationdefaults": {
           "arrowcolor": "#2a3f5f",
           "arrowhead": 0,
           "arrowwidth": 1
          },
          "autotypenumbers": "strict",
          "coloraxis": {
           "colorbar": {
            "outlinewidth": 0,
            "ticks": ""
           }
          },
          "colorscale": {
           "diverging": [
            [
             0,
             "#8e0152"
            ],
            [
             0.1,
             "#c51b7d"
            ],
            [
             0.2,
             "#de77ae"
            ],
            [
             0.3,
             "#f1b6da"
            ],
            [
             0.4,
             "#fde0ef"
            ],
            [
             0.5,
             "#f7f7f7"
            ],
            [
             0.6,
             "#e6f5d0"
            ],
            [
             0.7,
             "#b8e186"
            ],
            [
             0.8,
             "#7fbc41"
            ],
            [
             0.9,
             "#4d9221"
            ],
            [
             1,
             "#276419"
            ]
           ],
           "sequential": [
            [
             0,
             "#0d0887"
            ],
            [
             0.1111111111111111,
             "#46039f"
            ],
            [
             0.2222222222222222,
             "#7201a8"
            ],
            [
             0.3333333333333333,
             "#9c179e"
            ],
            [
             0.4444444444444444,
             "#bd3786"
            ],
            [
             0.5555555555555556,
             "#d8576b"
            ],
            [
             0.6666666666666666,
             "#ed7953"
            ],
            [
             0.7777777777777778,
             "#fb9f3a"
            ],
            [
             0.8888888888888888,
             "#fdca26"
            ],
            [
             1,
             "#f0f921"
            ]
           ],
           "sequentialminus": [
            [
             0,
             "#0d0887"
            ],
            [
             0.1111111111111111,
             "#46039f"
            ],
            [
             0.2222222222222222,
             "#7201a8"
            ],
            [
             0.3333333333333333,
             "#9c179e"
            ],
            [
             0.4444444444444444,
             "#bd3786"
            ],
            [
             0.5555555555555556,
             "#d8576b"
            ],
            [
             0.6666666666666666,
             "#ed7953"
            ],
            [
             0.7777777777777778,
             "#fb9f3a"
            ],
            [
             0.8888888888888888,
             "#fdca26"
            ],
            [
             1,
             "#f0f921"
            ]
           ]
          },
          "colorway": [
           "#636efa",
           "#EF553B",
           "#00cc96",
           "#ab63fa",
           "#FFA15A",
           "#19d3f3",
           "#FF6692",
           "#B6E880",
           "#FF97FF",
           "#FECB52"
          ],
          "font": {
           "color": "#2a3f5f"
          },
          "geo": {
           "bgcolor": "white",
           "lakecolor": "white",
           "landcolor": "#E5ECF6",
           "showlakes": true,
           "showland": true,
           "subunitcolor": "white"
          },
          "hoverlabel": {
           "align": "left"
          },
          "hovermode": "closest",
          "mapbox": {
           "style": "light"
          },
          "paper_bgcolor": "white",
          "plot_bgcolor": "#E5ECF6",
          "polar": {
           "angularaxis": {
            "gridcolor": "white",
            "linecolor": "white",
            "ticks": ""
           },
           "bgcolor": "#E5ECF6",
           "radialaxis": {
            "gridcolor": "white",
            "linecolor": "white",
            "ticks": ""
           }
          },
          "scene": {
           "xaxis": {
            "backgroundcolor": "#E5ECF6",
            "gridcolor": "white",
            "gridwidth": 2,
            "linecolor": "white",
            "showbackground": true,
            "ticks": "",
            "zerolinecolor": "white"
           },
           "yaxis": {
            "backgroundcolor": "#E5ECF6",
            "gridcolor": "white",
            "gridwidth": 2,
            "linecolor": "white",
            "showbackground": true,
            "ticks": "",
            "zerolinecolor": "white"
           },
           "zaxis": {
            "backgroundcolor": "#E5ECF6",
            "gridcolor": "white",
            "gridwidth": 2,
            "linecolor": "white",
            "showbackground": true,
            "ticks": "",
            "zerolinecolor": "white"
           }
          },
          "shapedefaults": {
           "line": {
            "color": "#2a3f5f"
           }
          },
          "ternary": {
           "aaxis": {
            "gridcolor": "white",
            "linecolor": "white",
            "ticks": ""
           },
           "baxis": {
            "gridcolor": "white",
            "linecolor": "white",
            "ticks": ""
           },
           "bgcolor": "#E5ECF6",
           "caxis": {
            "gridcolor": "white",
            "linecolor": "white",
            "ticks": ""
           }
          },
          "title": {
           "x": 0.05
          },
          "xaxis": {
           "automargin": true,
           "gridcolor": "white",
           "linecolor": "white",
           "ticks": "",
           "title": {
            "standoff": 15
           },
           "zerolinecolor": "white",
           "zerolinewidth": 2
          },
          "yaxis": {
           "automargin": true,
           "gridcolor": "white",
           "linecolor": "white",
           "ticks": "",
           "title": {
            "standoff": 15
           },
           "zerolinecolor": "white",
           "zerolinewidth": 2
          }
         }
        },
        "title": {
         "text": "Internet Usage Over Time"
        },
        "xaxis": {
         "anchor": "y",
         "domain": [
          0,
          1
         ],
         "title": {
          "text": "index"
         }
        },
        "yaxis": {
         "anchor": "x",
         "domain": [
          0,
          1
         ],
         "title": {
          "text": "value"
         }
        }
       }
      },
      "text/html": [
       "<div>                            <div id=\"04e658fd-8492-432f-93d2-fae4081a7e9e\" class=\"plotly-graph-div\" style=\"height:525px; width:100%;\"></div>            <script type=\"text/javascript\">                require([\"plotly\"], function(Plotly) {                    window.PLOTLYENV=window.PLOTLYENV || {};                                    if (document.getElementById(\"04e658fd-8492-432f-93d2-fae4081a7e9e\")) {                    Plotly.newPlot(                        \"04e658fd-8492-432f-93d2-fae4081a7e9e\",                        [{\"hovertemplate\":\"variable=Iceland<br>index=%{x}<br>value=%{y}<extra></extra>\",\"legendgroup\":\"Iceland\",\"line\":{\"color\":\"#636efa\",\"dash\":\"solid\"},\"marker\":{\"symbol\":\"circle\"},\"mode\":\"lines\",\"name\":\"Iceland\",\"orientation\":\"v\",\"showlegend\":true,\"x\":[1990,1991,1992,1993,1994,1995,1996,1997,1998,1999,2000,2001,2002,2003,2004,2005,2006,2007,2008,2009,2010,2011,2012,2013,2014,2015,2016,2017,2018,2019,2020,2021,2022,2023],\"xaxis\":\"x\",\"y\":[null,null,null,null,null,null,null,null,null,null,null,null,null,84.6348,85.4407,87.9396,90.453,91.8273,92.108,94.6653,95.1988,95.7796,96.9532,97.5293,98.2718,98.21979999999999,98.1678,98.1158,98.6356,99.4751,99.2784,99.6897,99.6897,99.6897],\"yaxis\":\"y\",\"type\":\"scatter\"},{\"hovertemplate\":\"variable=India<br>index=%{x}<br>value=%{y}<extra></extra>\",\"legendgroup\":\"India\",\"line\":{\"color\":\"#EF553B\",\"dash\":\"solid\"},\"marker\":{\"symbol\":\"circle\"},\"mode\":\"lines\",\"name\":\"India\",\"orientation\":\"v\",\"showlegend\":true,\"x\":[1990,1991,1992,1993,1994,1995,1996,1997,1998,1999,2000,2001,2002,2003,2004,2005,2006,2007,2008,2009,2010,2011,2012,2013,2014,2015,2016,2017,2018,2019,2020,2021,2022,2023],\"xaxis\":\"x\",\"y\":[null,null,null,null,null,null,null,null,null,null,null,null,null,null,null,null,null,null,null,null,null,null,null,null,null,null,null,null,25.0,25.0,25.0,25.0,25.0,25.0],\"yaxis\":\"y\",\"type\":\"scatter\"},{\"hovertemplate\":\"variable=United States<br>index=%{x}<br>value=%{y}<extra></extra>\",\"legendgroup\":\"United States\",\"line\":{\"color\":\"#00cc96\",\"dash\":\"solid\"},\"marker\":{\"symbol\":\"circle\"},\"mode\":\"lines\",\"name\":\"United States\",\"orientation\":\"v\",\"showlegend\":true,\"x\":[1990,1991,1992,1993,1994,1995,1996,1997,1998,1999,2000,2001,2002,2003,2004,2005,2006,2007,2008,2009,2010,2011,2012,2013,2014,2015,2016,2017,2018,2019,2020,2021,2022,2023],\"xaxis\":\"x\",\"y\":[null,null,null,null,null,null,null,null,null,null,null,null,null,null,null,null,null,null,null,67.9408,71.2639,69.3692,74.1254,70.9145,72.5623,74.2101,74.2101,74.2101,74.2101,74.2101,74.2101,74.2101,74.2101,74.2101],\"yaxis\":\"y\",\"type\":\"scatter\"}],                        {\"template\":{\"data\":{\"histogram2dcontour\":[{\"type\":\"histogram2dcontour\",\"colorbar\":{\"outlinewidth\":0,\"ticks\":\"\"},\"colorscale\":[[0.0,\"#0d0887\"],[0.1111111111111111,\"#46039f\"],[0.2222222222222222,\"#7201a8\"],[0.3333333333333333,\"#9c179e\"],[0.4444444444444444,\"#bd3786\"],[0.5555555555555556,\"#d8576b\"],[0.6666666666666666,\"#ed7953\"],[0.7777777777777778,\"#fb9f3a\"],[0.8888888888888888,\"#fdca26\"],[1.0,\"#f0f921\"]]}],\"choropleth\":[{\"type\":\"choropleth\",\"colorbar\":{\"outlinewidth\":0,\"ticks\":\"\"}}],\"histogram2d\":[{\"type\":\"histogram2d\",\"colorbar\":{\"outlinewidth\":0,\"ticks\":\"\"},\"colorscale\":[[0.0,\"#0d0887\"],[0.1111111111111111,\"#46039f\"],[0.2222222222222222,\"#7201a8\"],[0.3333333333333333,\"#9c179e\"],[0.4444444444444444,\"#bd3786\"],[0.5555555555555556,\"#d8576b\"],[0.6666666666666666,\"#ed7953\"],[0.7777777777777778,\"#fb9f3a\"],[0.8888888888888888,\"#fdca26\"],[1.0,\"#f0f921\"]]}],\"heatmap\":[{\"type\":\"heatmap\",\"colorbar\":{\"outlinewidth\":0,\"ticks\":\"\"},\"colorscale\":[[0.0,\"#0d0887\"],[0.1111111111111111,\"#46039f\"],[0.2222222222222222,\"#7201a8\"],[0.3333333333333333,\"#9c179e\"],[0.4444444444444444,\"#bd3786\"],[0.5555555555555556,\"#d8576b\"],[0.6666666666666666,\"#ed7953\"],[0.7777777777777778,\"#fb9f3a\"],[0.8888888888888888,\"#fdca26\"],[1.0,\"#f0f921\"]]}],\"heatmapgl\":[{\"type\":\"heatmapgl\",\"colorbar\":{\"outlinewidth\":0,\"ticks\":\"\"},\"colorscale\":[[0.0,\"#0d0887\"],[0.1111111111111111,\"#46039f\"],[0.2222222222222222,\"#7201a8\"],[0.3333333333333333,\"#9c179e\"],[0.4444444444444444,\"#bd3786\"],[0.5555555555555556,\"#d8576b\"],[0.6666666666666666,\"#ed7953\"],[0.7777777777777778,\"#fb9f3a\"],[0.8888888888888888,\"#fdca26\"],[1.0,\"#f0f921\"]]}],\"contourcarpet\":[{\"type\":\"contourcarpet\",\"colorbar\":{\"outlinewidth\":0,\"ticks\":\"\"}}],\"contour\":[{\"type\":\"contour\",\"colorbar\":{\"outlinewidth\":0,\"ticks\":\"\"},\"colorscale\":[[0.0,\"#0d0887\"],[0.1111111111111111,\"#46039f\"],[0.2222222222222222,\"#7201a8\"],[0.3333333333333333,\"#9c179e\"],[0.4444444444444444,\"#bd3786\"],[0.5555555555555556,\"#d8576b\"],[0.6666666666666666,\"#ed7953\"],[0.7777777777777778,\"#fb9f3a\"],[0.8888888888888888,\"#fdca26\"],[1.0,\"#f0f921\"]]}],\"surface\":[{\"type\":\"surface\",\"colorbar\":{\"outlinewidth\":0,\"ticks\":\"\"},\"colorscale\":[[0.0,\"#0d0887\"],[0.1111111111111111,\"#46039f\"],[0.2222222222222222,\"#7201a8\"],[0.3333333333333333,\"#9c179e\"],[0.4444444444444444,\"#bd3786\"],[0.5555555555555556,\"#d8576b\"],[0.6666666666666666,\"#ed7953\"],[0.7777777777777778,\"#fb9f3a\"],[0.8888888888888888,\"#fdca26\"],[1.0,\"#f0f921\"]]}],\"mesh3d\":[{\"type\":\"mesh3d\",\"colorbar\":{\"outlinewidth\":0,\"ticks\":\"\"}}],\"scatter\":[{\"fillpattern\":{\"fillmode\":\"overlay\",\"size\":10,\"solidity\":0.2},\"type\":\"scatter\"}],\"parcoords\":[{\"type\":\"parcoords\",\"line\":{\"colorbar\":{\"outlinewidth\":0,\"ticks\":\"\"}}}],\"scatterpolargl\":[{\"type\":\"scatterpolargl\",\"marker\":{\"colorbar\":{\"outlinewidth\":0,\"ticks\":\"\"}}}],\"bar\":[{\"error_x\":{\"color\":\"#2a3f5f\"},\"error_y\":{\"color\":\"#2a3f5f\"},\"marker\":{\"line\":{\"color\":\"#E5ECF6\",\"width\":0.5},\"pattern\":{\"fillmode\":\"overlay\",\"size\":10,\"solidity\":0.2}},\"type\":\"bar\"}],\"scattergeo\":[{\"type\":\"scattergeo\",\"marker\":{\"colorbar\":{\"outlinewidth\":0,\"ticks\":\"\"}}}],\"scatterpolar\":[{\"type\":\"scatterpolar\",\"marker\":{\"colorbar\":{\"outlinewidth\":0,\"ticks\":\"\"}}}],\"histogram\":[{\"marker\":{\"pattern\":{\"fillmode\":\"overlay\",\"size\":10,\"solidity\":0.2}},\"type\":\"histogram\"}],\"scattergl\":[{\"type\":\"scattergl\",\"marker\":{\"colorbar\":{\"outlinewidth\":0,\"ticks\":\"\"}}}],\"scatter3d\":[{\"type\":\"scatter3d\",\"line\":{\"colorbar\":{\"outlinewidth\":0,\"ticks\":\"\"}},\"marker\":{\"colorbar\":{\"outlinewidth\":0,\"ticks\":\"\"}}}],\"scattermapbox\":[{\"type\":\"scattermapbox\",\"marker\":{\"colorbar\":{\"outlinewidth\":0,\"ticks\":\"\"}}}],\"scatterternary\":[{\"type\":\"scatterternary\",\"marker\":{\"colorbar\":{\"outlinewidth\":0,\"ticks\":\"\"}}}],\"scattercarpet\":[{\"type\":\"scattercarpet\",\"marker\":{\"colorbar\":{\"outlinewidth\":0,\"ticks\":\"\"}}}],\"carpet\":[{\"aaxis\":{\"endlinecolor\":\"#2a3f5f\",\"gridcolor\":\"white\",\"linecolor\":\"white\",\"minorgridcolor\":\"white\",\"startlinecolor\":\"#2a3f5f\"},\"baxis\":{\"endlinecolor\":\"#2a3f5f\",\"gridcolor\":\"white\",\"linecolor\":\"white\",\"minorgridcolor\":\"white\",\"startlinecolor\":\"#2a3f5f\"},\"type\":\"carpet\"}],\"table\":[{\"cells\":{\"fill\":{\"color\":\"#EBF0F8\"},\"line\":{\"color\":\"white\"}},\"header\":{\"fill\":{\"color\":\"#C8D4E3\"},\"line\":{\"color\":\"white\"}},\"type\":\"table\"}],\"barpolar\":[{\"marker\":{\"line\":{\"color\":\"#E5ECF6\",\"width\":0.5},\"pattern\":{\"fillmode\":\"overlay\",\"size\":10,\"solidity\":0.2}},\"type\":\"barpolar\"}],\"pie\":[{\"automargin\":true,\"type\":\"pie\"}]},\"layout\":{\"autotypenumbers\":\"strict\",\"colorway\":[\"#636efa\",\"#EF553B\",\"#00cc96\",\"#ab63fa\",\"#FFA15A\",\"#19d3f3\",\"#FF6692\",\"#B6E880\",\"#FF97FF\",\"#FECB52\"],\"font\":{\"color\":\"#2a3f5f\"},\"hovermode\":\"closest\",\"hoverlabel\":{\"align\":\"left\"},\"paper_bgcolor\":\"white\",\"plot_bgcolor\":\"#E5ECF6\",\"polar\":{\"bgcolor\":\"#E5ECF6\",\"angularaxis\":{\"gridcolor\":\"white\",\"linecolor\":\"white\",\"ticks\":\"\"},\"radialaxis\":{\"gridcolor\":\"white\",\"linecolor\":\"white\",\"ticks\":\"\"}},\"ternary\":{\"bgcolor\":\"#E5ECF6\",\"aaxis\":{\"gridcolor\":\"white\",\"linecolor\":\"white\",\"ticks\":\"\"},\"baxis\":{\"gridcolor\":\"white\",\"linecolor\":\"white\",\"ticks\":\"\"},\"caxis\":{\"gridcolor\":\"white\",\"linecolor\":\"white\",\"ticks\":\"\"}},\"coloraxis\":{\"colorbar\":{\"outlinewidth\":0,\"ticks\":\"\"}},\"colorscale\":{\"sequential\":[[0.0,\"#0d0887\"],[0.1111111111111111,\"#46039f\"],[0.2222222222222222,\"#7201a8\"],[0.3333333333333333,\"#9c179e\"],[0.4444444444444444,\"#bd3786\"],[0.5555555555555556,\"#d8576b\"],[0.6666666666666666,\"#ed7953\"],[0.7777777777777778,\"#fb9f3a\"],[0.8888888888888888,\"#fdca26\"],[1.0,\"#f0f921\"]],\"sequentialminus\":[[0.0,\"#0d0887\"],[0.1111111111111111,\"#46039f\"],[0.2222222222222222,\"#7201a8\"],[0.3333333333333333,\"#9c179e\"],[0.4444444444444444,\"#bd3786\"],[0.5555555555555556,\"#d8576b\"],[0.6666666666666666,\"#ed7953\"],[0.7777777777777778,\"#fb9f3a\"],[0.8888888888888888,\"#fdca26\"],[1.0,\"#f0f921\"]],\"diverging\":[[0,\"#8e0152\"],[0.1,\"#c51b7d\"],[0.2,\"#de77ae\"],[0.3,\"#f1b6da\"],[0.4,\"#fde0ef\"],[0.5,\"#f7f7f7\"],[0.6,\"#e6f5d0\"],[0.7,\"#b8e186\"],[0.8,\"#7fbc41\"],[0.9,\"#4d9221\"],[1,\"#276419\"]]},\"xaxis\":{\"gridcolor\":\"white\",\"linecolor\":\"white\",\"ticks\":\"\",\"title\":{\"standoff\":15},\"zerolinecolor\":\"white\",\"automargin\":true,\"zerolinewidth\":2},\"yaxis\":{\"gridcolor\":\"white\",\"linecolor\":\"white\",\"ticks\":\"\",\"title\":{\"standoff\":15},\"zerolinecolor\":\"white\",\"automargin\":true,\"zerolinewidth\":2},\"scene\":{\"xaxis\":{\"backgroundcolor\":\"#E5ECF6\",\"gridcolor\":\"white\",\"linecolor\":\"white\",\"showbackground\":true,\"ticks\":\"\",\"zerolinecolor\":\"white\",\"gridwidth\":2},\"yaxis\":{\"backgroundcolor\":\"#E5ECF6\",\"gridcolor\":\"white\",\"linecolor\":\"white\",\"showbackground\":true,\"ticks\":\"\",\"zerolinecolor\":\"white\",\"gridwidth\":2},\"zaxis\":{\"backgroundcolor\":\"#E5ECF6\",\"gridcolor\":\"white\",\"linecolor\":\"white\",\"showbackground\":true,\"ticks\":\"\",\"zerolinecolor\":\"white\",\"gridwidth\":2}},\"shapedefaults\":{\"line\":{\"color\":\"#2a3f5f\"}},\"annotationdefaults\":{\"arrowcolor\":\"#2a3f5f\",\"arrowhead\":0,\"arrowwidth\":1},\"geo\":{\"bgcolor\":\"white\",\"landcolor\":\"#E5ECF6\",\"subunitcolor\":\"white\",\"showland\":true,\"showlakes\":true,\"lakecolor\":\"white\"},\"title\":{\"x\":0.05},\"mapbox\":{\"style\":\"light\"}}},\"xaxis\":{\"anchor\":\"y\",\"domain\":[0.0,1.0],\"title\":{\"text\":\"index\"}},\"yaxis\":{\"anchor\":\"x\",\"domain\":[0.0,1.0],\"title\":{\"text\":\"value\"}},\"legend\":{\"title\":{\"text\":\"variable\"},\"tracegroupgap\":0},\"title\":{\"text\":\"Internet Usage Over Time\"}},                        {\"responsive\": true}                    ).then(function(){\n",
       "                            \n",
       "var gd = document.getElementById('04e658fd-8492-432f-93d2-fae4081a7e9e');\n",
       "var x = new MutationObserver(function (mutations, observer) {{\n",
       "        var display = window.getComputedStyle(gd).display;\n",
       "        if (!display || display === 'none') {{\n",
       "            console.log([gd, 'removed!']);\n",
       "            Plotly.purge(gd);\n",
       "            observer.disconnect();\n",
       "        }}\n",
       "}});\n",
       "\n",
       "// Listen for the removal of the full notebook cells\n",
       "var notebookContainer = gd.closest('#notebook-container');\n",
       "if (notebookContainer) {{\n",
       "    x.observe(notebookContainer, {childList: true});\n",
       "}}\n",
       "\n",
       "// Listen for the clearing of the current output cell\n",
       "var outputEl = gd.closest('.output');\n",
       "if (outputEl) {{\n",
       "    x.observe(outputEl, {childList: true});\n",
       "}}\n",
       "\n",
       "                        })                };                });            </script>        </div>"
      ]
     },
     "metadata": {},
     "output_type": "display_data"
    }
   ],
   "source": [
    "#Viewing a different series name\n",
    "wb = pd.read_csv('C:/Users/skyes/Documents/Projects/worldbank-country-internet-data.csv')\n",
    "countries = ['Iceland', 'India', 'United States']\n",
    "internet_stats = get_cleaned_data(wb, 'IT.NET.USER.MA.ZS', countries)\n",
    "internet_stats.index = internet_stats.index.astype(int)\n",
    "internet_stats = internet_stats.interpolate(method='linear', order=2)\n",
    "\n",
    "px.line(internet_stats, x=internet_stats.index, y=countries, title='Internet Usage Over Time')"
   ]
  },
  {
   "cell_type": "code",
   "execution_count": 117,
   "id": "82f36638",
   "metadata": {},
   "outputs": [],
   "source": [
    "wb = wb.clean_names()"
   ]
  },
  {
   "cell_type": "code",
   "execution_count": 124,
   "id": "a24afb71",
   "metadata": {},
   "outputs": [],
   "source": [
    "selected_year = '2020'\n",
    "wb_year = wb[wb['series_code'] == 'IT.NET.USER.ZS'][['country_name', selected_year]]"
   ]
  },
  {
   "cell_type": "code",
   "execution_count": 125,
   "id": "1f276fd2",
   "metadata": {},
   "outputs": [
    {
     "data": {
      "text/html": [
       "<div>\n",
       "<style scoped>\n",
       "    .dataframe tbody tr th:only-of-type {\n",
       "        vertical-align: middle;\n",
       "    }\n",
       "\n",
       "    .dataframe tbody tr th {\n",
       "        vertical-align: top;\n",
       "    }\n",
       "\n",
       "    .dataframe thead th {\n",
       "        text-align: right;\n",
       "    }\n",
       "</style>\n",
       "<table border=\"1\" class=\"dataframe\">\n",
       "  <thead>\n",
       "    <tr style=\"text-align: right;\">\n",
       "      <th></th>\n",
       "      <th>country_name</th>\n",
       "      <th>2020</th>\n",
       "    </tr>\n",
       "  </thead>\n",
       "  <tbody>\n",
       "    <tr>\n",
       "      <th>0</th>\n",
       "      <td>Afghanistan</td>\n",
       "      <td>18.4</td>\n",
       "    </tr>\n",
       "    <tr>\n",
       "      <th>5</th>\n",
       "      <td>Albania</td>\n",
       "      <td>72.2377</td>\n",
       "    </tr>\n",
       "    <tr>\n",
       "      <th>10</th>\n",
       "      <td>Algeria</td>\n",
       "      <td>60.6534</td>\n",
       "    </tr>\n",
       "    <tr>\n",
       "      <th>15</th>\n",
       "      <td>American Samoa</td>\n",
       "      <td>..</td>\n",
       "    </tr>\n",
       "    <tr>\n",
       "      <th>20</th>\n",
       "      <td>Andorra</td>\n",
       "      <td>93.2056</td>\n",
       "    </tr>\n",
       "    <tr>\n",
       "      <th>...</th>\n",
       "      <td>...</td>\n",
       "      <td>...</td>\n",
       "    </tr>\n",
       "    <tr>\n",
       "      <th>1305</th>\n",
       "      <td>Sub-Saharan Africa</td>\n",
       "      <td>28.6</td>\n",
       "    </tr>\n",
       "    <tr>\n",
       "      <th>1310</th>\n",
       "      <td>Sub-Saharan Africa (excluding high income)</td>\n",
       "      <td>28.3739076668205</td>\n",
       "    </tr>\n",
       "    <tr>\n",
       "      <th>1315</th>\n",
       "      <td>Sub-Saharan Africa (IDA &amp; IBRD countries)</td>\n",
       "      <td>28.6</td>\n",
       "    </tr>\n",
       "    <tr>\n",
       "      <th>1320</th>\n",
       "      <td>Upper middle income</td>\n",
       "      <td>70.3</td>\n",
       "    </tr>\n",
       "    <tr>\n",
       "      <th>1325</th>\n",
       "      <td>World</td>\n",
       "      <td>59.3</td>\n",
       "    </tr>\n",
       "  </tbody>\n",
       "</table>\n",
       "<p>266 rows × 2 columns</p>\n",
       "</div>"
      ],
      "text/plain": [
       "                                    country_name              2020\n",
       "0                                    Afghanistan              18.4\n",
       "5                                        Albania           72.2377\n",
       "10                                       Algeria           60.6534\n",
       "15                                American Samoa                ..\n",
       "20                                       Andorra           93.2056\n",
       "...                                          ...               ...\n",
       "1305                          Sub-Saharan Africa              28.6\n",
       "1310  Sub-Saharan Africa (excluding high income)  28.3739076668205\n",
       "1315   Sub-Saharan Africa (IDA & IBRD countries)              28.6\n",
       "1320                         Upper middle income              70.3\n",
       "1325                                       World              59.3\n",
       "\n",
       "[266 rows x 2 columns]"
      ]
     },
     "execution_count": 125,
     "metadata": {},
     "output_type": "execute_result"
    }
   ],
   "source": [
    "wb_year"
   ]
  },
  {
   "cell_type": "code",
   "execution_count": 126,
   "id": "34b43f30",
   "metadata": {},
   "outputs": [
    {
     "data": {
      "text/html": [
       "<div>\n",
       "<style scoped>\n",
       "    .dataframe tbody tr th:only-of-type {\n",
       "        vertical-align: middle;\n",
       "    }\n",
       "\n",
       "    .dataframe tbody tr th {\n",
       "        vertical-align: top;\n",
       "    }\n",
       "\n",
       "    .dataframe thead th {\n",
       "        text-align: right;\n",
       "    }\n",
       "</style>\n",
       "<table border=\"1\" class=\"dataframe\">\n",
       "  <thead>\n",
       "    <tr style=\"text-align: right;\">\n",
       "      <th></th>\n",
       "      <th>country_name</th>\n",
       "      <th>2020</th>\n",
       "    </tr>\n",
       "  </thead>\n",
       "  <tbody>\n",
       "    <tr>\n",
       "      <th>70</th>\n",
       "      <td>Bahrain</td>\n",
       "      <td>99.671</td>\n",
       "    </tr>\n",
       "    <tr>\n",
       "      <th>795</th>\n",
       "      <td>Qatar</td>\n",
       "      <td>99.6528</td>\n",
       "    </tr>\n",
       "    <tr>\n",
       "      <th>440</th>\n",
       "      <td>Iceland</td>\n",
       "      <td>99.5328</td>\n",
       "    </tr>\n",
       "    <tr>\n",
       "      <th>530</th>\n",
       "      <td>Kuwait</td>\n",
       "      <td>99.1059</td>\n",
       "    </tr>\n",
       "    <tr>\n",
       "      <th>650</th>\n",
       "      <td>Monaco</td>\n",
       "      <td>98.5709</td>\n",
       "    </tr>\n",
       "    <tr>\n",
       "      <th>580</th>\n",
       "      <td>Luxembourg</td>\n",
       "      <td>98.4596</td>\n",
       "    </tr>\n",
       "    <tr>\n",
       "      <th>830</th>\n",
       "      <td>Saudi Arabia</td>\n",
       "      <td>97.8623</td>\n",
       "    </tr>\n",
       "    <tr>\n",
       "      <th>1030</th>\n",
       "      <td>United States</td>\n",
       "      <td>96.5768</td>\n",
       "    </tr>\n",
       "    <tr>\n",
       "      <th>265</th>\n",
       "      <td>Denmark</td>\n",
       "      <td>96.5491</td>\n",
       "    </tr>\n",
       "    <tr>\n",
       "      <th>520</th>\n",
       "      <td>Korea, Rep.</td>\n",
       "      <td>96.5051</td>\n",
       "    </tr>\n",
       "  </tbody>\n",
       "</table>\n",
       "</div>"
      ],
      "text/plain": [
       "       country_name     2020\n",
       "70          Bahrain   99.671\n",
       "795           Qatar  99.6528\n",
       "440         Iceland  99.5328\n",
       "530          Kuwait  99.1059\n",
       "650          Monaco  98.5709\n",
       "580      Luxembourg  98.4596\n",
       "830    Saudi Arabia  97.8623\n",
       "1030  United States  96.5768\n",
       "265         Denmark  96.5491\n",
       "520     Korea, Rep.  96.5051"
      ]
     },
     "execution_count": 126,
     "metadata": {},
     "output_type": "execute_result"
    }
   ],
   "source": [
    "wb_year.sort_values(selected_year, ascending=False).head(10)"
   ]
  },
  {
   "cell_type": "code",
   "execution_count": 130,
   "id": "4c430d8e",
   "metadata": {},
   "outputs": [],
   "source": [
    "selected_year = '2016'\n",
    "wb_year = wb[(wb['series_code'] == 'IT.NET.USER.ZS') & (wb[selected_year] != '..')][['country_name', selected_year]]"
   ]
  },
  {
   "cell_type": "code",
   "execution_count": 128,
   "id": "ced8e6e8",
   "metadata": {},
   "outputs": [
    {
     "data": {
      "text/html": [
       "<div>\n",
       "<style scoped>\n",
       "    .dataframe tbody tr th:only-of-type {\n",
       "        vertical-align: middle;\n",
       "    }\n",
       "\n",
       "    .dataframe tbody tr th {\n",
       "        vertical-align: top;\n",
       "    }\n",
       "\n",
       "    .dataframe thead th {\n",
       "        text-align: right;\n",
       "    }\n",
       "</style>\n",
       "<table border=\"1\" class=\"dataframe\">\n",
       "  <thead>\n",
       "    <tr style=\"text-align: right;\">\n",
       "      <th></th>\n",
       "      <th>country_name</th>\n",
       "      <th>2020</th>\n",
       "    </tr>\n",
       "  </thead>\n",
       "  <tbody>\n",
       "    <tr>\n",
       "      <th>0</th>\n",
       "      <td>Afghanistan</td>\n",
       "      <td>18.4</td>\n",
       "    </tr>\n",
       "    <tr>\n",
       "      <th>5</th>\n",
       "      <td>Albania</td>\n",
       "      <td>72.2377</td>\n",
       "    </tr>\n",
       "    <tr>\n",
       "      <th>10</th>\n",
       "      <td>Algeria</td>\n",
       "      <td>60.6534</td>\n",
       "    </tr>\n",
       "    <tr>\n",
       "      <th>20</th>\n",
       "      <td>Andorra</td>\n",
       "      <td>93.2056</td>\n",
       "    </tr>\n",
       "    <tr>\n",
       "      <th>25</th>\n",
       "      <td>Angola</td>\n",
       "      <td>36.6347</td>\n",
       "    </tr>\n",
       "    <tr>\n",
       "      <th>...</th>\n",
       "      <td>...</td>\n",
       "      <td>...</td>\n",
       "    </tr>\n",
       "    <tr>\n",
       "      <th>1305</th>\n",
       "      <td>Sub-Saharan Africa</td>\n",
       "      <td>28.6</td>\n",
       "    </tr>\n",
       "    <tr>\n",
       "      <th>1310</th>\n",
       "      <td>Sub-Saharan Africa (excluding high income)</td>\n",
       "      <td>28.3739076668205</td>\n",
       "    </tr>\n",
       "    <tr>\n",
       "      <th>1315</th>\n",
       "      <td>Sub-Saharan Africa (IDA &amp; IBRD countries)</td>\n",
       "      <td>28.6</td>\n",
       "    </tr>\n",
       "    <tr>\n",
       "      <th>1320</th>\n",
       "      <td>Upper middle income</td>\n",
       "      <td>70.3</td>\n",
       "    </tr>\n",
       "    <tr>\n",
       "      <th>1325</th>\n",
       "      <td>World</td>\n",
       "      <td>59.3</td>\n",
       "    </tr>\n",
       "  </tbody>\n",
       "</table>\n",
       "<p>240 rows × 2 columns</p>\n",
       "</div>"
      ],
      "text/plain": [
       "                                    country_name              2020\n",
       "0                                    Afghanistan              18.4\n",
       "5                                        Albania           72.2377\n",
       "10                                       Algeria           60.6534\n",
       "20                                       Andorra           93.2056\n",
       "25                                        Angola           36.6347\n",
       "...                                          ...               ...\n",
       "1305                          Sub-Saharan Africa              28.6\n",
       "1310  Sub-Saharan Africa (excluding high income)  28.3739076668205\n",
       "1315   Sub-Saharan Africa (IDA & IBRD countries)              28.6\n",
       "1320                         Upper middle income              70.3\n",
       "1325                                       World              59.3\n",
       "\n",
       "[240 rows x 2 columns]"
      ]
     },
     "execution_count": 128,
     "metadata": {},
     "output_type": "execute_result"
    }
   ],
   "source": [
    "wb_year"
   ]
  },
  {
   "cell_type": "code",
   "execution_count": 131,
   "id": "93bb66eb",
   "metadata": {},
   "outputs": [
    {
     "data": {
      "text/html": [
       "<div>\n",
       "<style scoped>\n",
       "    .dataframe tbody tr th:only-of-type {\n",
       "        vertical-align: middle;\n",
       "    }\n",
       "\n",
       "    .dataframe tbody tr th {\n",
       "        vertical-align: top;\n",
       "    }\n",
       "\n",
       "    .dataframe thead th {\n",
       "        text-align: right;\n",
       "    }\n",
       "</style>\n",
       "<table border=\"1\" class=\"dataframe\">\n",
       "  <thead>\n",
       "    <tr style=\"text-align: right;\">\n",
       "      <th></th>\n",
       "      <th>country_name</th>\n",
       "      <th>2016</th>\n",
       "    </tr>\n",
       "  </thead>\n",
       "  <tbody>\n",
       "    <tr>\n",
       "      <th>305</th>\n",
       "      <td>Eritrea</td>\n",
       "      <td>1.17712</td>\n",
       "    </tr>\n",
       "    <tr>\n",
       "      <th>880</th>\n",
       "      <td>Somalia</td>\n",
       "      <td>1.88</td>\n",
       "    </tr>\n",
       "    <tr>\n",
       "      <th>220</th>\n",
       "      <td>Congo, Dem. Rep.</td>\n",
       "      <td>10.1</td>\n",
       "    </tr>\n",
       "    <tr>\n",
       "      <th>1075</th>\n",
       "      <td>Zambia</td>\n",
       "      <td>10.3</td>\n",
       "    </tr>\n",
       "    <tr>\n",
       "      <th>1225</th>\n",
       "      <td>Low income</td>\n",
       "      <td>10.3</td>\n",
       "    </tr>\n",
       "    <tr>\n",
       "      <th>0</th>\n",
       "      <td>Afghanistan</td>\n",
       "      <td>11</td>\n",
       "    </tr>\n",
       "    <tr>\n",
       "      <th>875</th>\n",
       "      <td>Solomon Islands</td>\n",
       "      <td>11.0009</td>\n",
       "    </tr>\n",
       "    <tr>\n",
       "      <th>970</th>\n",
       "      <td>Togo</td>\n",
       "      <td>11.31</td>\n",
       "    </tr>\n",
       "    <tr>\n",
       "      <th>850</th>\n",
       "      <td>Sierra Leone</td>\n",
       "      <td>11.7732</td>\n",
       "    </tr>\n",
       "    <tr>\n",
       "      <th>745</th>\n",
       "      <td>Pakistan</td>\n",
       "      <td>12.3854</td>\n",
       "    </tr>\n",
       "  </tbody>\n",
       "</table>\n",
       "</div>"
      ],
      "text/plain": [
       "          country_name     2016\n",
       "305            Eritrea  1.17712\n",
       "880            Somalia     1.88\n",
       "220   Congo, Dem. Rep.     10.1\n",
       "1075            Zambia     10.3\n",
       "1225        Low income     10.3\n",
       "0          Afghanistan       11\n",
       "875    Solomon Islands  11.0009\n",
       "970               Togo    11.31\n",
       "850       Sierra Leone  11.7732\n",
       "745           Pakistan  12.3854"
      ]
     },
     "execution_count": 131,
     "metadata": {},
     "output_type": "execute_result"
    }
   ],
   "source": [
    "wb_year.sort_values(selected_year, ascending=True).head(10)"
   ]
  },
  {
   "cell_type": "code",
   "execution_count": 134,
   "id": "7c192b17",
   "metadata": {},
   "outputs": [
    {
     "data": {
      "text/html": [
       "<div>\n",
       "<style scoped>\n",
       "    .dataframe tbody tr th:only-of-type {\n",
       "        vertical-align: middle;\n",
       "    }\n",
       "\n",
       "    .dataframe tbody tr th {\n",
       "        vertical-align: top;\n",
       "    }\n",
       "\n",
       "    .dataframe thead th {\n",
       "        text-align: right;\n",
       "    }\n",
       "</style>\n",
       "<table border=\"1\" class=\"dataframe\">\n",
       "  <thead>\n",
       "    <tr style=\"text-align: right;\">\n",
       "      <th></th>\n",
       "      <th>country_name</th>\n",
       "      <th>country_code</th>\n",
       "      <th>series_name</th>\n",
       "      <th>series_code</th>\n",
       "      <th>1960</th>\n",
       "      <th>1961</th>\n",
       "      <th>1962</th>\n",
       "      <th>1963</th>\n",
       "      <th>1964</th>\n",
       "      <th>1965</th>\n",
       "      <th>...</th>\n",
       "      <th>2014</th>\n",
       "      <th>2015</th>\n",
       "      <th>2016</th>\n",
       "      <th>2017</th>\n",
       "      <th>2018</th>\n",
       "      <th>2019</th>\n",
       "      <th>2020</th>\n",
       "      <th>2021</th>\n",
       "      <th>2022</th>\n",
       "      <th>2023</th>\n",
       "    </tr>\n",
       "  </thead>\n",
       "  <tbody>\n",
       "    <tr>\n",
       "      <th>1020</th>\n",
       "      <td>United Arab Emirates</td>\n",
       "      <td>ARE</td>\n",
       "      <td>Individuals using the Internet (% of population)</td>\n",
       "      <td>IT.NET.USER.ZS</td>\n",
       "      <td>..</td>\n",
       "      <td>..</td>\n",
       "      <td>..</td>\n",
       "      <td>..</td>\n",
       "      <td>..</td>\n",
       "      <td>..</td>\n",
       "      <td>...</td>\n",
       "      <td>90.4</td>\n",
       "      <td>90.5</td>\n",
       "      <td>90.6</td>\n",
       "      <td>94.8199</td>\n",
       "      <td>98.45</td>\n",
       "      <td>99.15</td>\n",
       "      <td>100</td>\n",
       "      <td>100</td>\n",
       "      <td>100</td>\n",
       "      <td>100</td>\n",
       "    </tr>\n",
       "    <tr>\n",
       "      <th>1021</th>\n",
       "      <td>United Arab Emirates</td>\n",
       "      <td>ARE</td>\n",
       "      <td>Individuals using the Internet, female (% of f...</td>\n",
       "      <td>IT.NET.USER.FE.ZS</td>\n",
       "      <td>..</td>\n",
       "      <td>..</td>\n",
       "      <td>..</td>\n",
       "      <td>..</td>\n",
       "      <td>..</td>\n",
       "      <td>..</td>\n",
       "      <td>...</td>\n",
       "      <td>..</td>\n",
       "      <td>..</td>\n",
       "      <td>88.853</td>\n",
       "      <td>92.5292</td>\n",
       "      <td>98.8</td>\n",
       "      <td>99.5015</td>\n",
       "      <td>100</td>\n",
       "      <td>100</td>\n",
       "      <td>100</td>\n",
       "      <td>100</td>\n",
       "    </tr>\n",
       "    <tr>\n",
       "      <th>1022</th>\n",
       "      <td>United Arab Emirates</td>\n",
       "      <td>ARE</td>\n",
       "      <td>Individuals using the Internet, male (% of mal...</td>\n",
       "      <td>IT.NET.USER.MA.ZS</td>\n",
       "      <td>..</td>\n",
       "      <td>..</td>\n",
       "      <td>..</td>\n",
       "      <td>..</td>\n",
       "      <td>..</td>\n",
       "      <td>..</td>\n",
       "      <td>...</td>\n",
       "      <td>..</td>\n",
       "      <td>..</td>\n",
       "      <td>91.5</td>\n",
       "      <td>96</td>\n",
       "      <td>98.3353</td>\n",
       "      <td>99.03</td>\n",
       "      <td>100</td>\n",
       "      <td>100</td>\n",
       "      <td>100</td>\n",
       "      <td>100</td>\n",
       "    </tr>\n",
       "    <tr>\n",
       "      <th>1023</th>\n",
       "      <td>United Arab Emirates</td>\n",
       "      <td>ARE</td>\n",
       "      <td>Secure Internet servers</td>\n",
       "      <td>IT.NET.SECR</td>\n",
       "      <td>..</td>\n",
       "      <td>..</td>\n",
       "      <td>..</td>\n",
       "      <td>..</td>\n",
       "      <td>..</td>\n",
       "      <td>..</td>\n",
       "      <td>...</td>\n",
       "      <td>3382</td>\n",
       "      <td>5434</td>\n",
       "      <td>8787</td>\n",
       "      <td>12192</td>\n",
       "      <td>14292</td>\n",
       "      <td>18682</td>\n",
       "      <td>13901</td>\n",
       "      <td>24706</td>\n",
       "      <td>16388</td>\n",
       "      <td>22222</td>\n",
       "    </tr>\n",
       "    <tr>\n",
       "      <th>1024</th>\n",
       "      <td>United Arab Emirates</td>\n",
       "      <td>ARE</td>\n",
       "      <td>Secure Internet servers (per 1 million people)</td>\n",
       "      <td>IT.NET.SECR.P6</td>\n",
       "      <td>..</td>\n",
       "      <td>..</td>\n",
       "      <td>..</td>\n",
       "      <td>..</td>\n",
       "      <td>..</td>\n",
       "      <td>..</td>\n",
       "      <td>...</td>\n",
       "      <td>419.632133249953</td>\n",
       "      <td>638.900479786748</td>\n",
       "      <td>983.425470014588</td>\n",
       "      <td>1321.88036180403</td>\n",
       "      <td>1529.09566701663</td>\n",
       "      <td>1977.81338448843</td>\n",
       "      <td>1478.66650469874</td>\n",
       "      <td>2580.22013645319</td>\n",
       "      <td>1626.60420961755</td>\n",
       "      <td>2119.66117852284</td>\n",
       "    </tr>\n",
       "  </tbody>\n",
       "</table>\n",
       "<p>5 rows × 68 columns</p>\n",
       "</div>"
      ],
      "text/plain": [
       "              country_name country_code  \\\n",
       "1020  United Arab Emirates          ARE   \n",
       "1021  United Arab Emirates          ARE   \n",
       "1022  United Arab Emirates          ARE   \n",
       "1023  United Arab Emirates          ARE   \n",
       "1024  United Arab Emirates          ARE   \n",
       "\n",
       "                                            series_name        series_code  \\\n",
       "1020   Individuals using the Internet (% of population)     IT.NET.USER.ZS   \n",
       "1021  Individuals using the Internet, female (% of f...  IT.NET.USER.FE.ZS   \n",
       "1022  Individuals using the Internet, male (% of mal...  IT.NET.USER.MA.ZS   \n",
       "1023                            Secure Internet servers        IT.NET.SECR   \n",
       "1024     Secure Internet servers (per 1 million people)     IT.NET.SECR.P6   \n",
       "\n",
       "     1960 1961 1962 1963 1964 1965  ...              2014              2015  \\\n",
       "1020   ..   ..   ..   ..   ..   ..  ...              90.4              90.5   \n",
       "1021   ..   ..   ..   ..   ..   ..  ...                ..                ..   \n",
       "1022   ..   ..   ..   ..   ..   ..  ...                ..                ..   \n",
       "1023   ..   ..   ..   ..   ..   ..  ...              3382              5434   \n",
       "1024   ..   ..   ..   ..   ..   ..  ...  419.632133249953  638.900479786748   \n",
       "\n",
       "                  2016              2017              2018              2019  \\\n",
       "1020              90.6           94.8199             98.45             99.15   \n",
       "1021            88.853           92.5292              98.8           99.5015   \n",
       "1022              91.5                96           98.3353             99.03   \n",
       "1023              8787             12192             14292             18682   \n",
       "1024  983.425470014588  1321.88036180403  1529.09566701663  1977.81338448843   \n",
       "\n",
       "                  2020              2021              2022              2023  \n",
       "1020               100               100               100               100  \n",
       "1021               100               100               100               100  \n",
       "1022               100               100               100               100  \n",
       "1023             13901             24706             16388             22222  \n",
       "1024  1478.66650469874  2580.22013645319  1626.60420961755  2119.66117852284  \n",
       "\n",
       "[5 rows x 68 columns]"
      ]
     },
     "execution_count": 134,
     "metadata": {},
     "output_type": "execute_result"
    }
   ],
   "source": [
    "wb[wb['country_name'] == 'United Arab Emirates']"
   ]
  },
  {
   "cell_type": "code",
   "execution_count": 135,
   "id": "19aaf602",
   "metadata": {},
   "outputs": [],
   "source": [
    "selected_year = '2020'\n",
    "wb_year = wb[(wb['series_code'] == 'IT.NET.USER.ZS') & (wb[selected_year] != '..')][['country_name', selected_year]]"
   ]
  },
  {
   "cell_type": "code",
   "execution_count": 136,
   "id": "7ed6223e",
   "metadata": {},
   "outputs": [
    {
     "data": {
      "text/html": [
       "<div>\n",
       "<style scoped>\n",
       "    .dataframe tbody tr th:only-of-type {\n",
       "        vertical-align: middle;\n",
       "    }\n",
       "\n",
       "    .dataframe tbody tr th {\n",
       "        vertical-align: top;\n",
       "    }\n",
       "\n",
       "    .dataframe thead th {\n",
       "        text-align: right;\n",
       "    }\n",
       "</style>\n",
       "<table border=\"1\" class=\"dataframe\">\n",
       "  <thead>\n",
       "    <tr style=\"text-align: right;\">\n",
       "      <th></th>\n",
       "      <th>country_name</th>\n",
       "      <th>2020</th>\n",
       "    </tr>\n",
       "  </thead>\n",
       "  <tbody>\n",
       "    <tr>\n",
       "      <th>1020</th>\n",
       "      <td>United Arab Emirates</td>\n",
       "      <td>100</td>\n",
       "    </tr>\n",
       "    <tr>\n",
       "      <th>1070</th>\n",
       "      <td>Yemen, Rep.</td>\n",
       "      <td>13.8152</td>\n",
       "    </tr>\n",
       "    <tr>\n",
       "      <th>715</th>\n",
       "      <td>Niger</td>\n",
       "      <td>13.8406</td>\n",
       "    </tr>\n",
       "    <tr>\n",
       "      <th>880</th>\n",
       "      <td>Somalia</td>\n",
       "      <td>15.0237</td>\n",
       "    </tr>\n",
       "    <tr>\n",
       "      <th>150</th>\n",
       "      <td>Burkina Faso</td>\n",
       "      <td>15.5971</td>\n",
       "    </tr>\n",
       "    <tr>\n",
       "      <th>590</th>\n",
       "      <td>Madagascar</td>\n",
       "      <td>15.8196</td>\n",
       "    </tr>\n",
       "    <tr>\n",
       "      <th>320</th>\n",
       "      <td>Ethiopia</td>\n",
       "      <td>16.0696</td>\n",
       "    </tr>\n",
       "    <tr>\n",
       "      <th>670</th>\n",
       "      <td>Mozambique</td>\n",
       "      <td>17.8299</td>\n",
       "    </tr>\n",
       "    <tr>\n",
       "      <th>0</th>\n",
       "      <td>Afghanistan</td>\n",
       "      <td>18.4</td>\n",
       "    </tr>\n",
       "    <tr>\n",
       "      <th>1225</th>\n",
       "      <td>Low income</td>\n",
       "      <td>18.8</td>\n",
       "    </tr>\n",
       "  </tbody>\n",
       "</table>\n",
       "</div>"
      ],
      "text/plain": [
       "              country_name     2020\n",
       "1020  United Arab Emirates      100\n",
       "1070           Yemen, Rep.  13.8152\n",
       "715                  Niger  13.8406\n",
       "880                Somalia  15.0237\n",
       "150           Burkina Faso  15.5971\n",
       "590             Madagascar  15.8196\n",
       "320               Ethiopia  16.0696\n",
       "670             Mozambique  17.8299\n",
       "0              Afghanistan     18.4\n",
       "1225            Low income     18.8"
      ]
     },
     "execution_count": 136,
     "metadata": {},
     "output_type": "execute_result"
    }
   ],
   "source": [
    "wb_year.sort_values(selected_year, ascending=True).head(10) #not sure why is United Arab Emirates value as 100 showing up here"
   ]
  },
  {
   "cell_type": "code",
   "execution_count": 143,
   "id": "c045b900",
   "metadata": {},
   "outputs": [
    {
     "data": {
      "text/html": [
       "<div>\n",
       "<style scoped>\n",
       "    .dataframe tbody tr th:only-of-type {\n",
       "        vertical-align: middle;\n",
       "    }\n",
       "\n",
       "    .dataframe tbody tr th {\n",
       "        vertical-align: top;\n",
       "    }\n",
       "\n",
       "    .dataframe thead th {\n",
       "        text-align: right;\n",
       "    }\n",
       "</style>\n",
       "<table border=\"1\" class=\"dataframe\">\n",
       "  <thead>\n",
       "    <tr style=\"text-align: right;\">\n",
       "      <th>country_name</th>\n",
       "      <th>Afghanistan</th>\n",
       "      <th>Albania</th>\n",
       "      <th>Algeria</th>\n",
       "      <th>American Samoa</th>\n",
       "      <th>Andorra</th>\n",
       "      <th>Angola</th>\n",
       "      <th>Antigua and Barbuda</th>\n",
       "      <th>Argentina</th>\n",
       "      <th>Armenia</th>\n",
       "      <th>Aruba</th>\n",
       "      <th>...</th>\n",
       "      <th>Post-demographic dividend</th>\n",
       "      <th>Pre-demographic dividend</th>\n",
       "      <th>Small states</th>\n",
       "      <th>South Asia</th>\n",
       "      <th>South Asia (IDA &amp; IBRD)</th>\n",
       "      <th>Sub-Saharan Africa</th>\n",
       "      <th>Sub-Saharan Africa (excluding high income)</th>\n",
       "      <th>Sub-Saharan Africa (IDA &amp; IBRD countries)</th>\n",
       "      <th>Upper middle income</th>\n",
       "      <th>World</th>\n",
       "    </tr>\n",
       "  </thead>\n",
       "  <tbody>\n",
       "    <tr>\n",
       "      <th>1990</th>\n",
       "      <td>0.0</td>\n",
       "      <td>0.0</td>\n",
       "      <td>0.000000</td>\n",
       "      <td>0.0</td>\n",
       "      <td>0.0</td>\n",
       "      <td>0.0</td>\n",
       "      <td>0.0</td>\n",
       "      <td>0.000000</td>\n",
       "      <td>0.000000</td>\n",
       "      <td>0.0</td>\n",
       "      <td>...</td>\n",
       "      <td>0.268184</td>\n",
       "      <td>0.000000</td>\n",
       "      <td>0.000000</td>\n",
       "      <td>0.000000</td>\n",
       "      <td>0.000000</td>\n",
       "      <td>0.000000</td>\n",
       "      <td>0.000000</td>\n",
       "      <td>0.000000</td>\n",
       "      <td>0.000000</td>\n",
       "      <td>0.048825</td>\n",
       "    </tr>\n",
       "    <tr>\n",
       "      <th>1991</th>\n",
       "      <td>0.0</td>\n",
       "      <td>0.0</td>\n",
       "      <td>0.000000</td>\n",
       "      <td>0.0</td>\n",
       "      <td>0.0</td>\n",
       "      <td>0.0</td>\n",
       "      <td>0.0</td>\n",
       "      <td>0.000000</td>\n",
       "      <td>0.000000</td>\n",
       "      <td>0.0</td>\n",
       "      <td>...</td>\n",
       "      <td>0.433871</td>\n",
       "      <td>0.000000</td>\n",
       "      <td>0.009999</td>\n",
       "      <td>0.000000</td>\n",
       "      <td>0.000000</td>\n",
       "      <td>0.001033</td>\n",
       "      <td>0.001034</td>\n",
       "      <td>0.001033</td>\n",
       "      <td>0.000722</td>\n",
       "      <td>0.078811</td>\n",
       "    </tr>\n",
       "    <tr>\n",
       "      <th>1992</th>\n",
       "      <td>0.0</td>\n",
       "      <td>0.0</td>\n",
       "      <td>0.000000</td>\n",
       "      <td>0.0</td>\n",
       "      <td>0.0</td>\n",
       "      <td>0.0</td>\n",
       "      <td>0.0</td>\n",
       "      <td>0.002993</td>\n",
       "      <td>0.000000</td>\n",
       "      <td>0.0</td>\n",
       "      <td>...</td>\n",
       "      <td>0.686177</td>\n",
       "      <td>0.000000</td>\n",
       "      <td>0.040532</td>\n",
       "      <td>0.000085</td>\n",
       "      <td>0.000085</td>\n",
       "      <td>0.003006</td>\n",
       "      <td>0.003006</td>\n",
       "      <td>0.003006</td>\n",
       "      <td>0.002455</td>\n",
       "      <td>0.125186</td>\n",
       "    </tr>\n",
       "    <tr>\n",
       "      <th>1993</th>\n",
       "      <td>0.0</td>\n",
       "      <td>0.0</td>\n",
       "      <td>0.000000</td>\n",
       "      <td>0.0</td>\n",
       "      <td>0.0</td>\n",
       "      <td>0.0</td>\n",
       "      <td>0.0</td>\n",
       "      <td>0.029527</td>\n",
       "      <td>0.000000</td>\n",
       "      <td>0.0</td>\n",
       "      <td>...</td>\n",
       "      <td>0.974165</td>\n",
       "      <td>0.000000</td>\n",
       "      <td>0.090217</td>\n",
       "      <td>0.000166</td>\n",
       "      <td>0.000166</td>\n",
       "      <td>0.008725</td>\n",
       "      <td>0.008726</td>\n",
       "      <td>0.008725</td>\n",
       "      <td>0.006754</td>\n",
       "      <td>0.179007</td>\n",
       "    </tr>\n",
       "    <tr>\n",
       "      <th>1994</th>\n",
       "      <td>0.0</td>\n",
       "      <td>0.0</td>\n",
       "      <td>0.000361</td>\n",
       "      <td>0.0</td>\n",
       "      <td>0.0</td>\n",
       "      <td>0.0</td>\n",
       "      <td>0.0</td>\n",
       "      <td>0.043706</td>\n",
       "      <td>0.009117</td>\n",
       "      <td>0.0</td>\n",
       "      <td>...</td>\n",
       "      <td>1.965282</td>\n",
       "      <td>0.000126</td>\n",
       "      <td>0.268474</td>\n",
       "      <td>0.000851</td>\n",
       "      <td>0.000851</td>\n",
       "      <td>0.018912</td>\n",
       "      <td>0.018914</td>\n",
       "      <td>0.018912</td>\n",
       "      <td>0.016723</td>\n",
       "      <td>0.360508</td>\n",
       "    </tr>\n",
       "  </tbody>\n",
       "</table>\n",
       "<p>5 rows × 266 columns</p>\n",
       "</div>"
      ],
      "text/plain": [
       "country_name  Afghanistan  Albania   Algeria  American Samoa  Andorra  Angola  \\\n",
       "1990                  0.0      0.0  0.000000             0.0      0.0     0.0   \n",
       "1991                  0.0      0.0  0.000000             0.0      0.0     0.0   \n",
       "1992                  0.0      0.0  0.000000             0.0      0.0     0.0   \n",
       "1993                  0.0      0.0  0.000000             0.0      0.0     0.0   \n",
       "1994                  0.0      0.0  0.000361             0.0      0.0     0.0   \n",
       "\n",
       "country_name  Antigua and Barbuda  Argentina   Armenia  Aruba  ...  \\\n",
       "1990                          0.0   0.000000  0.000000    0.0  ...   \n",
       "1991                          0.0   0.000000  0.000000    0.0  ...   \n",
       "1992                          0.0   0.002993  0.000000    0.0  ...   \n",
       "1993                          0.0   0.029527  0.000000    0.0  ...   \n",
       "1994                          0.0   0.043706  0.009117    0.0  ...   \n",
       "\n",
       "country_name  Post-demographic dividend  Pre-demographic dividend  \\\n",
       "1990                           0.268184                  0.000000   \n",
       "1991                           0.433871                  0.000000   \n",
       "1992                           0.686177                  0.000000   \n",
       "1993                           0.974165                  0.000000   \n",
       "1994                           1.965282                  0.000126   \n",
       "\n",
       "country_name  Small states  South Asia  South Asia (IDA & IBRD)  \\\n",
       "1990              0.000000    0.000000                 0.000000   \n",
       "1991              0.009999    0.000000                 0.000000   \n",
       "1992              0.040532    0.000085                 0.000085   \n",
       "1993              0.090217    0.000166                 0.000166   \n",
       "1994              0.268474    0.000851                 0.000851   \n",
       "\n",
       "country_name  Sub-Saharan Africa  Sub-Saharan Africa (excluding high income)  \\\n",
       "1990                    0.000000                                    0.000000   \n",
       "1991                    0.001033                                    0.001034   \n",
       "1992                    0.003006                                    0.003006   \n",
       "1993                    0.008725                                    0.008726   \n",
       "1994                    0.018912                                    0.018914   \n",
       "\n",
       "country_name  Sub-Saharan Africa (IDA & IBRD countries)  Upper middle income  \\\n",
       "1990                                           0.000000             0.000000   \n",
       "1991                                           0.001033             0.000722   \n",
       "1992                                           0.003006             0.002455   \n",
       "1993                                           0.008725             0.006754   \n",
       "1994                                           0.018912             0.016723   \n",
       "\n",
       "country_name     World  \n",
       "1990          0.048825  \n",
       "1991          0.078811  \n",
       "1992          0.125186  \n",
       "1993          0.179007  \n",
       "1994          0.360508  \n",
       "\n",
       "[5 rows x 266 columns]"
      ]
     },
     "execution_count": 143,
     "metadata": {},
     "output_type": "execute_result"
    }
   ],
   "source": [
    "#Countries that are increasing the most in recent year?\n",
    "\n",
    "wb = pd.read_csv('C:/Users/skyes/Documents/Projects/worldbank-country-internet-data.csv')\n",
    "\n",
    "countries = wb['Country Name'].unique()\n",
    "\n",
    "internet_stats = get_cleaned_data(wb, 'IT.NET.USER.ZS', countries)\n",
    "\n",
    "internet_stats.head()"
   ]
  },
  {
   "cell_type": "code",
   "execution_count": null,
   "id": "2af45824",
   "metadata": {},
   "outputs": [],
   "source": []
  },
  {
   "cell_type": "code",
   "execution_count": 144,
   "id": "932461b9",
   "metadata": {},
   "outputs": [
    {
     "data": {
      "text/html": [
       "<div>\n",
       "<style scoped>\n",
       "    .dataframe tbody tr th:only-of-type {\n",
       "        vertical-align: middle;\n",
       "    }\n",
       "\n",
       "    .dataframe tbody tr th {\n",
       "        vertical-align: top;\n",
       "    }\n",
       "\n",
       "    .dataframe thead th {\n",
       "        text-align: right;\n",
       "    }\n",
       "</style>\n",
       "<table border=\"1\" class=\"dataframe\">\n",
       "  <thead>\n",
       "    <tr style=\"text-align: right;\">\n",
       "      <th></th>\n",
       "      <th>a</th>\n",
       "      <th>b</th>\n",
       "      <th>c</th>\n",
       "    </tr>\n",
       "  </thead>\n",
       "  <tbody>\n",
       "    <tr>\n",
       "      <th>0</th>\n",
       "      <td>1</td>\n",
       "      <td>6</td>\n",
       "      <td>11</td>\n",
       "    </tr>\n",
       "    <tr>\n",
       "      <th>1</th>\n",
       "      <td>2</td>\n",
       "      <td>7</td>\n",
       "      <td>12</td>\n",
       "    </tr>\n",
       "    <tr>\n",
       "      <th>2</th>\n",
       "      <td>3</td>\n",
       "      <td>8</td>\n",
       "      <td>13</td>\n",
       "    </tr>\n",
       "    <tr>\n",
       "      <th>3</th>\n",
       "      <td>4</td>\n",
       "      <td>9</td>\n",
       "      <td>14</td>\n",
       "    </tr>\n",
       "    <tr>\n",
       "      <th>4</th>\n",
       "      <td>5</td>\n",
       "      <td>10</td>\n",
       "      <td>15</td>\n",
       "    </tr>\n",
       "  </tbody>\n",
       "</table>\n",
       "</div>"
      ],
      "text/plain": [
       "   a   b   c\n",
       "0  1   6  11\n",
       "1  2   7  12\n",
       "2  3   8  13\n",
       "3  4   9  14\n",
       "4  5  10  15"
      ]
     },
     "execution_count": 144,
     "metadata": {},
     "output_type": "execute_result"
    }
   ],
   "source": [
    "sample_df = pd.DataFrame({\n",
    "    'a': [1, 2, 3, 4, 5],\n",
    "    'b': [6, 7, 8, 9, 10],\n",
    "    'c': [11, 12, 13, 14, 15]\n",
    "})\n",
    "\n",
    "sample_df"
   ]
  },
  {
   "cell_type": "code",
   "execution_count": 148,
   "id": "90fd336e",
   "metadata": {},
   "outputs": [],
   "source": [
    "sample_df['shifted_c'] = sample_df['c'].shift(1) #values in column c will be shifted 1 spot below"
   ]
  },
  {
   "cell_type": "code",
   "execution_count": 149,
   "id": "a1f00e02",
   "metadata": {},
   "outputs": [
    {
     "data": {
      "text/html": [
       "<div>\n",
       "<style scoped>\n",
       "    .dataframe tbody tr th:only-of-type {\n",
       "        vertical-align: middle;\n",
       "    }\n",
       "\n",
       "    .dataframe tbody tr th {\n",
       "        vertical-align: top;\n",
       "    }\n",
       "\n",
       "    .dataframe thead th {\n",
       "        text-align: right;\n",
       "    }\n",
       "</style>\n",
       "<table border=\"1\" class=\"dataframe\">\n",
       "  <thead>\n",
       "    <tr style=\"text-align: right;\">\n",
       "      <th></th>\n",
       "      <th>a</th>\n",
       "      <th>b</th>\n",
       "      <th>c</th>\n",
       "      <th>shifted_c</th>\n",
       "      <th>pct_change</th>\n",
       "    </tr>\n",
       "  </thead>\n",
       "  <tbody>\n",
       "    <tr>\n",
       "      <th>0</th>\n",
       "      <td>1</td>\n",
       "      <td>6</td>\n",
       "      <td>11</td>\n",
       "      <td>NaN</td>\n",
       "      <td>NaN</td>\n",
       "    </tr>\n",
       "    <tr>\n",
       "      <th>1</th>\n",
       "      <td>2</td>\n",
       "      <td>7</td>\n",
       "      <td>12</td>\n",
       "      <td>11.0</td>\n",
       "      <td>0.090909</td>\n",
       "    </tr>\n",
       "    <tr>\n",
       "      <th>2</th>\n",
       "      <td>3</td>\n",
       "      <td>8</td>\n",
       "      <td>13</td>\n",
       "      <td>12.0</td>\n",
       "      <td>0.083333</td>\n",
       "    </tr>\n",
       "    <tr>\n",
       "      <th>3</th>\n",
       "      <td>4</td>\n",
       "      <td>9</td>\n",
       "      <td>14</td>\n",
       "      <td>13.0</td>\n",
       "      <td>0.076923</td>\n",
       "    </tr>\n",
       "    <tr>\n",
       "      <th>4</th>\n",
       "      <td>5</td>\n",
       "      <td>10</td>\n",
       "      <td>15</td>\n",
       "      <td>14.0</td>\n",
       "      <td>0.071429</td>\n",
       "    </tr>\n",
       "  </tbody>\n",
       "</table>\n",
       "</div>"
      ],
      "text/plain": [
       "   a   b   c  shifted_c  pct_change\n",
       "0  1   6  11        NaN         NaN\n",
       "1  2   7  12       11.0    0.090909\n",
       "2  3   8  13       12.0    0.083333\n",
       "3  4   9  14       13.0    0.076923\n",
       "4  5  10  15       14.0    0.071429"
      ]
     },
     "execution_count": 149,
     "metadata": {},
     "output_type": "execute_result"
    }
   ],
   "source": [
    "sample_df"
   ]
  },
  {
   "cell_type": "code",
   "execution_count": 150,
   "id": "515c2567",
   "metadata": {},
   "outputs": [
    {
     "data": {
      "text/html": [
       "<div>\n",
       "<style scoped>\n",
       "    .dataframe tbody tr th:only-of-type {\n",
       "        vertical-align: middle;\n",
       "    }\n",
       "\n",
       "    .dataframe tbody tr th {\n",
       "        vertical-align: top;\n",
       "    }\n",
       "\n",
       "    .dataframe thead th {\n",
       "        text-align: right;\n",
       "    }\n",
       "</style>\n",
       "<table border=\"1\" class=\"dataframe\">\n",
       "  <thead>\n",
       "    <tr style=\"text-align: right;\">\n",
       "      <th></th>\n",
       "      <th>a</th>\n",
       "      <th>b</th>\n",
       "      <th>c</th>\n",
       "      <th>shifted_c</th>\n",
       "      <th>pct_change</th>\n",
       "    </tr>\n",
       "  </thead>\n",
       "  <tbody>\n",
       "    <tr>\n",
       "      <th>0</th>\n",
       "      <td>1</td>\n",
       "      <td>6</td>\n",
       "      <td>11</td>\n",
       "      <td>NaN</td>\n",
       "      <td>NaN</td>\n",
       "    </tr>\n",
       "    <tr>\n",
       "      <th>1</th>\n",
       "      <td>2</td>\n",
       "      <td>7</td>\n",
       "      <td>12</td>\n",
       "      <td>11.0</td>\n",
       "      <td>0.090909</td>\n",
       "    </tr>\n",
       "    <tr>\n",
       "      <th>2</th>\n",
       "      <td>3</td>\n",
       "      <td>8</td>\n",
       "      <td>13</td>\n",
       "      <td>12.0</td>\n",
       "      <td>0.083333</td>\n",
       "    </tr>\n",
       "    <tr>\n",
       "      <th>3</th>\n",
       "      <td>4</td>\n",
       "      <td>9</td>\n",
       "      <td>14</td>\n",
       "      <td>13.0</td>\n",
       "      <td>0.076923</td>\n",
       "    </tr>\n",
       "    <tr>\n",
       "      <th>4</th>\n",
       "      <td>5</td>\n",
       "      <td>10</td>\n",
       "      <td>15</td>\n",
       "      <td>14.0</td>\n",
       "      <td>0.071429</td>\n",
       "    </tr>\n",
       "  </tbody>\n",
       "</table>\n",
       "</div>"
      ],
      "text/plain": [
       "   a   b   c  shifted_c  pct_change\n",
       "0  1   6  11        NaN         NaN\n",
       "1  2   7  12       11.0    0.090909\n",
       "2  3   8  13       12.0    0.083333\n",
       "3  4   9  14       13.0    0.076923\n",
       "4  5  10  15       14.0    0.071429"
      ]
     },
     "execution_count": 150,
     "metadata": {},
     "output_type": "execute_result"
    }
   ],
   "source": [
    "#pct_change() usage\n",
    "sample_df['pct_change'] = sample_df['c'].pct_change()\n",
    "\n",
    "sample_df"
   ]
  },
  {
   "cell_type": "code",
   "execution_count": 153,
   "id": "ea3b5aec",
   "metadata": {},
   "outputs": [
    {
     "data": {
      "text/html": [
       "<div>\n",
       "<style scoped>\n",
       "    .dataframe tbody tr th:only-of-type {\n",
       "        vertical-align: middle;\n",
       "    }\n",
       "\n",
       "    .dataframe tbody tr th {\n",
       "        vertical-align: top;\n",
       "    }\n",
       "\n",
       "    .dataframe thead th {\n",
       "        text-align: right;\n",
       "    }\n",
       "</style>\n",
       "<table border=\"1\" class=\"dataframe\">\n",
       "  <thead>\n",
       "    <tr style=\"text-align: right;\">\n",
       "      <th></th>\n",
       "      <th>a</th>\n",
       "      <th>b</th>\n",
       "      <th>c</th>\n",
       "      <th>shifted_c</th>\n",
       "      <th>pct_change</th>\n",
       "      <th>pct_change_trad</th>\n",
       "    </tr>\n",
       "  </thead>\n",
       "  <tbody>\n",
       "    <tr>\n",
       "      <th>0</th>\n",
       "      <td>1</td>\n",
       "      <td>6</td>\n",
       "      <td>11</td>\n",
       "      <td>NaN</td>\n",
       "      <td>NaN</td>\n",
       "      <td>NaN</td>\n",
       "    </tr>\n",
       "    <tr>\n",
       "      <th>1</th>\n",
       "      <td>2</td>\n",
       "      <td>7</td>\n",
       "      <td>12</td>\n",
       "      <td>11.0</td>\n",
       "      <td>0.090909</td>\n",
       "      <td>0.090909</td>\n",
       "    </tr>\n",
       "    <tr>\n",
       "      <th>2</th>\n",
       "      <td>3</td>\n",
       "      <td>8</td>\n",
       "      <td>13</td>\n",
       "      <td>12.0</td>\n",
       "      <td>0.083333</td>\n",
       "      <td>0.083333</td>\n",
       "    </tr>\n",
       "    <tr>\n",
       "      <th>3</th>\n",
       "      <td>4</td>\n",
       "      <td>9</td>\n",
       "      <td>14</td>\n",
       "      <td>13.0</td>\n",
       "      <td>0.076923</td>\n",
       "      <td>0.076923</td>\n",
       "    </tr>\n",
       "    <tr>\n",
       "      <th>4</th>\n",
       "      <td>5</td>\n",
       "      <td>10</td>\n",
       "      <td>15</td>\n",
       "      <td>14.0</td>\n",
       "      <td>0.071429</td>\n",
       "      <td>0.071429</td>\n",
       "    </tr>\n",
       "  </tbody>\n",
       "</table>\n",
       "</div>"
      ],
      "text/plain": [
       "   a   b   c  shifted_c  pct_change  pct_change_trad\n",
       "0  1   6  11        NaN         NaN              NaN\n",
       "1  2   7  12       11.0    0.090909         0.090909\n",
       "2  3   8  13       12.0    0.083333         0.083333\n",
       "3  4   9  14       13.0    0.076923         0.076923\n",
       "4  5  10  15       14.0    0.071429         0.071429"
      ]
     },
     "execution_count": 153,
     "metadata": {},
     "output_type": "execute_result"
    }
   ],
   "source": [
    "#pct_change using traditional method\n",
    "sample_df['pct_change_trad'] = (sample_df['c'] / sample_df['shifted_c']) - 1 \n",
    "\n",
    "sample_df"
   ]
  },
  {
   "cell_type": "code",
   "execution_count": 154,
   "id": "0fca4614",
   "metadata": {},
   "outputs": [
    {
     "data": {
      "text/html": [
       "<div>\n",
       "<style scoped>\n",
       "    .dataframe tbody tr th:only-of-type {\n",
       "        vertical-align: middle;\n",
       "    }\n",
       "\n",
       "    .dataframe tbody tr th {\n",
       "        vertical-align: top;\n",
       "    }\n",
       "\n",
       "    .dataframe thead th {\n",
       "        text-align: right;\n",
       "    }\n",
       "</style>\n",
       "<table border=\"1\" class=\"dataframe\">\n",
       "  <thead>\n",
       "    <tr style=\"text-align: right;\">\n",
       "      <th>country_name</th>\n",
       "      <th>Afghanistan</th>\n",
       "      <th>Albania</th>\n",
       "      <th>Algeria</th>\n",
       "      <th>American Samoa</th>\n",
       "      <th>Andorra</th>\n",
       "    </tr>\n",
       "  </thead>\n",
       "  <tbody>\n",
       "    <tr>\n",
       "      <th>2014</th>\n",
       "      <td>7.00</td>\n",
       "      <td>54.3000</td>\n",
       "      <td>29.5000</td>\n",
       "      <td>NaN</td>\n",
       "      <td>86.1000</td>\n",
       "    </tr>\n",
       "    <tr>\n",
       "      <th>2015</th>\n",
       "      <td>8.26</td>\n",
       "      <td>56.9000</td>\n",
       "      <td>38.2000</td>\n",
       "      <td>NaN</td>\n",
       "      <td>87.9000</td>\n",
       "    </tr>\n",
       "    <tr>\n",
       "      <th>2016</th>\n",
       "      <td>11.00</td>\n",
       "      <td>59.6000</td>\n",
       "      <td>42.9455</td>\n",
       "      <td>NaN</td>\n",
       "      <td>89.7000</td>\n",
       "    </tr>\n",
       "    <tr>\n",
       "      <th>2017</th>\n",
       "      <td>13.50</td>\n",
       "      <td>62.4000</td>\n",
       "      <td>47.6911</td>\n",
       "      <td>NaN</td>\n",
       "      <td>91.5675</td>\n",
       "    </tr>\n",
       "    <tr>\n",
       "      <th>2018</th>\n",
       "      <td>16.80</td>\n",
       "      <td>65.4000</td>\n",
       "      <td>49.0385</td>\n",
       "      <td>NaN</td>\n",
       "      <td>NaN</td>\n",
       "    </tr>\n",
       "    <tr>\n",
       "      <th>2019</th>\n",
       "      <td>17.60</td>\n",
       "      <td>68.5504</td>\n",
       "      <td>58.9776</td>\n",
       "      <td>NaN</td>\n",
       "      <td>90.7187</td>\n",
       "    </tr>\n",
       "    <tr>\n",
       "      <th>2020</th>\n",
       "      <td>18.40</td>\n",
       "      <td>72.2377</td>\n",
       "      <td>60.6534</td>\n",
       "      <td>NaN</td>\n",
       "      <td>93.2056</td>\n",
       "    </tr>\n",
       "    <tr>\n",
       "      <th>2021</th>\n",
       "      <td>NaN</td>\n",
       "      <td>79.3237</td>\n",
       "      <td>66.2356</td>\n",
       "      <td>NaN</td>\n",
       "      <td>93.8975</td>\n",
       "    </tr>\n",
       "    <tr>\n",
       "      <th>2022</th>\n",
       "      <td>NaN</td>\n",
       "      <td>82.6137</td>\n",
       "      <td>71.2432</td>\n",
       "      <td>NaN</td>\n",
       "      <td>94.4855</td>\n",
       "    </tr>\n",
       "    <tr>\n",
       "      <th>2023</th>\n",
       "      <td>NaN</td>\n",
       "      <td>83.1356</td>\n",
       "      <td>NaN</td>\n",
       "      <td>NaN</td>\n",
       "      <td>NaN</td>\n",
       "    </tr>\n",
       "  </tbody>\n",
       "</table>\n",
       "</div>"
      ],
      "text/plain": [
       "country_name  Afghanistan  Albania  Algeria  American Samoa  Andorra\n",
       "2014                 7.00  54.3000  29.5000             NaN  86.1000\n",
       "2015                 8.26  56.9000  38.2000             NaN  87.9000\n",
       "2016                11.00  59.6000  42.9455             NaN  89.7000\n",
       "2017                13.50  62.4000  47.6911             NaN  91.5675\n",
       "2018                16.80  65.4000  49.0385             NaN      NaN\n",
       "2019                17.60  68.5504  58.9776             NaN  90.7187\n",
       "2020                18.40  72.2377  60.6534             NaN  93.2056\n",
       "2021                  NaN  79.3237  66.2356             NaN  93.8975\n",
       "2022                  NaN  82.6137  71.2432             NaN  94.4855\n",
       "2023                  NaN  83.1356      NaN             NaN      NaN"
      ]
     },
     "execution_count": 154,
     "metadata": {},
     "output_type": "execute_result"
    }
   ],
   "source": [
    "internet_stats.iloc[:, :5].tail(10)"
   ]
  },
  {
   "cell_type": "code",
   "execution_count": 155,
   "id": "c416d6d7",
   "metadata": {},
   "outputs": [],
   "source": [
    "pct_changes = internet_stats.pct_change()"
   ]
  },
  {
   "cell_type": "code",
   "execution_count": 156,
   "id": "372650b1",
   "metadata": {
    "scrolled": true
   },
   "outputs": [
    {
     "data": {
      "text/html": [
       "<div>\n",
       "<style scoped>\n",
       "    .dataframe tbody tr th:only-of-type {\n",
       "        vertical-align: middle;\n",
       "    }\n",
       "\n",
       "    .dataframe tbody tr th {\n",
       "        vertical-align: top;\n",
       "    }\n",
       "\n",
       "    .dataframe thead th {\n",
       "        text-align: right;\n",
       "    }\n",
       "</style>\n",
       "<table border=\"1\" class=\"dataframe\">\n",
       "  <thead>\n",
       "    <tr style=\"text-align: right;\">\n",
       "      <th>country_name</th>\n",
       "      <th>Afghanistan</th>\n",
       "      <th>Albania</th>\n",
       "      <th>Algeria</th>\n",
       "      <th>American Samoa</th>\n",
       "      <th>Andorra</th>\n",
       "      <th>Angola</th>\n",
       "      <th>Antigua and Barbuda</th>\n",
       "      <th>Argentina</th>\n",
       "      <th>Armenia</th>\n",
       "      <th>Aruba</th>\n",
       "      <th>...</th>\n",
       "      <th>Post-demographic dividend</th>\n",
       "      <th>Pre-demographic dividend</th>\n",
       "      <th>Small states</th>\n",
       "      <th>South Asia</th>\n",
       "      <th>South Asia (IDA &amp; IBRD)</th>\n",
       "      <th>Sub-Saharan Africa</th>\n",
       "      <th>Sub-Saharan Africa (excluding high income)</th>\n",
       "      <th>Sub-Saharan Africa (IDA &amp; IBRD countries)</th>\n",
       "      <th>Upper middle income</th>\n",
       "      <th>World</th>\n",
       "    </tr>\n",
       "  </thead>\n",
       "  <tbody>\n",
       "    <tr>\n",
       "      <th>1990</th>\n",
       "      <td>NaN</td>\n",
       "      <td>NaN</td>\n",
       "      <td>NaN</td>\n",
       "      <td>NaN</td>\n",
       "      <td>NaN</td>\n",
       "      <td>NaN</td>\n",
       "      <td>NaN</td>\n",
       "      <td>NaN</td>\n",
       "      <td>NaN</td>\n",
       "      <td>NaN</td>\n",
       "      <td>...</td>\n",
       "      <td>NaN</td>\n",
       "      <td>NaN</td>\n",
       "      <td>NaN</td>\n",
       "      <td>NaN</td>\n",
       "      <td>NaN</td>\n",
       "      <td>NaN</td>\n",
       "      <td>NaN</td>\n",
       "      <td>NaN</td>\n",
       "      <td>NaN</td>\n",
       "      <td>NaN</td>\n",
       "    </tr>\n",
       "    <tr>\n",
       "      <th>1991</th>\n",
       "      <td>NaN</td>\n",
       "      <td>NaN</td>\n",
       "      <td>NaN</td>\n",
       "      <td>NaN</td>\n",
       "      <td>NaN</td>\n",
       "      <td>NaN</td>\n",
       "      <td>NaN</td>\n",
       "      <td>NaN</td>\n",
       "      <td>NaN</td>\n",
       "      <td>NaN</td>\n",
       "      <td>...</td>\n",
       "      <td>0.617811</td>\n",
       "      <td>NaN</td>\n",
       "      <td>inf</td>\n",
       "      <td>NaN</td>\n",
       "      <td>NaN</td>\n",
       "      <td>inf</td>\n",
       "      <td>inf</td>\n",
       "      <td>inf</td>\n",
       "      <td>inf</td>\n",
       "      <td>0.614153</td>\n",
       "    </tr>\n",
       "    <tr>\n",
       "      <th>1992</th>\n",
       "      <td>NaN</td>\n",
       "      <td>NaN</td>\n",
       "      <td>NaN</td>\n",
       "      <td>NaN</td>\n",
       "      <td>NaN</td>\n",
       "      <td>NaN</td>\n",
       "      <td>NaN</td>\n",
       "      <td>inf</td>\n",
       "      <td>NaN</td>\n",
       "      <td>NaN</td>\n",
       "      <td>...</td>\n",
       "      <td>0.581522</td>\n",
       "      <td>NaN</td>\n",
       "      <td>3.053605</td>\n",
       "      <td>inf</td>\n",
       "      <td>inf</td>\n",
       "      <td>1.908922</td>\n",
       "      <td>1.908915</td>\n",
       "      <td>1.908922</td>\n",
       "      <td>2.401127</td>\n",
       "      <td>0.588447</td>\n",
       "    </tr>\n",
       "    <tr>\n",
       "      <th>1993</th>\n",
       "      <td>NaN</td>\n",
       "      <td>NaN</td>\n",
       "      <td>NaN</td>\n",
       "      <td>NaN</td>\n",
       "      <td>NaN</td>\n",
       "      <td>NaN</td>\n",
       "      <td>NaN</td>\n",
       "      <td>8.865790</td>\n",
       "      <td>NaN</td>\n",
       "      <td>NaN</td>\n",
       "      <td>...</td>\n",
       "      <td>0.419700</td>\n",
       "      <td>NaN</td>\n",
       "      <td>1.225806</td>\n",
       "      <td>0.956703</td>\n",
       "      <td>0.956703</td>\n",
       "      <td>1.902315</td>\n",
       "      <td>1.902308</td>\n",
       "      <td>1.902315</td>\n",
       "      <td>1.751788</td>\n",
       "      <td>0.429922</td>\n",
       "    </tr>\n",
       "    <tr>\n",
       "      <th>1994</th>\n",
       "      <td>NaN</td>\n",
       "      <td>NaN</td>\n",
       "      <td>inf</td>\n",
       "      <td>NaN</td>\n",
       "      <td>NaN</td>\n",
       "      <td>NaN</td>\n",
       "      <td>NaN</td>\n",
       "      <td>0.480200</td>\n",
       "      <td>inf</td>\n",
       "      <td>NaN</td>\n",
       "      <td>...</td>\n",
       "      <td>1.017401</td>\n",
       "      <td>inf</td>\n",
       "      <td>1.975862</td>\n",
       "      <td>4.135192</td>\n",
       "      <td>4.135192</td>\n",
       "      <td>1.167640</td>\n",
       "      <td>1.167636</td>\n",
       "      <td>1.167640</td>\n",
       "      <td>1.475873</td>\n",
       "      <td>1.013937</td>\n",
       "    </tr>\n",
       "    <tr>\n",
       "      <th>1995</th>\n",
       "      <td>NaN</td>\n",
       "      <td>inf</td>\n",
       "      <td>3.904579</td>\n",
       "      <td>NaN</td>\n",
       "      <td>NaN</td>\n",
       "      <td>NaN</td>\n",
       "      <td>inf</td>\n",
       "      <td>0.974035</td>\n",
       "      <td>4.785131</td>\n",
       "      <td>NaN</td>\n",
       "      <td>...</td>\n",
       "      <td>0.886897</td>\n",
       "      <td>1.992714</td>\n",
       "      <td>1.360899</td>\n",
       "      <td>22.467375</td>\n",
       "      <td>22.467375</td>\n",
       "      <td>1.729559</td>\n",
       "      <td>1.729554</td>\n",
       "      <td>1.729559</td>\n",
       "      <td>1.561713</td>\n",
       "      <td>0.894776</td>\n",
       "    </tr>\n",
       "    <tr>\n",
       "      <th>1996</th>\n",
       "      <td>NaN</td>\n",
       "      <td>1.882774</td>\n",
       "      <td>-0.017197</td>\n",
       "      <td>NaN</td>\n",
       "      <td>inf</td>\n",
       "      <td>inf</td>\n",
       "      <td>0.298841</td>\n",
       "      <td>0.645335</td>\n",
       "      <td>0.793085</td>\n",
       "      <td>inf</td>\n",
       "      <td>...</td>\n",
       "      <td>0.834233</td>\n",
       "      <td>11.912424</td>\n",
       "      <td>0.951946</td>\n",
       "      <td>1.030495</td>\n",
       "      <td>1.030495</td>\n",
       "      <td>0.400958</td>\n",
       "      <td>0.399269</td>\n",
       "      <td>0.400958</td>\n",
       "      <td>1.443076</td>\n",
       "      <td>0.942032</td>\n",
       "    </tr>\n",
       "    <tr>\n",
       "      <th>1997</th>\n",
       "      <td>NaN</td>\n",
       "      <td>0.509277</td>\n",
       "      <td>4.906395</td>\n",
       "      <td>NaN</td>\n",
       "      <td>0.998017</td>\n",
       "      <td>6.312197</td>\n",
       "      <td>0.217631</td>\n",
       "      <td>0.974854</td>\n",
       "      <td>0.180581</td>\n",
       "      <td>0.000000</td>\n",
       "      <td>...</td>\n",
       "      <td>0.565916</td>\n",
       "      <td>1.886732</td>\n",
       "      <td>0.755124</td>\n",
       "      <td>0.480096</td>\n",
       "      <td>0.480096</td>\n",
       "      <td>0.867982</td>\n",
       "      <td>0.868022</td>\n",
       "      <td>0.867982</td>\n",
       "      <td>1.199801</td>\n",
       "      <td>0.539837</td>\n",
       "    </tr>\n",
       "    <tr>\n",
       "      <th>1998</th>\n",
       "      <td>NaN</td>\n",
       "      <td>0.338179</td>\n",
       "      <td>0.970943</td>\n",
       "      <td>NaN</td>\n",
       "      <td>1.257644</td>\n",
       "      <td>2.252476</td>\n",
       "      <td>0.169853</td>\n",
       "      <td>1.963427</td>\n",
       "      <td>0.152337</td>\n",
       "      <td>0.000000</td>\n",
       "      <td>...</td>\n",
       "      <td>0.490592</td>\n",
       "      <td>1.052644</td>\n",
       "      <td>0.716595</td>\n",
       "      <td>0.948598</td>\n",
       "      <td>0.948598</td>\n",
       "      <td>0.811605</td>\n",
       "      <td>0.811443</td>\n",
       "      <td>0.811605</td>\n",
       "      <td>1.281741</td>\n",
       "      <td>0.537467</td>\n",
       "    </tr>\n",
       "    <tr>\n",
       "      <th>1999</th>\n",
       "      <td>NaN</td>\n",
       "      <td>0.252350</td>\n",
       "      <td>8.858601</td>\n",
       "      <td>NaN</td>\n",
       "      <td>0.108837</td>\n",
       "      <td>2.899705</td>\n",
       "      <td>0.301830</td>\n",
       "      <td>2.953555</td>\n",
       "      <td>6.545016</td>\n",
       "      <td>0.627730</td>\n",
       "      <td>...</td>\n",
       "      <td>0.442200</td>\n",
       "      <td>1.566825</td>\n",
       "      <td>0.296841</td>\n",
       "      <td>0.932405</td>\n",
       "      <td>0.932405</td>\n",
       "      <td>0.528137</td>\n",
       "      <td>0.526977</td>\n",
       "      <td>0.528137</td>\n",
       "      <td>1.191649</td>\n",
       "      <td>0.475174</td>\n",
       "    </tr>\n",
       "    <tr>\n",
       "      <th>2000</th>\n",
       "      <td>NaN</td>\n",
       "      <td>0.401045</td>\n",
       "      <td>1.464397</td>\n",
       "      <td>NaN</td>\n",
       "      <td>0.380203</td>\n",
       "      <td>0.459700</td>\n",
       "      <td>0.222905</td>\n",
       "      <td>1.143011</td>\n",
       "      <td>0.339672</td>\n",
       "      <td>2.427028</td>\n",
       "      <td>...</td>\n",
       "      <td>0.333546</td>\n",
       "      <td>0.663511</td>\n",
       "      <td>0.564187</td>\n",
       "      <td>1.095015</td>\n",
       "      <td>1.095015</td>\n",
       "      <td>0.373634</td>\n",
       "      <td>0.373978</td>\n",
       "      <td>0.373634</td>\n",
       "      <td>1.004254</td>\n",
       "      <td>0.450557</td>\n",
       "    </tr>\n",
       "    <tr>\n",
       "      <th>2001</th>\n",
       "      <td>inf</td>\n",
       "      <td>1.855448</td>\n",
       "      <td>0.314025</td>\n",
       "      <td>NaN</td>\n",
       "      <td>0.000000</td>\n",
       "      <td>0.294804</td>\n",
       "      <td>0.372875</td>\n",
       "      <td>0.389580</td>\n",
       "      <td>0.254231</td>\n",
       "      <td>0.107312</td>\n",
       "      <td>...</td>\n",
       "      <td>0.199928</td>\n",
       "      <td>0.510900</td>\n",
       "      <td>0.267846</td>\n",
       "      <td>0.411177</td>\n",
       "      <td>0.411177</td>\n",
       "      <td>0.269275</td>\n",
       "      <td>0.268913</td>\n",
       "      <td>0.269275</td>\n",
       "      <td>0.470239</td>\n",
       "      <td>0.193796</td>\n",
       "    </tr>\n",
       "    <tr>\n",
       "      <th>2002</th>\n",
       "      <td>-0.034128</td>\n",
       "      <td>0.197309</td>\n",
       "      <td>1.463404</td>\n",
       "      <td>NaN</td>\n",
       "      <td>0.068480</td>\n",
       "      <td>0.987862</td>\n",
       "      <td>0.404606</td>\n",
       "      <td>0.112597</td>\n",
       "      <td>0.201902</td>\n",
       "      <td>0.099415</td>\n",
       "      <td>...</td>\n",
       "      <td>0.219482</td>\n",
       "      <td>0.934551</td>\n",
       "      <td>0.324255</td>\n",
       "      <td>1.202044</td>\n",
       "      <td>1.202044</td>\n",
       "      <td>0.279682</td>\n",
       "      <td>0.279671</td>\n",
       "      <td>0.279682</td>\n",
       "      <td>0.650200</td>\n",
       "      <td>0.306066</td>\n",
       "    </tr>\n",
       "    <tr>\n",
       "      <th>2003</th>\n",
       "      <td>18.268492</td>\n",
       "      <td>1.491534</td>\n",
       "      <td>0.379307</td>\n",
       "      <td>NaN</td>\n",
       "      <td>0.203002</td>\n",
       "      <td>0.370982</td>\n",
       "      <td>0.378288</td>\n",
       "      <td>0.094798</td>\n",
       "      <td>1.333808</td>\n",
       "      <td>0.106383</td>\n",
       "      <td>...</td>\n",
       "      <td>0.114045</td>\n",
       "      <td>0.770883</td>\n",
       "      <td>0.143439</td>\n",
       "      <td>0.269738</td>\n",
       "      <td>0.269738</td>\n",
       "      <td>0.328368</td>\n",
       "      <td>0.329028</td>\n",
       "      <td>0.328368</td>\n",
       "      <td>0.282082</td>\n",
       "      <td>0.160626</td>\n",
       "    </tr>\n",
       "    <tr>\n",
       "      <th>2004</th>\n",
       "      <td>0.203862</td>\n",
       "      <td>1.490369</td>\n",
       "      <td>1.111034</td>\n",
       "      <td>NaN</td>\n",
       "      <td>0.981191</td>\n",
       "      <td>0.253945</td>\n",
       "      <td>0.408501</td>\n",
       "      <td>0.346072</td>\n",
       "      <td>0.070770</td>\n",
       "      <td>0.105769</td>\n",
       "      <td>...</td>\n",
       "      <td>0.104321</td>\n",
       "      <td>0.514092</td>\n",
       "      <td>0.160023</td>\n",
       "      <td>0.187219</td>\n",
       "      <td>0.187219</td>\n",
       "      <td>0.344150</td>\n",
       "      <td>0.343683</td>\n",
       "      <td>0.344150</td>\n",
       "      <td>0.226741</td>\n",
       "      <td>0.154284</td>\n",
       "    </tr>\n",
       "    <tr>\n",
       "      <th>2005</th>\n",
       "      <td>10.569432</td>\n",
       "      <td>1.497073</td>\n",
       "      <td>0.260970</td>\n",
       "      <td>NaN</td>\n",
       "      <td>0.401215</td>\n",
       "      <td>1.459839</td>\n",
       "      <td>0.112645</td>\n",
       "      <td>0.105003</td>\n",
       "      <td>0.072253</td>\n",
       "      <td>0.104348</td>\n",
       "      <td>...</td>\n",
       "      <td>0.064148</td>\n",
       "      <td>0.751620</td>\n",
       "      <td>0.122395</td>\n",
       "      <td>0.164016</td>\n",
       "      <td>0.164016</td>\n",
       "      <td>0.342426</td>\n",
       "      <td>0.353947</td>\n",
       "      <td>0.342426</td>\n",
       "      <td>0.158392</td>\n",
       "      <td>0.111314</td>\n",
       "    </tr>\n",
       "    <tr>\n",
       "      <th>2006</th>\n",
       "      <td>0.721292</td>\n",
       "      <td>0.590034</td>\n",
       "      <td>0.262159</td>\n",
       "      <td>NaN</td>\n",
       "      <td>0.301310</td>\n",
       "      <td>0.311911</td>\n",
       "      <td>0.111111</td>\n",
       "      <td>0.180953</td>\n",
       "      <td>0.072113</td>\n",
       "      <td>0.102362</td>\n",
       "      <td>...</td>\n",
       "      <td>0.033274</td>\n",
       "      <td>0.425351</td>\n",
       "      <td>0.100529</td>\n",
       "      <td>0.169648</td>\n",
       "      <td>0.169648</td>\n",
       "      <td>0.250000</td>\n",
       "      <td>0.321746</td>\n",
       "      <td>0.250000</td>\n",
       "      <td>0.235294</td>\n",
       "      <td>0.108974</td>\n",
       "    </tr>\n",
       "    <tr>\n",
       "      <th>2007</th>\n",
       "      <td>-0.098295</td>\n",
       "      <td>0.564632</td>\n",
       "      <td>0.281347</td>\n",
       "      <td>NaN</td>\n",
       "      <td>0.448194</td>\n",
       "      <td>0.133333</td>\n",
       "      <td>0.133333</td>\n",
       "      <td>0.239851</td>\n",
       "      <td>0.069154</td>\n",
       "      <td>0.103571</td>\n",
       "      <td>...</td>\n",
       "      <td>0.086835</td>\n",
       "      <td>0.323113</td>\n",
       "      <td>0.110577</td>\n",
       "      <td>0.326108</td>\n",
       "      <td>0.326108</td>\n",
       "      <td>0.320000</td>\n",
       "      <td>0.270265</td>\n",
       "      <td>0.320000</td>\n",
       "      <td>0.325397</td>\n",
       "      <td>0.173410</td>\n",
       "    </tr>\n",
       "    <tr>\n",
       "      <th>2008</th>\n",
       "      <td>-0.031579</td>\n",
       "      <td>0.586848</td>\n",
       "      <td>0.077113</td>\n",
       "      <td>NaN</td>\n",
       "      <td>-0.011712</td>\n",
       "      <td>0.117647</td>\n",
       "      <td>0.117647</td>\n",
       "      <td>0.083479</td>\n",
       "      <td>0.031347</td>\n",
       "      <td>0.682848</td>\n",
       "      <td>...</td>\n",
       "      <td>0.030239</td>\n",
       "      <td>0.074981</td>\n",
       "      <td>0.147186</td>\n",
       "      <td>0.106524</td>\n",
       "      <td>0.106524</td>\n",
       "      <td>0.151515</td>\n",
       "      <td>0.087848</td>\n",
       "      <td>0.151515</td>\n",
       "      <td>0.275449</td>\n",
       "      <td>0.123153</td>\n",
       "    </tr>\n",
       "    <tr>\n",
       "      <th>2009</th>\n",
       "      <td>0.929348</td>\n",
       "      <td>0.726739</td>\n",
       "      <td>0.103143</td>\n",
       "      <td>NaN</td>\n",
       "      <td>0.121216</td>\n",
       "      <td>0.210526</td>\n",
       "      <td>0.105263</td>\n",
       "      <td>0.209422</td>\n",
       "      <td>1.463768</td>\n",
       "      <td>0.115385</td>\n",
       "      <td>...</td>\n",
       "      <td>0.018054</td>\n",
       "      <td>0.177857</td>\n",
       "      <td>0.098113</td>\n",
       "      <td>0.160121</td>\n",
       "      <td>0.160121</td>\n",
       "      <td>0.157895</td>\n",
       "      <td>0.176260</td>\n",
       "      <td>0.157895</td>\n",
       "      <td>0.211268</td>\n",
       "      <td>0.114035</td>\n",
       "    </tr>\n",
       "    <tr>\n",
       "      <th>2010</th>\n",
       "      <td>0.126761</td>\n",
       "      <td>0.092233</td>\n",
       "      <td>0.113090</td>\n",
       "      <td>NaN</td>\n",
       "      <td>0.031453</td>\n",
       "      <td>0.217391</td>\n",
       "      <td>0.119048</td>\n",
       "      <td>0.323529</td>\n",
       "      <td>0.633987</td>\n",
       "      <td>0.068966</td>\n",
       "      <td>...</td>\n",
       "      <td>0.030418</td>\n",
       "      <td>0.253103</td>\n",
       "      <td>0.109966</td>\n",
       "      <td>0.393115</td>\n",
       "      <td>0.393115</td>\n",
       "      <td>0.386364</td>\n",
       "      <td>0.421656</td>\n",
       "      <td>0.386364</td>\n",
       "      <td>0.186047</td>\n",
       "      <td>0.122047</td>\n",
       "    </tr>\n",
       "    <tr>\n",
       "      <th>2011</th>\n",
       "      <td>0.250000</td>\n",
       "      <td>0.044444</td>\n",
       "      <td>0.192000</td>\n",
       "      <td>NaN</td>\n",
       "      <td>0.000000</td>\n",
       "      <td>0.678571</td>\n",
       "      <td>0.106383</td>\n",
       "      <td>0.133333</td>\n",
       "      <td>0.280000</td>\n",
       "      <td>0.112903</td>\n",
       "      <td>...</td>\n",
       "      <td>0.005877</td>\n",
       "      <td>0.206882</td>\n",
       "      <td>0.139319</td>\n",
       "      <td>0.285269</td>\n",
       "      <td>0.285269</td>\n",
       "      <td>0.245902</td>\n",
       "      <td>0.237036</td>\n",
       "      <td>0.245902</td>\n",
       "      <td>0.130719</td>\n",
       "      <td>0.087719</td>\n",
       "    </tr>\n",
       "    <tr>\n",
       "      <th>2012</th>\n",
       "      <td>0.090910</td>\n",
       "      <td>0.051064</td>\n",
       "      <td>0.221477</td>\n",
       "      <td>NaN</td>\n",
       "      <td>0.020988</td>\n",
       "      <td>0.638298</td>\n",
       "      <td>0.115385</td>\n",
       "      <td>0.094118</td>\n",
       "      <td>0.171875</td>\n",
       "      <td>0.072464</td>\n",
       "      <td>...</td>\n",
       "      <td>0.039389</td>\n",
       "      <td>0.203910</td>\n",
       "      <td>0.095109</td>\n",
       "      <td>0.095397</td>\n",
       "      <td>0.095397</td>\n",
       "      <td>0.210526</td>\n",
       "      <td>0.222803</td>\n",
       "      <td>0.210526</td>\n",
       "      <td>0.106936</td>\n",
       "      <td>0.080645</td>\n",
       "    </tr>\n",
       "    <tr>\n",
       "      <th>2013</th>\n",
       "      <td>0.081666</td>\n",
       "      <td>0.048583</td>\n",
       "      <td>0.236264</td>\n",
       "      <td>NaN</td>\n",
       "      <td>0.020556</td>\n",
       "      <td>0.688312</td>\n",
       "      <td>0.093103</td>\n",
       "      <td>0.073477</td>\n",
       "      <td>0.117333</td>\n",
       "      <td>0.066216</td>\n",
       "      <td>...</td>\n",
       "      <td>0.019977</td>\n",
       "      <td>0.204749</td>\n",
       "      <td>0.071960</td>\n",
       "      <td>0.119690</td>\n",
       "      <td>0.119690</td>\n",
       "      <td>0.206522</td>\n",
       "      <td>0.202762</td>\n",
       "      <td>0.206522</td>\n",
       "      <td>0.083551</td>\n",
       "      <td>0.056716</td>\n",
       "    </tr>\n",
       "    <tr>\n",
       "      <th>2014</th>\n",
       "      <td>0.186441</td>\n",
       "      <td>0.048263</td>\n",
       "      <td>0.311111</td>\n",
       "      <td>NaN</td>\n",
       "      <td>0.020142</td>\n",
       "      <td>0.643254</td>\n",
       "      <td>0.069085</td>\n",
       "      <td>0.080134</td>\n",
       "      <td>0.303647</td>\n",
       "      <td>0.061850</td>\n",
       "      <td>...</td>\n",
       "      <td>0.021361</td>\n",
       "      <td>0.226762</td>\n",
       "      <td>0.076389</td>\n",
       "      <td>0.135338</td>\n",
       "      <td>0.135338</td>\n",
       "      <td>0.189189</td>\n",
       "      <td>0.196995</td>\n",
       "      <td>0.189189</td>\n",
       "      <td>0.067470</td>\n",
       "      <td>0.059322</td>\n",
       "    </tr>\n",
       "    <tr>\n",
       "      <th>2015</th>\n",
       "      <td>0.180000</td>\n",
       "      <td>0.047882</td>\n",
       "      <td>0.294915</td>\n",
       "      <td>NaN</td>\n",
       "      <td>0.020906</td>\n",
       "      <td>0.029852</td>\n",
       "      <td>0.032753</td>\n",
       "      <td>0.051671</td>\n",
       "      <td>0.081980</td>\n",
       "      <td>0.058262</td>\n",
       "      <td>...</td>\n",
       "      <td>0.017217</td>\n",
       "      <td>0.210007</td>\n",
       "      <td>0.070968</td>\n",
       "      <td>0.106794</td>\n",
       "      <td>0.106794</td>\n",
       "      <td>0.174242</td>\n",
       "      <td>0.211535</td>\n",
       "      <td>0.174242</td>\n",
       "      <td>0.081264</td>\n",
       "      <td>0.064000</td>\n",
       "    </tr>\n",
       "    <tr>\n",
       "      <th>2016</th>\n",
       "      <td>0.331719</td>\n",
       "      <td>0.047452</td>\n",
       "      <td>0.124228</td>\n",
       "      <td>NaN</td>\n",
       "      <td>0.020478</td>\n",
       "      <td>0.054545</td>\n",
       "      <td>0.042857</td>\n",
       "      <td>0.043001</td>\n",
       "      <td>0.088750</td>\n",
       "      <td>0.055056</td>\n",
       "      <td>...</td>\n",
       "      <td>0.057590</td>\n",
       "      <td>0.171392</td>\n",
       "      <td>0.070281</td>\n",
       "      <td>0.141142</td>\n",
       "      <td>0.141142</td>\n",
       "      <td>0.122581</td>\n",
       "      <td>0.121856</td>\n",
       "      <td>0.122581</td>\n",
       "      <td>0.073069</td>\n",
       "      <td>0.075188</td>\n",
       "    </tr>\n",
       "    <tr>\n",
       "      <th>2017</th>\n",
       "      <td>0.227273</td>\n",
       "      <td>0.046980</td>\n",
       "      <td>0.110503</td>\n",
       "      <td>NaN</td>\n",
       "      <td>0.020819</td>\n",
       "      <td>0.120690</td>\n",
       "      <td>0.043836</td>\n",
       "      <td>0.046864</td>\n",
       "      <td>0.006199</td>\n",
       "      <td>0.038779</td>\n",
       "      <td>...</td>\n",
       "      <td>0.014838</td>\n",
       "      <td>0.189210</td>\n",
       "      <td>0.097561</td>\n",
       "      <td>0.115623</td>\n",
       "      <td>0.115623</td>\n",
       "      <td>0.132184</td>\n",
       "      <td>0.098265</td>\n",
       "      <td>0.132184</td>\n",
       "      <td>0.064202</td>\n",
       "      <td>0.058275</td>\n",
       "    </tr>\n",
       "    <tr>\n",
       "      <th>2018</th>\n",
       "      <td>0.244444</td>\n",
       "      <td>0.048077</td>\n",
       "      <td>0.028253</td>\n",
       "      <td>NaN</td>\n",
       "      <td>0.000000</td>\n",
       "      <td>0.115385</td>\n",
       "      <td>0.044619</td>\n",
       "      <td>0.045832</td>\n",
       "      <td>0.054061</td>\n",
       "      <td>0.000000</td>\n",
       "      <td>...</td>\n",
       "      <td>0.018592</td>\n",
       "      <td>0.102569</td>\n",
       "      <td>0.046154</td>\n",
       "      <td>0.117228</td>\n",
       "      <td>0.117228</td>\n",
       "      <td>0.126904</td>\n",
       "      <td>0.137070</td>\n",
       "      <td>0.126904</td>\n",
       "      <td>0.087751</td>\n",
       "      <td>0.070485</td>\n",
       "    </tr>\n",
       "    <tr>\n",
       "      <th>2019</th>\n",
       "      <td>0.047619</td>\n",
       "      <td>0.048171</td>\n",
       "      <td>0.202680</td>\n",
       "      <td>NaN</td>\n",
       "      <td>-0.009270</td>\n",
       "      <td>0.107910</td>\n",
       "      <td>0.045226</td>\n",
       "      <td>0.028919</td>\n",
       "      <td>-0.024928</td>\n",
       "      <td>0.000000</td>\n",
       "      <td>...</td>\n",
       "      <td>0.017298</td>\n",
       "      <td>0.138841</td>\n",
       "      <td>0.081699</td>\n",
       "      <td>0.385649</td>\n",
       "      <td>0.385649</td>\n",
       "      <td>0.139640</td>\n",
       "      <td>0.079979</td>\n",
       "      <td>0.139640</td>\n",
       "      <td>0.085714</td>\n",
       "      <td>0.094650</td>\n",
       "    </tr>\n",
       "    <tr>\n",
       "      <th>2020</th>\n",
       "      <td>0.045455</td>\n",
       "      <td>0.053790</td>\n",
       "      <td>0.028414</td>\n",
       "      <td>NaN</td>\n",
       "      <td>0.027413</td>\n",
       "      <td>0.140224</td>\n",
       "      <td>0.044275</td>\n",
       "      <td>0.069639</td>\n",
       "      <td>0.149733</td>\n",
       "      <td>0.000000</td>\n",
       "      <td>...</td>\n",
       "      <td>0.033334</td>\n",
       "      <td>0.147436</td>\n",
       "      <td>0.067976</td>\n",
       "      <td>0.396693</td>\n",
       "      <td>0.396693</td>\n",
       "      <td>0.130435</td>\n",
       "      <td>0.155736</td>\n",
       "      <td>0.130435</td>\n",
       "      <td>0.088235</td>\n",
       "      <td>0.114662</td>\n",
       "    </tr>\n",
       "    <tr>\n",
       "      <th>2021</th>\n",
       "      <td>0.000000</td>\n",
       "      <td>0.098093</td>\n",
       "      <td>0.092034</td>\n",
       "      <td>NaN</td>\n",
       "      <td>0.007423</td>\n",
       "      <td>0.031992</td>\n",
       "      <td>0.002190</td>\n",
       "      <td>0.019135</td>\n",
       "      <td>0.027508</td>\n",
       "      <td>0.000000</td>\n",
       "      <td>...</td>\n",
       "      <td>0.003014</td>\n",
       "      <td>0.136298</td>\n",
       "      <td>0.039604</td>\n",
       "      <td>0.097029</td>\n",
       "      <td>0.097029</td>\n",
       "      <td>0.097902</td>\n",
       "      <td>0.096207</td>\n",
       "      <td>0.097902</td>\n",
       "      <td>0.051209</td>\n",
       "      <td>0.048904</td>\n",
       "    </tr>\n",
       "    <tr>\n",
       "      <th>2022</th>\n",
       "      <td>0.000000</td>\n",
       "      <td>0.041476</td>\n",
       "      <td>0.075603</td>\n",
       "      <td>NaN</td>\n",
       "      <td>0.006262</td>\n",
       "      <td>0.039326</td>\n",
       "      <td>0.049823</td>\n",
       "      <td>0.014053</td>\n",
       "      <td>-0.020157</td>\n",
       "      <td>0.000000</td>\n",
       "      <td>...</td>\n",
       "      <td>0.017982</td>\n",
       "      <td>0.129926</td>\n",
       "      <td>0.021769</td>\n",
       "      <td>0.000000</td>\n",
       "      <td>0.000000</td>\n",
       "      <td>0.070064</td>\n",
       "      <td>0.099816</td>\n",
       "      <td>0.070064</td>\n",
       "      <td>0.036536</td>\n",
       "      <td>0.035370</td>\n",
       "    </tr>\n",
       "    <tr>\n",
       "      <th>2023</th>\n",
       "      <td>0.000000</td>\n",
       "      <td>0.006317</td>\n",
       "      <td>0.000000</td>\n",
       "      <td>NaN</td>\n",
       "      <td>0.000000</td>\n",
       "      <td>0.000000</td>\n",
       "      <td>0.000000</td>\n",
       "      <td>0.009659</td>\n",
       "      <td>0.000000</td>\n",
       "      <td>0.000000</td>\n",
       "      <td>...</td>\n",
       "      <td>0.000000</td>\n",
       "      <td>0.000000</td>\n",
       "      <td>0.034621</td>\n",
       "      <td>0.000000</td>\n",
       "      <td>0.000000</td>\n",
       "      <td>0.092262</td>\n",
       "      <td>0.000000</td>\n",
       "      <td>0.092262</td>\n",
       "      <td>0.044386</td>\n",
       "      <td>0.046584</td>\n",
       "    </tr>\n",
       "  </tbody>\n",
       "</table>\n",
       "<p>34 rows × 266 columns</p>\n",
       "</div>"
      ],
      "text/plain": [
       "country_name  Afghanistan   Albania   Algeria  American Samoa   Andorra  \\\n",
       "1990                  NaN       NaN       NaN             NaN       NaN   \n",
       "1991                  NaN       NaN       NaN             NaN       NaN   \n",
       "1992                  NaN       NaN       NaN             NaN       NaN   \n",
       "1993                  NaN       NaN       NaN             NaN       NaN   \n",
       "1994                  NaN       NaN       inf             NaN       NaN   \n",
       "1995                  NaN       inf  3.904579             NaN       NaN   \n",
       "1996                  NaN  1.882774 -0.017197             NaN       inf   \n",
       "1997                  NaN  0.509277  4.906395             NaN  0.998017   \n",
       "1998                  NaN  0.338179  0.970943             NaN  1.257644   \n",
       "1999                  NaN  0.252350  8.858601             NaN  0.108837   \n",
       "2000                  NaN  0.401045  1.464397             NaN  0.380203   \n",
       "2001                  inf  1.855448  0.314025             NaN  0.000000   \n",
       "2002            -0.034128  0.197309  1.463404             NaN  0.068480   \n",
       "2003            18.268492  1.491534  0.379307             NaN  0.203002   \n",
       "2004             0.203862  1.490369  1.111034             NaN  0.981191   \n",
       "2005            10.569432  1.497073  0.260970             NaN  0.401215   \n",
       "2006             0.721292  0.590034  0.262159             NaN  0.301310   \n",
       "2007            -0.098295  0.564632  0.281347             NaN  0.448194   \n",
       "2008            -0.031579  0.586848  0.077113             NaN -0.011712   \n",
       "2009             0.929348  0.726739  0.103143             NaN  0.121216   \n",
       "2010             0.126761  0.092233  0.113090             NaN  0.031453   \n",
       "2011             0.250000  0.044444  0.192000             NaN  0.000000   \n",
       "2012             0.090910  0.051064  0.221477             NaN  0.020988   \n",
       "2013             0.081666  0.048583  0.236264             NaN  0.020556   \n",
       "2014             0.186441  0.048263  0.311111             NaN  0.020142   \n",
       "2015             0.180000  0.047882  0.294915             NaN  0.020906   \n",
       "2016             0.331719  0.047452  0.124228             NaN  0.020478   \n",
       "2017             0.227273  0.046980  0.110503             NaN  0.020819   \n",
       "2018             0.244444  0.048077  0.028253             NaN  0.000000   \n",
       "2019             0.047619  0.048171  0.202680             NaN -0.009270   \n",
       "2020             0.045455  0.053790  0.028414             NaN  0.027413   \n",
       "2021             0.000000  0.098093  0.092034             NaN  0.007423   \n",
       "2022             0.000000  0.041476  0.075603             NaN  0.006262   \n",
       "2023             0.000000  0.006317  0.000000             NaN  0.000000   \n",
       "\n",
       "country_name    Angola  Antigua and Barbuda  Argentina   Armenia     Aruba  \\\n",
       "1990               NaN                  NaN        NaN       NaN       NaN   \n",
       "1991               NaN                  NaN        NaN       NaN       NaN   \n",
       "1992               NaN                  NaN        inf       NaN       NaN   \n",
       "1993               NaN                  NaN   8.865790       NaN       NaN   \n",
       "1994               NaN                  NaN   0.480200       inf       NaN   \n",
       "1995               NaN                  inf   0.974035  4.785131       NaN   \n",
       "1996               inf             0.298841   0.645335  0.793085       inf   \n",
       "1997          6.312197             0.217631   0.974854  0.180581  0.000000   \n",
       "1998          2.252476             0.169853   1.963427  0.152337  0.000000   \n",
       "1999          2.899705             0.301830   2.953555  6.545016  0.627730   \n",
       "2000          0.459700             0.222905   1.143011  0.339672  2.427028   \n",
       "2001          0.294804             0.372875   0.389580  0.254231  0.107312   \n",
       "2002          0.987862             0.404606   0.112597  0.201902  0.099415   \n",
       "2003          0.370982             0.378288   0.094798  1.333808  0.106383   \n",
       "2004          0.253945             0.408501   0.346072  0.070770  0.105769   \n",
       "2005          1.459839             0.112645   0.105003  0.072253  0.104348   \n",
       "2006          0.311911             0.111111   0.180953  0.072113  0.102362   \n",
       "2007          0.133333             0.133333   0.239851  0.069154  0.103571   \n",
       "2008          0.117647             0.117647   0.083479  0.031347  0.682848   \n",
       "2009          0.210526             0.105263   0.209422  1.463768  0.115385   \n",
       "2010          0.217391             0.119048   0.323529  0.633987  0.068966   \n",
       "2011          0.678571             0.106383   0.133333  0.280000  0.112903   \n",
       "2012          0.638298             0.115385   0.094118  0.171875  0.072464   \n",
       "2013          0.688312             0.093103   0.073477  0.117333  0.066216   \n",
       "2014          0.643254             0.069085   0.080134  0.303647  0.061850   \n",
       "2015          0.029852             0.032753   0.051671  0.081980  0.058262   \n",
       "2016          0.054545             0.042857   0.043001  0.088750  0.055056   \n",
       "2017          0.120690             0.043836   0.046864  0.006199  0.038779   \n",
       "2018          0.115385             0.044619   0.045832  0.054061  0.000000   \n",
       "2019          0.107910             0.045226   0.028919 -0.024928  0.000000   \n",
       "2020          0.140224             0.044275   0.069639  0.149733  0.000000   \n",
       "2021          0.031992             0.002190   0.019135  0.027508  0.000000   \n",
       "2022          0.039326             0.049823   0.014053 -0.020157  0.000000   \n",
       "2023          0.000000             0.000000   0.009659  0.000000  0.000000   \n",
       "\n",
       "country_name  ...  Post-demographic dividend  Pre-demographic dividend  \\\n",
       "1990          ...                        NaN                       NaN   \n",
       "1991          ...                   0.617811                       NaN   \n",
       "1992          ...                   0.581522                       NaN   \n",
       "1993          ...                   0.419700                       NaN   \n",
       "1994          ...                   1.017401                       inf   \n",
       "1995          ...                   0.886897                  1.992714   \n",
       "1996          ...                   0.834233                 11.912424   \n",
       "1997          ...                   0.565916                  1.886732   \n",
       "1998          ...                   0.490592                  1.052644   \n",
       "1999          ...                   0.442200                  1.566825   \n",
       "2000          ...                   0.333546                  0.663511   \n",
       "2001          ...                   0.199928                  0.510900   \n",
       "2002          ...                   0.219482                  0.934551   \n",
       "2003          ...                   0.114045                  0.770883   \n",
       "2004          ...                   0.104321                  0.514092   \n",
       "2005          ...                   0.064148                  0.751620   \n",
       "2006          ...                   0.033274                  0.425351   \n",
       "2007          ...                   0.086835                  0.323113   \n",
       "2008          ...                   0.030239                  0.074981   \n",
       "2009          ...                   0.018054                  0.177857   \n",
       "2010          ...                   0.030418                  0.253103   \n",
       "2011          ...                   0.005877                  0.206882   \n",
       "2012          ...                   0.039389                  0.203910   \n",
       "2013          ...                   0.019977                  0.204749   \n",
       "2014          ...                   0.021361                  0.226762   \n",
       "2015          ...                   0.017217                  0.210007   \n",
       "2016          ...                   0.057590                  0.171392   \n",
       "2017          ...                   0.014838                  0.189210   \n",
       "2018          ...                   0.018592                  0.102569   \n",
       "2019          ...                   0.017298                  0.138841   \n",
       "2020          ...                   0.033334                  0.147436   \n",
       "2021          ...                   0.003014                  0.136298   \n",
       "2022          ...                   0.017982                  0.129926   \n",
       "2023          ...                   0.000000                  0.000000   \n",
       "\n",
       "country_name  Small states  South Asia  South Asia (IDA & IBRD)  \\\n",
       "1990                   NaN         NaN                      NaN   \n",
       "1991                   inf         NaN                      NaN   \n",
       "1992              3.053605         inf                      inf   \n",
       "1993              1.225806    0.956703                 0.956703   \n",
       "1994              1.975862    4.135192                 4.135192   \n",
       "1995              1.360899   22.467375                22.467375   \n",
       "1996              0.951946    1.030495                 1.030495   \n",
       "1997              0.755124    0.480096                 0.480096   \n",
       "1998              0.716595    0.948598                 0.948598   \n",
       "1999              0.296841    0.932405                 0.932405   \n",
       "2000              0.564187    1.095015                 1.095015   \n",
       "2001              0.267846    0.411177                 0.411177   \n",
       "2002              0.324255    1.202044                 1.202044   \n",
       "2003              0.143439    0.269738                 0.269738   \n",
       "2004              0.160023    0.187219                 0.187219   \n",
       "2005              0.122395    0.164016                 0.164016   \n",
       "2006              0.100529    0.169648                 0.169648   \n",
       "2007              0.110577    0.326108                 0.326108   \n",
       "2008              0.147186    0.106524                 0.106524   \n",
       "2009              0.098113    0.160121                 0.160121   \n",
       "2010              0.109966    0.393115                 0.393115   \n",
       "2011              0.139319    0.285269                 0.285269   \n",
       "2012              0.095109    0.095397                 0.095397   \n",
       "2013              0.071960    0.119690                 0.119690   \n",
       "2014              0.076389    0.135338                 0.135338   \n",
       "2015              0.070968    0.106794                 0.106794   \n",
       "2016              0.070281    0.141142                 0.141142   \n",
       "2017              0.097561    0.115623                 0.115623   \n",
       "2018              0.046154    0.117228                 0.117228   \n",
       "2019              0.081699    0.385649                 0.385649   \n",
       "2020              0.067976    0.396693                 0.396693   \n",
       "2021              0.039604    0.097029                 0.097029   \n",
       "2022              0.021769    0.000000                 0.000000   \n",
       "2023              0.034621    0.000000                 0.000000   \n",
       "\n",
       "country_name  Sub-Saharan Africa  Sub-Saharan Africa (excluding high income)  \\\n",
       "1990                         NaN                                         NaN   \n",
       "1991                         inf                                         inf   \n",
       "1992                    1.908922                                    1.908915   \n",
       "1993                    1.902315                                    1.902308   \n",
       "1994                    1.167640                                    1.167636   \n",
       "1995                    1.729559                                    1.729554   \n",
       "1996                    0.400958                                    0.399269   \n",
       "1997                    0.867982                                    0.868022   \n",
       "1998                    0.811605                                    0.811443   \n",
       "1999                    0.528137                                    0.526977   \n",
       "2000                    0.373634                                    0.373978   \n",
       "2001                    0.269275                                    0.268913   \n",
       "2002                    0.279682                                    0.279671   \n",
       "2003                    0.328368                                    0.329028   \n",
       "2004                    0.344150                                    0.343683   \n",
       "2005                    0.342426                                    0.353947   \n",
       "2006                    0.250000                                    0.321746   \n",
       "2007                    0.320000                                    0.270265   \n",
       "2008                    0.151515                                    0.087848   \n",
       "2009                    0.157895                                    0.176260   \n",
       "2010                    0.386364                                    0.421656   \n",
       "2011                    0.245902                                    0.237036   \n",
       "2012                    0.210526                                    0.222803   \n",
       "2013                    0.206522                                    0.202762   \n",
       "2014                    0.189189                                    0.196995   \n",
       "2015                    0.174242                                    0.211535   \n",
       "2016                    0.122581                                    0.121856   \n",
       "2017                    0.132184                                    0.098265   \n",
       "2018                    0.126904                                    0.137070   \n",
       "2019                    0.139640                                    0.079979   \n",
       "2020                    0.130435                                    0.155736   \n",
       "2021                    0.097902                                    0.096207   \n",
       "2022                    0.070064                                    0.099816   \n",
       "2023                    0.092262                                    0.000000   \n",
       "\n",
       "country_name  Sub-Saharan Africa (IDA & IBRD countries)  Upper middle income  \\\n",
       "1990                                                NaN                  NaN   \n",
       "1991                                                inf                  inf   \n",
       "1992                                           1.908922             2.401127   \n",
       "1993                                           1.902315             1.751788   \n",
       "1994                                           1.167640             1.475873   \n",
       "1995                                           1.729559             1.561713   \n",
       "1996                                           0.400958             1.443076   \n",
       "1997                                           0.867982             1.199801   \n",
       "1998                                           0.811605             1.281741   \n",
       "1999                                           0.528137             1.191649   \n",
       "2000                                           0.373634             1.004254   \n",
       "2001                                           0.269275             0.470239   \n",
       "2002                                           0.279682             0.650200   \n",
       "2003                                           0.328368             0.282082   \n",
       "2004                                           0.344150             0.226741   \n",
       "2005                                           0.342426             0.158392   \n",
       "2006                                           0.250000             0.235294   \n",
       "2007                                           0.320000             0.325397   \n",
       "2008                                           0.151515             0.275449   \n",
       "2009                                           0.157895             0.211268   \n",
       "2010                                           0.386364             0.186047   \n",
       "2011                                           0.245902             0.130719   \n",
       "2012                                           0.210526             0.106936   \n",
       "2013                                           0.206522             0.083551   \n",
       "2014                                           0.189189             0.067470   \n",
       "2015                                           0.174242             0.081264   \n",
       "2016                                           0.122581             0.073069   \n",
       "2017                                           0.132184             0.064202   \n",
       "2018                                           0.126904             0.087751   \n",
       "2019                                           0.139640             0.085714   \n",
       "2020                                           0.130435             0.088235   \n",
       "2021                                           0.097902             0.051209   \n",
       "2022                                           0.070064             0.036536   \n",
       "2023                                           0.092262             0.044386   \n",
       "\n",
       "country_name     World  \n",
       "1990               NaN  \n",
       "1991          0.614153  \n",
       "1992          0.588447  \n",
       "1993          0.429922  \n",
       "1994          1.013937  \n",
       "1995          0.894776  \n",
       "1996          0.942032  \n",
       "1997          0.539837  \n",
       "1998          0.537467  \n",
       "1999          0.475174  \n",
       "2000          0.450557  \n",
       "2001          0.193796  \n",
       "2002          0.306066  \n",
       "2003          0.160626  \n",
       "2004          0.154284  \n",
       "2005          0.111314  \n",
       "2006          0.108974  \n",
       "2007          0.173410  \n",
       "2008          0.123153  \n",
       "2009          0.114035  \n",
       "2010          0.122047  \n",
       "2011          0.087719  \n",
       "2012          0.080645  \n",
       "2013          0.056716  \n",
       "2014          0.059322  \n",
       "2015          0.064000  \n",
       "2016          0.075188  \n",
       "2017          0.058275  \n",
       "2018          0.070485  \n",
       "2019          0.094650  \n",
       "2020          0.114662  \n",
       "2021          0.048904  \n",
       "2022          0.035370  \n",
       "2023          0.046584  \n",
       "\n",
       "[34 rows x 266 columns]"
      ]
     },
     "execution_count": 156,
     "metadata": {},
     "output_type": "execute_result"
    }
   ],
   "source": [
    "pct_changes"
   ]
  },
  {
   "cell_type": "code",
   "execution_count": 157,
   "id": "cbb3e493",
   "metadata": {},
   "outputs": [
    {
     "data": {
      "text/plain": [
       "country_name\n",
       "Afghanistan                                   0.045455\n",
       "Albania                                       0.053790\n",
       "Algeria                                       0.028414\n",
       "American Samoa                                     NaN\n",
       "Andorra                                       0.027413\n",
       "                                                ...   \n",
       "Sub-Saharan Africa                            0.130435\n",
       "Sub-Saharan Africa (excluding high income)    0.155736\n",
       "Sub-Saharan Africa (IDA & IBRD countries)     0.130435\n",
       "Upper middle income                           0.088235\n",
       "World                                         0.114662\n",
       "Name: 2020, Length: 266, dtype: float64"
      ]
     },
     "execution_count": 157,
     "metadata": {},
     "output_type": "execute_result"
    }
   ],
   "source": [
    "pct_changes.loc['2020']"
   ]
  },
  {
   "cell_type": "code",
   "execution_count": 158,
   "id": "eeb03209",
   "metadata": {},
   "outputs": [
    {
     "name": "stdout",
     "output_type": "stream",
     "text": [
      "Column with max value: Somalia, Max value: 6.496669244779322\n"
     ]
    }
   ],
   "source": [
    "#return the value and actual value of the country with the greatest pct_change\n",
    "max_column = pct_changes.loc['2020'].idxmax()\n",
    "max_value = pct_changes.loc['2020'].max()\n",
    "\n",
    "print(f\"Column with max value: {max_column}, Max value: {max_value}\")"
   ]
  },
  {
   "cell_type": "code",
   "execution_count": 162,
   "id": "09e46e57",
   "metadata": {},
   "outputs": [
    {
     "name": "stdout",
     "output_type": "stream",
     "text": [
      "Column with max value: Somalia, Max value: 6.496669244779322\n",
      "Column with mminax value: Yemen, Rep., Min value: -0.48293310976705184\n"
     ]
    }
   ],
   "source": [
    "#return the value and actual value of the country with both the greatest and least pct_change\n",
    "pct_changes = internet_stats.pct_change()\n",
    "SELECTED_YEAR = '2020'\n",
    "max_column = pct_changes.loc[SELECTED_YEAR].idxmax()\n",
    "max_value = pct_changes.loc[SELECTED_YEAR].max()\n",
    "\n",
    "min_column = pct_changes.loc[SELECTED_YEAR].idxmin()\n",
    "min_value = pct_changes.loc[SELECTED_YEAR].min()\n",
    "\n",
    "print(f\"Column with max value: {max_column}, Max value: {max_value}\")\n",
    "print(f\"Column with mminax value: {min_column}, Min value: {min_value}\")"
   ]
  },
  {
   "cell_type": "code",
   "execution_count": 172,
   "id": "917d2a34",
   "metadata": {},
   "outputs": [
    {
     "name": "stdout",
     "output_type": "stream",
     "text": [
      "Top 5 indices: Index(['Somalia', 'Libya', 'Congo, Rep.', 'Ghana', 'Tuvalu'], dtype='object', name='country_name')\n",
      "Top 5 values: [6.49666924 3.9310473  1.86943353 1.83228531 1.14325   ]\n"
     ]
    }
   ],
   "source": [
    "#return the value and actual value of the country with the 5 greatest pct_changes\n",
    "SELECTED_YEAR = '2020'\n",
    "top_5_indices = pct_changes.loc[SELECTED_YEAR].nlargest(5).index\n",
    "top_5_values = pct_changes.loc[SELECTED_YEAR].nlargest(5).values\n",
    "\n",
    "print(f\"Top 5 indices: {top_5_indices}\")\n",
    "print(f\"Top 5 values: {top_5_values}\")"
   ]
  },
  {
   "cell_type": "code",
   "execution_count": 177,
   "id": "74d92253",
   "metadata": {},
   "outputs": [
    {
     "data": {
      "text/html": [
       "<div>\n",
       "<style scoped>\n",
       "    .dataframe tbody tr th:only-of-type {\n",
       "        vertical-align: middle;\n",
       "    }\n",
       "\n",
       "    .dataframe tbody tr th {\n",
       "        vertical-align: top;\n",
       "    }\n",
       "\n",
       "    .dataframe thead th {\n",
       "        text-align: right;\n",
       "    }\n",
       "</style>\n",
       "<table border=\"1\" class=\"dataframe\">\n",
       "  <thead>\n",
       "    <tr style=\"text-align: right;\">\n",
       "      <th></th>\n",
       "      <th>Country</th>\n",
       "      <th>Pct_change</th>\n",
       "    </tr>\n",
       "  </thead>\n",
       "  <tbody>\n",
       "    <tr>\n",
       "      <th>0</th>\n",
       "      <td>Somalia</td>\n",
       "      <td>6.496669</td>\n",
       "    </tr>\n",
       "    <tr>\n",
       "      <th>1</th>\n",
       "      <td>Libya</td>\n",
       "      <td>3.931047</td>\n",
       "    </tr>\n",
       "    <tr>\n",
       "      <th>2</th>\n",
       "      <td>Congo, Rep.</td>\n",
       "      <td>1.869434</td>\n",
       "    </tr>\n",
       "    <tr>\n",
       "      <th>3</th>\n",
       "      <td>Ghana</td>\n",
       "      <td>1.832285</td>\n",
       "    </tr>\n",
       "    <tr>\n",
       "      <th>4</th>\n",
       "      <td>Tuvalu</td>\n",
       "      <td>1.143250</td>\n",
       "    </tr>\n",
       "  </tbody>\n",
       "</table>\n",
       "</div>"
      ],
      "text/plain": [
       "       Country  Pct_change\n",
       "0      Somalia    6.496669\n",
       "1        Libya    3.931047\n",
       "2  Congo, Rep.    1.869434\n",
       "3        Ghana    1.832285\n",
       "4       Tuvalu    1.143250"
      ]
     },
     "execution_count": 177,
     "metadata": {},
     "output_type": "execute_result"
    }
   ],
   "source": [
    "SELECTED_YEAR = '2020'\n",
    "top_5_indices = pct_changes.loc[SELECTED_YEAR].nlargest(5).index\n",
    "top_5_values = pct_changes.loc[SELECTED_YEAR].nlargest(5).values\n",
    "\n",
    "results = pd.DataFrame({'Country': top_5_indices, 'Pct_change': top_5_values})\n",
    "results"
   ]
  },
  {
   "cell_type": "code",
   "execution_count": 179,
   "id": "2427ba2c",
   "metadata": {},
   "outputs": [],
   "source": [
    "internet_stats_evry_5yrs = internet_stats.iloc[::5, :] #showcasing every 5th row"
   ]
  },
  {
   "cell_type": "code",
   "execution_count": 180,
   "id": "efc75c9e",
   "metadata": {},
   "outputs": [
    {
     "data": {
      "text/html": [
       "<div>\n",
       "<style scoped>\n",
       "    .dataframe tbody tr th:only-of-type {\n",
       "        vertical-align: middle;\n",
       "    }\n",
       "\n",
       "    .dataframe tbody tr th {\n",
       "        vertical-align: top;\n",
       "    }\n",
       "\n",
       "    .dataframe thead th {\n",
       "        text-align: right;\n",
       "    }\n",
       "</style>\n",
       "<table border=\"1\" class=\"dataframe\">\n",
       "  <thead>\n",
       "    <tr style=\"text-align: right;\">\n",
       "      <th>country_name</th>\n",
       "      <th>Afghanistan</th>\n",
       "      <th>Albania</th>\n",
       "      <th>Algeria</th>\n",
       "      <th>American Samoa</th>\n",
       "      <th>Andorra</th>\n",
       "      <th>Angola</th>\n",
       "      <th>Antigua and Barbuda</th>\n",
       "      <th>Argentina</th>\n",
       "      <th>Armenia</th>\n",
       "      <th>Aruba</th>\n",
       "      <th>...</th>\n",
       "      <th>Post-demographic dividend</th>\n",
       "      <th>Pre-demographic dividend</th>\n",
       "      <th>Small states</th>\n",
       "      <th>South Asia</th>\n",
       "      <th>South Asia (IDA &amp; IBRD)</th>\n",
       "      <th>Sub-Saharan Africa</th>\n",
       "      <th>Sub-Saharan Africa (excluding high income)</th>\n",
       "      <th>Sub-Saharan Africa (IDA &amp; IBRD countries)</th>\n",
       "      <th>Upper middle income</th>\n",
       "      <th>World</th>\n",
       "    </tr>\n",
       "  </thead>\n",
       "  <tbody>\n",
       "    <tr>\n",
       "      <th>1990</th>\n",
       "      <td>0.00000</td>\n",
       "      <td>0.000000</td>\n",
       "      <td>0.000000</td>\n",
       "      <td>0.0</td>\n",
       "      <td>0.0000</td>\n",
       "      <td>0.000000</td>\n",
       "      <td>0.000000</td>\n",
       "      <td>0.000000</td>\n",
       "      <td>0.000000</td>\n",
       "      <td>0.0000</td>\n",
       "      <td>...</td>\n",
       "      <td>0.268184</td>\n",
       "      <td>0.000000</td>\n",
       "      <td>0.000000</td>\n",
       "      <td>0.000000</td>\n",
       "      <td>0.000000</td>\n",
       "      <td>0.000000</td>\n",
       "      <td>0.000000</td>\n",
       "      <td>0.000000</td>\n",
       "      <td>0.000000</td>\n",
       "      <td>0.048825</td>\n",
       "    </tr>\n",
       "    <tr>\n",
       "      <th>1995</th>\n",
       "      <td>0.00000</td>\n",
       "      <td>0.011169</td>\n",
       "      <td>0.001769</td>\n",
       "      <td>0.0</td>\n",
       "      <td>0.0000</td>\n",
       "      <td>0.000000</td>\n",
       "      <td>2.200769</td>\n",
       "      <td>0.086277</td>\n",
       "      <td>0.052743</td>\n",
       "      <td>0.0000</td>\n",
       "      <td>...</td>\n",
       "      <td>3.708284</td>\n",
       "      <td>0.000377</td>\n",
       "      <td>0.633840</td>\n",
       "      <td>0.019977</td>\n",
       "      <td>0.019977</td>\n",
       "      <td>0.051620</td>\n",
       "      <td>0.051627</td>\n",
       "      <td>0.051620</td>\n",
       "      <td>0.042839</td>\n",
       "      <td>0.683082</td>\n",
       "    </tr>\n",
       "    <tr>\n",
       "      <th>2000</th>\n",
       "      <td>NaN</td>\n",
       "      <td>0.114097</td>\n",
       "      <td>0.491706</td>\n",
       "      <td>NaN</td>\n",
       "      <td>10.5388</td>\n",
       "      <td>0.105046</td>\n",
       "      <td>6.482230</td>\n",
       "      <td>7.038680</td>\n",
       "      <td>1.300470</td>\n",
       "      <td>15.4428</td>\n",
       "      <td>...</td>\n",
       "      <td>30.534314</td>\n",
       "      <td>0.123326</td>\n",
       "      <td>7.561336</td>\n",
       "      <td>0.473626</td>\n",
       "      <td>0.473626</td>\n",
       "      <td>0.513707</td>\n",
       "      <td>0.512857</td>\n",
       "      <td>0.513707</td>\n",
       "      <td>2.307551</td>\n",
       "      <td>6.720288</td>\n",
       "    </tr>\n",
       "    <tr>\n",
       "      <th>2005</th>\n",
       "      <td>1.22415</td>\n",
       "      <td>6.043890</td>\n",
       "      <td>5.843940</td>\n",
       "      <td>NaN</td>\n",
       "      <td>37.6058</td>\n",
       "      <td>1.143370</td>\n",
       "      <td>27.000000</td>\n",
       "      <td>17.720600</td>\n",
       "      <td>5.252980</td>\n",
       "      <td>25.4000</td>\n",
       "      <td>...</td>\n",
       "      <td>58.494965</td>\n",
       "      <td>1.692985</td>\n",
       "      <td>18.900000</td>\n",
       "      <td>2.582538</td>\n",
       "      <td>2.582538</td>\n",
       "      <td>2.000000</td>\n",
       "      <td>2.013532</td>\n",
       "      <td>2.000000</td>\n",
       "      <td>10.200000</td>\n",
       "      <td>15.600000</td>\n",
       "    </tr>\n",
       "    <tr>\n",
       "      <th>2010</th>\n",
       "      <td>4.00000</td>\n",
       "      <td>45.000000</td>\n",
       "      <td>12.500000</td>\n",
       "      <td>NaN</td>\n",
       "      <td>81.0000</td>\n",
       "      <td>2.800000</td>\n",
       "      <td>47.000000</td>\n",
       "      <td>45.000000</td>\n",
       "      <td>25.000000</td>\n",
       "      <td>62.0000</td>\n",
       "      <td>...</td>\n",
       "      <td>70.993684</td>\n",
       "      <td>5.065844</td>\n",
       "      <td>32.300000</td>\n",
       "      <td>7.163605</td>\n",
       "      <td>7.163605</td>\n",
       "      <td>6.100000</td>\n",
       "      <td>6.149884</td>\n",
       "      <td>6.100000</td>\n",
       "      <td>30.600000</td>\n",
       "      <td>28.500000</td>\n",
       "    </tr>\n",
       "    <tr>\n",
       "      <th>2015</th>\n",
       "      <td>8.26000</td>\n",
       "      <td>56.900000</td>\n",
       "      <td>38.200000</td>\n",
       "      <td>NaN</td>\n",
       "      <td>87.9000</td>\n",
       "      <td>22.000000</td>\n",
       "      <td>70.000000</td>\n",
       "      <td>68.043100</td>\n",
       "      <td>59.100800</td>\n",
       "      <td>88.6612</td>\n",
       "      <td>...</td>\n",
       "      <td>78.654982</td>\n",
       "      <td>13.163011</td>\n",
       "      <td>49.800000</td>\n",
       "      <td>14.190135</td>\n",
       "      <td>14.190135</td>\n",
       "      <td>15.500000</td>\n",
       "      <td>16.226098</td>\n",
       "      <td>15.500000</td>\n",
       "      <td>47.900000</td>\n",
       "      <td>39.900000</td>\n",
       "    </tr>\n",
       "    <tr>\n",
       "      <th>2020</th>\n",
       "      <td>18.40000</td>\n",
       "      <td>72.237700</td>\n",
       "      <td>60.653400</td>\n",
       "      <td>NaN</td>\n",
       "      <td>93.2056</td>\n",
       "      <td>36.634700</td>\n",
       "      <td>86.883700</td>\n",
       "      <td>85.514400</td>\n",
       "      <td>76.507700</td>\n",
       "      <td>NaN</td>\n",
       "      <td>...</td>\n",
       "      <td>90.391982</td>\n",
       "      <td>26.418833</td>\n",
       "      <td>70.700000</td>\n",
       "      <td>39.060643</td>\n",
       "      <td>39.060643</td>\n",
       "      <td>28.600000</td>\n",
       "      <td>28.373908</td>\n",
       "      <td>28.600000</td>\n",
       "      <td>70.300000</td>\n",
       "      <td>59.300000</td>\n",
       "    </tr>\n",
       "  </tbody>\n",
       "</table>\n",
       "<p>7 rows × 266 columns</p>\n",
       "</div>"
      ],
      "text/plain": [
       "country_name  Afghanistan    Albania    Algeria  American Samoa  Andorra  \\\n",
       "1990              0.00000   0.000000   0.000000             0.0   0.0000   \n",
       "1995              0.00000   0.011169   0.001769             0.0   0.0000   \n",
       "2000                  NaN   0.114097   0.491706             NaN  10.5388   \n",
       "2005              1.22415   6.043890   5.843940             NaN  37.6058   \n",
       "2010              4.00000  45.000000  12.500000             NaN  81.0000   \n",
       "2015              8.26000  56.900000  38.200000             NaN  87.9000   \n",
       "2020             18.40000  72.237700  60.653400             NaN  93.2056   \n",
       "\n",
       "country_name     Angola  Antigua and Barbuda  Argentina    Armenia    Aruba  \\\n",
       "1990           0.000000             0.000000   0.000000   0.000000   0.0000   \n",
       "1995           0.000000             2.200769   0.086277   0.052743   0.0000   \n",
       "2000           0.105046             6.482230   7.038680   1.300470  15.4428   \n",
       "2005           1.143370            27.000000  17.720600   5.252980  25.4000   \n",
       "2010           2.800000            47.000000  45.000000  25.000000  62.0000   \n",
       "2015          22.000000            70.000000  68.043100  59.100800  88.6612   \n",
       "2020          36.634700            86.883700  85.514400  76.507700      NaN   \n",
       "\n",
       "country_name  ...  Post-demographic dividend  Pre-demographic dividend  \\\n",
       "1990          ...                   0.268184                  0.000000   \n",
       "1995          ...                   3.708284                  0.000377   \n",
       "2000          ...                  30.534314                  0.123326   \n",
       "2005          ...                  58.494965                  1.692985   \n",
       "2010          ...                  70.993684                  5.065844   \n",
       "2015          ...                  78.654982                 13.163011   \n",
       "2020          ...                  90.391982                 26.418833   \n",
       "\n",
       "country_name  Small states  South Asia  South Asia (IDA & IBRD)  \\\n",
       "1990              0.000000    0.000000                 0.000000   \n",
       "1995              0.633840    0.019977                 0.019977   \n",
       "2000              7.561336    0.473626                 0.473626   \n",
       "2005             18.900000    2.582538                 2.582538   \n",
       "2010             32.300000    7.163605                 7.163605   \n",
       "2015             49.800000   14.190135                14.190135   \n",
       "2020             70.700000   39.060643                39.060643   \n",
       "\n",
       "country_name  Sub-Saharan Africa  Sub-Saharan Africa (excluding high income)  \\\n",
       "1990                    0.000000                                    0.000000   \n",
       "1995                    0.051620                                    0.051627   \n",
       "2000                    0.513707                                    0.512857   \n",
       "2005                    2.000000                                    2.013532   \n",
       "2010                    6.100000                                    6.149884   \n",
       "2015                   15.500000                                   16.226098   \n",
       "2020                   28.600000                                   28.373908   \n",
       "\n",
       "country_name  Sub-Saharan Africa (IDA & IBRD countries)  Upper middle income  \\\n",
       "1990                                           0.000000             0.000000   \n",
       "1995                                           0.051620             0.042839   \n",
       "2000                                           0.513707             2.307551   \n",
       "2005                                           2.000000            10.200000   \n",
       "2010                                           6.100000            30.600000   \n",
       "2015                                          15.500000            47.900000   \n",
       "2020                                          28.600000            70.300000   \n",
       "\n",
       "country_name      World  \n",
       "1990           0.048825  \n",
       "1995           0.683082  \n",
       "2000           6.720288  \n",
       "2005          15.600000  \n",
       "2010          28.500000  \n",
       "2015          39.900000  \n",
       "2020          59.300000  \n",
       "\n",
       "[7 rows x 266 columns]"
      ]
     },
     "execution_count": 180,
     "metadata": {},
     "output_type": "execute_result"
    }
   ],
   "source": [
    "internet_stats_evry_5yrs"
   ]
  },
  {
   "cell_type": "code",
   "execution_count": 184,
   "id": "8178c67f",
   "metadata": {},
   "outputs": [
    {
     "data": {
      "text/html": [
       "<div>\n",
       "<style scoped>\n",
       "    .dataframe tbody tr th:only-of-type {\n",
       "        vertical-align: middle;\n",
       "    }\n",
       "\n",
       "    .dataframe tbody tr th {\n",
       "        vertical-align: top;\n",
       "    }\n",
       "\n",
       "    .dataframe thead th {\n",
       "        text-align: right;\n",
       "    }\n",
       "</style>\n",
       "<table border=\"1\" class=\"dataframe\">\n",
       "  <thead>\n",
       "    <tr style=\"text-align: right;\">\n",
       "      <th></th>\n",
       "      <th>Country</th>\n",
       "      <th>Pct_change</th>\n",
       "    </tr>\n",
       "  </thead>\n",
       "  <tbody>\n",
       "    <tr>\n",
       "      <th>0</th>\n",
       "      <td>Nauru</td>\n",
       "      <td>inf</td>\n",
       "    </tr>\n",
       "    <tr>\n",
       "      <th>1</th>\n",
       "      <td>Eritrea</td>\n",
       "      <td>20.961374</td>\n",
       "    </tr>\n",
       "    <tr>\n",
       "      <th>2</th>\n",
       "      <td>Sudan</td>\n",
       "      <td>19.462447</td>\n",
       "    </tr>\n",
       "    <tr>\n",
       "      <th>3</th>\n",
       "      <td>Somalia</td>\n",
       "      <td>7.536193</td>\n",
       "    </tr>\n",
       "    <tr>\n",
       "      <th>4</th>\n",
       "      <td>Cambodia</td>\n",
       "      <td>7.339688</td>\n",
       "    </tr>\n",
       "  </tbody>\n",
       "</table>\n",
       "</div>"
      ],
      "text/plain": [
       "    Country  Pct_change\n",
       "0     Nauru         inf\n",
       "1   Eritrea   20.961374\n",
       "2     Sudan   19.462447\n",
       "3   Somalia    7.536193\n",
       "4  Cambodia    7.339688"
      ]
     },
     "execution_count": 184,
     "metadata": {},
     "output_type": "execute_result"
    }
   ],
   "source": [
    "pct_changes_evry_5yrs = internet_stats_evry_5yrs.pct_change()\n",
    "SELECTED_YEAR = '2020'\n",
    "top_5_indices = pct_changes_evry_5yrs.loc[SELECTED_YEAR].nlargest(5).index\n",
    "top_5_values = pct_changes_evry_5yrs.loc[SELECTED_YEAR].nlargest(5).values\n",
    "\n",
    "results = pd.DataFrame({'Country': top_5_indices, 'Pct_change': top_5_values})\n",
    "results"
   ]
  },
  {
   "cell_type": "code",
   "execution_count": 185,
   "id": "e997b8b7",
   "metadata": {},
   "outputs": [
    {
     "data": {
      "text/html": [
       "<div>\n",
       "<style scoped>\n",
       "    .dataframe tbody tr th:only-of-type {\n",
       "        vertical-align: middle;\n",
       "    }\n",
       "\n",
       "    .dataframe tbody tr th {\n",
       "        vertical-align: top;\n",
       "    }\n",
       "\n",
       "    .dataframe thead th {\n",
       "        text-align: right;\n",
       "    }\n",
       "</style>\n",
       "<table border=\"1\" class=\"dataframe\">\n",
       "  <thead>\n",
       "    <tr style=\"text-align: right;\">\n",
       "      <th>country_name</th>\n",
       "      <th>Afghanistan</th>\n",
       "      <th>Albania</th>\n",
       "      <th>Algeria</th>\n",
       "      <th>American Samoa</th>\n",
       "      <th>Andorra</th>\n",
       "      <th>Angola</th>\n",
       "      <th>Antigua and Barbuda</th>\n",
       "      <th>Argentina</th>\n",
       "      <th>Armenia</th>\n",
       "      <th>Aruba</th>\n",
       "      <th>...</th>\n",
       "      <th>Post-demographic dividend</th>\n",
       "      <th>Pre-demographic dividend</th>\n",
       "      <th>Small states</th>\n",
       "      <th>South Asia</th>\n",
       "      <th>South Asia (IDA &amp; IBRD)</th>\n",
       "      <th>Sub-Saharan Africa</th>\n",
       "      <th>Sub-Saharan Africa (excluding high income)</th>\n",
       "      <th>Sub-Saharan Africa (IDA &amp; IBRD countries)</th>\n",
       "      <th>Upper middle income</th>\n",
       "      <th>World</th>\n",
       "    </tr>\n",
       "  </thead>\n",
       "  <tbody>\n",
       "    <tr>\n",
       "      <th>1990</th>\n",
       "      <td>0.0</td>\n",
       "      <td>0.000000</td>\n",
       "      <td>0.000000</td>\n",
       "      <td>0.0</td>\n",
       "      <td>0.0000</td>\n",
       "      <td>0.000000</td>\n",
       "      <td>0.00000</td>\n",
       "      <td>0.00000</td>\n",
       "      <td>0.00000</td>\n",
       "      <td>0.0000</td>\n",
       "      <td>...</td>\n",
       "      <td>0.268184</td>\n",
       "      <td>0.000000</td>\n",
       "      <td>0.000000</td>\n",
       "      <td>0.000000</td>\n",
       "      <td>0.000000</td>\n",
       "      <td>0.000000</td>\n",
       "      <td>0.000000</td>\n",
       "      <td>0.000000</td>\n",
       "      <td>0.000000</td>\n",
       "      <td>0.048825</td>\n",
       "    </tr>\n",
       "    <tr>\n",
       "      <th>2000</th>\n",
       "      <td>NaN</td>\n",
       "      <td>0.114097</td>\n",
       "      <td>0.491706</td>\n",
       "      <td>NaN</td>\n",
       "      <td>10.5388</td>\n",
       "      <td>0.105046</td>\n",
       "      <td>6.48223</td>\n",
       "      <td>7.03868</td>\n",
       "      <td>1.30047</td>\n",
       "      <td>15.4428</td>\n",
       "      <td>...</td>\n",
       "      <td>30.534314</td>\n",
       "      <td>0.123326</td>\n",
       "      <td>7.561336</td>\n",
       "      <td>0.473626</td>\n",
       "      <td>0.473626</td>\n",
       "      <td>0.513707</td>\n",
       "      <td>0.512857</td>\n",
       "      <td>0.513707</td>\n",
       "      <td>2.307551</td>\n",
       "      <td>6.720288</td>\n",
       "    </tr>\n",
       "    <tr>\n",
       "      <th>2010</th>\n",
       "      <td>4.0</td>\n",
       "      <td>45.000000</td>\n",
       "      <td>12.500000</td>\n",
       "      <td>NaN</td>\n",
       "      <td>81.0000</td>\n",
       "      <td>2.800000</td>\n",
       "      <td>47.00000</td>\n",
       "      <td>45.00000</td>\n",
       "      <td>25.00000</td>\n",
       "      <td>62.0000</td>\n",
       "      <td>...</td>\n",
       "      <td>70.993684</td>\n",
       "      <td>5.065844</td>\n",
       "      <td>32.300000</td>\n",
       "      <td>7.163605</td>\n",
       "      <td>7.163605</td>\n",
       "      <td>6.100000</td>\n",
       "      <td>6.149884</td>\n",
       "      <td>6.100000</td>\n",
       "      <td>30.600000</td>\n",
       "      <td>28.500000</td>\n",
       "    </tr>\n",
       "    <tr>\n",
       "      <th>2020</th>\n",
       "      <td>18.4</td>\n",
       "      <td>72.237700</td>\n",
       "      <td>60.653400</td>\n",
       "      <td>NaN</td>\n",
       "      <td>93.2056</td>\n",
       "      <td>36.634700</td>\n",
       "      <td>86.88370</td>\n",
       "      <td>85.51440</td>\n",
       "      <td>76.50770</td>\n",
       "      <td>NaN</td>\n",
       "      <td>...</td>\n",
       "      <td>90.391982</td>\n",
       "      <td>26.418833</td>\n",
       "      <td>70.700000</td>\n",
       "      <td>39.060643</td>\n",
       "      <td>39.060643</td>\n",
       "      <td>28.600000</td>\n",
       "      <td>28.373908</td>\n",
       "      <td>28.600000</td>\n",
       "      <td>70.300000</td>\n",
       "      <td>59.300000</td>\n",
       "    </tr>\n",
       "  </tbody>\n",
       "</table>\n",
       "<p>4 rows × 266 columns</p>\n",
       "</div>"
      ],
      "text/plain": [
       "country_name  Afghanistan    Albania    Algeria  American Samoa  Andorra  \\\n",
       "1990                  0.0   0.000000   0.000000             0.0   0.0000   \n",
       "2000                  NaN   0.114097   0.491706             NaN  10.5388   \n",
       "2010                  4.0  45.000000  12.500000             NaN  81.0000   \n",
       "2020                 18.4  72.237700  60.653400             NaN  93.2056   \n",
       "\n",
       "country_name     Angola  Antigua and Barbuda  Argentina   Armenia    Aruba  \\\n",
       "1990           0.000000              0.00000    0.00000   0.00000   0.0000   \n",
       "2000           0.105046              6.48223    7.03868   1.30047  15.4428   \n",
       "2010           2.800000             47.00000   45.00000  25.00000  62.0000   \n",
       "2020          36.634700             86.88370   85.51440  76.50770      NaN   \n",
       "\n",
       "country_name  ...  Post-demographic dividend  Pre-demographic dividend  \\\n",
       "1990          ...                   0.268184                  0.000000   \n",
       "2000          ...                  30.534314                  0.123326   \n",
       "2010          ...                  70.993684                  5.065844   \n",
       "2020          ...                  90.391982                 26.418833   \n",
       "\n",
       "country_name  Small states  South Asia  South Asia (IDA & IBRD)  \\\n",
       "1990              0.000000    0.000000                 0.000000   \n",
       "2000              7.561336    0.473626                 0.473626   \n",
       "2010             32.300000    7.163605                 7.163605   \n",
       "2020             70.700000   39.060643                39.060643   \n",
       "\n",
       "country_name  Sub-Saharan Africa  Sub-Saharan Africa (excluding high income)  \\\n",
       "1990                    0.000000                                    0.000000   \n",
       "2000                    0.513707                                    0.512857   \n",
       "2010                    6.100000                                    6.149884   \n",
       "2020                   28.600000                                   28.373908   \n",
       "\n",
       "country_name  Sub-Saharan Africa (IDA & IBRD countries)  Upper middle income  \\\n",
       "1990                                           0.000000             0.000000   \n",
       "2000                                           0.513707             2.307551   \n",
       "2010                                           6.100000            30.600000   \n",
       "2020                                          28.600000            70.300000   \n",
       "\n",
       "country_name      World  \n",
       "1990           0.048825  \n",
       "2000           6.720288  \n",
       "2010          28.500000  \n",
       "2020          59.300000  \n",
       "\n",
       "[4 rows x 266 columns]"
      ]
     },
     "execution_count": 185,
     "metadata": {},
     "output_type": "execute_result"
    }
   ],
   "source": [
    "internet_stats_evry_10yrs = internet_stats.iloc[::10, :] #showcasing every 10th row\n",
    "internet_stats_evry_10yrs"
   ]
  },
  {
   "cell_type": "code",
   "execution_count": 186,
   "id": "d7288e29",
   "metadata": {},
   "outputs": [
    {
     "data": {
      "text/html": [
       "<div>\n",
       "<style scoped>\n",
       "    .dataframe tbody tr th:only-of-type {\n",
       "        vertical-align: middle;\n",
       "    }\n",
       "\n",
       "    .dataframe tbody tr th {\n",
       "        vertical-align: top;\n",
       "    }\n",
       "\n",
       "    .dataframe thead th {\n",
       "        text-align: right;\n",
       "    }\n",
       "</style>\n",
       "<table border=\"1\" class=\"dataframe\">\n",
       "  <thead>\n",
       "    <tr style=\"text-align: right;\">\n",
       "      <th></th>\n",
       "      <th>Country</th>\n",
       "      <th>Pct_change</th>\n",
       "    </tr>\n",
       "  </thead>\n",
       "  <tbody>\n",
       "    <tr>\n",
       "      <th>0</th>\n",
       "      <td>Nauru</td>\n",
       "      <td>inf</td>\n",
       "    </tr>\n",
       "    <tr>\n",
       "      <th>1</th>\n",
       "      <td>Sudan</td>\n",
       "      <td>1024.336436</td>\n",
       "    </tr>\n",
       "    <tr>\n",
       "      <th>2</th>\n",
       "      <td>Somalia</td>\n",
       "      <td>750.185000</td>\n",
       "    </tr>\n",
       "    <tr>\n",
       "      <th>3</th>\n",
       "      <td>Myanmar</td>\n",
       "      <td>166.817162</td>\n",
       "    </tr>\n",
       "    <tr>\n",
       "      <th>4</th>\n",
       "      <td>Sri Lanka</td>\n",
       "      <td>54.891475</td>\n",
       "    </tr>\n",
       "  </tbody>\n",
       "</table>\n",
       "</div>"
      ],
      "text/plain": [
       "     Country   Pct_change\n",
       "0      Nauru          inf\n",
       "1      Sudan  1024.336436\n",
       "2    Somalia   750.185000\n",
       "3    Myanmar   166.817162\n",
       "4  Sri Lanka    54.891475"
      ]
     },
     "execution_count": 186,
     "metadata": {},
     "output_type": "execute_result"
    }
   ],
   "source": [
    "pct_changes_evry_10yrs = internet_stats_evry_10yrs.pct_change()\n",
    "SELECTED_YEAR = '2020'\n",
    "top_5_indices = pct_changes_evry_10yrs.loc[SELECTED_YEAR].nlargest(5).index\n",
    "top_5_values = pct_changes_evry_10yrs.loc[SELECTED_YEAR].nlargest(5).values\n",
    "\n",
    "results = pd.DataFrame({'Country': top_5_indices, 'Pct_change': top_5_values})\n",
    "results"
   ]
  },
  {
   "cell_type": "code",
   "execution_count": null,
   "id": "b21a15a5",
   "metadata": {},
   "outputs": [],
   "source": []
  }
 ],
 "metadata": {
  "kernelspec": {
   "display_name": "Python 3 (ipykernel)",
   "language": "python",
   "name": "python3"
  },
  "language_info": {
   "codemirror_mode": {
    "name": "ipython",
    "version": 3
   },
   "file_extension": ".py",
   "mimetype": "text/x-python",
   "name": "python",
   "nbconvert_exporter": "python",
   "pygments_lexer": "ipython3",
   "version": "3.11.5"
  }
 },
 "nbformat": 4,
 "nbformat_minor": 5
}
