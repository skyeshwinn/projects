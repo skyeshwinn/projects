{
 "cells": [
  {
   "cell_type": "code",
   "execution_count": 1,
   "id": "35024984",
   "metadata": {},
   "outputs": [
    {
     "name": "stdout",
     "output_type": "stream",
     "text": [
      "I am Yeshwin Krishnamoorthy. I'm going to be a Data Science pro in 2025!\n"
     ]
    }
   ],
   "source": [
    "print(\"I am Yeshwin Krishnamoorthy. I'm going to be a Data Science pro in 2025!\")"
   ]
  },
  {
   "cell_type": "code",
   "execution_count": 2,
   "id": "b7a90b01",
   "metadata": {},
   "outputs": [
    {
     "name": "stdout",
     "output_type": "stream",
     "text": [
      "25\n"
     ]
    }
   ],
   "source": [
    "#Variables\n",
    "a = 10\n",
    "b = 15\n",
    "print(a + b)"
   ]
  },
  {
   "cell_type": "code",
   "execution_count": 3,
   "id": "49d1daf2",
   "metadata": {},
   "outputs": [
    {
     "name": "stdout",
     "output_type": "stream",
     "text": [
      "<class 'int'>\n"
     ]
    }
   ],
   "source": [
    "#Datatypes\n",
    "a = 10\n",
    "print(type(a))"
   ]
  },
  {
   "cell_type": "code",
   "execution_count": 4,
   "id": "4ffe1d10",
   "metadata": {},
   "outputs": [
    {
     "name": "stdout",
     "output_type": "stream",
     "text": [
      "<class 'str'>\n"
     ]
    }
   ],
   "source": [
    "b = \"emc\"\n",
    "print(type(b))"
   ]
  },
  {
   "cell_type": "code",
   "execution_count": 5,
   "id": "239a4a42",
   "metadata": {},
   "outputs": [
    {
     "name": "stdout",
     "output_type": "stream",
     "text": [
      "30\n"
     ]
    }
   ],
   "source": [
    "#Operators -> + - & /\n",
    "a = 10\n",
    "b = 20\n",
    "c = a + b\n",
    "print(c)"
   ]
  },
  {
   "cell_type": "code",
   "execution_count": 10,
   "id": "938e6c0b",
   "metadata": {},
   "outputs": [
    {
     "name": "stdout",
     "output_type": "stream",
     "text": [
      "30\n"
     ]
    }
   ],
   "source": [
    "#Casting\n",
    "a = 10\n",
    "b = 20\n",
    "c + a + b\n",
    "print(c)"
   ]
  },
  {
   "cell_type": "code",
   "execution_count": 11,
   "id": "43f39623",
   "metadata": {},
   "outputs": [
    {
     "name": "stdout",
     "output_type": "stream",
     "text": [
      "1020\n"
     ]
    }
   ],
   "source": [
    "a = \"10\"\n",
    "b = \"20\"\n",
    "c = a + b\n",
    "print(c)"
   ]
  },
  {
   "cell_type": "code",
   "execution_count": 12,
   "id": "e9f66386",
   "metadata": {},
   "outputs": [
    {
     "name": "stdout",
     "output_type": "stream",
     "text": [
      "30\n"
     ]
    }
   ],
   "source": [
    "a = int(\"10\") #performing casting on a & b\n",
    "b = int(\"20\")\n",
    "c = a + b\n",
    "print(c)"
   ]
  },
  {
   "cell_type": "code",
   "execution_count": 13,
   "id": "67dbe5a0",
   "metadata": {},
   "outputs": [
    {
     "name": "stdout",
     "output_type": "stream",
     "text": [
      "10\n"
     ]
    }
   ],
   "source": [
    "a = 10\n",
    "print(a)"
   ]
  },
  {
   "cell_type": "code",
   "execution_count": 14,
   "id": "45aba947",
   "metadata": {},
   "outputs": [
    {
     "name": "stdout",
     "output_type": "stream",
     "text": [
      "30\n",
      "30\n"
     ]
    }
   ],
   "source": [
    "a = input()\n",
    "print(a)"
   ]
  },
  {
   "cell_type": "code",
   "execution_count": 15,
   "id": "3bfdca79",
   "metadata": {},
   "outputs": [
    {
     "name": "stdout",
     "output_type": "stream",
     "text": [
      "10\n",
      "20\n",
      "1020\n"
     ]
    }
   ],
   "source": [
    "a = input()\n",
    "b = input()\n",
    "c = a + b\n",
    "print(c) # a is saved as \"10\" and b is saved as \"20\" instead of 10 & 20"
   ]
  },
  {
   "cell_type": "code",
   "execution_count": 16,
   "id": "75398a4c",
   "metadata": {},
   "outputs": [
    {
     "name": "stdout",
     "output_type": "stream",
     "text": [
      "10\n",
      "20\n",
      "30\n"
     ]
    }
   ],
   "source": [
    "a = int(input())\n",
    "b = int(input())\n",
    "c = a + b\n",
    "print(c) # a is saved as 10 and b as 20"
   ]
  },
  {
   "cell_type": "code",
   "execution_count": 18,
   "id": "397deadc",
   "metadata": {},
   "outputs": [
    {
     "name": "stdout",
     "output_type": "stream",
     "text": [
      "EMC\n",
      "1\n",
      "My Name is: EMC\n",
      "My age is: 1\n"
     ]
    }
   ],
   "source": [
    "#Get input for name and age. Print it.\n",
    "name = input()\n",
    "age = input()\n",
    "print(\"My Name is:\", name)\n",
    "print(\"My age is:\", age)"
   ]
  },
  {
   "cell_type": "code",
   "execution_count": 19,
   "id": "c348bee1",
   "metadata": {},
   "outputs": [
    {
     "name": "stdout",
     "output_type": "stream",
     "text": [
      "EMC\n",
      "1\n",
      "6 Village rock ln Apt 23 Natick MA 01760\n",
      "My Name is: EMC\n",
      "My Age is: 1\n",
      "My Address is: 6 Village rock ln Apt 23 Natick MA 01760\n"
     ]
    }
   ],
   "source": [
    "#Get input for variable name, age and address. Print it.\n",
    "name = input()\n",
    "age = input()\n",
    "address = input()\n",
    "print(\"My Name is:\", name)\n",
    "print(\"My Age is:\", age)\n",
    "print(\"My Address is:\", address)"
   ]
  },
  {
   "cell_type": "code",
   "execution_count": 21,
   "id": "0f123fbc",
   "metadata": {},
   "outputs": [
    {
     "name": "stdout",
     "output_type": "stream",
     "text": [
      "2\n",
      "3\n",
      "4\n",
      "2.6666666666666665\n"
     ]
    }
   ],
   "source": [
    "#Get integer input for variables a,b,c. Multiply all 3 variables. Add all 3 variables. \n",
    "#Divide the multiplied values by added values. Print it.\n",
    "a = int(input())\n",
    "b = int(input())\n",
    "c = int(input())\n",
    "d = a * b * c\n",
    "e = a + b + c\n",
    "f = d/e\n",
    "print(f)"
   ]
  },
  {
   "cell_type": "code",
   "execution_count": 24,
   "id": "405284de",
   "metadata": {},
   "outputs": [
    {
     "name": "stdout",
     "output_type": "stream",
     "text": [
      "Aravind\n",
      "78\n",
      "Computer\n",
      "My Name is Aravind\n",
      "My Score is 7.8 /10\n",
      "My Department is Computer\n"
     ]
    }
   ],
   "source": [
    "#Get input for variable name,score,department. Get score for 100. Divide 100/10.\n",
    "name = input()\n",
    "score = int(input())\n",
    "department = input()\n",
    "print(\"My Name is\", name)\n",
    "print(\"My Score is\", score/10,\"/10\")\n",
    "print(\"My Department is\", department)"
   ]
  },
  {
   "cell_type": "code",
   "execution_count": 25,
   "id": "ab8776c1",
   "metadata": {},
   "outputs": [
    {
     "name": "stdout",
     "output_type": "stream",
     "text": [
      "Yes\n"
     ]
    }
   ],
   "source": [
    "#if-else with Boolean values\n",
    "if(True):\n",
    "    print(\"Yes\")\n",
    "else:\n",
    "    print(\"No\")    "
   ]
  },
  {
   "cell_type": "code",
   "execution_count": 26,
   "id": "0d30bb49",
   "metadata": {},
   "outputs": [
    {
     "name": "stdout",
     "output_type": "stream",
     "text": [
      "No\n"
     ]
    }
   ],
   "source": [
    "if(False):\n",
    "    print(\"Yes\")\n",
    "else:\n",
    "    print(\"No\")"
   ]
  },
  {
   "cell_type": "code",
   "execution_count": 27,
   "id": "64415fc7",
   "metadata": {},
   "outputs": [
    {
     "ename": "NameError",
     "evalue": "name 'false' is not defined",
     "output_type": "error",
     "traceback": [
      "\u001b[1;31m---------------------------------------------------------------------------\u001b[0m",
      "\u001b[1;31mNameError\u001b[0m                                 Traceback (most recent call last)",
      "Cell \u001b[1;32mIn[27], line 1\u001b[0m\n\u001b[1;32m----> 1\u001b[0m \u001b[38;5;28;01mif\u001b[39;00m(false):\n\u001b[0;32m      2\u001b[0m     \u001b[38;5;28mprint\u001b[39m(\u001b[38;5;124m\"\u001b[39m\u001b[38;5;124mYes\u001b[39m\u001b[38;5;124m\"\u001b[39m)\n\u001b[0;32m      3\u001b[0m \u001b[38;5;28;01melse\u001b[39;00m:\n",
      "\u001b[1;31mNameError\u001b[0m: name 'false' is not defined"
     ]
    }
   ],
   "source": [
    "if(false): #the first letter in false should be capital letter\n",
    "    print(\"Yes\")\n",
    "else:\n",
    "    print(\"No\")"
   ]
  },
  {
   "cell_type": "code",
   "execution_count": 28,
   "id": "f648ff7e",
   "metadata": {},
   "outputs": [
    {
     "name": "stdout",
     "output_type": "stream",
     "text": [
      "True\n"
     ]
    }
   ],
   "source": [
    "#Comparator operator\n",
    "print(\"win\" == \"win\")"
   ]
  },
  {
   "cell_type": "code",
   "execution_count": 29,
   "id": "5d30b975",
   "metadata": {},
   "outputs": [
    {
     "name": "stdout",
     "output_type": "stream",
     "text": [
      "False\n"
     ]
    }
   ],
   "source": [
    "print(\"win\" == \"Win\")"
   ]
  },
  {
   "cell_type": "code",
   "execution_count": 30,
   "id": "d7f5bfe7",
   "metadata": {},
   "outputs": [
    {
     "name": "stdout",
     "output_type": "stream",
     "text": [
      "False\n"
     ]
    }
   ],
   "source": [
    "print(\"win\" == \"winn\")"
   ]
  },
  {
   "cell_type": "code",
   "execution_count": 31,
   "id": "01a2680d",
   "metadata": {},
   "outputs": [
    {
     "name": "stdout",
     "output_type": "stream",
     "text": [
      "Ee sala cup namde\n"
     ]
    }
   ],
   "source": [
    "rcb = \"win\"\n",
    "if(rcb == \"win\"):\n",
    "    print(\"Ee sala cup namde\")\n",
    "else:\n",
    "    print(\"vazhakkam pola namakku cup illa\")"
   ]
  },
  {
   "cell_type": "code",
   "execution_count": 33,
   "id": "6f6e860d",
   "metadata": {},
   "outputs": [
    {
     "name": "stdout",
     "output_type": "stream",
     "text": [
      "vazhakkam pola namakku cup illa\n"
     ]
    }
   ],
   "source": [
    "rcb = \"lose\"\n",
    "if(rcb == \"win\"):\n",
    "    print(\"Ee sala cup namde\")\n",
    "else:\n",
    "    print(\"vazhakkam pola namakku cup illa\")"
   ]
  },
  {
   "cell_type": "code",
   "execution_count": 34,
   "id": "55f20e3d",
   "metadata": {},
   "outputs": [
    {
     "name": "stdout",
     "output_type": "stream",
     "text": [
      "vazhakkam pola namakku cup illa\n"
     ]
    }
   ],
   "source": [
    "rcb = \"Win\"\n",
    "if(rcb == \"win\"):\n",
    "    print(\"Ee sala cup namde\")\n",
    "else:\n",
    "    print(\"vazhakkam pola namakku cup illa\")"
   ]
  },
  {
   "cell_type": "code",
   "execution_count": 35,
   "id": "59ca508a",
   "metadata": {},
   "outputs": [
    {
     "name": "stdout",
     "output_type": "stream",
     "text": [
      "Died\n",
      "Surya meets Priya\n"
     ]
    }
   ],
   "source": [
    "#Get user input for variable Meghna. If Meghna == Died, print \"Surya meets Priya\", else \"Surya weds Meghna\"\n",
    "meghna = input()\n",
    "if (meghna == \"Died\"):\n",
    "    print(\"Surya meets Priya\")\n",
    "else:\n",
    "    print(\"Surya weds Meghna\")"
   ]
  },
  {
   "cell_type": "code",
   "execution_count": 36,
   "id": "b016e2d5",
   "metadata": {},
   "outputs": [
    {
     "name": "stdout",
     "output_type": "stream",
     "text": [
      "Alive\n",
      "Surya weds Meghna\n"
     ]
    }
   ],
   "source": [
    "meghna = input()\n",
    "if (meghna == \"Died\"):\n",
    "    print(\"Surya meets Priya\")\n",
    "else:\n",
    "    print(\"Surya weds Meghna\")"
   ]
  },
  {
   "cell_type": "code",
   "execution_count": 37,
   "id": "603da17c",
   "metadata": {},
   "outputs": [
    {
     "name": "stdout",
     "output_type": "stream",
     "text": [
      "dfsgfhghdied\n",
      "Surya weds Meghna\n"
     ]
    }
   ],
   "source": [
    "meghna = input(\"dfsgfhgh\")\n",
    "if (meghna == \"Died\"):\n",
    "    print(\"Surya meets Priya\")\n",
    "else:\n",
    "    print(\"Surya weds Meghna\")"
   ]
  },
  {
   "cell_type": "code",
   "execution_count": 38,
   "id": "ac9d78c9",
   "metadata": {},
   "outputs": [
    {
     "name": "stdout",
     "output_type": "stream",
     "text": [
      "dfsgfhghDied\n",
      "Surya meets Priya\n"
     ]
    }
   ],
   "source": [
    "meghna = input(\"dfsgfhgh\")\n",
    "if (meghna == \"Died\"):\n",
    "    print(\"Surya meets Priya\")\n",
    "else:\n",
    "    print(\"Surya weds Meghna\")"
   ]
  },
  {
   "cell_type": "code",
   "execution_count": 39,
   "id": "cb091618",
   "metadata": {},
   "outputs": [
    {
     "name": "stdout",
     "output_type": "stream",
     "text": [
      "Meghna Died or Not?Died\n",
      "Surya meets Priya\n"
     ]
    }
   ],
   "source": [
    "meghna = input(\"Meghna Died or Not?\")\n",
    "if (meghna == \"Died\"):\n",
    "    print(\"Surya meets Priya\")\n",
    "else:\n",
    "    print(\"Surya weds Meghna\")"
   ]
  },
  {
   "cell_type": "code",
   "execution_count": 40,
   "id": "ad699d0d",
   "metadata": {},
   "outputs": [],
   "source": [
    "#if else exercises"
   ]
  },
  {
   "cell_type": "code",
   "execution_count": 52,
   "id": "28763d4d",
   "metadata": {},
   "outputs": [],
   "source": [
    "#Get input for variable Mark. If Mark > 35, print pass, else print fail."
   ]
  },
  {
   "cell_type": "code",
   "execution_count": 49,
   "id": "f40f7d5f",
   "metadata": {},
   "outputs": [
    {
     "name": "stdout",
     "output_type": "stream",
     "text": [
      "40\n"
     ]
    },
    {
     "ename": "TypeError",
     "evalue": "'>' not supported between instances of 'str' and 'int'",
     "output_type": "error",
     "traceback": [
      "\u001b[1;31m---------------------------------------------------------------------------\u001b[0m",
      "\u001b[1;31mTypeError\u001b[0m                                 Traceback (most recent call last)",
      "Cell \u001b[1;32mIn[49], line 2\u001b[0m\n\u001b[0;32m      1\u001b[0m mark \u001b[38;5;241m=\u001b[39m \u001b[38;5;28minput\u001b[39m()\n\u001b[1;32m----> 2\u001b[0m \u001b[38;5;28;01mif\u001b[39;00m(mark \u001b[38;5;241m>\u001b[39m \u001b[38;5;241m35\u001b[39m):\n\u001b[0;32m      3\u001b[0m     \u001b[38;5;28mprint\u001b[39m(\u001b[38;5;124m\"\u001b[39m\u001b[38;5;124mPass\u001b[39m\u001b[38;5;124m\"\u001b[39m)\n\u001b[0;32m      4\u001b[0m \u001b[38;5;28;01melse\u001b[39;00m:\n",
      "\u001b[1;31mTypeError\u001b[0m: '>' not supported between instances of 'str' and 'int'"
     ]
    }
   ],
   "source": [
    "mark = input()\n",
    "if(mark > 35):\n",
    "    print(\"Pass\")\n",
    "else:\n",
    "    print(\"Fail\")"
   ]
  },
  {
   "cell_type": "code",
   "execution_count": 50,
   "id": "59368af5",
   "metadata": {},
   "outputs": [
    {
     "name": "stdout",
     "output_type": "stream",
     "text": [
      "40\n",
      "Pass\n"
     ]
    }
   ],
   "source": [
    "mark = int(input())\n",
    "if(mark > 35):\n",
    "    print(\"Pass\")\n",
    "else:\n",
    "    print(\"Fail\")"
   ]
  },
  {
   "cell_type": "code",
   "execution_count": 51,
   "id": "9300df27",
   "metadata": {},
   "outputs": [
    {
     "name": "stdout",
     "output_type": "stream",
     "text": [
      "34\n",
      "Fail\n"
     ]
    }
   ],
   "source": [
    "mark = int(input())\n",
    "if(mark > 35):\n",
    "    print(\"Pass\")\n",
    "else:\n",
    "    print(\"Fail\")"
   ]
  },
  {
   "cell_type": "code",
   "execution_count": 57,
   "id": "fa6648c5",
   "metadata": {},
   "outputs": [
    {
     "name": "stdout",
     "output_type": "stream",
     "text": [
      "Income:7200\n",
      "Not eligible for Scholarship\n"
     ]
    }
   ],
   "source": [
    "#Get input for variable income. If income is greater than 7000, not eligible for scholarship, else scholarship is available.\n",
    "income = int(input(\"Income:\"))\n",
    "if(income > 7000):\n",
    "    print(\"Not eligible for Scholarship\")\n",
    "else:\n",
    "    print(\"Scholarship is available\")"
   ]
  },
  {
   "cell_type": "code",
   "execution_count": 58,
   "id": "3d3fad60",
   "metadata": {},
   "outputs": [
    {
     "name": "stdout",
     "output_type": "stream",
     "text": [
      "Income:6700\n",
      "Scholarship is available\n"
     ]
    }
   ],
   "source": [
    "income = int(input(\"Income:\"))\n",
    "if(income > 7000):\n",
    "    print(\"Not eligible for Scholarship\")\n",
    "else:\n",
    "    print(\"Scholarship is available\")"
   ]
  },
  {
   "cell_type": "code",
   "execution_count": 59,
   "id": "c1296672",
   "metadata": {},
   "outputs": [
    {
     "name": "stdout",
     "output_type": "stream",
     "text": [
      "5.0\n"
     ]
    }
   ],
   "source": [
    "a = 10\n",
    "print(a / 2)"
   ]
  },
  {
   "cell_type": "code",
   "execution_count": 63,
   "id": "7e5316e4",
   "metadata": {},
   "outputs": [
    {
     "name": "stdout",
     "output_type": "stream",
     "text": [
      "Quotient: 4.666666666666667\n",
      "Reminder: 2\n"
     ]
    }
   ],
   "source": [
    "a = 14\n",
    "print(\"Quotient:\", a / 3)\n",
    "print(\"Reminder:\", a % 3)"
   ]
  },
  {
   "cell_type": "code",
   "execution_count": 67,
   "id": "0d59b5c3",
   "metadata": {},
   "outputs": [
    {
     "name": "stdout",
     "output_type": "stream",
     "text": [
      "14\n",
      "The number is not divisible by 3 and 5\n"
     ]
    }
   ],
   "source": [
    "#Get input for a number and check whether it is divisible by both 3 and 5 or not. \n",
    "#If yes then print the number is divisible by 3 and 5, else print the number is not divisible by 3 and 5.\n",
    "number = int(input())\n",
    "if(number % 3 == 0 and number % 5 == 0):\n",
    "    print(\"The number is divisible by 3 and 5\")\n",
    "else:\n",
    "    print(\"The number is not divisible by 3 and 5\")"
   ]
  },
  {
   "cell_type": "code",
   "execution_count": 68,
   "id": "127d3da4",
   "metadata": {},
   "outputs": [
    {
     "name": "stdout",
     "output_type": "stream",
     "text": [
      "15\n",
      "The number is divisible by 3 and 5\n"
     ]
    }
   ],
   "source": [
    "number = int(input())\n",
    "if(number % 3 == 0 and number % 5 == 0):\n",
    "    print(\"The number is divisible by 3 and 5\")\n",
    "else:\n",
    "    print(\"The number is not divisible by 3 and 5\")"
   ]
  },
  {
   "cell_type": "code",
   "execution_count": 69,
   "id": "8dd8e83f",
   "metadata": {},
   "outputs": [],
   "source": [
    "#Binary operators -> and, or, not"
   ]
  },
  {
   "cell_type": "code",
   "execution_count": 72,
   "id": "b21af8f5",
   "metadata": {},
   "outputs": [
    {
     "name": "stdout",
     "output_type": "stream",
     "text": [
      "Enter a number: 55\n",
      "The number is odd\n"
     ]
    }
   ],
   "source": [
    "#Get input for a number and find if it is even or odd.\n",
    "number = int(input(\"Enter a number: \"))\n",
    "if(number % 2 == 0):\n",
    "    print(\"The number is even\")\n",
    "else:\n",
    "    print(\"The number is odd\")"
   ]
  },
  {
   "cell_type": "code",
   "execution_count": 73,
   "id": "6d2b3da0",
   "metadata": {},
   "outputs": [
    {
     "name": "stdout",
     "output_type": "stream",
     "text": [
      "Enter a number: 48\n",
      "The number is even\n"
     ]
    }
   ],
   "source": [
    "number = int(input(\"Enter a number: \"))\n",
    "if(number % 2 == 0):\n",
    "    print(\"The number is even\")\n",
    "else:\n",
    "    print(\"The number is odd\")"
   ]
  },
  {
   "cell_type": "code",
   "execution_count": 91,
   "id": "ee28da8c",
   "metadata": {},
   "outputs": [
    {
     "name": "stdout",
     "output_type": "stream",
     "text": [
      "Enter the score out of 100: 75\n",
      "Good Student\n"
     ]
    }
   ],
   "source": [
    "#ifelse using elif\n",
    "#Get input for score out of 100. If score is < 35 then print Poor Student. If score is >= 35 but < 70 then print Average Student\n",
    "#If score >= 70 then print Good Student.\n",
    "score = int(input(\"Enter the score out of 100: \"))\n",
    "if(score < 35):\n",
    "    print(\"Poor Student\")\n",
    "elif(score >= 35 and score < 70):\n",
    "    print(\"Average Student\")\n",
    "elif(score >= 70 and score < 100):\n",
    "    print(\"Good Student\")\n",
    "else:\n",
    "    print(\"Invalid Score\")"
   ]
  },
  {
   "cell_type": "code",
   "execution_count": 92,
   "id": "1987c4ba",
   "metadata": {},
   "outputs": [
    {
     "name": "stdout",
     "output_type": "stream",
     "text": [
      "Enter the score out of 100: 69\n",
      "Average Student\n"
     ]
    }
   ],
   "source": [
    "score = int(input(\"Enter the score out of 100: \"))\n",
    "if(score < 35):\n",
    "    print(\"Poor Student\")\n",
    "elif(score >= 35 and score < 70):\n",
    "    print(\"Average Student\")\n",
    "elif(score >= 70 and score < 100):\n",
    "    print(\"Good Student\")\n",
    "else:\n",
    "    print(\"Invalid Score\")"
   ]
  },
  {
   "cell_type": "code",
   "execution_count": 93,
   "id": "94978ef3",
   "metadata": {},
   "outputs": [
    {
     "name": "stdout",
     "output_type": "stream",
     "text": [
      "Enter the score out of 100: 34\n",
      "Poor Student\n"
     ]
    }
   ],
   "source": [
    "score = int(input(\"Enter the score out of 100: \"))\n",
    "if(score < 35):\n",
    "    print(\"Poor Student\")\n",
    "elif(score >= 35 and score < 70):\n",
    "    print(\"Average Student\")\n",
    "elif(score >= 70 and score < 100):\n",
    "    print(\"Good Student\")\n",
    "else:\n",
    "    print(\"Invalid Score\")"
   ]
  },
  {
   "cell_type": "code",
   "execution_count": 94,
   "id": "9eb52873",
   "metadata": {},
   "outputs": [
    {
     "name": "stdout",
     "output_type": "stream",
     "text": [
      "Enter the score out of 100: 101\n",
      "Invalid Score\n"
     ]
    }
   ],
   "source": [
    "score = int(input(\"Enter the score out of 100: \"))\n",
    "if(score < 35):\n",
    "    print(\"Poor Student\")\n",
    "elif(score >= 35 and score < 70):\n",
    "    print(\"Average Student\")\n",
    "elif(score >= 70 and score < 100):\n",
    "    print(\"Good Student\")\n",
    "else:\n",
    "    print(\"Invalid Score\")"
   ]
  },
  {
   "cell_type": "code",
   "execution_count": 85,
   "id": "7b81f4b7",
   "metadata": {},
   "outputs": [
    {
     "name": "stdout",
     "output_type": "stream",
     "text": [
      "Enter the number: 14\n",
      "The number is neither divisible by 3 nor 5\n"
     ]
    }
   ],
   "source": [
    "number = int(input(\"Enter the number: \"))\n",
    "if(number % 3 == 0):\n",
    "    print(\"The number is divisible by 3\")\n",
    "if(number % 5 == 0):\n",
    "    print(\"The number is divisible by 5\")\n",
    "else:\n",
    "    print(\"The number is neither divisible by 3 nor 5\")"
   ]
  },
  {
   "cell_type": "code",
   "execution_count": 86,
   "id": "f8de183f",
   "metadata": {},
   "outputs": [
    {
     "name": "stdout",
     "output_type": "stream",
     "text": [
      "Enter the number: 12\n",
      "The number is divisible by 3\n",
      "The number is neither divisible by 3 nor 5\n"
     ]
    }
   ],
   "source": [
    "number = int(input(\"Enter the number: \")) #this is written wrongly\n",
    "if(number % 3 == 0):\n",
    "    print(\"The number is divisible by 3\")\n",
    "if(number % 5 == 0):\n",
    "    print(\"The number is divisible by 5\")\n",
    "else:\n",
    "    print(\"The number is neither divisible by 3 nor 5\")"
   ]
  },
  {
   "cell_type": "code",
   "execution_count": 87,
   "id": "d09637ff",
   "metadata": {},
   "outputs": [
    {
     "name": "stdout",
     "output_type": "stream",
     "text": [
      "Enter the number: 12\n",
      "The number is divisible by 3\n"
     ]
    }
   ],
   "source": [
    "number = int(input(\"Enter the number: \")) #previous program is corrected by using elif.\n",
    "if(number % 3 == 0):\n",
    "    print(\"The number is divisible by 3\")\n",
    "elif(number % 5 == 0):\n",
    "    print(\"The number is divisible by 5\")\n",
    "else:\n",
    "    print(\"The number is neither divisible by 3 nor 5\")"
   ]
  },
  {
   "cell_type": "code",
   "execution_count": 88,
   "id": "8ef454ee",
   "metadata": {},
   "outputs": [
    {
     "name": "stdout",
     "output_type": "stream",
     "text": [
      "Enter the number: 20\n",
      "The number is divisible by 5\n"
     ]
    }
   ],
   "source": [
    "number = int(input(\"Enter the number: \"))\n",
    "if(number % 3 == 0):\n",
    "    print(\"The number is divisible by 3\")\n",
    "elif(number % 5 == 0):\n",
    "    print(\"The number is divisible by 5\")\n",
    "else:\n",
    "    print(\"The number is neither divisible by 3 nor 5\")"
   ]
  },
  {
   "cell_type": "code",
   "execution_count": 89,
   "id": "6a734ed4",
   "metadata": {},
   "outputs": [
    {
     "name": "stdout",
     "output_type": "stream",
     "text": [
      "Enter the number: 15\n",
      "The number is divisible by 3\n"
     ]
    }
   ],
   "source": [
    "#in this case 15 is divisible by both 3 and 5. but since it passed the 1st if condition, only the 1st output is shown.\n",
    "number = int(input(\"Enter the number: \")) \n",
    "if(number % 3 == 0):\n",
    "    print(\"The number is divisible by 3\")\n",
    "elif(number % 5 == 0):\n",
    "    print(\"The number is divisible by 5\")\n",
    "else:\n",
    "    print(\"The number is neither divisible by 3 nor 5\")"
   ]
  },
  {
   "cell_type": "code",
   "execution_count": 90,
   "id": "bcd79366",
   "metadata": {},
   "outputs": [
    {
     "name": "stdout",
     "output_type": "stream",
     "text": [
      "Enter the number: 15\n",
      "The number is divisible by 3\n",
      "The number is divisible by 5\n"
     ]
    }
   ],
   "source": [
    "#contrasting this to the previous one, here all if conditions are checked one by one \n",
    "#as opposed to elif where if the 1st if condition is True, it will exit.\n",
    "number = int(input(\"Enter the number: \")) \n",
    "if(number % 3 == 0):\n",
    "    print(\"The number is divisible by 3\")\n",
    "if(number % 5 == 0):\n",
    "    print(\"The number is divisible by 5\")\n",
    "else:\n",
    "    print(\"The number is neither divisible by 3 nor 5\")"
   ]
  },
  {
   "cell_type": "code",
   "execution_count": 96,
   "id": "0a88d2e6",
   "metadata": {},
   "outputs": [
    {
     "name": "stdout",
     "output_type": "stream",
     "text": [
      "Get the inputs:\n",
      "a: 10\n",
      "b: 12\n",
      "Do you want to add/subtract/multiple/divide?add\n",
      "22\n"
     ]
    }
   ],
   "source": [
    "#Make a mini calculator: Get input for 2 numbers a and b. Get input from user whether to add/subtract/multiple/divide.\n",
    "#If user selects add, then add the 2 numbers and print the result.\n",
    "print(\"Get the inputs:\")\n",
    "a = int(input(\"a: \"))\n",
    "b = int(input(\"b: \"))\n",
    "operation = input(\"Do you want to add/subtract/multiply/divide?\")\n",
    "if(operation == \"add\"):\n",
    "    print(a + b)\n",
    "elif(operation == \"subtract\"):\n",
    "    print(a - b)\n",
    "elif(operation == \"multiply\"):\n",
    "    print(a * b)\n",
    "elif(operation == \"divide\"):\n",
    "    print(a / b)\n",
    "else:\n",
    "    print(\"Invalid operation\")"
   ]
  },
  {
   "cell_type": "code",
   "execution_count": 99,
   "id": "d7dd4a66",
   "metadata": {},
   "outputs": [
    {
     "name": "stdout",
     "output_type": "stream",
     "text": [
      "Get the inputs:\n",
      "a: 20\n",
      "b: 10\n",
      "Do you want to add/subtract/multiple/divide? multiply\n",
      "200\n"
     ]
    }
   ],
   "source": [
    "print(\"Get the inputs:\")\n",
    "a = int(input(\"a: \"))\n",
    "b = int(input(\"b: \"))\n",
    "operation = input(\"Do you want to add/subtract/multiply/divide? \")\n",
    "if(operation == \"add\"):\n",
    "    print(a + b)\n",
    "elif(operation == \"subtract\"):\n",
    "    print(a - b)\n",
    "elif(operation == \"multiply\"):\n",
    "    print(a * b)\n",
    "elif(operation == \"divide\"):\n",
    "    print(a / b)\n",
    "else:\n",
    "    print(\"Invalid operation\")"
   ]
  },
  {
   "cell_type": "code",
   "execution_count": 102,
   "id": "7446edf5",
   "metadata": {},
   "outputs": [
    {
     "name": "stdout",
     "output_type": "stream",
     "text": [
      "Get the inputs:\n",
      "a: 10\n",
      "b: 2\n",
      "Do you want to add/subtract/multiply/divide? multiple\n",
      "Invalid operation\n"
     ]
    }
   ],
   "source": [
    "print(\"Get the inputs:\")\n",
    "a = int(input(\"a: \"))\n",
    "b = int(input(\"b: \"))\n",
    "operation = input(\"Do you want to add/subtract/multiply/divide? \")\n",
    "if(operation == \"add\"):\n",
    "    print(a + b)\n",
    "elif(operation == \"subtract\"):\n",
    "    print(a - b)\n",
    "elif(operation == \"multiply\"):\n",
    "    print(a * b)\n",
    "elif(operation == \"divide\"):\n",
    "    print(a / b)\n",
    "else:\n",
    "    print(\"Invalid operation\")"
   ]
  },
  {
   "cell_type": "code",
   "execution_count": 104,
   "id": "d62fae67",
   "metadata": {},
   "outputs": [
    {
     "name": "stdout",
     "output_type": "stream",
     "text": [
      "Get the score percentage: 71\n",
      "Enter your name: Yeshwin\n",
      "Enter your department: Math\n",
      "Enter your location: Boston\n",
      "You are eligible\n"
     ]
    }
   ],
   "source": [
    "#Get an input for score percentage. Only if the percentage is > 70, get input for the name, department and location and print\n",
    "#you are eligible. if not print you are not eligible.\n",
    "score_pct = int(input(\"Get the score percentage: \"))\n",
    "if(score_pct > 70):\n",
    "    name = input(\"Enter your name: \")\n",
    "    department = input(\"Enter your department: \")\n",
    "    location = input(\"Enter your location: \")\n",
    "    print(\"You are eligible\")\n",
    "else:\n",
    "    print(\"You are not eligible\")"
   ]
  },
  {
   "cell_type": "code",
   "execution_count": 106,
   "id": "caae8fd1",
   "metadata": {},
   "outputs": [
    {
     "name": "stdout",
     "output_type": "stream",
     "text": [
      "Get the score percentage: 70\n",
      "You are not eligible\n"
     ]
    }
   ],
   "source": [
    "score_pct = int(input(\"Get the score percentage: \"))\n",
    "if(score_pct > 70):\n",
    "    name = input(\"Enter your name: \")\n",
    "    department = input(\"Enter your department: \")\n",
    "    location = input(\"Enter your location: \")\n",
    "    print(\"You are eligible\")\n",
    "else:\n",
    "    print(\"You are not eligible\")"
   ]
  },
  {
   "cell_type": "code",
   "execution_count": 110,
   "id": "e5e4273b",
   "metadata": {},
   "outputs": [
    {
     "name": "stdout",
     "output_type": "stream",
     "text": [
      "Enter your salary: 22000\n",
      "Enter your age: 30\n",
      "Enter the loan amount: 29000\n",
      "You are eligible for a loan\n"
     ]
    }
   ],
   "source": [
    "#nested if\n",
    "#Get input for salary and age. If salary >= 20000 or age <= 25, get input for required loan amount. \n",
    "#if not print you are not eligible. if required loan amount <= 50000, print you are eligible for loan. if it is > 50000,\n",
    "#print maximum loan amount is 50000.\n",
    "salary = int(input(\"Enter your salary: \"))\n",
    "age = int(input(\"Enter your age: \"))\n",
    "if(salary >= 20000 or age <= 25):\n",
    "    loan = int(input(\"Enter the loan amount: \"))\n",
    "    if(loan <= 50000):\n",
    "        print(\"You are eligible for a loan\")\n",
    "    else:\n",
    "        print(\"You are eligible for a loan, however the maximum loan amount is 50000\")\n",
    "else:\n",
    "    print(\"You are not eligible\")"
   ]
  },
  {
   "cell_type": "code",
   "execution_count": 111,
   "id": "2fc73db7",
   "metadata": {},
   "outputs": [
    {
     "name": "stdout",
     "output_type": "stream",
     "text": [
      "Enter your salary: 220000\n",
      "Enter your age: 24\n",
      "Enter the loan amount: 60000\n",
      "You are eligible for a loan, however the maximum loan amount is 50000\n"
     ]
    }
   ],
   "source": [
    "salary = int(input(\"Enter your salary: \"))\n",
    "age = int(input(\"Enter your age: \"))\n",
    "if(salary >= 20000 or age <= 25):\n",
    "    loan = int(input(\"Enter the loan amount: \"))\n",
    "    if(loan <= 50000):\n",
    "        print(\"You are eligible for a loan\")\n",
    "    else:\n",
    "        print(\"You are eligible for a loan, however the maximum loan amount is 50000\")\n",
    "else:\n",
    "    print(\"You are not eligible\")"
   ]
  },
  {
   "cell_type": "code",
   "execution_count": 112,
   "id": "5133aad3",
   "metadata": {},
   "outputs": [
    {
     "name": "stdout",
     "output_type": "stream",
     "text": [
      "Enter your salary: 15000\n",
      "Enter your age: 27\n",
      "You are not eligible\n"
     ]
    }
   ],
   "source": [
    "salary = int(input(\"Enter your salary: \"))\n",
    "age = int(input(\"Enter your age: \"))\n",
    "if(salary >= 20000 or age <= 25):\n",
    "    loan = int(input(\"Enter the loan amount: \"))\n",
    "    if(loan <= 50000):\n",
    "        print(\"You are eligible for a loan\")\n",
    "    else:\n",
    "        print(\"You are eligible for a loan, however the maximum loan amount is 50000\")\n",
    "else:\n",
    "    print(\"You are not eligible\")"
   ]
  },
  {
   "cell_type": "code",
   "execution_count": 115,
   "id": "059c5e6c",
   "metadata": {},
   "outputs": [
    {
     "name": "stdout",
     "output_type": "stream",
     "text": [
      "Enter your salary: 18000\n",
      "Enter your age: 21\n",
      "Enter the loan amount: 49999\n",
      "You are eligible for a loan\n"
     ]
    }
   ],
   "source": [
    "salary = int(input(\"Enter your salary: \"))\n",
    "age = int(input(\"Enter your age: \"))\n",
    "if(salary >= 20000 or age <= 25):\n",
    "    loan = int(input(\"Enter the loan amount: \"))\n",
    "    if(loan <= 50000):\n",
    "        print(\"You are eligible for a loan\")\n",
    "    else:\n",
    "        print(\"You are eligible for a loan, however the maximum loan amount is 50000\")\n",
    "else:\n",
    "    print(\"You are not eligible\")"
   ]
  },
  {
   "cell_type": "code",
   "execution_count": 118,
   "id": "8d8374f9",
   "metadata": {},
   "outputs": [
    {
     "name": "stdout",
     "output_type": "stream",
     "text": [
      "Get the inputs for 1st subject mark: 45\n",
      "Get the inputs for 2nd subject mark: 56\n",
      "Get the inputs for 3rd subject mark: 60\n",
      "Get the inputs for 4th subject mark: 25\n",
      "Get the inputs for 5th subject mark: 35\n",
      "you are good to go\n"
     ]
    }
   ],
   "source": [
    "#Get input for 5 subjects marks. Add all of it and find average. If average mark < 35, print \"additional class is required\".\n",
    "#if not print \"you are good to go\".\n",
    "a = int(input(\"Get the inputs for 1st subject mark: \"))\n",
    "b = int(input(\"Get the inputs for 2nd subject mark: \"))\n",
    "c = int(input(\"Get the inputs for 3rd subject mark: \"))\n",
    "d = int(input(\"Get the inputs for 4th subject mark: \"))\n",
    "e = int(input(\"Get the inputs for 5th subject mark: \"))\n",
    "f = a + b + c + d + e\n",
    "average_mark = f / 5\n",
    "if(average_mark < 35):\n",
    "    print(\"additional class is required\")\n",
    "else:\n",
    "    print(\"you are good to go\")"
   ]
  },
  {
   "cell_type": "code",
   "execution_count": 119,
   "id": "40d58fbe",
   "metadata": {},
   "outputs": [
    {
     "name": "stdout",
     "output_type": "stream",
     "text": [
      "Get the inputs for 1st subject mark: 35\n",
      "Get the inputs for 2nd subject mark: 34\n",
      "Get the inputs for 3rd subject mark: 33\n",
      "Get the inputs for 4th subject mark: 29\n",
      "Get the inputs for 5th subject mark: 15\n",
      "additional class is required\n"
     ]
    }
   ],
   "source": [
    "a = int(input(\"Get the inputs for 1st subject mark: \"))\n",
    "b = int(input(\"Get the inputs for 2nd subject mark: \"))\n",
    "c = int(input(\"Get the inputs for 3rd subject mark: \"))\n",
    "d = int(input(\"Get the inputs for 4th subject mark: \"))\n",
    "e = int(input(\"Get the inputs for 5th subject mark: \"))\n",
    "f = a + b + c + d + e\n",
    "average_mark = f / 5\n",
    "if(average_mark < 35):\n",
    "    print(\"additional class is required\")\n",
    "else:\n",
    "    print(\"you are good to go\")"
   ]
  },
  {
   "cell_type": "code",
   "execution_count": 120,
   "id": "31a671bb",
   "metadata": {},
   "outputs": [],
   "source": [
    "#For loop"
   ]
  },
  {
   "cell_type": "code",
   "execution_count": 121,
   "id": "23cfeb55",
   "metadata": {},
   "outputs": [
    {
     "name": "stdout",
     "output_type": "stream",
     "text": [
      "A\n",
      "p\n",
      "p\n",
      "l\n",
      "e\n"
     ]
    }
   ],
   "source": [
    "for i in \"Apple\": #i is the variable\n",
    "    print(i)"
   ]
  },
  {
   "cell_type": "code",
   "execution_count": 122,
   "id": "d844d85c",
   "metadata": {},
   "outputs": [
    {
     "name": "stdout",
     "output_type": "stream",
     "text": [
      "0\n",
      "1\n",
      "2\n",
      "3\n",
      "4\n"
     ]
    }
   ],
   "source": [
    "for i in range(5):\n",
    "    print(i)"
   ]
  },
  {
   "cell_type": "code",
   "execution_count": 123,
   "id": "86738028",
   "metadata": {},
   "outputs": [
    {
     "name": "stdout",
     "output_type": "stream",
     "text": [
      "1\n",
      "2\n",
      "3\n",
      "4\n"
     ]
    }
   ],
   "source": [
    "for i in range(1,5):\n",
    "    print(i)"
   ]
  },
  {
   "cell_type": "code",
   "execution_count": 128,
   "id": "bf3f863e",
   "metadata": {},
   "outputs": [
    {
     "name": "stdout",
     "output_type": "stream",
     "text": [
      "1 x 2 = 2\n",
      "2 x 2 = 4\n",
      "3 x 2 = 6\n",
      "4 x 2 = 8\n",
      "5 x 2 = 10\n",
      "6 x 2 = 12\n",
      "7 x 2 = 14\n",
      "8 x 2 = 16\n",
      "9 x 2 = 18\n",
      "10 x 2 = 20\n"
     ]
    }
   ],
   "source": [
    "#Print 2 table using for loop. Ex: 1x2=2, 2x2=4, 3x2=6.....10x2=20\n",
    "for i in range(1,11):\n",
    "    print(i, \"x 2 =\", i * 2)"
   ]
  },
  {
   "cell_type": "code",
   "execution_count": 126,
   "id": "6534af38",
   "metadata": {},
   "outputs": [
    {
     "name": "stdout",
     "output_type": "stream",
     "text": [
      "emc\n",
      "emc\n",
      "emc\n",
      "emc\n",
      "emc\n",
      "emc\n",
      "emc\n",
      "emc\n",
      "emc\n",
      "emc\n"
     ]
    }
   ],
   "source": [
    "for i in range(1,11):\n",
    "    print(\"emc\")"
   ]
  },
  {
   "cell_type": "code",
   "execution_count": 127,
   "id": "69022be3",
   "metadata": {},
   "outputs": [
    {
     "name": "stdout",
     "output_type": "stream",
     "text": [
      "emc\n",
      "1\n",
      "emc\n",
      "2\n",
      "emc\n",
      "3\n",
      "emc\n",
      "4\n",
      "emc\n",
      "5\n",
      "emc\n",
      "6\n",
      "emc\n",
      "7\n",
      "emc\n",
      "8\n",
      "emc\n",
      "9\n",
      "emc\n",
      "10\n"
     ]
    }
   ],
   "source": [
    "for i in range(1,11):\n",
    "    print(\"emc\")\n",
    "    print(i)"
   ]
  },
  {
   "cell_type": "code",
   "execution_count": 129,
   "id": "aae16f9c",
   "metadata": {},
   "outputs": [
    {
     "name": "stdout",
     "output_type": "stream",
     "text": [
      "Enter a: 8\n",
      "Enter b: 15\n",
      "9\n",
      "10\n",
      "11\n",
      "12\n",
      "13\n",
      "14\n"
     ]
    }
   ],
   "source": [
    "#Get the inputs for number a and b. Print the number between a and b.\n",
    "a = int(input(\"Enter a: \"))\n",
    "b = int(input(\"Enter b: \"))\n",
    "for i in range(a+1,b):\n",
    "    print(i)"
   ]
  },
  {
   "cell_type": "code",
   "execution_count": 135,
   "id": "1332483c",
   "metadata": {},
   "outputs": [
    {
     "name": "stdout",
     "output_type": "stream",
     "text": [
      "2\n",
      "4\n",
      "6\n",
      "8\n",
      "10\n"
     ]
    }
   ],
   "source": [
    "#Print even number between 1 and 10.\n",
    "for i in range(1,11):\n",
    "    if(i%2 == 0):\n",
    "        print(i)"
   ]
  },
  {
   "cell_type": "code",
   "execution_count": 144,
   "id": "77bf298a",
   "metadata": {},
   "outputs": [
    {
     "name": "stdout",
     "output_type": "stream",
     "text": [
      "Number of even numbers between 1 and 10: 5\n"
     ]
    }
   ],
   "source": [
    "#Count the number of even numbers between 1 to 10.\n",
    "count = 0\n",
    "for i in range(1,11):\n",
    "    if(i%2 == 0):\n",
    "        count += 1\n",
    "print(\"Number of even numbers between 1 and 10:\", count)"
   ]
  },
  {
   "cell_type": "code",
   "execution_count": 145,
   "id": "5df10e74",
   "metadata": {},
   "outputs": [
    {
     "name": "stdout",
     "output_type": "stream",
     "text": [
      "Number of odd numbers between 1 and 10: 5\n"
     ]
    }
   ],
   "source": [
    "#Count the number of odd numbers between 1 to 10.\n",
    "count = 0\n",
    "for i in range(1,11):\n",
    "    if(i%2 != 0):\n",
    "        count += 1\n",
    "print(\"Number of odd numbers between 1 and 10:\", count)"
   ]
  },
  {
   "cell_type": "code",
   "execution_count": 151,
   "id": "77531a2d",
   "metadata": {},
   "outputs": [
    {
     "name": "stdout",
     "output_type": "stream",
     "text": [
      "Number of odd numbers between 1 and 10: 5\n",
      "Number of even numbers between 1 and 10: 5\n"
     ]
    }
   ],
   "source": [
    "#Count the number of odd and even numbers between 1 and 10 and print it.\n",
    "count_odd = 0\n",
    "count_even = 0\n",
    "for i in range(1,11):\n",
    "    if(i%2 != 0):\n",
    "        count_odd += 1\n",
    "    else:\n",
    "        count_even += 1\n",
    "print(\"Number of odd numbers between 1 and 10:\", count_odd)\n",
    "print(\"Number of even numbers between 1 and 10:\", count_even)"
   ]
  },
  {
   "cell_type": "code",
   "execution_count": 153,
   "id": "2566eade",
   "metadata": {},
   "outputs": [
    {
     "name": "stdout",
     "output_type": "stream",
     "text": [
      "The count of numbers between 1-100 which are divisible by both 3 and 5: 6\n"
     ]
    }
   ],
   "source": [
    "#Count the numbers which are divisible by 3 and 5 within the range 1 to 100.\n",
    "count = 0\n",
    "for i in range(1,101):\n",
    "    if(i%3 == 0 and i%5 == 0):\n",
    "        count += 1\n",
    "print(\"The count of numbers between 1-100 which are divisible by both 3 and 5:\", count)"
   ]
  },
  {
   "cell_type": "code",
   "execution_count": 157,
   "id": "ff05dd92",
   "metadata": {},
   "outputs": [
    {
     "name": "stdout",
     "output_type": "stream",
     "text": [
      "The sum of the first 5 natural numbers is: 15\n"
     ]
    }
   ],
   "source": [
    "#Write a program to compute the sum of the first 5 natural numbers\n",
    "sum = 0\n",
    "for i in range(1,6):\n",
    "    sum += i\n",
    "print(\"The sum of the first 5 natural numbers is:\", sum)"
   ]
  },
  {
   "cell_type": "code",
   "execution_count": 158,
   "id": "b1ed3f4e",
   "metadata": {},
   "outputs": [
    {
     "name": "stdout",
     "output_type": "stream",
     "text": [
      "1\n",
      "2\n",
      "3\n",
      "4\n",
      "5\n"
     ]
    }
   ],
   "source": [
    "a = [1,2,3,4,5] #a is the list\n",
    "for i in a:\n",
    "    print(i)"
   ]
  },
  {
   "cell_type": "code",
   "execution_count": 161,
   "id": "31b906c6",
   "metadata": {},
   "outputs": [
    {
     "name": "stdout",
     "output_type": "stream",
     "text": [
      "[10, 20, 30]\n"
     ]
    }
   ],
   "source": [
    "a = []\n",
    "a.append(10)\n",
    "a.append(20)\n",
    "a.append(30)\n",
    "print(a)"
   ]
  },
  {
   "cell_type": "code",
   "execution_count": 162,
   "id": "08fe9a68",
   "metadata": {},
   "outputs": [
    {
     "name": "stdout",
     "output_type": "stream",
     "text": [
      "5\n",
      "[10, 20, 30, 5]\n"
     ]
    }
   ],
   "source": [
    "a = []\n",
    "a.append(10)\n",
    "a.append(20)\n",
    "a.append(30)\n",
    "b = int(input())\n",
    "a.append(b)\n",
    "print(a)"
   ]
  },
  {
   "cell_type": "code",
   "execution_count": 164,
   "id": "e3d41c4c",
   "metadata": {},
   "outputs": [
    {
     "name": "stdout",
     "output_type": "stream",
     "text": [
      "[0]\n",
      "[0, 1]\n",
      "[0, 1, 2]\n",
      "[0, 1, 2, 3]\n",
      "[0, 1, 2, 3, 4]\n",
      "[0, 1, 2, 3, 4, 5]\n",
      "[0, 1, 2, 3, 4, 5, 6]\n",
      "[0, 1, 2, 3, 4, 5, 6, 7]\n",
      "[0, 1, 2, 3, 4, 5, 6, 7, 8]\n",
      "[0, 1, 2, 3, 4, 5, 6, 7, 8, 9]\n"
     ]
    }
   ],
   "source": [
    "a = []\n",
    "for i in range(10):\n",
    "    a.append(i)\n",
    "    print(a)"
   ]
  },
  {
   "cell_type": "code",
   "execution_count": 165,
   "id": "e4d0a1a6",
   "metadata": {},
   "outputs": [
    {
     "name": "stdout",
     "output_type": "stream",
     "text": [
      "11\n",
      "12\n",
      "13\n",
      "14\n",
      "15\n",
      "16\n",
      "17\n",
      "18\n",
      "19\n",
      "20\n",
      "[11, 12, 13, 14, 15, 16, 17, 18, 19, 20]\n"
     ]
    }
   ],
   "source": [
    "a = []\n",
    "for i in range(10):\n",
    "    num = int(input())\n",
    "    a.append(num)\n",
    "print(a)"
   ]
  },
  {
   "cell_type": "code",
   "execution_count": 182,
   "id": "7fa6922d",
   "metadata": {
    "scrolled": true
   },
   "outputs": [
    {
     "name": "stdout",
     "output_type": "stream",
     "text": [
      "Enter 10 numbers:\n",
      "Enter number 1 : 1\n",
      "Enter number 2 : 1\n",
      "Enter number 3 : 1\n",
      "Enter number 4 : 1\n",
      "Enter number 5 : 1\n",
      "Enter number 6 : 1\n",
      "Enter number 7 : 1\n",
      "Enter number 8 : 1\n",
      "Enter number 9 : 1\n",
      "Enter number 10 : 1\n",
      "The entered numbers are: [1, 1, 1, 1, 1, 1, 1, 1, 1, 1]\n",
      "Sum of 10 numbers: 10\n",
      "Average of 10 numbers: 1.0\n"
     ]
    }
   ],
   "source": [
    "#Write a program to read 10 numbers from the keyboard and find their sum and average.\n",
    "a = []\n",
    "summ = 0\n",
    "count = 0\n",
    "print(\"Enter 10 numbers:\")\n",
    "for i in range(10):\n",
    "    num = int(input(\"Enter number \" + str(i+1) + \" : \"))\n",
    "    a.append(num)\n",
    "    summ += num\n",
    "    count += 1\n",
    "print(\"The entered numbers are:\", a)\n",
    "print(\"Sum of 10 numbers:\", summ)\n",
    "print(\"Average of 10 numbers:\", summ/count)"
   ]
  },
  {
   "cell_type": "code",
   "execution_count": 184,
   "id": "a0212d3d",
   "metadata": {},
   "outputs": [
    {
     "name": "stdout",
     "output_type": "stream",
     "text": [
      "Enter 10 numbers:\n",
      "Enter number 1 : 1\n",
      "Enter number 2 : 1\n",
      "Enter number 3 : 1\n",
      "Enter number 4 : 1\n",
      "Enter number 5 : 1\n",
      "Enter number 6 : 1\n",
      "Enter number 7 : 1\n",
      "Enter number 8 : 1\n",
      "Enter number 9 : 1\n",
      "Enter number 10 : 1\n",
      "[1, 1, 1, 1, 1, 1, 1, 1, 1, 1]\n",
      "Sum of 10 numbers: 10\n",
      "Average of 10 numbers: 1.0\n"
     ]
    }
   ],
   "source": [
    "#Alternate solution\n",
    "a = []\n",
    "print(\"Enter 10 numbers:\")\n",
    "for i in range(10):\n",
    "    num = int(input(\"Enter number \" + str(i+1) + \" : \"))\n",
    "    a.append(num)\n",
    "print(a)\n",
    "\n",
    "sum = 0\n",
    "for i in a:\n",
    "    sum += i\n",
    "print(\"Sum of 10 numbers:\", sum)\n",
    "\n",
    "count = 0\n",
    "for i in a:\n",
    "    count += 1\n",
    "print(\"Average of 10 numbers:\", sum/count)"
   ]
  },
  {
   "cell_type": "code",
   "execution_count": 238,
   "id": "67ab56ae",
   "metadata": {},
   "outputs": [
    {
     "name": "stdout",
     "output_type": "stream",
     "text": [
      "Enter the n terms:5\n",
      "The first 5 natural numbers are: [1, 2, 3, 4, 5]\n",
      "The sum of these numbers is: 10\n"
     ]
    }
   ],
   "source": [
    "#Write a program to display n terms of the natural numbers and their sum\n",
    "a = []\n",
    "sum = 0\n",
    "n = int(input(\"Enter the n terms:\"))\n",
    "for i in range(n):\n",
    "    a.append(i+1)\n",
    "    sum += i\n",
    "print(\"The first\", str(n), \"natural numbers are:\", a)\n",
    "print(\"The sum of these numbers is:\", sum)"
   ]
  },
  {
   "cell_type": "code",
   "execution_count": 236,
   "id": "0c9d6682",
   "metadata": {},
   "outputs": [
    {
     "name": "stdout",
     "output_type": "stream",
     "text": [
      "Enter the number of terms: 5\n",
      "Number is: 1 and the cube of 1 is: 1\n",
      "Number is: 2 and the cube of 2 is: 8\n",
      "Number is: 3 and the cube of 3 is: 27\n",
      "Number is: 4 and the cube of 4 is: 64\n",
      "Number is: 5 and the cube of 5 is: 125\n"
     ]
    }
   ],
   "source": [
    "#Write a program to display the cube of the number up to an integer.\n",
    "cube = 0\n",
    "n = int(input(\"Enter the number of terms: \"))\n",
    "for i in range(n):\n",
    "    cube = (i+1)*(i+1)*(i+1)\n",
    "    print(\"Number is:\", str(i+1), \"and the cube of\", str(i+1), \"is:\", cube)"
   ]
  },
  {
   "cell_type": "code",
   "execution_count": 234,
   "id": "b38ecc7d",
   "metadata": {},
   "outputs": [
    {
     "name": "stdout",
     "output_type": "stream",
     "text": [
      "1 Apple\n",
      "2 Apple\n",
      "1 Apple\n",
      "2 Apple\n",
      "1 Apple\n",
      "2 Apple\n",
      "1 Apple\n",
      "2 Apple\n",
      "1 Apple\n",
      "2 Apple\n"
     ]
    }
   ],
   "source": [
    "#Nested for loop\n",
    "for i in range(1,6):\n",
    "    for j in range(1,3):\n",
    "        print(j, \"Apple\")"
   ]
  },
  {
   "cell_type": "code",
   "execution_count": 244,
   "id": "3a1686f9",
   "metadata": {},
   "outputs": [
    {
     "name": "stdout",
     "output_type": "stream",
     "text": [
      "Week: 1\n",
      "  Day: 1\n",
      "  Day: 2\n",
      "  Day: 3\n",
      "Week: 2\n",
      "  Day: 1\n",
      "  Day: 2\n",
      "  Day: 3\n"
     ]
    }
   ],
   "source": [
    "for i in range(1,3):\n",
    "    print(\"Week:\", i)\n",
    "    for j in range(1,4):\n",
    "        print(\"  Day:\", j)"
   ]
  },
  {
   "cell_type": "code",
   "execution_count": 252,
   "id": "941c018e",
   "metadata": {},
   "outputs": [
    {
     "name": "stdout",
     "output_type": "stream",
     "text": [
      "*,*,*,*,*,"
     ]
    }
   ],
   "source": [
    "for i in range(5):\n",
    "    print(\"*\", end=\",\")"
   ]
  },
  {
   "cell_type": "code",
   "execution_count": 253,
   "id": "df1cca7e",
   "metadata": {},
   "outputs": [
    {
     "name": "stdout",
     "output_type": "stream",
     "text": [
      "*****"
     ]
    }
   ],
   "source": [
    "for i in range(5):\n",
    "    print(\"*\", end=\"\")"
   ]
  },
  {
   "cell_type": "code",
   "execution_count": 264,
   "id": "f0d468a2",
   "metadata": {},
   "outputs": [
    {
     "name": "stdout",
     "output_type": "stream",
     "text": [
      "\n",
      "1\n",
      "12\n",
      "123\n",
      "1234\n",
      "12345"
     ]
    }
   ],
   "source": [
    "for i in range(1,6):\n",
    "    print()\n",
    "    for j in range(1,i+1):\n",
    "        print(j,end=\"\")"
   ]
  },
  {
   "cell_type": "code",
   "execution_count": 265,
   "id": "b48c446c",
   "metadata": {},
   "outputs": [
    {
     "name": "stdout",
     "output_type": "stream",
     "text": [
      "\n",
      "\n",
      "\n",
      "\n",
      "\n"
     ]
    }
   ],
   "source": [
    "for i in range(1,6):\n",
    "    print()"
   ]
  },
  {
   "cell_type": "code",
   "execution_count": 266,
   "id": "7bf467f6",
   "metadata": {},
   "outputs": [
    {
     "name": "stdout",
     "output_type": "stream",
     "text": [
      "12345"
     ]
    }
   ],
   "source": [
    "for j in range(1,i+1):\n",
    "        print(j,end=\"\")"
   ]
  },
  {
   "cell_type": "code",
   "execution_count": 272,
   "id": "a3f96203",
   "metadata": {},
   "outputs": [
    {
     "name": "stdout",
     "output_type": "stream",
     "text": [
      "\n",
      "\n",
      "*\n",
      "**\n",
      "***\n",
      "****"
     ]
    }
   ],
   "source": [
    "for i in range(5):\n",
    "    print()\n",
    "    for j in range(1,i+1):\n",
    "        print(\"*\",end=\"\")"
   ]
  },
  {
   "cell_type": "code",
   "execution_count": 273,
   "id": "068c1488",
   "metadata": {},
   "outputs": [],
   "source": [
    "#While loop\n",
    "\n",
    "#While loop is usually used when the no. of iterations is unknown, as opposed to for loop when the no. of iterations is known."
   ]
  },
  {
   "cell_type": "code",
   "execution_count": 277,
   "id": "d9e9fbc6",
   "metadata": {},
   "outputs": [
    {
     "name": "stdout",
     "output_type": "stream",
     "text": [
      "0\n"
     ]
    }
   ],
   "source": [
    "i = 0\n",
    "while(i == 0):\n",
    "    print(i)\n",
    "    i = 1"
   ]
  },
  {
   "cell_type": "code",
   "execution_count": 281,
   "id": "858f560e",
   "metadata": {},
   "outputs": [],
   "source": [
    "i = 1\n",
    "while(i == 0):\n",
    "    print(i)\n",
    "    i = 2"
   ]
  },
  {
   "cell_type": "code",
   "execution_count": 282,
   "id": "bd5ac230",
   "metadata": {},
   "outputs": [],
   "source": [
    "i = 0\n",
    "while(i == 1):\n",
    "    print(i)\n",
    "    i = 1"
   ]
  },
  {
   "cell_type": "code",
   "execution_count": 283,
   "id": "92687e06",
   "metadata": {},
   "outputs": [
    {
     "name": "stdout",
     "output_type": "stream",
     "text": [
      "0\n"
     ]
    }
   ],
   "source": [
    "i=0\n",
    "while(i == 0):\n",
    "    print(i)\n",
    "    i += 1"
   ]
  },
  {
   "cell_type": "code",
   "execution_count": 1,
   "id": "b2e30f32",
   "metadata": {},
   "outputs": [],
   "source": [
    "#i = 0 \n",
    "#while(i == 0):\n",
    " #   print(i) # 0's will keep generating and will result in an infinite loop"
   ]
  },
  {
   "cell_type": "code",
   "execution_count": 285,
   "id": "bc490adb",
   "metadata": {},
   "outputs": [],
   "source": [
    "i = 1 \n",
    "while(i == 0):\n",
    "    print(i) #no output is generated since 1st loop's condition (1 == 0) itself has failed"
   ]
  },
  {
   "cell_type": "code",
   "execution_count": 289,
   "id": "bc3b935d",
   "metadata": {},
   "outputs": [
    {
     "name": "stdout",
     "output_type": "stream",
     "text": [
      "1\n",
      "2\n",
      "3\n",
      "4\n",
      "5\n"
     ]
    }
   ],
   "source": [
    "#Print a number from 1 to 5 using while loop\n",
    "i = 1\n",
    "while(i < 6):\n",
    "    print(i)\n",
    "    i += 1"
   ]
  },
  {
   "cell_type": "code",
   "execution_count": 291,
   "id": "2cee667f",
   "metadata": {},
   "outputs": [
    {
     "name": "stdout",
     "output_type": "stream",
     "text": [
      "[1]\n",
      "[1, 2]\n",
      "[1, 2, 3]\n",
      "[1, 2, 3, 4]\n",
      "[1, 2, 3, 4, 5]\n"
     ]
    }
   ],
   "source": [
    "a = []\n",
    "i = 1\n",
    "while(i < 6):\n",
    "    a.append(i)\n",
    "    print(a)\n",
    "    i += 1"
   ]
  },
  {
   "cell_type": "code",
   "execution_count": 292,
   "id": "fc1d1ac7",
   "metadata": {},
   "outputs": [
    {
     "name": "stdout",
     "output_type": "stream",
     "text": [
      "[1, 2, 3, 4, 5]\n"
     ]
    }
   ],
   "source": [
    "a = []\n",
    "i = 1\n",
    "while(i < 6):\n",
    "    a.append(i)\n",
    "    i += 1\n",
    "print(a)"
   ]
  },
  {
   "cell_type": "code",
   "execution_count": 293,
   "id": "a7cb5c0d",
   "metadata": {},
   "outputs": [
    {
     "name": "stdout",
     "output_type": "stream",
     "text": [
      "[10, 20, 30, 40, 50, 60, 70, 80, 90, 100, 110, 120, 130, 140, 150, 160, 170, 180, 190, 200]\n"
     ]
    }
   ],
   "source": [
    "a = []\n",
    "i = 10\n",
    "while(i <= 200):\n",
    "    a.append(i)\n",
    "    i += 10\n",
    "print(a)"
   ]
  },
  {
   "cell_type": "code",
   "execution_count": 296,
   "id": "a55b71cd",
   "metadata": {},
   "outputs": [
    {
     "name": "stdout",
     "output_type": "stream",
     "text": [
      "200\n"
     ]
    }
   ],
   "source": [
    "i = 10\n",
    "while(i < 200):\n",
    "    i += 10\n",
    "print(i)"
   ]
  },
  {
   "cell_type": "code",
   "execution_count": 300,
   "id": "13f21610",
   "metadata": {},
   "outputs": [
    {
     "name": "stdout",
     "output_type": "stream",
     "text": [
      "10,20,30,40,50,60,70,80,90,100,110,120,130,140,150,160,170,180,190,200,"
     ]
    }
   ],
   "source": [
    "#Write a loop statement to print the following series: 10,20,30,40,50,60,....,200,\n",
    "i = 10\n",
    "while(i <= 200):\n",
    "    print(i,end=\",\")\n",
    "    i += 10"
   ]
  },
  {
   "cell_type": "code",
   "execution_count": 302,
   "id": "0b161256",
   "metadata": {},
   "outputs": [
    {
     "name": "stdout",
     "output_type": "stream",
     "text": [
      "1 2 3 4 5 6 7 8 9 10 "
     ]
    }
   ],
   "source": [
    "#Write a program to print the first 10 natural numbers\n",
    "i = 1\n",
    "while(i <= 10):\n",
    "    print(i, end=\" \")\n",
    "    i += 1"
   ]
  },
  {
   "cell_type": "code",
   "execution_count": 306,
   "id": "b10e4ea3",
   "metadata": {},
   "outputs": [
    {
     "name": "stdout",
     "output_type": "stream",
     "text": [
      "10 9 8 7 6 5 4 3 2 1 "
     ]
    }
   ],
   "source": [
    "#Write a program to print the first 10 natural numbers in reverse order\n",
    "i = 10\n",
    "while(i >= 1):\n",
    "    print(i, end=\" \")\n",
    "    i -= 1"
   ]
  },
  {
   "cell_type": "code",
   "execution_count": 307,
   "id": "1f94deb3",
   "metadata": {},
   "outputs": [
    {
     "name": "stdout",
     "output_type": "stream",
     "text": [
      "10\n",
      "9\n",
      "8\n",
      "7\n",
      "6\n",
      "5\n",
      "4\n",
      "3\n",
      "2\n",
      "1\n"
     ]
    }
   ],
   "source": [
    "i = 10\n",
    "while(i >= 1):\n",
    "    print(i)\n",
    "    i -= 1"
   ]
  },
  {
   "cell_type": "code",
   "execution_count": 330,
   "id": "e8ed8337",
   "metadata": {},
   "outputs": [
    {
     "name": "stdout",
     "output_type": "stream",
     "text": [
      "Enter the number: 4\n",
      "24\n"
     ]
    }
   ],
   "source": [
    "#Write a program to find the factorial of a number\n",
    "i = int(input(\"Enter the number: \"))\n",
    "fact = 1\n",
    "while(i >= 1):\n",
    "    fact *= i\n",
    "    i -= 1\n",
    "print(fact)"
   ]
  },
  {
   "cell_type": "code",
   "execution_count": 331,
   "id": "74243ecb",
   "metadata": {},
   "outputs": [],
   "source": [
    "#Python collections (Arrays)"
   ]
  },
  {
   "cell_type": "code",
   "execution_count": 332,
   "id": "0fa910c2",
   "metadata": {},
   "outputs": [
    {
     "name": "stdout",
     "output_type": "stream",
     "text": [
      "<class 'list'>\n"
     ]
    }
   ],
   "source": [
    "#List - a collection which is ordered and changable. \n",
    "#allows duplicate members. \n",
    "#any type of data can be stored.\n",
    "\n",
    "#Functions related to list:\n",
    "    #insert() -> syntax:list.insert(index position,value) -> inserting an element in a list\n",
    "    #append() -> syntax:list.append(value) -> adding element at end of list\n",
    "    #extend() -> syntax:list1.extend(list2) -> merging 2 lists\n",
    "    #pop() -> syntax:list.pop(index position) -> removing element from a list\n",
    "    \n",
    "a = [1,2,3,4,5,6]\n",
    "print(type(a))"
   ]
  },
  {
   "cell_type": "code",
   "execution_count": 333,
   "id": "f99c3881",
   "metadata": {},
   "outputs": [
    {
     "name": "stdout",
     "output_type": "stream",
     "text": [
      "[1, 2, 3, 4, 5, 6]\n"
     ]
    }
   ],
   "source": [
    "print(a) #displaying the list"
   ]
  },
  {
   "cell_type": "code",
   "execution_count": 334,
   "id": "3c9ba8e1",
   "metadata": {},
   "outputs": [
    {
     "name": "stdout",
     "output_type": "stream",
     "text": [
      "[1, 2, 3, 4, 5, 6, 7]\n"
     ]
    }
   ],
   "source": [
    "a.append(7) #adding a value to the end of the list\n",
    "print(a)"
   ]
  },
  {
   "cell_type": "code",
   "execution_count": 335,
   "id": "2ce7f67f",
   "metadata": {},
   "outputs": [
    {
     "name": "stdout",
     "output_type": "stream",
     "text": [
      "[1, 2, 3, 4, 5, 6, 7, True, 'emc']\n"
     ]
    }
   ],
   "source": [
    "a.append(True) #any type of data can be added\n",
    "a.append(\"emc\")\n",
    "print(a)"
   ]
  },
  {
   "cell_type": "code",
   "execution_count": 336,
   "id": "68bbf9a8",
   "metadata": {},
   "outputs": [
    {
     "name": "stdout",
     "output_type": "stream",
     "text": [
      "[1, 2, 3, 4, 5, 6, 7, True, 'emc', 2]\n"
     ]
    }
   ],
   "source": [
    "a.append(2) #adding a duplicate value\n",
    "print(a)"
   ]
  },
  {
   "cell_type": "code",
   "execution_count": 337,
   "id": "0240cdf3",
   "metadata": {},
   "outputs": [
    {
     "name": "stdout",
     "output_type": "stream",
     "text": [
      "2\n"
     ]
    }
   ],
   "source": [
    "print(a[1]) #displaying the 1st index position (index position starts from 0,1,2,...)"
   ]
  },
  {
   "cell_type": "code",
   "execution_count": 338,
   "id": "88064ff3",
   "metadata": {},
   "outputs": [
    {
     "name": "stdout",
     "output_type": "stream",
     "text": [
      "[11, 1, 2, 3, 4, 5, 6, 7, True, 'emc', 2]\n"
     ]
    }
   ],
   "source": [
    "a.insert(0,11) #inserting value 11 at the 0th index position\n",
    "print(a)"
   ]
  },
  {
   "cell_type": "code",
   "execution_count": 339,
   "id": "c0734b02",
   "metadata": {},
   "outputs": [
    {
     "name": "stdout",
     "output_type": "stream",
     "text": [
      "[11, 1, 2, 3, 4, 5, 6, 7, 23, 'emc', 2]\n"
     ]
    }
   ],
   "source": [
    "a[8] = 23 #replacing 8th index position value (True -> 23)\n",
    "print(a)"
   ]
  },
  {
   "cell_type": "code",
   "execution_count": 340,
   "id": "22ce9e0d",
   "metadata": {},
   "outputs": [
    {
     "name": "stdout",
     "output_type": "stream",
     "text": [
      "[11, 1, 2, 3, 4, 5, 7, 23, 'emc', 2]\n"
     ]
    }
   ],
   "source": [
    "a.pop(6) #removes the 6th index position value\n",
    "print(a)"
   ]
  },
  {
   "cell_type": "code",
   "execution_count": 341,
   "id": "a821a8ed",
   "metadata": {},
   "outputs": [
    {
     "ename": "IndexError",
     "evalue": "pop index out of range",
     "output_type": "error",
     "traceback": [
      "\u001b[1;31m---------------------------------------------------------------------------\u001b[0m",
      "\u001b[1;31mIndexError\u001b[0m                                Traceback (most recent call last)",
      "Cell \u001b[1;32mIn[341], line 1\u001b[0m\n\u001b[1;32m----> 1\u001b[0m a\u001b[38;5;241m.\u001b[39mpop(\u001b[38;5;241m12\u001b[39m)\n",
      "\u001b[1;31mIndexError\u001b[0m: pop index out of range"
     ]
    }
   ],
   "source": [
    "a.pop(12) #can't do this since there are less than 12 elements in the list"
   ]
  },
  {
   "cell_type": "code",
   "execution_count": 342,
   "id": "9762dbb5",
   "metadata": {},
   "outputs": [
    {
     "name": "stdout",
     "output_type": "stream",
     "text": [
      "[11, 1, 2, 3, 4, 5, 7, 23, 'emc']\n"
     ]
    }
   ],
   "source": [
    "a.pop() #removes the last element in the list\n",
    "print(a)"
   ]
  },
  {
   "cell_type": "code",
   "execution_count": 347,
   "id": "904af886",
   "metadata": {},
   "outputs": [
    {
     "data": {
      "text/plain": [
       "[11, 1, 2, 3, 4, 5, 7, 23, 'emc']"
      ]
     },
     "execution_count": 347,
     "metadata": {},
     "output_type": "execute_result"
    }
   ],
   "source": [
    "a"
   ]
  },
  {
   "cell_type": "code",
   "execution_count": 348,
   "id": "ef08c93c",
   "metadata": {},
   "outputs": [],
   "source": [
    "b = [12,23,45]"
   ]
  },
  {
   "cell_type": "code",
   "execution_count": 355,
   "id": "a5875fc2",
   "metadata": {},
   "outputs": [
    {
     "name": "stdout",
     "output_type": "stream",
     "text": [
      "[11, 1, 2, 3, 4, 5, 7, 23, 'emc', 12, 23, 45]\n"
     ]
    }
   ],
   "source": [
    "a.extend(b) #merging a with b and storing it in a\n",
    "print(a)"
   ]
  },
  {
   "cell_type": "code",
   "execution_count": 356,
   "id": "01dad77b",
   "metadata": {},
   "outputs": [],
   "source": [
    "#Tuple - alows duplicate\n",
    "#any type of data can be stored. \n",
    "#However unlike list, we cannot modify nor add/remove the tuple item once created."
   ]
  },
  {
   "cell_type": "code",
   "execution_count": 357,
   "id": "ee72789c",
   "metadata": {},
   "outputs": [
    {
     "name": "stdout",
     "output_type": "stream",
     "text": [
      "(1, 2, 3, 4)\n"
     ]
    }
   ],
   "source": [
    "a = (1,2,3,4)\n",
    "print(a)"
   ]
  },
  {
   "cell_type": "code",
   "execution_count": 358,
   "id": "f79e88cf",
   "metadata": {},
   "outputs": [
    {
     "ename": "TypeError",
     "evalue": "'tuple' object does not support item assignment",
     "output_type": "error",
     "traceback": [
      "\u001b[1;31m---------------------------------------------------------------------------\u001b[0m",
      "\u001b[1;31mTypeError\u001b[0m                                 Traceback (most recent call last)",
      "Cell \u001b[1;32mIn[358], line 1\u001b[0m\n\u001b[1;32m----> 1\u001b[0m a[\u001b[38;5;241m0\u001b[39m] \u001b[38;5;241m=\u001b[39m \u001b[38;5;241m10\u001b[39m\n\u001b[0;32m      2\u001b[0m \u001b[38;5;28mprint\u001b[39m(a)\n",
      "\u001b[1;31mTypeError\u001b[0m: 'tuple' object does not support item assignment"
     ]
    }
   ],
   "source": [
    "a[0] = 10 #tuple cannot add elements once created\n",
    "print(a)"
   ]
  },
  {
   "cell_type": "code",
   "execution_count": 359,
   "id": "cb6a0143",
   "metadata": {},
   "outputs": [
    {
     "name": "stdout",
     "output_type": "stream",
     "text": [
      "<class 'tuple'>\n"
     ]
    }
   ],
   "source": [
    "print(type(a))"
   ]
  },
  {
   "cell_type": "code",
   "execution_count": 360,
   "id": "7912aaa4",
   "metadata": {},
   "outputs": [
    {
     "name": "stdout",
     "output_type": "stream",
     "text": [
      "(1, 2, 3, 4)\n",
      "[1, 2, 3, 4]\n"
     ]
    }
   ],
   "source": [
    "#A way to work thru adding elements is to convert tuple into a list\n",
    "b = list(a)\n",
    "print(a)\n",
    "print(b)"
   ]
  },
  {
   "cell_type": "code",
   "execution_count": 361,
   "id": "c742c865",
   "metadata": {},
   "outputs": [
    {
     "name": "stdout",
     "output_type": "stream",
     "text": [
      "[1, 2, 3]\n"
     ]
    }
   ],
   "source": [
    "b.pop()\n",
    "print(b)"
   ]
  },
  {
   "cell_type": "code",
   "execution_count": 362,
   "id": "72e3efd4",
   "metadata": {},
   "outputs": [],
   "source": [
    "#Set - does not allow duplicates, duplicate elements will be removed. \n",
    "#any type of data can be stored. \n",
    "#sets are unordered.\n",
    "#we cannot modify the set but add or remove elements\n",
    "\n",
    "#Functions of set: \n",
    "    #add() -> syntax:set.add(value) -> equivalent of append() in a list\n",
    "    #remove() -> syntax:list.remove(value) -> removes the elemebt corresponding to eh value given in the set\n",
    "    #pop() -> syntax:list.pop(value) -> removes the 1st element in the set\n",
    "    #update() ->syntax:list1.update(list2) -> merges 2 lists"
   ]
  },
  {
   "cell_type": "code",
   "execution_count": 363,
   "id": "a6df40d3",
   "metadata": {},
   "outputs": [
    {
     "name": "stdout",
     "output_type": "stream",
     "text": [
      "{1, 2, 3, 4}\n"
     ]
    }
   ],
   "source": [
    "a = {1,2,3,4,1} #the duplicate element 1 will be removed in the set\n",
    "print(a)"
   ]
  },
  {
   "cell_type": "code",
   "execution_count": 364,
   "id": "869c4737",
   "metadata": {},
   "outputs": [
    {
     "ename": "TypeError",
     "evalue": "'set' object does not support item assignment",
     "output_type": "error",
     "traceback": [
      "\u001b[1;31m---------------------------------------------------------------------------\u001b[0m",
      "\u001b[1;31mTypeError\u001b[0m                                 Traceback (most recent call last)",
      "Cell \u001b[1;32mIn[364], line 1\u001b[0m\n\u001b[1;32m----> 1\u001b[0m a[\u001b[38;5;241m0\u001b[39m] \u001b[38;5;241m=\u001b[39m \u001b[38;5;241m12\u001b[39m\n\u001b[0;32m      2\u001b[0m \u001b[38;5;28mprint\u001b[39m(a)\n",
      "\u001b[1;31mTypeError\u001b[0m: 'set' object does not support item assignment"
     ]
    }
   ],
   "source": [
    "a[0] = 12 #element at the 0th index position cannot be modified.\n",
    "print(a)"
   ]
  },
  {
   "cell_type": "code",
   "execution_count": 365,
   "id": "91cdab86",
   "metadata": {},
   "outputs": [
    {
     "name": "stdout",
     "output_type": "stream",
     "text": [
      "{1, 2, 3, 4, 10}\n"
     ]
    }
   ],
   "source": [
    "a.add(10) #adding element 10 at the end of the set\n",
    "print(a)"
   ]
  },
  {
   "cell_type": "code",
   "execution_count": 366,
   "id": "78011a90",
   "metadata": {},
   "outputs": [
    {
     "name": "stdout",
     "output_type": "stream",
     "text": [
      "{1, 2, 3, 10}\n"
     ]
    }
   ],
   "source": [
    "a.remove(4)\n",
    "print(a)"
   ]
  },
  {
   "cell_type": "code",
   "execution_count": 367,
   "id": "b5b5ff74",
   "metadata": {},
   "outputs": [
    {
     "name": "stdout",
     "output_type": "stream",
     "text": [
      "{2, 3, 10}\n"
     ]
    }
   ],
   "source": [
    "a.pop() #removes the 0th index position element (1st element) in the set\n",
    "print(a)"
   ]
  },
  {
   "cell_type": "code",
   "execution_count": 368,
   "id": "eeb6147e",
   "metadata": {},
   "outputs": [
    {
     "name": "stdout",
     "output_type": "stream",
     "text": [
      "{3, 10}\n"
     ]
    }
   ],
   "source": [
    "a.pop() \n",
    "print(a)"
   ]
  },
  {
   "cell_type": "code",
   "execution_count": 369,
   "id": "18f971bd",
   "metadata": {},
   "outputs": [
    {
     "name": "stdout",
     "output_type": "stream",
     "text": [
      "{1, 2, 3, 4, 7}\n"
     ]
    }
   ],
   "source": [
    "a = {1,7,2,3,4} #sets are unordered\n",
    "print(a)"
   ]
  },
  {
   "cell_type": "code",
   "execution_count": 370,
   "id": "7d925afe",
   "metadata": {},
   "outputs": [
    {
     "name": "stdout",
     "output_type": "stream",
     "text": [
      "{1, 2, 3, 4, 7}\n"
     ]
    }
   ],
   "source": [
    "print(a)"
   ]
  },
  {
   "cell_type": "code",
   "execution_count": 371,
   "id": "82cf60ea",
   "metadata": {},
   "outputs": [
    {
     "name": "stdout",
     "output_type": "stream",
     "text": [
      "{1, 2, 3, 4, 20, 21, 7, 22}\n"
     ]
    }
   ],
   "source": [
    "b = {20,21,22} #merging 2 sets and storing it in a\n",
    "a.update(b)\n",
    "print(a)"
   ]
  },
  {
   "cell_type": "code",
   "execution_count": 372,
   "id": "5d08e61e",
   "metadata": {},
   "outputs": [
    {
     "name": "stdout",
     "output_type": "stream",
     "text": [
      "{1, 2, 3, 4, 20, 21, 7, 22}\n"
     ]
    }
   ],
   "source": [
    "print(a)"
   ]
  },
  {
   "cell_type": "code",
   "execution_count": 373,
   "id": "182b3b7d",
   "metadata": {},
   "outputs": [],
   "source": [
    "#Dictionary - does not allow duplicate elements, will overide existing elements.\n",
    "#any type of data can be stored (even list type).\n",
    "\n",
    "#Functions of dictionary: \n",
    "    #keys() -> syntax:dictionary.keys() -> displays the dictionary column names\n",
    "    #values() -> syntax:dictionary.values() -> displays the dictionary column values\n",
    "    #update() -> syntax:dictionary.update(key value pair) -> updates the value in the dictionary\n",
    "    #pop() -> syntax:dictionary.pop(key value pair) -> deletes the key value pairs in the dictionary\n",
    "    #del -> syntax:del dictionary[\"column name\"] -> deletes the key value pairs in the dictionary\n",
    "    #clear() -> syntax:dictionary.clear() -> clears all the items in the dictionary\n",
    "    #items() -> syntax:dictionary.items() -> displays all the key value pairs in the dictionary"
   ]
  },
  {
   "cell_type": "code",
   "execution_count": 374,
   "id": "ade80a1d",
   "metadata": {},
   "outputs": [
    {
     "name": "stdout",
     "output_type": "stream",
     "text": [
      "{'name': 'emc'}\n"
     ]
    }
   ],
   "source": [
    "a = {\"name\":\"emc\"} #this is referred to as key value pair\n",
    "print(a)"
   ]
  },
  {
   "cell_type": "code",
   "execution_count": 377,
   "id": "61adc8a2",
   "metadata": {},
   "outputs": [
    {
     "name": "stdout",
     "output_type": "stream",
     "text": [
      "{'name': 'emc', 'age': 33, 'location': 'boston', 'students': ['abc', 'xyz']}\n"
     ]
    }
   ],
   "source": [
    "a = {\"name\":\"emc\",\n",
    "    \"age\":33,\n",
    "    \"location\":\"boston\",\n",
    "    \"students\":[\"abc\",\"xyz\"]}\n",
    "print(a)"
   ]
  },
  {
   "cell_type": "code",
   "execution_count": 379,
   "id": "43643a5a",
   "metadata": {},
   "outputs": [
    {
     "name": "stdout",
     "output_type": "stream",
     "text": [
      "dict_keys(['name', 'age', 'location', 'students'])\n"
     ]
    }
   ],
   "source": [
    "print(a.keys())"
   ]
  },
  {
   "cell_type": "code",
   "execution_count": 380,
   "id": "e92c3f7d",
   "metadata": {},
   "outputs": [
    {
     "name": "stdout",
     "output_type": "stream",
     "text": [
      "dict_values(['emc', 33, 'boston', ['abc', 'xyz']])\n"
     ]
    }
   ],
   "source": [
    "print(a.values())"
   ]
  },
  {
   "cell_type": "code",
   "execution_count": 381,
   "id": "950bc3cd",
   "metadata": {},
   "outputs": [
    {
     "name": "stdout",
     "output_type": "stream",
     "text": [
      "{'name': 'emc', 'age': 34, 'location': 'boston', 'students': ['abc', 'xyz']}\n"
     ]
    }
   ],
   "source": [
    "a[\"age\"] = 34 #modifying/update the age value\n",
    "print(a)"
   ]
  },
  {
   "cell_type": "code",
   "execution_count": 382,
   "id": "d7b29cf2",
   "metadata": {},
   "outputs": [
    {
     "name": "stdout",
     "output_type": "stream",
     "text": [
      "{'name': 'emc', 'age': 34, 'location': 'boston', 'students': ['abc', 'xyz'], 'color': 'red'}\n"
     ]
    }
   ],
   "source": [
    "a[\"color\"] = \"red\" #a new key pair is added since it was not present in the created dictionary\n",
    "print(a)"
   ]
  },
  {
   "cell_type": "code",
   "execution_count": 383,
   "id": "7fc1df28",
   "metadata": {},
   "outputs": [
    {
     "name": "stdout",
     "output_type": "stream",
     "text": [
      "{'name': 'emc', 'age': 35, 'location': 'boston', 'students': ['abc', 'xyz'], 'color': 'red'}\n"
     ]
    }
   ],
   "source": [
    "a.update({\"age\":35}) #alternate method for updating age value\n",
    "print(a)"
   ]
  },
  {
   "cell_type": "code",
   "execution_count": 384,
   "id": "a544eb69",
   "metadata": {},
   "outputs": [
    {
     "name": "stdout",
     "output_type": "stream",
     "text": [
      "{'name': 'emc', 'location': 'boston', 'students': ['abc', 'xyz'], 'color': 'red'}\n"
     ]
    }
   ],
   "source": [
    "a.pop(\"age\") #deleting age key value pair\n",
    "print(a)"
   ]
  },
  {
   "cell_type": "code",
   "execution_count": 385,
   "id": "d3dc3586",
   "metadata": {},
   "outputs": [
    {
     "name": "stdout",
     "output_type": "stream",
     "text": [
      "{'name': 'emc', 'students': ['abc', 'xyz'], 'color': 'red'}\n"
     ]
    }
   ],
   "source": [
    "del a[\"location\"] #alternate method for deleting key value pair\n",
    "print(a)"
   ]
  },
  {
   "cell_type": "code",
   "execution_count": 386,
   "id": "5bbd56ff",
   "metadata": {},
   "outputs": [
    {
     "ename": "NameError",
     "evalue": "name 'a' is not defined",
     "output_type": "error",
     "traceback": [
      "\u001b[1;31m---------------------------------------------------------------------------\u001b[0m",
      "\u001b[1;31mNameError\u001b[0m                                 Traceback (most recent call last)",
      "Cell \u001b[1;32mIn[386], line 2\u001b[0m\n\u001b[0;32m      1\u001b[0m \u001b[38;5;28;01mdel\u001b[39;00m a\n\u001b[1;32m----> 2\u001b[0m \u001b[38;5;28mprint\u001b[39m(a)\n",
      "\u001b[1;31mNameError\u001b[0m: name 'a' is not defined"
     ]
    }
   ],
   "source": [
    "del a #deleted the complete dictionary\n",
    "print(a)"
   ]
  },
  {
   "cell_type": "code",
   "execution_count": 388,
   "id": "8679b83c",
   "metadata": {},
   "outputs": [
    {
     "name": "stdout",
     "output_type": "stream",
     "text": [
      "{'name': 'emc', 'age': 33, 'location': 'boston', 'students': ['abc', 'xyz']}\n"
     ]
    }
   ],
   "source": [
    "a = {\"name\":\"emc\",\n",
    "    \"age\":33,\n",
    "    \"location\":\"boston\",\n",
    "    \"students\":[\"abc\",\"xyz\"]}\n",
    "print(a)"
   ]
  },
  {
   "cell_type": "code",
   "execution_count": 389,
   "id": "d61ada10",
   "metadata": {},
   "outputs": [
    {
     "name": "stdout",
     "output_type": "stream",
     "text": [
      "{}\n"
     ]
    }
   ],
   "source": [
    "a.clear() #clear all items in the dictionary\n",
    "print(a)"
   ]
  },
  {
   "cell_type": "code",
   "execution_count": 390,
   "id": "be3e9e4e",
   "metadata": {},
   "outputs": [
    {
     "name": "stdout",
     "output_type": "stream",
     "text": [
      "dict_items([('name', 'emc'), ('age', 33), ('location', 'boston'), ('students', ['abc', 'xyz'])])\n"
     ]
    }
   ],
   "source": [
    "a = {\"name\":\"emc\",\n",
    "    \"age\":33,\n",
    "    \"location\":\"boston\",\n",
    "    \"students\":[\"abc\",\"xyz\"]}\n",
    "print(a.items())"
   ]
  },
  {
   "cell_type": "code",
   "execution_count": 391,
   "id": "49336194",
   "metadata": {},
   "outputs": [],
   "source": [
    "#Functions in Python"
   ]
  },
  {
   "cell_type": "code",
   "execution_count": 392,
   "id": "ede6d5e5",
   "metadata": {},
   "outputs": [],
   "source": [
    "def painter():\n",
    "    print(\"Painting\")"
   ]
  },
  {
   "cell_type": "code",
   "execution_count": 393,
   "id": "be025c95",
   "metadata": {},
   "outputs": [
    {
     "name": "stdout",
     "output_type": "stream",
     "text": [
      "Painting\n"
     ]
    }
   ],
   "source": [
    "painter()"
   ]
  },
  {
   "cell_type": "code",
   "execution_count": 400,
   "id": "46a6db70",
   "metadata": {},
   "outputs": [],
   "source": [
    "#Create a function called add(), sub(), mul(), div() and get the input a and b inside every function then print the result.\n",
    "def add():\n",
    "    print(\"Addition:\")\n",
    "    a = int(input(\"Enter a:\"))\n",
    "    b = int(input(\"Enter b:\"))\n",
    "    print(\"Addition of a and b is\", a + b)"
   ]
  },
  {
   "cell_type": "code",
   "execution_count": 401,
   "id": "02808d47",
   "metadata": {},
   "outputs": [
    {
     "name": "stdout",
     "output_type": "stream",
     "text": [
      "ok\n"
     ]
    }
   ],
   "source": [
    "print(\"ok\")"
   ]
  },
  {
   "cell_type": "code",
   "execution_count": 402,
   "id": "9119a9b2",
   "metadata": {},
   "outputs": [
    {
     "name": "stdout",
     "output_type": "stream",
     "text": [
      "ok\n",
      "Addition:\n",
      "Enter a:5\n",
      "Enter b:4\n",
      "Addition of a and b is 9\n"
     ]
    }
   ],
   "source": [
    "print(\"ok\")\n",
    "add()"
   ]
  },
  {
   "cell_type": "code",
   "execution_count": 403,
   "id": "b0fc7cbf",
   "metadata": {},
   "outputs": [],
   "source": [
    "def sub():\n",
    "    print(\"Subtraction:\")\n",
    "    a = int(input(\"Enter a:\"))\n",
    "    b = int(input(\"Enter b:\"))\n",
    "    print(\"Subtraction of a and b is\", a - b)"
   ]
  },
  {
   "cell_type": "code",
   "execution_count": 404,
   "id": "d9f57a79",
   "metadata": {},
   "outputs": [
    {
     "name": "stdout",
     "output_type": "stream",
     "text": [
      "Subtraction:\n",
      "Enter a:5\n",
      "Enter b:4\n",
      "Subtraction of a and b is 1\n"
     ]
    }
   ],
   "source": [
    "sub()"
   ]
  },
  {
   "cell_type": "code",
   "execution_count": 405,
   "id": "e0a6a8bb",
   "metadata": {},
   "outputs": [
    {
     "name": "stdout",
     "output_type": "stream",
     "text": [
      "Multiplication:\n",
      "Enter a:5\n",
      "Enter b:4\n",
      "Multiplication of a and b is 20\n"
     ]
    }
   ],
   "source": [
    "def mul():\n",
    "    print(\"Multiplication:\")\n",
    "    a = int(input(\"Enter a:\"))\n",
    "    b = int(input(\"Enter b:\"))\n",
    "    print(\"Multiplication of a and b is\", a * b)\n",
    "mul()"
   ]
  },
  {
   "cell_type": "code",
   "execution_count": 406,
   "id": "4513d9c7",
   "metadata": {},
   "outputs": [
    {
     "name": "stdout",
     "output_type": "stream",
     "text": [
      "Division:\n",
      "Enter a:20\n",
      "Enter b:4\n",
      "Division of a and b is 5.0\n"
     ]
    }
   ],
   "source": [
    "def div():\n",
    "    print(\"Division:\")\n",
    "    a = int(input(\"Enter a:\"))\n",
    "    b = int(input(\"Enter b:\"))\n",
    "    print(\"Division of a and b is\", a / b)\n",
    "div()"
   ]
  },
  {
   "cell_type": "code",
   "execution_count": 409,
   "id": "6a42378e",
   "metadata": {},
   "outputs": [],
   "source": []
  },
  {
   "cell_type": "code",
   "execution_count": null,
   "id": "078c966b",
   "metadata": {},
   "outputs": [],
   "source": []
  },
  {
   "cell_type": "code",
   "execution_count": 411,
   "id": "fcf0d5f8",
   "metadata": {},
   "outputs": [],
   "source": [
    "def painter():\n",
    "    print(\"Message\")"
   ]
  },
  {
   "cell_type": "code",
   "execution_count": 412,
   "id": "f9a05d2e",
   "metadata": {},
   "outputs": [
    {
     "name": "stdout",
     "output_type": "stream",
     "text": [
      "Message\n"
     ]
    }
   ],
   "source": [
    "painter()"
   ]
  },
  {
   "cell_type": "code",
   "execution_count": 413,
   "id": "7f4a266b",
   "metadata": {},
   "outputs": [
    {
     "ename": "TypeError",
     "evalue": "painter() takes 0 positional arguments but 1 was given",
     "output_type": "error",
     "traceback": [
      "\u001b[1;31m---------------------------------------------------------------------------\u001b[0m",
      "\u001b[1;31mTypeError\u001b[0m                                 Traceback (most recent call last)",
      "Cell \u001b[1;32mIn[413], line 1\u001b[0m\n\u001b[1;32m----> 1\u001b[0m painter(\u001b[38;5;124m\"\u001b[39m\u001b[38;5;124mPaint my house\u001b[39m\u001b[38;5;124m\"\u001b[39m)\n",
      "\u001b[1;31mTypeError\u001b[0m: painter() takes 0 positional arguments but 1 was given"
     ]
    }
   ],
   "source": [
    "painter(\"Paint my house\")"
   ]
  },
  {
   "cell_type": "code",
   "execution_count": 414,
   "id": "6c7d4771",
   "metadata": {},
   "outputs": [
    {
     "name": "stdout",
     "output_type": "stream",
     "text": [
      "Message\n"
     ]
    },
    {
     "ename": "TypeError",
     "evalue": "painter() takes 0 positional arguments but 1 was given",
     "output_type": "error",
     "traceback": [
      "\u001b[1;31m---------------------------------------------------------------------------\u001b[0m",
      "\u001b[1;31mTypeError\u001b[0m                                 Traceback (most recent call last)",
      "Cell \u001b[1;32mIn[414], line 2\u001b[0m\n\u001b[0;32m      1\u001b[0m painter()\n\u001b[1;32m----> 2\u001b[0m painter(\u001b[38;5;124m\"\u001b[39m\u001b[38;5;124mPaint my house\u001b[39m\u001b[38;5;124m\"\u001b[39m)\n",
      "\u001b[1;31mTypeError\u001b[0m: painter() takes 0 positional arguments but 1 was given"
     ]
    }
   ],
   "source": [
    "painter()\n",
    "painter(\"Paint my house\")"
   ]
  },
  {
   "cell_type": "code",
   "execution_count": 417,
   "id": "6c746eb9",
   "metadata": {},
   "outputs": [],
   "source": [
    "def painter(msg): #painter() is the parameterized function, msg is the parameter/argument\n",
    "    print(\"Message:\", msg*2)"
   ]
  },
  {
   "cell_type": "code",
   "execution_count": 418,
   "id": "c2b6a695",
   "metadata": {},
   "outputs": [
    {
     "name": "stdout",
     "output_type": "stream",
     "text": [
      "Message: Paint my housePaint my house\n"
     ]
    }
   ],
   "source": [
    "painter(\"Paint my house\")"
   ]
  },
  {
   "cell_type": "code",
   "execution_count": 419,
   "id": "bc4b529d",
   "metadata": {},
   "outputs": [],
   "source": []
  },
  {
   "cell_type": "code",
   "execution_count": null,
   "id": "ea822966",
   "metadata": {},
   "outputs": [],
   "source": []
  },
  {
   "cell_type": "code",
   "execution_count": 421,
   "id": "ce42c4fd",
   "metadata": {},
   "outputs": [],
   "source": [
    "#Get an integer from user and pass it to the function called findevenorodd(). \n",
    "#Let the function print whether the number is even or odd.\n",
    "def findevenorodd(a):\n",
    "    if (a%2 == 0):\n",
    "        print(\"Even number\")\n",
    "    else:\n",
    "        print(\"Odd number\")"
   ]
  },
  {
   "cell_type": "code",
   "execution_count": 423,
   "id": "2a9cb33c",
   "metadata": {},
   "outputs": [
    {
     "name": "stdout",
     "output_type": "stream",
     "text": [
      "Odd number\n"
     ]
    }
   ],
   "source": [
    "findevenorodd(5)"
   ]
  },
  {
   "cell_type": "code",
   "execution_count": 424,
   "id": "115f38e5",
   "metadata": {},
   "outputs": [
    {
     "name": "stdout",
     "output_type": "stream",
     "text": [
      "Even number\n"
     ]
    }
   ],
   "source": [
    "findevenorodd(12)"
   ]
  },
  {
   "cell_type": "code",
   "execution_count": 427,
   "id": "a60714eb",
   "metadata": {},
   "outputs": [],
   "source": [
    "def funn(b):\n",
    "    print(b*2)"
   ]
  },
  {
   "cell_type": "code",
   "execution_count": 428,
   "id": "2e237160",
   "metadata": {},
   "outputs": [
    {
     "name": "stdout",
     "output_type": "stream",
     "text": [
      "32\n"
     ]
    }
   ],
   "source": [
    "funn(16)"
   ]
  },
  {
   "cell_type": "code",
   "execution_count": 429,
   "id": "390cd40c",
   "metadata": {},
   "outputs": [
    {
     "name": "stdout",
     "output_type": "stream",
     "text": [
      "Enter a:6\n",
      "Even number\n"
     ]
    }
   ],
   "source": [
    "a = int(input(\"Enter a: \"))\n",
    "findevenorodd(a)"
   ]
  },
  {
   "cell_type": "code",
   "execution_count": 434,
   "id": "35548a2f",
   "metadata": {},
   "outputs": [],
   "source": [
    "#Get an integer number from user and pass it to the function called findevenorodd(). \n",
    "#Let the function print whether the number is less than or greater than 35. fail -> less than 35, if not pass.\n",
    "def findpassorfail(a):\n",
    "    if (a < 35):\n",
    "        print(\"Fail\")\n",
    "    elif (a >= 35 and a <= 100):\n",
    "        print(\"Pass\")\n",
    "    else:\n",
    "        print(\"Invalid number\")"
   ]
  },
  {
   "cell_type": "code",
   "execution_count": 435,
   "id": "d2f27268",
   "metadata": {},
   "outputs": [
    {
     "name": "stdout",
     "output_type": "stream",
     "text": [
      "Enter any integer between 0 and 100: 56\n",
      "Pass\n"
     ]
    }
   ],
   "source": [
    "b = int(input(\"Enter any integer between 0 and 100: \"))\n",
    "findpassorfail(b)"
   ]
  },
  {
   "cell_type": "code",
   "execution_count": 432,
   "id": "6ecba6bc",
   "metadata": {},
   "outputs": [
    {
     "name": "stdout",
     "output_type": "stream",
     "text": [
      "Enter any integer between 0 and 100: 34\n",
      "Fail\n"
     ]
    }
   ],
   "source": [
    "c = int(input(\"Enter any integer between 0 and 100: \"))\n",
    "findpassorfail(c)"
   ]
  },
  {
   "cell_type": "code",
   "execution_count": 436,
   "id": "8849af66",
   "metadata": {},
   "outputs": [
    {
     "name": "stdout",
     "output_type": "stream",
     "text": [
      "Enter any integer between 0 and 100: 101\n",
      "Invalid number\n"
     ]
    }
   ],
   "source": [
    "d = int(input(\"Enter any integer between 0 and 100: \"))\n",
    "findpassorfail(d)"
   ]
  },
  {
   "cell_type": "code",
   "execution_count": 437,
   "id": "de082a5e",
   "metadata": {},
   "outputs": [
    {
     "name": "stdout",
     "output_type": "stream",
     "text": [
      "1\n",
      "2\n",
      "3\n",
      "4\n",
      "5\n",
      "6\n",
      "7\n",
      "8\n",
      "9\n"
     ]
    }
   ],
   "source": [
    "def printrange():\n",
    "    for i in range(1, 10):\n",
    "        print(i)\n",
    "printrange()"
   ]
  },
  {
   "cell_type": "code",
   "execution_count": 441,
   "id": "c20ff633",
   "metadata": {},
   "outputs": [],
   "source": [
    "#Get input for a and b and pass it to the function called printrange(). Let the function print numbers from a to b.\n",
    "def printrange(a,b):\n",
    "    for i in range(a, b):\n",
    "        print(i)"
   ]
  },
  {
   "cell_type": "code",
   "execution_count": 444,
   "id": "672da13b",
   "metadata": {},
   "outputs": [
    {
     "name": "stdout",
     "output_type": "stream",
     "text": [
      "Enter a: 6\n",
      "Enter b: 8\n",
      "Numbers between a and b are:\n",
      "6\n",
      "7\n"
     ]
    }
   ],
   "source": [
    "x = int(input(\"Enter a: \"))\n",
    "y = int(input(\"Enter b: \"))\n",
    "print(\"Numbers between a and b are:\")\n",
    "printrange(x,y)"
   ]
  },
  {
   "cell_type": "code",
   "execution_count": 445,
   "id": "ccb48717",
   "metadata": {},
   "outputs": [
    {
     "name": "stdout",
     "output_type": "stream",
     "text": [
      "1\n",
      "2\n",
      "3\n",
      "4\n",
      "5\n",
      "6\n",
      "7\n"
     ]
    }
   ],
   "source": [
    "printrange(1,8)"
   ]
  },
  {
   "cell_type": "code",
   "execution_count": 447,
   "id": "420d74a3",
   "metadata": {},
   "outputs": [],
   "source": [
    "#Return keyword"
   ]
  },
  {
   "cell_type": "code",
   "execution_count": 448,
   "id": "01753410",
   "metadata": {},
   "outputs": [],
   "source": [
    "def painter():\n",
    "    print(\"I am painter\")"
   ]
  },
  {
   "cell_type": "code",
   "execution_count": 449,
   "id": "30e6df67",
   "metadata": {},
   "outputs": [
    {
     "name": "stdout",
     "output_type": "stream",
     "text": [
      "I am painter\n"
     ]
    }
   ],
   "source": [
    "painter()"
   ]
  },
  {
   "cell_type": "code",
   "execution_count": 450,
   "id": "1f8a1cf7",
   "metadata": {},
   "outputs": [],
   "source": [
    "def painter():\n",
    "    return \"I am painter\""
   ]
  },
  {
   "cell_type": "code",
   "execution_count": 451,
   "id": "972c9508",
   "metadata": {},
   "outputs": [
    {
     "data": {
      "text/plain": [
       "'I am painter'"
      ]
     },
     "execution_count": 451,
     "metadata": {},
     "output_type": "execute_result"
    }
   ],
   "source": [
    "painter()"
   ]
  },
  {
   "cell_type": "code",
   "execution_count": 452,
   "id": "c41857c4",
   "metadata": {},
   "outputs": [],
   "source": [
    "def valueofa():\n",
    "    return 10"
   ]
  },
  {
   "cell_type": "code",
   "execution_count": 454,
   "id": "45c6c4f4",
   "metadata": {},
   "outputs": [
    {
     "name": "stdout",
     "output_type": "stream",
     "text": [
      "10\n"
     ]
    }
   ],
   "source": [
    "a = valueofa()\n",
    "print(a)"
   ]
  },
  {
   "cell_type": "code",
   "execution_count": 455,
   "id": "313923bb",
   "metadata": {},
   "outputs": [
    {
     "name": "stdout",
     "output_type": "stream",
     "text": [
      "Enter the username: 546\n",
      "Enter the password: 588\n"
     ]
    }
   ],
   "source": [
    "#Set s_username=\"EMC\", s_password=\"123\". Get input for uname and password and create a function called validate. \n",
    "#If uname and password match, the function should return True else False.\n",
    "s_username = \"EMC\"\n",
    "s_password = \"123\"\n",
    "uname = input(\"Enter the username: \")\n",
    "password = input(\"Enter the password: \")\n",
    "def validate():\n",
    "    if (s_username == uname and s_password == password):\n",
    "        return True\n",
    "    else:\n",
    "        return False"
   ]
  },
  {
   "cell_type": "code",
   "execution_count": 456,
   "id": "506d16f6",
   "metadata": {},
   "outputs": [
    {
     "data": {
      "text/plain": [
       "False"
      ]
     },
     "execution_count": 456,
     "metadata": {},
     "output_type": "execute_result"
    }
   ],
   "source": [
    "validate()"
   ]
  },
  {
   "cell_type": "code",
   "execution_count": 459,
   "id": "9918dbfd",
   "metadata": {},
   "outputs": [
    {
     "name": "stdout",
     "output_type": "stream",
     "text": [
      "Enter the username: EMC\n",
      "Enter the password: 123\n"
     ]
    },
    {
     "data": {
      "text/plain": [
       "True"
      ]
     },
     "execution_count": 459,
     "metadata": {},
     "output_type": "execute_result"
    }
   ],
   "source": [
    "s_username = \"EMC\"\n",
    "s_password = \"123\"\n",
    "uname = input(\"Enter the username: \")\n",
    "password = input(\"Enter the password: \")\n",
    "def validate():\n",
    "    if (s_username == uname and s_password == password):\n",
    "        return True\n",
    "    else:\n",
    "        return False\n",
    "validate()"
   ]
  },
  {
   "cell_type": "code",
   "execution_count": 460,
   "id": "66c33c13",
   "metadata": {},
   "outputs": [],
   "source": [
    "#Get input for a and b and function called add() which should return sum of a and b and multiply with c aka (a+b)*c\n",
    "def add(n1, n2):\n",
    "    return n1 + n2"
   ]
  },
  {
   "cell_type": "code",
   "execution_count": 464,
   "id": "f18cc68d",
   "metadata": {},
   "outputs": [
    {
     "name": "stdout",
     "output_type": "stream",
     "text": [
      "Enter a: 10\n",
      "Enter b: 20\n",
      "Enter c: 10\n",
      "300\n"
     ]
    }
   ],
   "source": [
    "a = int(input(\"Enter a: \"))\n",
    "b = int(input(\"Enter b: \"))\n",
    "c = int(input(\"Enter c: \"))\n",
    "added = add(a,b)\n",
    "output = added * c\n",
    "print(output)"
   ]
  },
  {
   "cell_type": "code",
   "execution_count": 465,
   "id": "d1e909c4",
   "metadata": {},
   "outputs": [],
   "source": [
    "#Classes and objects"
   ]
  },
  {
   "cell_type": "code",
   "execution_count": 466,
   "id": "1a61fc6b",
   "metadata": {},
   "outputs": [],
   "source": [
    "#Class ->  a set of functions and variables\n",
    "#Classes objects are reusable, thus very efficient and will save a lot of redundant code"
   ]
  },
  {
   "cell_type": "code",
   "execution_count": 467,
   "id": "a6f41fdd",
   "metadata": {},
   "outputs": [
    {
     "name": "stdout",
     "output_type": "stream",
     "text": [
      "Let's Party....\n",
      "Enjoying the beach\n"
     ]
    }
   ],
   "source": [
    "class goa: #goa is the class\n",
    "    drink = \"\" #drink is the variable\n",
    "    def party(self): #party is the function\n",
    "        print(\"Let's Party....\")\n",
    "    def beach(self):\n",
    "        print(\"Enjoying the beach\")\n",
    "\n",
    "ramesh = goa() #the object(ramesh) corresponding to the class(goa) is created\n",
    "suresh = goa()\n",
    "\n",
    "ramesh.party() #object calling the function\n",
    "suresh.beach()"
   ]
  },
  {
   "cell_type": "code",
   "execution_count": 468,
   "id": "292f2dd0",
   "metadata": {},
   "outputs": [
    {
     "name": "stdout",
     "output_type": "stream",
     "text": [
      "Enjoying the beach\n",
      "Let's Party....\n"
     ]
    }
   ],
   "source": [
    "ramesh.beach()\n",
    "suresh.party()"
   ]
  },
  {
   "cell_type": "code",
   "execution_count": 470,
   "id": "626be3a4",
   "metadata": {},
   "outputs": [
    {
     "name": "stdout",
     "output_type": "stream",
     "text": [
      "dffgh\n"
     ]
    }
   ],
   "source": [
    "class goa:\n",
    "    name = \"dffgh\"\n",
    "    drink = \"\"\n",
    "    def party(self):\n",
    "        print(\"Let's Party....\")\n",
    "    def beach(self):\n",
    "        print(\"Enjoying the beach\")\n",
    "\n",
    "ramesh = goa()\n",
    "suresh = goa()  \n",
    "\n",
    "print(ramesh.name)"
   ]
  },
  {
   "cell_type": "code",
   "execution_count": 471,
   "id": "7fc1a9a0",
   "metadata": {},
   "outputs": [
    {
     "name": "stdout",
     "output_type": "stream",
     "text": [
      "Ramesh\n"
     ]
    }
   ],
   "source": [
    "class goa:\n",
    "    name = \"dffgh\"\n",
    "    drink = \"\"\n",
    "    def party(self):\n",
    "        print(\"Let's Party....\")\n",
    "    def beach(self):\n",
    "        print(\"Enjoying the beach\")\n",
    "\n",
    "ramesh = goa()\n",
    "suresh = goa() \n",
    "\n",
    "ramesh.name=\"Ramesh\" #setting variable(name) for object(ramesh) in class(goa) as Ramesh\n",
    "print(ramesh.name)"
   ]
  },
  {
   "cell_type": "code",
   "execution_count": 472,
   "id": "32f229de",
   "metadata": {},
   "outputs": [
    {
     "data": {
      "text/plain": [
       "'Ramesh'"
      ]
     },
     "execution_count": 472,
     "metadata": {},
     "output_type": "execute_result"
    }
   ],
   "source": [
    "ramesh.name"
   ]
  },
  {
   "cell_type": "code",
   "execution_count": 473,
   "id": "880d16d5",
   "metadata": {},
   "outputs": [
    {
     "name": "stdout",
     "output_type": "stream",
     "text": [
      "dffgh\n"
     ]
    }
   ],
   "source": [
    "print(suresh.name)"
   ]
  },
  {
   "cell_type": "code",
   "execution_count": 474,
   "id": "9f9601e3",
   "metadata": {},
   "outputs": [
    {
     "name": "stdout",
     "output_type": "stream",
     "text": [
      "Suresh\n"
     ]
    }
   ],
   "source": [
    "suresh.name=\"Suresh\"\n",
    "print(suresh.name)"
   ]
  },
  {
   "cell_type": "code",
   "execution_count": 478,
   "id": "7a201167",
   "metadata": {},
   "outputs": [
    {
     "name": "stdout",
     "output_type": "stream",
     "text": [
      "Ramesh\n",
      "drink: yes\n",
      "Suresh\n",
      "drink: no\n",
      "Let's Party....\n",
      "Enjoying the beach\n"
     ]
    }
   ],
   "source": [
    "class goa:\n",
    "    name = \"dffgh\"\n",
    "    drink = \"\"\n",
    "    def party(self):\n",
    "        print(\"Let's Party....\")\n",
    "    def beach(self):\n",
    "        print(\"Enjoying the beach\")\n",
    "\n",
    "ramesh = goa()\n",
    "suresh = goa()\n",
    "\n",
    "ramesh.name=\"Ramesh\"\n",
    "ramesh.drink=\"yes\"\n",
    "suresh.name=\"Suresh\"\n",
    "suresh.drink=\"no\"\n",
    "\n",
    "print(ramesh.name)\n",
    "print(\"drink:\", ramesh.drink)\n",
    "print(suresh.name)\n",
    "print(\"drink:\", suresh.drink)\n",
    "\n",
    "ramesh.party()\n",
    "suresh.beach()"
   ]
  },
  {
   "cell_type": "code",
   "execution_count": 489,
   "id": "32206803",
   "metadata": {},
   "outputs": [
    {
     "name": "stdout",
     "output_type": "stream",
     "text": [
      "HP's specs ->  Price: 40000    Processor name: Intel Core i3    Ram memory storage: 8GB\n",
      "DELL's specs ->  Price: 50000    Processor name: Intel Core i5    Ram memory storage: 16GB\n",
      "LENOVO's specs ->  Price: 60000    Processor name: Intel Core i7    Ram memory storage: 12GB\n"
     ]
    }
   ],
   "source": [
    "#Create a class called laptop and create the following variables and objects.\n",
    "#variables -> Price, Processor, Ram\n",
    "#Objects -> HP, DELL, LENOVO\n",
    "\n",
    "class laptop:\n",
    "    Price = 0\n",
    "    Processor = \"\"\n",
    "    Ram = \"\"\n",
    "\n",
    "HP = laptop()\n",
    "DELL = laptop()\n",
    "LENOVO = laptop()\n",
    "\n",
    "HP.Price = 40000\n",
    "HP.Processor = \"Intel Core i3\"\n",
    "HP.Ram = \"8GB\"\n",
    "\n",
    "DELL.Price = 50000\n",
    "DELL.Processor = \"Intel Core i5\"\n",
    "DELL.Ram = \"16GB\"\n",
    "\n",
    "LENOVO.Price = 60000\n",
    "LENOVO.Processor = \"Intel Core i7\"\n",
    "LENOVO.Ram = \"12GB\"\n",
    "\n",
    "print(\"HP's specs -> \", \"Price:\", HP.Price, \"  \", \"Processor name:\", HP.Processor, \"  \", \"Ram memory storage:\", HP.Ram)\n",
    "print(\"DELL's specs -> \", \"Price:\", DELL.Price, \"  \", \"Processor name:\", DELL.Processor, \"  \", \"Ram memory storage:\", DELL.Ram)\n",
    "print(\"LENOVO's specs -> \", \"Price:\", LENOVO.Price, \"  \", \"Processor name:\", LENOVO.Processor, \"  \", \"Ram memory storage:\", LENOVO.Ram)"
   ]
  },
  {
   "cell_type": "code",
   "execution_count": 490,
   "id": "ee5911e1",
   "metadata": {},
   "outputs": [
    {
     "name": "stdout",
     "output_type": "stream",
     "text": [
      "Display\n"
     ]
    }
   ],
   "source": [
    "class laptop():\n",
    "    def display(self):\n",
    "        print(\"Display\")\n",
    "\n",
    "hp = laptop()\n",
    "hp.display()"
   ]
  },
  {
   "cell_type": "code",
   "execution_count": 493,
   "id": "4c49dd8b",
   "metadata": {},
   "outputs": [
    {
     "name": "stdout",
     "output_type": "stream",
     "text": [
      "demo\n"
     ]
    }
   ],
   "source": [
    "class laptop():\n",
    "    def __init__(self): #Python's in-built constructor\n",
    "        print(\"demo\")\n",
    "    def display(self): #self is added to denote the object's instance\n",
    "        print(\"Display\")\n",
    "\n",
    "hp = laptop() #constructor wil get automatically called and displays the output of the constructor(demo)"
   ]
  },
  {
   "cell_type": "code",
   "execution_count": 494,
   "id": "f0884c44",
   "metadata": {},
   "outputs": [],
   "source": [
    "#Constructor -> a unique function that gets called automatically when an object is created out of a class\n",
    "#Constructor will decide how much memory needs to be allocated in a class\n",
    "#The main purpose of a constructor is to initialize or assign values to the data members of that class"
   ]
  },
  {
   "cell_type": "code",
   "execution_count": 496,
   "id": "d0df9f25",
   "metadata": {},
   "outputs": [
    {
     "name": "stdout",
     "output_type": "stream",
     "text": [
      "demo\n",
      "50000\n"
     ]
    }
   ],
   "source": [
    "class laptop():\n",
    "    price = 0\n",
    "    ram = \"\"\n",
    "    def __init__(self): #Python's in-built constructor\n",
    "        print(\"demo\")\n",
    "    def display(self):\n",
    "        print(\"Display\")\n",
    "\n",
    "hp = laptop()\n",
    "hp.price = 50000\n",
    "print(hp.price)"
   ]
  },
  {
   "cell_type": "code",
   "execution_count": 498,
   "id": "2bb74dda",
   "metadata": {},
   "outputs": [
    {
     "name": "stdout",
     "output_type": "stream",
     "text": [
      "50000\n",
      "8GB\n"
     ]
    }
   ],
   "source": [
    "#Leveraging constructor's functionality to modify the above program\n",
    "class laptop():\n",
    "    def __init__(self):\n",
    "        self.price = 0\n",
    "        self.ram = \"\"\n",
    "        self.processor = \"\"\n",
    "    def display(self):\n",
    "        print(\"Display\")\n",
    "\n",
    "hp = laptop()\n",
    "hp.price = 50000\n",
    "hp.ram = \"8GB\"\n",
    "hp.processor = \"i5\"\n",
    "\n",
    "print(hp.price)\n",
    "print(hp.ram)"
   ]
  },
  {
   "cell_type": "code",
   "execution_count": 499,
   "id": "bae73075",
   "metadata": {},
   "outputs": [
    {
     "name": "stdout",
     "output_type": "stream",
     "text": [
      "Ram: 8GB\n",
      "Processor: i5\n"
     ]
    }
   ],
   "source": [
    "class laptop():\n",
    "    def __init__(self):\n",
    "        self.ram = \"\"\n",
    "        self.processor = \"\"\n",
    "    def display(self):\n",
    "        print(\"Ram:\", self.ram)\n",
    "        print(\"Processor:\", self.processor)\n",
    "\n",
    "hp = laptop()\n",
    "\n",
    "hp.ram = \"8GB\"\n",
    "hp.processor = \"i5\"\n",
    "\n",
    "hp.display()"
   ]
  },
  {
   "cell_type": "code",
   "execution_count": 500,
   "id": "c05a8274",
   "metadata": {},
   "outputs": [
    {
     "ename": "SyntaxError",
     "evalue": "incomplete input (2696252671.py, line 1)",
     "output_type": "error",
     "traceback": [
      "\u001b[1;36m  Cell \u001b[1;32mIn[500], line 1\u001b[1;36m\u001b[0m\n\u001b[1;33m    class laptop:\u001b[0m\n\u001b[1;37m                 ^\u001b[0m\n\u001b[1;31mSyntaxError\u001b[0m\u001b[1;31m:\u001b[0m incomplete input\n"
     ]
    }
   ],
   "source": [
    "class laptop:"
   ]
  },
  {
   "cell_type": "code",
   "execution_count": 501,
   "id": "a9a10220",
   "metadata": {},
   "outputs": [],
   "source": [
    "class laptop:\n",
    "    pass"
   ]
  },
  {
   "cell_type": "code",
   "execution_count": 502,
   "id": "9b5f0b5d",
   "metadata": {},
   "outputs": [
    {
     "name": "stdout",
     "output_type": "stream",
     "text": [
      "Name: abc\n",
      "Register Number: 01\n"
     ]
    }
   ],
   "source": [
    "#Create a class called student. Create variables - name and register number using constructor.\n",
    "#Create a function called display which should display the name and register number of the student\n",
    "\n",
    "class student():\n",
    "    def __init__(self):\n",
    "        self.name =\"\"\n",
    "        self.reg_num = \"\"\n",
    "    def display(self):\n",
    "        print(\"Name:\", self.name)\n",
    "        print(\"Register Number:\", self.reg_num)\n",
    "\n",
    "s1 = student()\n",
    "s1.name = \"abc\"\n",
    "s1.reg_num = \"01\"\n",
    "\n",
    "s1.display()"
   ]
  },
  {
   "cell_type": "code",
   "execution_count": 504,
   "id": "27b10ce8",
   "metadata": {},
   "outputs": [
    {
     "name": "stdout",
     "output_type": "stream",
     "text": [
      "Name: xyz\n",
      "Register Number: 02\n"
     ]
    }
   ],
   "source": [
    "s2 = student()\n",
    "s2.name = \"xyz\"\n",
    "s2.reg_num = \"02\"\n",
    "\n",
    "s2.display()"
   ]
  },
  {
   "cell_type": "code",
   "execution_count": 510,
   "id": "f97b8bb2",
   "metadata": {},
   "outputs": [
    {
     "ename": "TypeError",
     "evalue": "Fruit.__init__() takes 1 positional argument but 2 were given",
     "output_type": "error",
     "traceback": [
      "\u001b[1;31m---------------------------------------------------------------------------\u001b[0m",
      "\u001b[1;31mTypeError\u001b[0m                                 Traceback (most recent call last)",
      "Cell \u001b[1;32mIn[510], line 7\u001b[0m\n\u001b[0;32m      4\u001b[0m     \u001b[38;5;28;01mdef\u001b[39;00m \u001b[38;5;21m__init__\u001b[39m(\u001b[38;5;28mself\u001b[39m):\n\u001b[0;32m      5\u001b[0m         \u001b[38;5;28mself\u001b[39m\u001b[38;5;241m.\u001b[39mcolor \u001b[38;5;241m=\u001b[39m \u001b[38;5;124m\"\u001b[39m\u001b[38;5;124mred\u001b[39m\u001b[38;5;124m\"\u001b[39m\n\u001b[1;32m----> 7\u001b[0m apple \u001b[38;5;241m=\u001b[39m Fruit(\u001b[38;5;124m\"\u001b[39m\u001b[38;5;124mblack\u001b[39m\u001b[38;5;124m\"\u001b[39m)\n\u001b[0;32m      8\u001b[0m \u001b[38;5;28mprint\u001b[39m(apple\u001b[38;5;241m.\u001b[39mcolor)\n",
      "\u001b[1;31mTypeError\u001b[0m: Fruit.__init__() takes 1 positional argument but 2 were given"
     ]
    }
   ],
   "source": [
    "#Create a class called Fruit. Create a variable called color using __init__ method. Create an object called apple and pass the \n",
    "#color variable as a parameter through object\n",
    "class Fruit:\n",
    "    def __init__(self):\n",
    "        self.color = \"red\"\n",
    "\n",
    "apple = Fruit(\"black\")\n",
    "print(apple.color)"
   ]
  },
  {
   "cell_type": "code",
   "execution_count": 515,
   "id": "d6b8179a",
   "metadata": {},
   "outputs": [
    {
     "name": "stdout",
     "output_type": "stream",
     "text": [
      "black\n"
     ]
    }
   ],
   "source": [
    "class Fruit:\n",
    "    def __init__(self,col):\n",
    "        self.color = col\n",
    "\n",
    "apple = Fruit(\"black\")\n",
    "print(apple.color)"
   ]
  },
  {
   "cell_type": "code",
   "execution_count": 524,
   "id": "2747d383",
   "metadata": {},
   "outputs": [
    {
     "name": "stdout",
     "output_type": "stream",
     "text": [
      "Name: abc\n",
      "Register Number: 01\n",
      "Name: xyz\n",
      "Register Number: 02\n"
     ]
    }
   ],
   "source": [
    "#Create a class called teacher. Create variables -> name and register number using constructor. \n",
    "#Create a function called display which should display the name and register number of the teacher.\n",
    "#Create t1 and t2 as objects and pass the name and register number through objects.\n",
    "class teacher:\n",
    "    def __init__(self,nam,reg):\n",
    "        self.name = nam\n",
    "        self.reg_num = reg\n",
    "    def display(self):\n",
    "        print(\"Name:\", self.name)\n",
    "        print(\"Register Number:\", self.reg_num)\n",
    "\n",
    "t1 = teacher(\"abc\",\"01\")\n",
    "t2 = teacher(\"xyz\",\"02\")\n",
    "\n",
    "t1.display()\n",
    "t2.display()"
   ]
  },
  {
   "cell_type": "code",
   "execution_count": 531,
   "id": "db500b8f",
   "metadata": {},
   "outputs": [
    {
     "name": "stdout",
     "output_type": "stream",
     "text": [
      "Addition of a and b is:  22\n",
      "Subtraction of a and b is:  7\n",
      "Multiplication of a and b is:  18\n",
      "Division of a and b is:  6.666666666666667\n"
     ]
    }
   ],
   "source": [
    "#Create a class called calculator. Create 2 variables a and b. Create functions add(),sub(),mul(),div(), all functions should \n",
    "#take 2 variables as paramater. Pass a and b value through object.\n",
    "\n",
    "class calculator:\n",
    "    def __init__(self,x,y):\n",
    "        self.a = x\n",
    "        self.b = y\n",
    "    def add(self):\n",
    "        print(\"Addition of a and b is: \", self.a + self.b)\n",
    "    def sub(self):\n",
    "        print(\"Subtraction of a and b is: \", self.a - self.b)\n",
    "    def mul(self):\n",
    "        print(\"Multiplication of a and b is: \", self.a * self.b)\n",
    "    def div(self):\n",
    "        print(\"Division of a and b is: \", self.a / self.b)\n",
    "\n",
    "c = calculator(10,12)\n",
    "c.add()\n",
    "\n",
    "d = calculator(9,2)\n",
    "d.sub()\n",
    "\n",
    "e = calculator(6,3)\n",
    "e.mul()\n",
    "\n",
    "f = calculator(20,3)\n",
    "f.div()"
   ]
  },
  {
   "cell_type": "code",
   "execution_count": 534,
   "id": "3ecbbd5d",
   "metadata": {},
   "outputs": [
    {
     "name": "stdout",
     "output_type": "stream",
     "text": [
      "Addition of a and b is:  22\n",
      "Subtraction of a and b is:  7\n",
      "Multiplication of a and b is:  18\n",
      "Division of a and b is:  6.666666666666667\n"
     ]
    }
   ],
   "source": [
    "#Alternate and simpler method\n",
    "class calculator:\n",
    "    def add(self,a,b):\n",
    "        print(\"Addition of a and b is: \", a + b)\n",
    "    def sub(self,a,b):\n",
    "        print(\"Subtraction of a and b is: \", a - b)\n",
    "    def mul(self,a,b):\n",
    "        print(\"Multiplication of a and b is: \", a * b)\n",
    "    def div(self,a,b):\n",
    "        print(\"Division of a and b is: \", a / b)\n",
    "\n",
    "c = calculator()\n",
    "c.add(10,12)\n",
    "\n",
    "d = calculator()\n",
    "d.sub(9,2)\n",
    "\n",
    "e = calculator()\n",
    "e.mul(6,3)\n",
    "\n",
    "f = calculator()\n",
    "f.div(20,3)"
   ]
  },
  {
   "cell_type": "code",
   "execution_count": 535,
   "id": "774ea9a1",
   "metadata": {},
   "outputs": [],
   "source": [
    "#Types of variables in class - instance variable and class variable"
   ]
  },
  {
   "cell_type": "code",
   "execution_count": 537,
   "id": "f7b53c51",
   "metadata": {},
   "outputs": [
    {
     "name": "stdout",
     "output_type": "stream",
     "text": [
      "Brand: Samsung\n",
      "Price: 10000\n",
      "Charger Type: B-Type\n",
      "Brand: Redmi\n",
      "Price: 5000\n",
      "Charger Type: C-Type\n"
     ]
    }
   ],
   "source": [
    "class phone:\n",
    "    def __init__(self,brand,price,chargertype):\n",
    "        self.brand = brand #self.brand is the instance variable, which are part of a constructor\n",
    "        self.price = price\n",
    "        self.chargertype = chargertype\n",
    "    def display(self):\n",
    "        print(\"Brand:\", self.brand)\n",
    "        print(\"Price:\", self.price)\n",
    "        print(\"Charger Type:\", self.chargertype)\n",
    "\n",
    "samsung = phone(\"Samsung\",\"10000\",\"B-Type\")\n",
    "samsung.display()\n",
    "\n",
    "redmi = phone(\"Redmi\",\"5000\",\"C-Type\")\n",
    "redmi.display()"
   ]
  },
  {
   "cell_type": "code",
   "execution_count": 539,
   "id": "75b1b455",
   "metadata": {},
   "outputs": [
    {
     "name": "stdout",
     "output_type": "stream",
     "text": [
      "Brand: Samsung\n",
      "Price: 10000\n",
      "Charger Type: C-Type\n",
      "Brand: Redmi\n",
      "Price: 5000\n",
      "Charger Type: C-Type\n"
     ]
    }
   ],
   "source": [
    "class phone: \n",
    "    chargertype = \"C-Type\" #chargertype is the class variable, since all phones are going to be C-Type and \n",
    "    def __init__(self,brand,price): #there's no need of creating a seperate instance variable\n",
    "        self.brand = brand \n",
    "        self.price = price\n",
    "    def display(self):\n",
    "        print(\"Brand:\", self.brand)\n",
    "        print(\"Price:\", self.price)\n",
    "        print(\"Charger Type:\", self.chargertype)\n",
    "\n",
    "samsung = phone(\"Samsung\",\"10000\")\n",
    "samsung.display()\n",
    "\n",
    "redmi = phone(\"Redmi\",\"5000\")\n",
    "redmi.display()"
   ]
  },
  {
   "cell_type": "code",
   "execution_count": 540,
   "id": "958893db",
   "metadata": {},
   "outputs": [
    {
     "name": "stdout",
     "output_type": "stream",
     "text": [
      "Brand: Samsung\n",
      "Price: 10000\n",
      "Charger Type: C-Type\n",
      "Brand: Redmi\n",
      "Price: 5000\n",
      "Charger Type: C-Type\n",
      "Brand: Google\n",
      "Price: 50000\n",
      "Charger Type: B-Type\n"
     ]
    }
   ],
   "source": [
    "class phone: \n",
    "    chargertype = \"C-Type\" #chargertype is the class variable, since all phones are going to be C-Type and \n",
    "    def __init__(self,brand,price): #there's no need of creating a seperate instance variable\n",
    "        self.brand = brand \n",
    "        self.price = price\n",
    "    def display(self):\n",
    "        print(\"Brand:\", self.brand)\n",
    "        print(\"Price:\", self.price)\n",
    "        print(\"Charger Type:\", self.chargertype)\n",
    "\n",
    "samsung = phone(\"Samsung\",\"10000\")\n",
    "samsung.display()\n",
    "\n",
    "redmi = phone(\"Redmi\",\"5000\")\n",
    "redmi.display()\n",
    "\n",
    "phone.chargertype = \"B-Type\" #changing class variable for google phone only\n",
    "\n",
    "google = phone(\"Google\",\"50000\")\n",
    "google.display()"
   ]
  },
  {
   "cell_type": "code",
   "execution_count": 541,
   "id": "0d9e56f2",
   "metadata": {},
   "outputs": [],
   "source": [
    "#Types of class methods(functions)"
   ]
  },
  {
   "cell_type": "code",
   "execution_count": 547,
   "id": "de8455b2",
   "metadata": {},
   "outputs": [
    {
     "name": "stdout",
     "output_type": "stream",
     "text": [
      "34\n"
     ]
    }
   ],
   "source": [
    "class laptop:\n",
    "    chargertype = \"C-Type\"\n",
    "    \n",
    "    def __init__(self):\n",
    "        self.brand = \"\"\n",
    "        self.price = 34\n",
    "    \n",
    "    def setPrice(self,price):\n",
    "        self.price = price\n",
    "    \n",
    "    def getPrice(self):\n",
    "        print(self.price)\n",
    "\n",
    "hp = laptop()\n",
    "hp.getPrice()"
   ]
  },
  {
   "cell_type": "code",
   "execution_count": 548,
   "id": "759b4316",
   "metadata": {},
   "outputs": [
    {
     "name": "stdout",
     "output_type": "stream",
     "text": [
      "20000\n"
     ]
    }
   ],
   "source": [
    "class laptop:\n",
    "    chargertype = \"C-Type\"\n",
    "    \n",
    "    def __init__(self):\n",
    "        self.brand = \"\"\n",
    "        self.price = 34\n",
    "    \n",
    "    def setPrice(self,price):\n",
    "        self.price = price\n",
    "    \n",
    "    def getPrice(self):\n",
    "        print(self.price)\n",
    "\n",
    "hp = laptop()\n",
    "hp.setPrice(20000)\n",
    "hp.getPrice()"
   ]
  },
  {
   "cell_type": "code",
   "execution_count": 551,
   "id": "75aef410",
   "metadata": {},
   "outputs": [
    {
     "name": "stdout",
     "output_type": "stream",
     "text": [
      "20000\n"
     ]
    },
    {
     "ename": "TypeError",
     "evalue": "laptop.changeChargerType() missing 1 required positional argument: 'cls'",
     "output_type": "error",
     "traceback": [
      "\u001b[1;31m---------------------------------------------------------------------------\u001b[0m",
      "\u001b[1;31mTypeError\u001b[0m                                 Traceback (most recent call last)",
      "Cell \u001b[1;32mIn[551], line 22\u001b[0m\n\u001b[0;32m     19\u001b[0m hp\u001b[38;5;241m.\u001b[39msetPrice(\u001b[38;5;241m20000\u001b[39m)\n\u001b[0;32m     20\u001b[0m hp\u001b[38;5;241m.\u001b[39mgetPrice()\n\u001b[1;32m---> 22\u001b[0m laptop\u001b[38;5;241m.\u001b[39mchangeChargerType()\n",
      "\u001b[1;31mTypeError\u001b[0m: laptop.changeChargerType() missing 1 required positional argument: 'cls'"
     ]
    }
   ],
   "source": [
    "class laptop:\n",
    "    chargertype = \"C-Type\"\n",
    "    \n",
    "    def __init__(self):\n",
    "        self.brand = \"\"\n",
    "        self.price = 34\n",
    "    \n",
    "    def setPrice(self,price):\n",
    "        self.price = price\n",
    "    \n",
    "    def getPrice(self):\n",
    "        print(self.price)\n",
    "           \n",
    "    def changeChargerType(cls):\n",
    "        cls.chargertype = \"B-Type\"\n",
    "        print(\"Charger Type changed to B\")\n",
    "\n",
    "hp = laptop()\n",
    "hp.setPrice(20000)\n",
    "hp.getPrice()\n",
    "\n",
    "laptop.changeChargerType()"
   ]
  },
  {
   "cell_type": "code",
   "execution_count": 552,
   "id": "c7352d8b",
   "metadata": {},
   "outputs": [
    {
     "name": "stdout",
     "output_type": "stream",
     "text": [
      "20000\n",
      "Charger Type changed to B\n"
     ]
    }
   ],
   "source": [
    "class laptop:\n",
    "    chargertype = \"C-Type\"\n",
    "    \n",
    "    def __init__(self):\n",
    "        self.brand = \"\"\n",
    "        self.price = 34\n",
    "    \n",
    "    def setPrice(self,price):\n",
    "        self.price = price\n",
    "    \n",
    "    def getPrice(self):\n",
    "        print(self.price)\n",
    "        \n",
    "        \n",
    "    @classmethod    #using decorator\n",
    "    def changeChargerType(cls):\n",
    "        cls.chargertype = \"B-Type\"\n",
    "        print(\"Charger Type changed to B\")\n",
    "\n",
    "hp = laptop()\n",
    "hp.setPrice(20000)\n",
    "hp.getPrice()\n",
    "\n",
    "laptop.changeChargerType()"
   ]
  },
  {
   "cell_type": "code",
   "execution_count": 555,
   "id": "815de4c4",
   "metadata": {},
   "outputs": [
    {
     "name": "stdout",
     "output_type": "stream",
     "text": [
      "20000\n",
      "Charger Type changed to B\n",
      "This is laptop class\n"
     ]
    }
   ],
   "source": [
    "class laptop:\n",
    "    chargertype = \"C-Type\"\n",
    "    \n",
    "    def __init__(self):\n",
    "        self.brand = \"\"\n",
    "        self.price = 34\n",
    "    \n",
    "    def setPrice(self,price):\n",
    "        self.price = price\n",
    "    \n",
    "    def getPrice(self): #uses instance method\n",
    "        print(self.price)\n",
    "        \n",
    "        \n",
    "    @classmethod    #uses class method as a decorator\n",
    "    def changeChargerType(cls):\n",
    "        cls.chargertype = \"B-Type\"\n",
    "        print(\"Charger Type changed to B\")\n",
    "\n",
    "    @staticmethod    #uses static method as a decorator\n",
    "    def info():\n",
    "        print(\"This is laptop class\")\n",
    "        \n",
    "hp = laptop()\n",
    "hp.setPrice(20000)\n",
    "hp.getPrice()\n",
    "\n",
    "laptop.changeChargerType()\n",
    "hp.info()"
   ]
  },
  {
   "cell_type": "code",
   "execution_count": null,
   "id": "8a7a9ed0",
   "metadata": {},
   "outputs": [],
   "source": [
    "#Inheritance and its types"
   ]
  },
  {
   "cell_type": "code",
   "execution_count": 556,
   "id": "b21d712a",
   "metadata": {},
   "outputs": [],
   "source": [
    "#Inheritance -> if all the components in one class can be used by another class\n",
    "\n",
    "#Types of inheritance: single, multiple, multi-level, hierarchical, hybrid(combination of other types)"
   ]
  },
  {
   "cell_type": "code",
   "execution_count": 558,
   "id": "6ed4e8eb",
   "metadata": {},
   "outputs": [
    {
     "name": "stdout",
     "output_type": "stream",
     "text": [
      "Son's Laptop\n"
     ]
    },
    {
     "ename": "AttributeError",
     "evalue": "'son' object has no attribute 'phone'",
     "output_type": "error",
     "traceback": [
      "\u001b[1;31m---------------------------------------------------------------------------\u001b[0m",
      "\u001b[1;31mAttributeError\u001b[0m                            Traceback (most recent call last)",
      "Cell \u001b[1;32mIn[558], line 12\u001b[0m\n\u001b[0;32m      9\u001b[0m ram \u001b[38;5;241m=\u001b[39m son()\n\u001b[0;32m     10\u001b[0m ram\u001b[38;5;241m.\u001b[39mlaptop()\n\u001b[1;32m---> 12\u001b[0m ram\u001b[38;5;241m.\u001b[39mphone()\n",
      "\u001b[1;31mAttributeError\u001b[0m: 'son' object has no attribute 'phone'"
     ]
    }
   ],
   "source": [
    "class dad:\n",
    "    def phone(self):\n",
    "        print(\"Dad's Phone\")\n",
    "\n",
    "class son:\n",
    "    def laptop(self):\n",
    "        print(\"Son's Laptop\")\n",
    "\n",
    "ram = son()\n",
    "ram.laptop()\n",
    "ram.phone()"
   ]
  },
  {
   "cell_type": "code",
   "execution_count": 562,
   "id": "f5b0246e",
   "metadata": {},
   "outputs": [
    {
     "name": "stdout",
     "output_type": "stream",
     "text": [
      "Son's Laptop\n",
      "Dad's Phone\n"
     ]
    }
   ],
   "source": [
    "class dad():\n",
    "    def phone(self):\n",
    "        print(\"Dad's Phone\")\n",
    "\n",
    "class son(dad): #single inheritance\n",
    "    def laptop(self):\n",
    "        print(\"Son's Laptop\")\n",
    "\n",
    "ram = son()\n",
    "ram.laptop()\n",
    "ram.phone()"
   ]
  },
  {
   "cell_type": "code",
   "execution_count": 563,
   "id": "4f7d2152",
   "metadata": {},
   "outputs": [
    {
     "name": "stdout",
     "output_type": "stream",
     "text": [
      "Dad's Phone\n"
     ]
    },
    {
     "ename": "AttributeError",
     "evalue": "'son' object has no attribute 'sweet'",
     "output_type": "error",
     "traceback": [
      "\u001b[1;31m---------------------------------------------------------------------------\u001b[0m",
      "\u001b[1;31mAttributeError\u001b[0m                            Traceback (most recent call last)",
      "Cell \u001b[1;32mIn[563], line 15\u001b[0m\n\u001b[0;32m     13\u001b[0m ram \u001b[38;5;241m=\u001b[39m son()\n\u001b[0;32m     14\u001b[0m ram\u001b[38;5;241m.\u001b[39mphone()\n\u001b[1;32m---> 15\u001b[0m ram\u001b[38;5;241m.\u001b[39msweet()\n",
      "\u001b[1;31mAttributeError\u001b[0m: 'son' object has no attribute 'sweet'"
     ]
    }
   ],
   "source": [
    "class dad():\n",
    "    def phone(self):\n",
    "        print(\"Dad's Phone\")\n",
    "\n",
    "class mom():\n",
    "    def sweet(self):\n",
    "        print(\"Mom's sweet\")\n",
    "\n",
    "class son(dad):\n",
    "    def laptop(self):\n",
    "        print(\"Son's Laptop\")\n",
    "\n",
    "ram = son()\n",
    "ram.phone()\n",
    "ram.sweet()"
   ]
  },
  {
   "cell_type": "code",
   "execution_count": 564,
   "id": "8d84c649",
   "metadata": {},
   "outputs": [
    {
     "name": "stdout",
     "output_type": "stream",
     "text": [
      "Dad's Phone\n",
      "Mom's sweet\n"
     ]
    }
   ],
   "source": [
    "class dad():\n",
    "    def phone(self):\n",
    "        print(\"Dad's Phone\")\n",
    "\n",
    "class mom():\n",
    "    def sweet(self):\n",
    "        print(\"Mom's sweet\")\n",
    "\n",
    "class son(dad,mom): #multiple inheritance since son can inherit dad and mom's functions\n",
    "    def laptop(self):\n",
    "        print(\"Son's Laptop\")\n",
    "\n",
    "ram = son()\n",
    "ram.phone()\n",
    "ram.sweet()"
   ]
  },
  {
   "cell_type": "code",
   "execution_count": 570,
   "id": "4d390422",
   "metadata": {},
   "outputs": [
    {
     "name": "stdout",
     "output_type": "stream",
     "text": [
      "Sons laptop\n",
      "Dad's Money\n",
      "grandpa phone\n",
      "grandpa phone\n"
     ]
    }
   ],
   "source": [
    "class grandpa:\n",
    "    def phone(self):\n",
    "        print(\"grandpa phone\")\n",
    "\n",
    "class dad(grandpa):#multi-level inheritance, son inherits dad's money, dad inherits grandpa phone\n",
    "    def money(self):\n",
    "        print(\"Dad's Money\")\n",
    "\n",
    "class son(dad):\n",
    "    def laptop(self):\n",
    "        print(\"Sons laptop\")\n",
    "\n",
    "ram = son()\n",
    "ram.laptop()\n",
    "ram.money()\n",
    "\n",
    "d1 = dad()\n",
    "d1.phone()\n",
    "\n",
    "ram.phone()"
   ]
  },
  {
   "cell_type": "code",
   "execution_count": 572,
   "id": "78c1781d",
   "metadata": {},
   "outputs": [
    {
     "name": "stdout",
     "output_type": "stream",
     "text": [
      "dad's money\n"
     ]
    }
   ],
   "source": [
    "class dad():\n",
    "    def money(self):\n",
    "        print(\"dad's money\")\n",
    "\n",
    "class land():\n",
    "    def importance(self):\n",
    "        print(\"important land\")\n",
    "        \n",
    "class son1(dad,land): #heirarchical inheritance\n",
    "    pass #empty class is created\n",
    "    \n",
    "class son2(dad):\n",
    "    pass\n",
    "\n",
    "class son3(dad):\n",
    "    pass\n",
    "\n",
    "s2 = son2()\n",
    "s2.money()\n"
   ]
  },
  {
   "cell_type": "code",
   "execution_count": 573,
   "id": "ff8cc276",
   "metadata": {},
   "outputs": [],
   "source": [
    "#Super keyword in Python"
   ]
  },
  {
   "cell_type": "code",
   "execution_count": 579,
   "id": "9c486567",
   "metadata": {},
   "outputs": [
    {
     "name": "stdout",
     "output_type": "stream",
     "text": [
      "A\n",
      "B\n"
     ]
    }
   ],
   "source": [
    "class a():\n",
    "    def __init__(self):\n",
    "        print(\"A\")\n",
    "        \n",
    "    def display(self):\n",
    "        print(\"you are in class a\")\n",
    "\n",
    "class b():\n",
    "    def __init__(self):\n",
    "        print(\"B\")\n",
    "        \n",
    "    def display(self):\n",
    "        print(\"you are in class b\")\n",
    "\n",
    "ob1 = a()\n",
    "ob2 = b()"
   ]
  },
  {
   "cell_type": "code",
   "execution_count": 585,
   "id": "311861ed",
   "metadata": {},
   "outputs": [
    {
     "name": "stdout",
     "output_type": "stream",
     "text": [
      "A\n"
     ]
    }
   ],
   "source": [
    "class a():\n",
    "    def __init__(self):\n",
    "        print(\"A\")\n",
    "        \n",
    "    def display(self):\n",
    "        print(\"you are in class a\")\n",
    "\n",
    "class b(a):\n",
    "        \n",
    "    def display(self):\n",
    "        print(\"you are in class b\")\n",
    "\n",
    "ob2 = b()"
   ]
  },
  {
   "cell_type": "code",
   "execution_count": 586,
   "id": "0131bdce",
   "metadata": {},
   "outputs": [
    {
     "name": "stdout",
     "output_type": "stream",
     "text": [
      "A\n",
      "B\n"
     ]
    }
   ],
   "source": [
    "class a():\n",
    "    def __init__(self):\n",
    "        print(\"A\")\n",
    "        \n",
    "    def display(self):\n",
    "        print(\"you are in class a\")\n",
    "\n",
    "class b(a):\n",
    "    def __init__(self):\n",
    "        super().__init__() #can access everything in parent class\n",
    "        print(\"B\")\n",
    "        \n",
    "    def display(self):\n",
    "        print(\"you are in class b\")\n",
    "\n",
    "ob2 = b()"
   ]
  },
  {
   "cell_type": "code",
   "execution_count": 587,
   "id": "c0adfb81",
   "metadata": {},
   "outputs": [],
   "source": [
    "#super is used for calling all objects of a parent class"
   ]
  },
  {
   "cell_type": "code",
   "execution_count": 589,
   "id": "21b52b58",
   "metadata": {},
   "outputs": [
    {
     "name": "stdout",
     "output_type": "stream",
     "text": [
      "C\n"
     ]
    }
   ],
   "source": [
    "class a():\n",
    "    def __init__(self):\n",
    "        print(\"A\")\n",
    "        \n",
    "    def display(self):\n",
    "        print(\"you are in class a\")\n",
    "\n",
    "class b(a):\n",
    "    def __init__(self):\n",
    "        super().__init__() #can access everything in parent class\n",
    "        print(\"B\")\n",
    "        \n",
    "    def display(self):\n",
    "        print(\"you are in class b\")\n",
    "\n",
    "class c():\n",
    "    def __init__(self):\n",
    "        print(\"C\")\n",
    "        \n",
    "    def display(self):\n",
    "        print(\"you are in class c\")    \n",
    "    \n",
    "ob3 = c()"
   ]
  },
  {
   "cell_type": "code",
   "execution_count": 592,
   "id": "c2780cc7",
   "metadata": {},
   "outputs": [
    {
     "name": "stdout",
     "output_type": "stream",
     "text": [
      "A\n",
      "C\n"
     ]
    }
   ],
   "source": [
    "class a():\n",
    "    def __init__(self):\n",
    "        print(\"A\")\n",
    "        \n",
    "    def display(self):\n",
    "        print(\"you are in class a\")\n",
    "\n",
    "class b():\n",
    "    def __init__(self):\n",
    "        super().__init__()\n",
    "        print(\"B\")\n",
    "        \n",
    "    def display(self):\n",
    "        print(\"you are in class b\")\n",
    "\n",
    "class c(a,b): #for multiple inheritance, only the 1st class in parentheses can be called\n",
    "    def __init__(self):\n",
    "        super().__init__()\n",
    "        print(\"C\")\n",
    "        \n",
    "    def display(self):\n",
    "        print(\"you are in class c\")    \n",
    "    \n",
    "ob3 = c()"
   ]
  },
  {
   "cell_type": "code",
   "execution_count": 593,
   "id": "48bb8129",
   "metadata": {},
   "outputs": [
    {
     "name": "stdout",
     "output_type": "stream",
     "text": [
      "A\n",
      "B\n",
      "C\n"
     ]
    }
   ],
   "source": [
    "class a():\n",
    "    def __init__(self):\n",
    "        print(\"A\")\n",
    "        \n",
    "    def display(self):\n",
    "        print(\"you are in class a\")\n",
    "\n",
    "class b():\n",
    "    def __init__(self):\n",
    "        super().__init__()\n",
    "        print(\"B\")\n",
    "        \n",
    "    def display(self):\n",
    "        print(\"you are in class b\")\n",
    "\n",
    "class c(b,a):\n",
    "    def __init__(self):\n",
    "        super().__init__()\n",
    "        print(\"C\")\n",
    "        \n",
    "    def display(self):\n",
    "        print(\"you are in class c\")    \n",
    "    \n",
    "ob3 = c()"
   ]
  },
  {
   "cell_type": "code",
   "execution_count": 594,
   "id": "d48db5ee",
   "metadata": {},
   "outputs": [],
   "source": [
    "#Polymorphism"
   ]
  },
  {
   "cell_type": "code",
   "execution_count": 596,
   "id": "d272b7b4",
   "metadata": {},
   "outputs": [
    {
     "name": "stdout",
     "output_type": "stream",
     "text": [
      "adddd\n"
     ]
    }
   ],
   "source": [
    "def add():\n",
    "    print(\"adddd\")\n",
    "add()"
   ]
  },
  {
   "cell_type": "code",
   "execution_count": 597,
   "id": "4c4e205a",
   "metadata": {},
   "outputs": [
    {
     "ename": "TypeError",
     "evalue": "add() missing 2 required positional arguments: 'a' and 'b'",
     "output_type": "error",
     "traceback": [
      "\u001b[1;31m---------------------------------------------------------------------------\u001b[0m",
      "\u001b[1;31mTypeError\u001b[0m                                 Traceback (most recent call last)",
      "Cell \u001b[1;32mIn[597], line 3\u001b[0m\n\u001b[0;32m      1\u001b[0m \u001b[38;5;28;01mdef\u001b[39;00m \u001b[38;5;21madd\u001b[39m(a,b):\n\u001b[0;32m      2\u001b[0m     \u001b[38;5;28mprint\u001b[39m(a\u001b[38;5;241m+\u001b[39mb)\n\u001b[1;32m----> 3\u001b[0m add()\n",
      "\u001b[1;31mTypeError\u001b[0m: add() missing 2 required positional arguments: 'a' and 'b'"
     ]
    }
   ],
   "source": [
    "def add(a,b):\n",
    "    print(a+b)\n",
    "add()"
   ]
  },
  {
   "cell_type": "code",
   "execution_count": 600,
   "id": "81deed97",
   "metadata": {},
   "outputs": [
    {
     "ename": "TypeError",
     "evalue": "add() missing 1 required positional argument: 'c'",
     "output_type": "error",
     "traceback": [
      "\u001b[1;31m---------------------------------------------------------------------------\u001b[0m",
      "\u001b[1;31mTypeError\u001b[0m                                 Traceback (most recent call last)",
      "Cell \u001b[1;32mIn[600], line 3\u001b[0m\n\u001b[0;32m      1\u001b[0m \u001b[38;5;28;01mdef\u001b[39;00m \u001b[38;5;21madd\u001b[39m(a,b,c):\n\u001b[0;32m      2\u001b[0m     \u001b[38;5;28mprint\u001b[39m(a\u001b[38;5;241m+\u001b[39mb\u001b[38;5;241m-\u001b[39mc)\n\u001b[1;32m----> 3\u001b[0m add(\u001b[38;5;241m10\u001b[39m,\u001b[38;5;241m20\u001b[39m)\n",
      "\u001b[1;31mTypeError\u001b[0m: add() missing 1 required positional argument: 'c'"
     ]
    }
   ],
   "source": [
    "def add(a,b,c):\n",
    "    print(a+b-c)\n",
    "add(10,20)"
   ]
  },
  {
   "cell_type": "code",
   "execution_count": 601,
   "id": "af980975",
   "metadata": {},
   "outputs": [
    {
     "name": "stdout",
     "output_type": "stream",
     "text": [
      "30\n"
     ]
    }
   ],
   "source": [
    "def add(a,b,c=0):\n",
    "    print(a+b-c)\n",
    "add(10,20)"
   ]
  },
  {
   "cell_type": "code",
   "execution_count": 603,
   "id": "a98f745d",
   "metadata": {},
   "outputs": [
    {
     "name": "stdout",
     "output_type": "stream",
     "text": [
      "50\n"
     ]
    }
   ],
   "source": [
    "def add(a=10):\n",
    "    print(a)\n",
    "add(50)"
   ]
  },
  {
   "cell_type": "code",
   "execution_count": 605,
   "id": "5d55e809",
   "metadata": {},
   "outputs": [
    {
     "name": "stdout",
     "output_type": "stream",
     "text": [
      "3\n",
      "-1\n"
     ]
    }
   ],
   "source": [
    "def add(a,b,c=0):\n",
    "    print(a+b-c)\n",
    "add(1,2)\n",
    "add(1,2,4) #c=3 instead of c=0, hence 1+2-4 = -1"
   ]
  },
  {
   "cell_type": "code",
   "execution_count": 606,
   "id": "f4b6effb",
   "metadata": {},
   "outputs": [],
   "source": [
    "#The word polymorphism means having many forms. In programming, polymorphism means the same function name \n",
    "#(but different signatures) being used for differenct types. The key difference is the data types and number of arguments\n",
    "#used in function.\n",
    "#poly - multiple, morph - change into different form"
   ]
  },
  {
   "cell_type": "code",
   "execution_count": 611,
   "id": "60c9c2e8",
   "metadata": {},
   "outputs": [
    {
     "name": "stdout",
     "output_type": "stream",
     "text": [
      "Animal makes a sound.\n",
      "Dog barks.\n",
      "Birds Sing.\n"
     ]
    }
   ],
   "source": [
    "#Create a class called Animal with a method sound() that prints \"Animal makes a sound.\"\n",
    "#Create a derived class called Dog that inherits from Animal and overrides the sound() method to print \"Dog barks\".\n",
    "#Create another derived class called Bird that inherits from Animal and overrides the sound() method to print \"Birds Sing\".\n",
    "\n",
    "class Animal():\n",
    "    def sound(self):\n",
    "        print(\"Animal makes a sound.\")\n",
    "    \n",
    "class Dog(Animal): \n",
    "    def sound(self): #method overriding\n",
    "        print(\"Dog barks.\")\n",
    "    \n",
    "class Bird(Animal):\n",
    "    def sound(self): #method overriding\n",
    "        print(\"Birds Sing.\")\n",
    "        \n",
    "a1 = Animal()\n",
    "a1.sound()\n",
    "\n",
    "d1 = Dog()\n",
    "d1.sound()\n",
    "\n",
    "b1 = Bird()\n",
    "b1.sound()"
   ]
  },
  {
   "cell_type": "code",
   "execution_count": 614,
   "id": "0e29cbea",
   "metadata": {},
   "outputs": [
    {
     "name": "stdout",
     "output_type": "stream",
     "text": [
      "200\n"
     ]
    }
   ],
   "source": [
    "#Create a base class called Shape with a method area() that returns 0. Create a derived class called Rectangle that inherits\n",
    "#from Shape and overrides the area() method to calculate and return the area of a rectangle.\n",
    "\n",
    "class Shape():\n",
    "    def area(self):\n",
    "        return 0\n",
    "\n",
    "class Rectangle(Shape):\n",
    "    def area(self):\n",
    "        l = 10\n",
    "        b = 20\n",
    "        print(l * b)\n",
    "    \n",
    "s1 = Shape()\n",
    "s1.area()\n",
    "\n",
    "r1 = Rectangle()\n",
    "r1.area()"
   ]
  },
  {
   "cell_type": "code",
   "execution_count": 625,
   "id": "3116ca5a",
   "metadata": {},
   "outputs": [
    {
     "name": "stdout",
     "output_type": "stream",
     "text": [
      "John A\n"
     ]
    }
   ],
   "source": [
    "#Create a base class called Person with a constructor that takes name as a parameter. Create a derived class called Student that\n",
    "#inherits from Person and has a constructor that takes a parameter called grade. Write a method in Student to display the name \n",
    "#and grade of the student. Use Super keyword to achieve this.\n",
    "\n",
    "class Person():\n",
    "    def __init__(self,name):\n",
    "        self.name = name\n",
    "\n",
    "class Student(Person):\n",
    "    def __init__(self,name,grade):\n",
    "        super().__init__(name)\n",
    "        self.grade = grade\n",
    "        \n",
    "    def display(self):\n",
    "        print(self.name, self.grade)\n",
    "\n",
    "s1 = Student(\"John\",\"A\")\n",
    "\n",
    "s1.display()"
   ]
  },
  {
   "cell_type": "code",
   "execution_count": 628,
   "id": "e24f4b9b",
   "metadata": {},
   "outputs": [
    {
     "name": "stdout",
     "output_type": "stream",
     "text": [
      "Vehicle started\n",
      "Car started\n"
     ]
    }
   ],
   "source": [
    "#Create a base class called Vehicle with a method start() that prints \"Vehicle started\". Create a derived class called Car that\n",
    "#inherits from Vehicle and overrides the start() method to print \"Car started\".\n",
    "\n",
    "class Vehicle():\n",
    "    def start(self):\n",
    "        print(\"Vehicle started\")\n",
    "\n",
    "class Car(Vehicle):\n",
    "    def start(self):\n",
    "        print(\"Car started\")\n",
    "\n",
    "v1 = Vehicle()\n",
    "v1.start()\n",
    "\n",
    "c1 = Car()\n",
    "c1.start()"
   ]
  },
  {
   "cell_type": "code",
   "execution_count": 649,
   "id": "42229f53",
   "metadata": {},
   "outputs": [
    {
     "name": "stdout",
     "output_type": "stream",
     "text": [
      "dc 40000 dc\n"
     ]
    }
   ],
   "source": [
    "#Create a base class called Employee with properties name and salary. Create a derived class called Manager that inherits from\n",
    "#Employee and adds a property department. Write a method in Manager to display the name, salary and department of the manager.\n",
    "\n",
    "class Employee():\n",
    "    def __init__(self,name,salary):\n",
    "        self.name = name\n",
    "        self.salary = salary\n",
    "\n",
    "class Manager(Employee):\n",
    "    def __init__(self,name,salary,department):\n",
    "        super().__init__(name,salary)\n",
    "        self.department = department\n",
    "    \n",
    "    def display(self):\n",
    "        print(self.name, self.salary, self.department)\n",
    "        \n",
    "m1 = Manager(\"dc\",\"40000\",\"dc\")\n",
    "m1.display()"
   ]
  },
  {
   "cell_type": "code",
   "execution_count": 645,
   "id": "50714af8",
   "metadata": {},
   "outputs": [],
   "source": [
    "#Encapsulation & Access modifiers"
   ]
  },
  {
   "cell_type": "code",
   "execution_count": 650,
   "id": "705dba5f",
   "metadata": {},
   "outputs": [
    {
     "name": "stdout",
     "output_type": "stream",
     "text": [
      "Apple\n"
     ]
    }
   ],
   "source": [
    "class company():\n",
    "    def __init__(self):\n",
    "        self.companyName = \"Google\"\n",
    "\n",
    "c1 = company()\n",
    "c1.companyName = \"Apple\"\n",
    "print(c1.companyName)"
   ]
  },
  {
   "cell_type": "code",
   "execution_count": 658,
   "id": "dbd28701",
   "metadata": {},
   "outputs": [
    {
     "ename": "AttributeError",
     "evalue": "'company' object has no attribute '_companyName'",
     "output_type": "error",
     "traceback": [
      "\u001b[1;31m---------------------------------------------------------------------------\u001b[0m",
      "\u001b[1;31mAttributeError\u001b[0m                            Traceback (most recent call last)",
      "Cell \u001b[1;32mIn[658], line 10\u001b[0m\n\u001b[0;32m      8\u001b[0m c1 \u001b[38;5;241m=\u001b[39m company()\n\u001b[0;32m      9\u001b[0m \u001b[38;5;66;03m#c1.companyName()\u001b[39;00m\n\u001b[1;32m---> 10\u001b[0m \u001b[38;5;28mprint\u001b[39m(c1\u001b[38;5;241m.\u001b[39m_companyName)\n",
      "\u001b[1;31mAttributeError\u001b[0m: 'company' object has no attribute '_companyName'"
     ]
    }
   ],
   "source": [
    "class company():\n",
    "    def __init__(self):\n",
    "        self.__companyName = \"Google\" #converted to private variable, can only be accessed by method(companyName) within class\n",
    "\n",
    "    def companyName(self):\n",
    "        print(self._companyName)\n",
    "        \n",
    "c1 = company()\n",
    "c1.companyName()\n",
    "print(c1._companyName)"
   ]
  },
  {
   "cell_type": "code",
   "execution_count": 662,
   "id": "701083cb",
   "metadata": {},
   "outputs": [
    {
     "name": "stdout",
     "output_type": "stream",
     "text": [
      "Google\n",
      "Google\n"
     ]
    }
   ],
   "source": [
    "class company():\n",
    "    def __init__(self):\n",
    "        self._companyName = \"Google\" #converted to private variable, can only be accessed by method within class or child class\n",
    "\n",
    "class b(company):\n",
    "    pass\n",
    "\n",
    "b1 = b()\n",
    "print(b1._companyName)"
   ]
  },
  {
   "cell_type": "code",
   "execution_count": null,
   "id": "4e8f8954",
   "metadata": {},
   "outputs": [],
   "source": [
    "#Encapsulation -> hiding variables/functions to restrict access and hide data"
   ]
  },
  {
   "cell_type": "code",
   "execution_count": 663,
   "id": "4cb66b16",
   "metadata": {},
   "outputs": [],
   "source": []
  },
  {
   "cell_type": "code",
   "execution_count": 664,
   "id": "b7d16800",
   "metadata": {},
   "outputs": [],
   "source": [
    "#Types of errors -> Compile time error, logical error, runtime error"
   ]
  },
  {
   "cell_type": "code",
   "execution_count": 666,
   "id": "1aa8150f",
   "metadata": {},
   "outputs": [
    {
     "name": "stdout",
     "output_type": "stream",
     "text": [
      "Hi\n",
      "Bye\n"
     ]
    },
    {
     "ename": "NameError",
     "evalue": "name 'printt' is not defined",
     "output_type": "error",
     "traceback": [
      "\u001b[1;31m---------------------------------------------------------------------------\u001b[0m",
      "\u001b[1;31mNameError\u001b[0m                                 Traceback (most recent call last)",
      "Cell \u001b[1;32mIn[666], line 3\u001b[0m\n\u001b[0;32m      1\u001b[0m \u001b[38;5;28mprint\u001b[39m(\u001b[38;5;124m\"\u001b[39m\u001b[38;5;124mHi\u001b[39m\u001b[38;5;124m\"\u001b[39m)\n\u001b[0;32m      2\u001b[0m \u001b[38;5;28mprint\u001b[39m(\u001b[38;5;124m\"\u001b[39m\u001b[38;5;124mBye\u001b[39m\u001b[38;5;124m\"\u001b[39m)\n\u001b[1;32m----> 3\u001b[0m printt(\u001b[38;5;124m\"\u001b[39m\u001b[38;5;124mHey\u001b[39m\u001b[38;5;124m\"\u001b[39m)\n",
      "\u001b[1;31mNameError\u001b[0m: name 'printt' is not defined"
     ]
    }
   ],
   "source": [
    "print(\"Hi\")\n",
    "print(\"Bye\")\n",
    "printt(\"Hey\") #name error, this is a compile time error since it occurs during compilation"
   ]
  },
  {
   "cell_type": "code",
   "execution_count": 667,
   "id": "d15c53d1",
   "metadata": {},
   "outputs": [
    {
     "name": "stdout",
     "output_type": "stream",
     "text": [
      "20\n"
     ]
    }
   ],
   "source": [
    "a = 10\n",
    "b = 20\n",
    "print(a+a) #logical error"
   ]
  },
  {
   "cell_type": "code",
   "execution_count": 668,
   "id": "50702a86",
   "metadata": {},
   "outputs": [
    {
     "name": "stdout",
     "output_type": "stream",
     "text": [
      "10\n",
      "hi\n"
     ]
    },
    {
     "ename": "ValueError",
     "evalue": "invalid literal for int() with base 10: 'hi'",
     "output_type": "error",
     "traceback": [
      "\u001b[1;31m---------------------------------------------------------------------------\u001b[0m",
      "\u001b[1;31mValueError\u001b[0m                                Traceback (most recent call last)",
      "Cell \u001b[1;32mIn[668], line 2\u001b[0m\n\u001b[0;32m      1\u001b[0m a \u001b[38;5;241m=\u001b[39m \u001b[38;5;28mint\u001b[39m(\u001b[38;5;28minput\u001b[39m())\n\u001b[1;32m----> 2\u001b[0m b \u001b[38;5;241m=\u001b[39m \u001b[38;5;28mint\u001b[39m(\u001b[38;5;28minput\u001b[39m())\n\u001b[0;32m      3\u001b[0m \u001b[38;5;28mprint\u001b[39m(a\u001b[38;5;241m+\u001b[39mb)\n",
      "\u001b[1;31mValueError\u001b[0m: invalid literal for int() with base 10: 'hi'"
     ]
    }
   ],
   "source": [
    "a = int(input())\n",
    "b = int(input())\n",
    "print(a+b) #during output, entering wrong datatype; this is called runtime error"
   ]
  },
  {
   "cell_type": "code",
   "execution_count": 669,
   "id": "7272b8a0",
   "metadata": {},
   "outputs": [],
   "source": [
    "#Exception(Error) Handling -> to avoid error, we go for exception handling"
   ]
  },
  {
   "cell_type": "code",
   "execution_count": 670,
   "id": "961f736d",
   "metadata": {},
   "outputs": [
    {
     "name": "stdout",
     "output_type": "stream",
     "text": [
      "10\n",
      "20\n",
      "30\n"
     ]
    }
   ],
   "source": [
    "try:\n",
    "    a = int(input())\n",
    "    b = int(input())\n",
    "    print(a+b)\n",
    "except Exception:\n",
    "    print(\"Something\")"
   ]
  },
  {
   "cell_type": "code",
   "execution_count": 671,
   "id": "57814e0e",
   "metadata": {},
   "outputs": [
    {
     "name": "stdout",
     "output_type": "stream",
     "text": [
      "10\n",
      "hi\n",
      "Something\n"
     ]
    }
   ],
   "source": [
    "try:\n",
    "    a = int(input())\n",
    "    b = int(input())\n",
    "    print(a+b)\n",
    "except Exception:\n",
    "    print(\"Something\")"
   ]
  },
  {
   "cell_type": "code",
   "execution_count": 672,
   "id": "901d2564",
   "metadata": {},
   "outputs": [
    {
     "name": "stdout",
     "output_type": "stream",
     "text": [
      "10\n",
      "hi\n",
      "Something invalid literal for int() with base 10: 'hi'\n"
     ]
    }
   ],
   "source": [
    "try:\n",
    "    a = int(input())\n",
    "    b = int(input())\n",
    "    print(a+b)\n",
    "except Exception as e:\n",
    "    print(\"Something\", e)"
   ]
  },
  {
   "cell_type": "code",
   "execution_count": 674,
   "id": "5392549c",
   "metadata": {},
   "outputs": [
    {
     "name": "stdout",
     "output_type": "stream",
     "text": [
      "hi\n",
      "bye\n",
      "Something unsupported operand type(s) for /: 'str' and 'str'\n"
     ]
    }
   ],
   "source": [
    "try:\n",
    "    a = input()\n",
    "    b = input()\n",
    "    print(a/b)\n",
    "except Exception as e:\n",
    "    print(\"Something\",e)"
   ]
  },
  {
   "cell_type": "code",
   "execution_count": 675,
   "id": "895b3ea8",
   "metadata": {},
   "outputs": [
    {
     "name": "stdout",
     "output_type": "stream",
     "text": [
      "hi\n"
     ]
    },
    {
     "ename": "ValueError",
     "evalue": "invalid literal for int() with base 10: 'hi'",
     "output_type": "error",
     "traceback": [
      "\u001b[1;31m---------------------------------------------------------------------------\u001b[0m",
      "\u001b[1;31mValueError\u001b[0m                                Traceback (most recent call last)",
      "Cell \u001b[1;32mIn[675], line 1\u001b[0m\n\u001b[1;32m----> 1\u001b[0m a \u001b[38;5;241m=\u001b[39m \u001b[38;5;28mint\u001b[39m(\u001b[38;5;28minput\u001b[39m())\n",
      "\u001b[1;31mValueError\u001b[0m: invalid literal for int() with base 10: 'hi'"
     ]
    }
   ],
   "source": [
    "a = int(input())\n"
   ]
  },
  {
   "cell_type": "code",
   "execution_count": 676,
   "id": "f6669bf6",
   "metadata": {},
   "outputs": [
    {
     "name": "stdout",
     "output_type": "stream",
     "text": [
      "hi\n",
      "Value Error invalid literal for int() with base 10: 'hi'\n"
     ]
    }
   ],
   "source": [
    "try:\n",
    "    a = int(input())\n",
    "except ValueError as e:\n",
    "    print(\"Value Error\", e)"
   ]
  },
  {
   "cell_type": "code",
   "execution_count": 677,
   "id": "15bbc5c0",
   "metadata": {},
   "outputs": [
    {
     "name": "stdout",
     "output_type": "stream",
     "text": [
      "10\n",
      "20\n",
      "hi\n"
     ]
    },
    {
     "ename": "TypeError",
     "evalue": "unsupported operand type(s) for /: 'str' and 'int'",
     "output_type": "error",
     "traceback": [
      "\u001b[1;31m---------------------------------------------------------------------------\u001b[0m",
      "\u001b[1;31mTypeError\u001b[0m                                 Traceback (most recent call last)",
      "Cell \u001b[1;32mIn[677], line 5\u001b[0m\n\u001b[0;32m      3\u001b[0m     b \u001b[38;5;241m=\u001b[39m \u001b[38;5;28mint\u001b[39m(\u001b[38;5;28minput\u001b[39m())\n\u001b[0;32m      4\u001b[0m     c \u001b[38;5;241m=\u001b[39m \u001b[38;5;28minput\u001b[39m()\n\u001b[1;32m----> 5\u001b[0m     \u001b[38;5;28mprint\u001b[39m(c\u001b[38;5;241m/\u001b[39ma)\n\u001b[0;32m      6\u001b[0m \u001b[38;5;28;01mexcept\u001b[39;00m \u001b[38;5;167;01mValueError\u001b[39;00m \u001b[38;5;28;01mas\u001b[39;00m e:\n\u001b[0;32m      7\u001b[0m     \u001b[38;5;28mprint\u001b[39m(\u001b[38;5;124m\"\u001b[39m\u001b[38;5;124mValue Error\u001b[39m\u001b[38;5;124m\"\u001b[39m, e)\n",
      "\u001b[1;31mTypeError\u001b[0m: unsupported operand type(s) for /: 'str' and 'int'"
     ]
    }
   ],
   "source": [
    "try:\n",
    "    a = int(input())\n",
    "    b = int(input())\n",
    "    c = input()\n",
    "    print(c/a)\n",
    "except ValueError as e:\n",
    "    print(\"Value Error\", e)"
   ]
  },
  {
   "cell_type": "code",
   "execution_count": 679,
   "id": "9e2298a8",
   "metadata": {},
   "outputs": [
    {
     "name": "stdout",
     "output_type": "stream",
     "text": [
      "10\n",
      "20\n",
      "hi\n",
      "Type Error unsupported operand type(s) for /: 'str' and 'int'\n"
     ]
    }
   ],
   "source": [
    "try:\n",
    "    a = int(input())\n",
    "    b = int(input())\n",
    "    c = input()\n",
    "    print(c/a)\n",
    "except ValueError as e:\n",
    "    print(\"Value Error\", e)\n",
    "except TypeError as e:\n",
    "    print(\"Type Error\", e)"
   ]
  },
  {
   "cell_type": "code",
   "execution_count": 682,
   "id": "ed92cae3",
   "metadata": {},
   "outputs": [
    {
     "name": "stdout",
     "output_type": "stream",
     "text": [
      "10\n",
      "20\n",
      "hi\n"
     ]
    },
    {
     "ename": "NameError",
     "evalue": "name 'asd' is not defined",
     "output_type": "error",
     "traceback": [
      "\u001b[1;31m---------------------------------------------------------------------------\u001b[0m",
      "\u001b[1;31mNameError\u001b[0m                                 Traceback (most recent call last)",
      "Cell \u001b[1;32mIn[682], line 5\u001b[0m\n\u001b[0;32m      3\u001b[0m     b \u001b[38;5;241m=\u001b[39m \u001b[38;5;28mint\u001b[39m(\u001b[38;5;28minput\u001b[39m())\n\u001b[0;32m      4\u001b[0m     c \u001b[38;5;241m=\u001b[39m \u001b[38;5;28minput\u001b[39m()\n\u001b[1;32m----> 5\u001b[0m     \u001b[38;5;28mprint\u001b[39m(asd)\n\u001b[0;32m      6\u001b[0m \u001b[38;5;28;01mexcept\u001b[39;00m \u001b[38;5;167;01mValueError\u001b[39;00m \u001b[38;5;28;01mas\u001b[39;00m e:\n\u001b[0;32m      7\u001b[0m     \u001b[38;5;28mprint\u001b[39m(\u001b[38;5;124m\"\u001b[39m\u001b[38;5;124mValue Error\u001b[39m\u001b[38;5;124m\"\u001b[39m, e)\n",
      "\u001b[1;31mNameError\u001b[0m: name 'asd' is not defined"
     ]
    }
   ],
   "source": [
    "try:\n",
    "    a = int(input())\n",
    "    b = int(input())\n",
    "    c = input()\n",
    "    print(asd)\n",
    "except ValueError as e:\n",
    "    print(\"Value Error\", e)\n",
    "except TypeError as e:\n",
    "    print(\"Type Error\", e)"
   ]
  },
  {
   "cell_type": "code",
   "execution_count": 683,
   "id": "62e3813a",
   "metadata": {},
   "outputs": [
    {
     "name": "stdout",
     "output_type": "stream",
     "text": [
      "10\n",
      "20\n",
      "hi\n",
      "Something Wrong\n"
     ]
    }
   ],
   "source": [
    "try:\n",
    "    a = int(input())\n",
    "    b = int(input())\n",
    "    c = input()\n",
    "    print(asd)\n",
    "except ValueError as e:\n",
    "    print(\"Value Error\", e)\n",
    "except TypeError as e:\n",
    "    print(\"Type Error\", e)\n",
    "except Exception:\n",
    "    print(\"Something Wrong\")"
   ]
  },
  {
   "cell_type": "code",
   "execution_count": 686,
   "id": "1413a80d",
   "metadata": {},
   "outputs": [
    {
     "name": "stdout",
     "output_type": "stream",
     "text": [
      "10\n",
      "hi\n",
      "Value Error invalid literal for int() with base 10: 'hi'\n",
      "Done\n"
     ]
    }
   ],
   "source": [
    "try:\n",
    "    a = int(input())\n",
    "    b = int(input())\n",
    "except ValueError as e:\n",
    "    print(\"Value Error\", e)\n",
    "except TypeError as e:\n",
    "    print(\"Type Error\", e)\n",
    "except Exception:\n",
    "    print(\"Something Wrong\")\n",
    "finally:\n",
    "    print(\"Done\")"
   ]
  },
  {
   "cell_type": "code",
   "execution_count": 687,
   "id": "ffdff8ea",
   "metadata": {},
   "outputs": [],
   "source": [
    "#File Handling"
   ]
  },
  {
   "cell_type": "code",
   "execution_count": null,
   "id": "d7953e39",
   "metadata": {},
   "outputs": [],
   "source": []
  }
 ],
 "metadata": {
  "kernelspec": {
   "display_name": "Python 3 (ipykernel)",
   "language": "python",
   "name": "python3"
  },
  "language_info": {
   "codemirror_mode": {
    "name": "ipython",
    "version": 3
   },
   "file_extension": ".py",
   "mimetype": "text/x-python",
   "name": "python",
   "nbconvert_exporter": "python",
   "pygments_lexer": "ipython3",
   "version": "3.11.5"
  }
 },
 "nbformat": 4,
 "nbformat_minor": 5
}
